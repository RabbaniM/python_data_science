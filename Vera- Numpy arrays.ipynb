{
 "cells": [
  {
   "cell_type": "markdown",
   "metadata": {},
   "source": [
    "## Python arrays with Numpy"
   ]
  },
  {
   "cell_type": "code",
   "execution_count": 1,
   "metadata": {
    "ExecuteTime": {
     "end_time": "2019-03-15T22:26:28.976265Z",
     "start_time": "2019-03-15T22:26:27.833459Z"
    }
   },
   "outputs": [],
   "source": [
    "import numpy as np\n",
    "import pandas as pd"
   ]
  },
  {
   "cell_type": "markdown",
   "metadata": {},
   "source": [
    "### Numpy Arrays"
   ]
  },
  {
   "cell_type": "markdown",
   "metadata": {},
   "source": [
    "* A Numpy Array is a grid of values, all of the same type\n",
    "* The number of dimensions is the _rank_ of the array\n",
    "* The _shape_ of the array is a tuple of integers giving the size of the array along each dimension\n",
    "\n",
    "Arrays can be converted from regular python lists with the np.array() function\n",
    "\n"
   ]
  },
  {
   "cell_type": "code",
   "execution_count": 2,
   "metadata": {
    "ExecuteTime": {
     "end_time": "2019-03-15T22:26:30.136781Z",
     "start_time": "2019-03-15T22:26:30.132775Z"
    }
   },
   "outputs": [],
   "source": [
    "# Convert a  list to a numpy array\n",
    "\n",
    "list1 = [1, 2, 3, 4, 5]\n",
    "array1 = np.array(list1)"
   ]
  },
  {
   "cell_type": "code",
   "execution_count": 3,
   "metadata": {
    "ExecuteTime": {
     "end_time": "2019-03-15T22:26:32.158836Z",
     "start_time": "2019-03-15T22:26:32.141318Z"
    }
   },
   "outputs": [
    {
     "data": {
      "text/plain": [
       "array([1, 2, 3, 4, 5])"
      ]
     },
     "execution_count": 3,
     "metadata": {},
     "output_type": "execute_result"
    }
   ],
   "source": [
    "array1"
   ]
  },
  {
   "cell_type": "markdown",
   "metadata": {},
   "source": [
    "*Note*: np.array() is a function that creates an instance of np.ndarray\n",
    "\n",
    "If you want to check if an object of is a numpy array, you do `isinstance(a, np.ndarray)`"
   ]
  },
  {
   "cell_type": "markdown",
   "metadata": {},
   "source": [
    "### Shape\n",
    "\n",
    "Whenever you program with Arrays or matrices in Python, it helps to know (and check!) what the shape of your arrays are.\n",
    "\n",
    "Generally: if a matrix of shape `[m x n]` is multiplied by a matrix of shape `[n x p]`, then new matrix is `[m x p]`\n",
    "\n",
    "*Pro tip:* print the shape of your input and output vectors and matrices as you code to make sure they are as expected. This can save you much debugging time!\n",
    "\n",
    "The _shape_ is given by the attribute `shape`"
   ]
  },
  {
   "cell_type": "code",
   "execution_count": 4,
   "metadata": {
    "ExecuteTime": {
     "end_time": "2019-03-15T22:26:34.453816Z",
     "start_time": "2019-03-15T22:26:34.448816Z"
    }
   },
   "outputs": [
    {
     "data": {
      "text/plain": [
       "(5,)"
      ]
     },
     "execution_count": 4,
     "metadata": {},
     "output_type": "execute_result"
    }
   ],
   "source": [
    "# What is the shape of this array?\n",
    "\n",
    "array1.shape"
   ]
  },
  {
   "cell_type": "markdown",
   "metadata": {},
   "source": [
    "Why is there an empty slot in the shape tuple? `(5, )`\n",
    "\n",
    "`(5, )` is python's way of signifying a tuple with one entry. The value of (5) is 5 so this would be ambiguous. An array with shape `(5,)` has only one dimension with length 5.\n",
    "\n",
    "Let's see what the difference is with an array of shape `(5, 1)`\n"
   ]
  },
  {
   "cell_type": "code",
   "execution_count": 13,
   "metadata": {
    "ExecuteTime": {
     "end_time": "2019-03-15T22:51:38.307474Z",
     "start_time": "2019-03-15T22:51:38.296462Z"
    }
   },
   "outputs": [
    {
     "name": "stdout",
     "output_type": "stream",
     "text": [
      "[1 2 3 4 5]\n",
      "(5,)\n",
      "5\n",
      "Now create a 1 column array\n",
      "[[1]\n",
      " [2]\n",
      " [3]\n",
      " [4]\n",
      " [5]]\n",
      "Shape is: (5, 1)\n",
      "5\n"
     ]
    }
   ],
   "source": [
    "print(array1)\n",
    "print(array1.shape)\n",
    "print(array1.size)\n",
    "\n",
    "print(\"Now create a 1 column array\")\n",
    "\n",
    "new_array = array1[np.newaxis]  # array([[1, 2, 3, 4, 5]])) newaxis increases the dimension of an array\n",
    "\n",
    "print(new_array.T)\n",
    "print(\"Shape is:\", new_array.T.shape)\n",
    "print(new_array.size)"
   ]
  },
  {
   "cell_type": "markdown",
   "metadata": {},
   "source": [
    "### Multi-dimensional arrays"
   ]
  },
  {
   "cell_type": "code",
   "execution_count": 16,
   "metadata": {
    "ExecuteTime": {
     "end_time": "2019-03-15T22:54:01.015837Z",
     "start_time": "2019-03-15T22:54:00.999325Z"
    }
   },
   "outputs": [
    {
     "name": "stdout",
     "output_type": "stream",
     "text": [
      "[[  1   2   3   4   5]\n",
      " [100 200 300 400 500]]\n",
      "\n",
      "The dimension of this array is: 2\n"
     ]
    }
   ],
   "source": [
    "# Create another list\n",
    "list2 = [100, 200, 300, 400, 500]\n",
    "\n",
    "# Create a list of lists\n",
    "two_lists = [ list1, list2 ]\n",
    "array2 = np.array(two_lists)\n",
    "\n",
    "# show the resulting array\n",
    "print(array2)\n",
    "\n",
    "print(\"\\nThe dimension of this array is:\", array2.ndim)\n"
   ]
  },
  {
   "cell_type": "code",
   "execution_count": 17,
   "metadata": {
    "ExecuteTime": {
     "end_time": "2019-03-15T19:37:34.375566Z",
     "start_time": "2019-03-15T19:37:34.369559Z"
    }
   },
   "outputs": [
    {
     "data": {
      "text/plain": [
       "(2, 5)"
      ]
     },
     "execution_count": 17,
     "metadata": {},
     "output_type": "execute_result"
    }
   ],
   "source": [
    "# what is the shape of this array?\n",
    "array2.shape\n",
    "\n",
    "# => two rows, five columns"
   ]
  },
  {
   "cell_type": "code",
   "execution_count": 65,
   "metadata": {
    "ExecuteTime": {
     "end_time": "2019-02-25T22:14:06.124484Z",
     "start_time": "2019-02-25T22:14:06.118976Z"
    }
   },
   "outputs": [
    {
     "data": {
      "text/plain": [
       "dtype('int32')"
      ]
     },
     "execution_count": 65,
     "metadata": {},
     "output_type": "execute_result"
    }
   ],
   "source": [
    "# what is the type of this array?\n",
    "array2.dtype"
   ]
  },
  {
   "cell_type": "markdown",
   "metadata": {},
   "source": [
    "### Indexing arrays\n",
    "\n",
    "Arrays are indexed using 0-based indexing"
   ]
  },
  {
   "cell_type": "code",
   "execution_count": 22,
   "metadata": {
    "ExecuteTime": {
     "end_time": "2019-03-15T19:41:59.269463Z",
     "start_time": "2019-03-15T19:41:59.261474Z"
    }
   },
   "outputs": [
    {
     "name": "stdout",
     "output_type": "stream",
     "text": [
      "[1 2 3 4 5]\n",
      "4\n",
      "5\n"
     ]
    }
   ],
   "source": [
    "# let's look at our one-dimensional array again\n",
    "print(array1)\n",
    "# what is the third element of this array?\n",
    "print(array1[3])\n",
    "# just like lists, arrays support indexing from the end of the array\n",
    "print(array1[-1])"
   ]
  },
  {
   "cell_type": "code",
   "execution_count": 26,
   "metadata": {
    "ExecuteTime": {
     "end_time": "2019-03-15T19:44:25.169773Z",
     "start_time": "2019-03-15T19:44:25.164788Z"
    }
   },
   "outputs": [
    {
     "name": "stdout",
     "output_type": "stream",
     "text": [
      "[[  1   2   3   4   5]\n",
      " [100 200 300 400 500]]\n",
      "1\n",
      "3\n"
     ]
    }
   ],
   "source": [
    "# indexing two dimensional arays is done by passing the the index of each dimension\n",
    "print(array2)\n",
    "print(array2[0,0])\n",
    "print(array2[0, 2])   # row 0, column 2"
   ]
  },
  {
   "cell_type": "markdown",
   "metadata": {},
   "source": [
    "### Slicing Arrays\n",
    "\n",
    "Numpy arrays support the rich slicing operators available to lists"
   ]
  },
  {
   "cell_type": "code",
   "execution_count": 19,
   "metadata": {
    "ExecuteTime": {
     "end_time": "2019-03-15T22:59:02.413302Z",
     "start_time": "2019-03-15T22:59:02.406299Z"
    }
   },
   "outputs": [
    {
     "name": "stdout",
     "output_type": "stream",
     "text": [
      "[0 1 2 3 4 5 6 7 8 9]\n",
      "[2 4 6]\n"
     ]
    }
   ],
   "source": [
    "# first create an array with 10 elements\n",
    "a = np.arange(10)\n",
    "print(a)\n",
    "b = a[2:7:2]    # slice out the elements starting at 2, stopping at 7 and step by 2 (start:stop:step)\n",
    "print(b)"
   ]
  },
  {
   "cell_type": "code",
   "execution_count": 23,
   "metadata": {
    "ExecuteTime": {
     "end_time": "2019-03-15T23:01:13.357707Z",
     "start_time": "2019-03-15T23:01:13.349715Z"
    }
   },
   "outputs": [
    {
     "name": "stdout",
     "output_type": "stream",
     "text": [
      "[2 3 4 5 6 7 8 9]\n",
      "[2 3 4]\n"
     ]
    }
   ],
   "source": [
    "#  slice items starting at an index and continuing to the end\n",
    "c = a[2:]\n",
    "\n",
    "print(c)\n",
    "\n",
    "# and between the indexes\n",
    "print(a[2:5])"
   ]
  },
  {
   "cell_type": "code",
   "execution_count": 27,
   "metadata": {
    "ExecuteTime": {
     "end_time": "2019-03-15T23:05:36.847890Z",
     "start_time": "2019-03-15T23:05:36.839900Z"
    }
   },
   "outputs": [
    {
     "name": "stdout",
     "output_type": "stream",
     "text": [
      "[[1 2 3]\n",
      " [4 5 6]\n",
      " [7 8 9]]\n",
      "\n",
      "[[4 5 6]\n",
      " [7 8 9]]\n"
     ]
    }
   ],
   "source": [
    "# Multi-dimensional array slicing\n",
    "\n",
    "a = np.array([[1,2,3], [4,5,6], [7,8,9]])\n",
    "print(a)\n",
    "print()\n",
    "# slice the items starting from row 1\n",
    "print(a[1:])"
   ]
  },
  {
   "cell_type": "code",
   "execution_count": 38,
   "metadata": {
    "ExecuteTime": {
     "end_time": "2019-03-15T23:11:11.021059Z",
     "start_time": "2019-03-15T23:11:11.011069Z"
    }
   },
   "outputs": [
    {
     "name": "stdout",
     "output_type": "stream",
     "text": [
      "[[1 2 3]\n",
      " [4 5 6]\n",
      " [7 8 9]]\n",
      "\n",
      "[2 5 8]\n",
      "\n",
      "[4 5 6]\n",
      "\n",
      "[[2 3]\n",
      " [5 6]\n",
      " [8 9]]\n"
     ]
    }
   ],
   "source": [
    "# Slice out the elements from the second column\n",
    "print(a); print()\n",
    "print(a[...,1])\n",
    "print()\n",
    "\n",
    "# now get the items from the second row\n",
    "print(a[1,...])\n",
    "print()\n",
    "# get the items from column 1 onwards\n",
    "print(a[...,1:])"
   ]
  },
  {
   "cell_type": "markdown",
   "metadata": {},
   "source": [
    "### Matrix Operations"
   ]
  },
  {
   "cell_type": "code",
   "execution_count": 66,
   "metadata": {
    "ExecuteTime": {
     "end_time": "2019-02-25T22:14:17.948117Z",
     "start_time": "2019-02-25T22:14:17.942112Z"
    }
   },
   "outputs": [
    {
     "data": {
      "text/plain": [
       "array([0., 0., 0., 0., 0.])"
      ]
     },
     "execution_count": 66,
     "metadata": {},
     "output_type": "execute_result"
    }
   ],
   "source": [
    "# Create an array initialized to zeros\n",
    "np.zeros(5)"
   ]
  },
  {
   "cell_type": "code",
   "execution_count": 39,
   "metadata": {
    "ExecuteTime": {
     "end_time": "2019-03-15T23:12:32.949083Z",
     "start_time": "2019-03-15T23:12:32.943062Z"
    }
   },
   "outputs": [
    {
     "data": {
      "text/plain": [
       "array([[1., 1., 1., 1., 1.],\n",
       "       [1., 1., 1., 1., 1.],\n",
       "       [1., 1., 1., 1., 1.],\n",
       "       [1., 1., 1., 1., 1.],\n",
       "       [1., 1., 1., 1., 1.]])"
      ]
     },
     "execution_count": 39,
     "metadata": {},
     "output_type": "execute_result"
    }
   ],
   "source": [
    "# Initialize with ones\n",
    "np.ones((5,5))"
   ]
  },
  {
   "cell_type": "code",
   "execution_count": 40,
   "metadata": {
    "ExecuteTime": {
     "end_time": "2019-03-15T23:12:49.249340Z",
     "start_time": "2019-03-15T23:12:49.244350Z"
    }
   },
   "outputs": [
    {
     "data": {
      "text/plain": [
       "dtype('float64')"
      ]
     },
     "execution_count": 40,
     "metadata": {},
     "output_type": "execute_result"
    }
   ],
   "source": [
    "np.ones((5,5)).dtype"
   ]
  },
  {
   "cell_type": "code",
   "execution_count": 41,
   "metadata": {
    "ExecuteTime": {
     "end_time": "2019-03-15T23:12:50.928175Z",
     "start_time": "2019-03-15T23:12:50.921666Z"
    }
   },
   "outputs": [
    {
     "data": {
      "text/plain": [
       "array([[6.23042070e-307, 4.67296746e-307, 1.69121096e-306,\n",
       "        1.86922637e-306],\n",
       "       [6.23060744e-307, 2.22522597e-306, 1.33511969e-306,\n",
       "        1.37962320e-306],\n",
       "       [9.34604358e-307, 9.79101082e-307, 1.78020576e-306,\n",
       "        1.69119873e-306],\n",
       "       [2.22522868e-306, 1.24611809e-306, 8.06632139e-308,\n",
       "        1.60221208e-306]])"
      ]
     },
     "execution_count": 41,
     "metadata": {},
     "output_type": "execute_result"
    }
   ],
   "source": [
    "# you can create empty arrays. Careful! these are randomly initialized to anything that's in memory.\n",
    "\n",
    "np.empty((4, 4))"
   ]
  },
  {
   "cell_type": "code",
   "execution_count": 42,
   "metadata": {
    "ExecuteTime": {
     "end_time": "2019-03-15T23:13:02.865577Z",
     "start_time": "2019-03-15T23:13:02.858573Z"
    }
   },
   "outputs": [
    {
     "name": "stdout",
     "output_type": "stream",
     "text": [
      "[[1. 0. 0. 0.]\n",
      " [0. 1. 0. 0.]\n",
      " [0. 0. 1. 0.]\n",
      " [0. 0. 0. 1.]]\n"
     ]
    }
   ],
   "source": [
    "# create an identity matrix\n",
    "\n",
    "I = np.identity(4)\n",
    "print(I)"
   ]
  },
  {
   "cell_type": "code",
   "execution_count": 43,
   "metadata": {
    "ExecuteTime": {
     "end_time": "2019-03-15T23:14:35.376408Z",
     "start_time": "2019-03-15T23:14:35.373386Z"
    }
   },
   "outputs": [],
   "source": [
    "# The arange(n) function is similar to the range(n) function, but it returns a numpy array\n",
    "# It initializes the array with the range of integers specified\n",
    "A = np.arange(5)"
   ]
  },
  {
   "cell_type": "code",
   "execution_count": 44,
   "metadata": {
    "ExecuteTime": {
     "end_time": "2019-03-15T23:14:39.705335Z",
     "start_time": "2019-03-15T23:14:39.700334Z"
    }
   },
   "outputs": [
    {
     "data": {
      "text/plain": [
       "array([0, 1, 2, 3, 4])"
      ]
     },
     "execution_count": 44,
     "metadata": {},
     "output_type": "execute_result"
    }
   ],
   "source": [
    "A"
   ]
  },
  {
   "cell_type": "code",
   "execution_count": 47,
   "metadata": {
    "ExecuteTime": {
     "end_time": "2019-03-15T23:15:20.813017Z",
     "start_time": "2019-03-15T23:15:20.788984Z"
    }
   },
   "outputs": [
    {
     "name": "stdout",
     "output_type": "stream",
     "text": [
      "x =\n",
      " [[1 2]\n",
      " [3 4]]\n",
      "y =\n",
      " [[ 7  8]\n",
      " [ 9 10]]\n",
      "\n",
      "The element-wise addition of the two matrices is : \n",
      "[[ 8 10]\n",
      " [12 14]]\n",
      "The element-wise subtraction of the matrices is : \n",
      "[[-6 -6]\n",
      " [-6 -6]]\n",
      "The element-wise division of matrix is : \n",
      "[[0.14285714 0.25      ]\n",
      " [0.33333333 0.4       ]]\n"
     ]
    }
   ],
   "source": [
    "# create some matrices \n",
    "x = np.array([[1, 2], [3, 4]]) \n",
    "y = np.array([[7, 8], [9, 10]]) \n",
    "  \n",
    "print(\"x =\\n\", x)\n",
    "print(\"y =\\n\", y)\n",
    "print()\n",
    "\n",
    "# using add() to add matrices element-wise\n",
    "print (\"The element-wise addition of the two matrices is : \") \n",
    "print (np.add(x,y)) \n",
    "  \n",
    "# using subtract() to subtract matrices \n",
    "print (\"The element-wise subtraction of the matrices is : \") \n",
    "print (np.subtract(x,y)) \n",
    "  \n",
    "# using divide() to divide matrices \n",
    "print (\"The element-wise division of matrix is : \") \n",
    "print (np.divide(x,y)) "
   ]
  },
  {
   "cell_type": "code",
   "execution_count": 76,
   "metadata": {
    "ExecuteTime": {
     "end_time": "2019-02-25T22:14:51.386751Z",
     "start_time": "2019-02-25T22:14:51.381747Z"
    }
   },
   "outputs": [
    {
     "name": "stdout",
     "output_type": "stream",
     "text": [
      "[[ 7 16]\n",
      " [27 40]]\n"
     ]
    }
   ],
   "source": [
    "# element-wise multiplication of matrices\n",
    "print(np.multiply(x, y))"
   ]
  },
  {
   "cell_type": "code",
   "execution_count": 94,
   "metadata": {
    "ExecuteTime": {
     "end_time": "2019-02-25T22:18:00.857284Z",
     "start_time": "2019-02-25T22:18:00.853283Z"
    }
   },
   "outputs": [
    {
     "name": "stdout",
     "output_type": "stream",
     "text": [
      "[[ 7 16]\n",
      " [27 40]]\n"
     ]
    }
   ],
   "source": [
    "# another way to do it\n",
    "print(x * y)"
   ]
  },
  {
   "cell_type": "code",
   "execution_count": 50,
   "metadata": {
    "ExecuteTime": {
     "end_time": "2019-03-15T23:16:43.651097Z",
     "start_time": "2019-03-15T23:16:43.643093Z"
    }
   },
   "outputs": [
    {
     "name": "stdout",
     "output_type": "stream",
     "text": [
      "[[1 2]\n",
      " [3 4]]\n",
      "[[ 7  8]\n",
      " [ 9 10]]\n",
      "\n",
      "[[25 28]\n",
      " [57 64]]\n"
     ]
    }
   ],
   "source": [
    "# the dot product of the matrices\n",
    "print(x)\n",
    "print(y)\n",
    "print()\n",
    "print(np.dot(x, y))"
   ]
  },
  {
   "cell_type": "code",
   "execution_count": 51,
   "metadata": {
    "ExecuteTime": {
     "end_time": "2019-03-15T23:17:42.275163Z",
     "start_time": "2019-03-15T23:17:42.270158Z"
    }
   },
   "outputs": [
    {
     "name": "stdout",
     "output_type": "stream",
     "text": [
      "[[ 7  8]\n",
      " [ 9 10]]\n",
      "\n",
      "the sum of all the elements is 34\n"
     ]
    }
   ],
   "source": [
    "# sum all the elements of the matrix\n",
    "print(y)\n",
    "print()\n",
    "print(\"the sum of all the elements is\", np.sum(y))"
   ]
  },
  {
   "cell_type": "code",
   "execution_count": 52,
   "metadata": {
    "ExecuteTime": {
     "end_time": "2019-03-15T23:17:45.035208Z",
     "start_time": "2019-03-15T23:17:45.030220Z"
    }
   },
   "outputs": [
    {
     "name": "stdout",
     "output_type": "stream",
     "text": [
      "column-wise summation: [15 19]\n"
     ]
    }
   ],
   "source": [
    "# colum-wise summation\n",
    "print(\"column-wise summation:\", np.sum(y, axis=1))"
   ]
  },
  {
   "cell_type": "code",
   "execution_count": 53,
   "metadata": {
    "ExecuteTime": {
     "end_time": "2019-03-15T23:17:49.805543Z",
     "start_time": "2019-03-15T23:17:49.800539Z"
    }
   },
   "outputs": [
    {
     "name": "stdout",
     "output_type": "stream",
     "text": [
      "[[1 2]\n",
      " [3 4]]\n",
      "\n",
      "[[1 3]\n",
      " [2 4]]\n"
     ]
    }
   ],
   "source": [
    "# Transpose the matrix\n",
    "print(x)\n",
    "print()\n",
    "print(x.T)"
   ]
  },
  {
   "cell_type": "code",
   "execution_count": 55,
   "metadata": {
    "ExecuteTime": {
     "end_time": "2019-03-15T23:18:32.840066Z",
     "start_time": "2019-03-15T23:18:32.834061Z"
    }
   },
   "outputs": [
    {
     "data": {
      "text/plain": [
       "array([[ 1,  2,  3],\n",
       "       [ 8,  9, 10]])"
      ]
     },
     "execution_count": 55,
     "metadata": {},
     "output_type": "execute_result"
    }
   ],
   "source": [
    "# create an array\n",
    "arr1 = np.array([[1,2,3],[8,9,10]])\n",
    "arr1\n"
   ]
  },
  {
   "cell_type": "code",
   "execution_count": 58,
   "metadata": {
    "ExecuteTime": {
     "end_time": "2019-03-15T23:20:30.314183Z",
     "start_time": "2019-03-15T23:20:30.309196Z"
    }
   },
   "outputs": [
    {
     "data": {
      "text/plain": [
       "array([[  1,   4,   9],\n",
       "       [ 64,  81, 100]])"
      ]
     },
     "execution_count": 58,
     "metadata": {},
     "output_type": "execute_result"
    }
   ],
   "source": [
    "# multiply arrays\n",
    "arr1 * arr1"
   ]
  },
  {
   "cell_type": "code",
   "execution_count": 62,
   "metadata": {
    "ExecuteTime": {
     "end_time": "2019-03-15T23:23:23.726430Z",
     "start_time": "2019-03-15T23:23:23.721426Z"
    }
   },
   "outputs": [
    {
     "data": {
      "text/plain": [
       "array([[ 4,  8, 12],\n",
       "       [32, 36, 40]])"
      ]
     },
     "execution_count": 62,
     "metadata": {},
     "output_type": "execute_result"
    }
   ],
   "source": [
    "# scalar operations on an array\n",
    "arr1 * 4"
   ]
  },
  {
   "cell_type": "code",
   "execution_count": 63,
   "metadata": {
    "ExecuteTime": {
     "end_time": "2019-03-15T23:23:25.124452Z",
     "start_time": "2019-03-15T23:23:25.120467Z"
    }
   },
   "outputs": [
    {
     "data": {
      "text/plain": [
       "array([[  1,   4,   9],\n",
       "       [ 64,  81, 100]], dtype=int32)"
      ]
     },
     "execution_count": 63,
     "metadata": {},
     "output_type": "execute_result"
    }
   ],
   "source": [
    "arr1 **2"
   ]
  },
  {
   "cell_type": "code",
   "execution_count": 64,
   "metadata": {
    "ExecuteTime": {
     "end_time": "2019-03-15T23:23:26.318535Z",
     "start_time": "2019-03-15T23:23:26.313550Z"
    }
   },
   "outputs": [
    {
     "data": {
      "text/plain": [
       "array([[1.        , 0.5       , 0.33333333],\n",
       "       [0.125     , 0.11111111, 0.1       ]])"
      ]
     },
     "execution_count": 64,
     "metadata": {},
     "output_type": "execute_result"
    }
   ],
   "source": [
    "# take an inverse\n",
    "1 / arr1"
   ]
  },
  {
   "cell_type": "code",
   "execution_count": 65,
   "metadata": {
    "ExecuteTime": {
     "end_time": "2019-03-15T23:23:27.552120Z",
     "start_time": "2019-03-15T23:23:27.547116Z"
    }
   },
   "outputs": [
    {
     "data": {
      "text/plain": [
       "array([[1., 1., 1.],\n",
       "       [1., 1., 1.]])"
      ]
     },
     "execution_count": 65,
     "metadata": {},
     "output_type": "execute_result"
    }
   ],
   "source": [
    "arr1 * (1/arr1)"
   ]
  },
  {
   "cell_type": "code",
   "execution_count": 66,
   "metadata": {
    "ExecuteTime": {
     "end_time": "2019-03-15T23:23:29.377398Z",
     "start_time": "2019-03-15T23:23:29.372411Z"
    }
   },
   "outputs": [],
   "source": [
    "# Create a (3,3) array\n",
    "X = np.array([[1, 2, 3],\n",
    "           [4, 5, 6],\n",
    "           [7, 8, 9]])"
   ]
  },
  {
   "cell_type": "code",
   "execution_count": 67,
   "metadata": {
    "ExecuteTime": {
     "end_time": "2019-03-15T23:23:31.703593Z",
     "start_time": "2019-03-15T23:23:31.698090Z"
    }
   },
   "outputs": [
    {
     "data": {
      "text/plain": [
       "array([[1, 2, 3],\n",
       "       [4, 5, 6],\n",
       "       [7, 8, 9]])"
      ]
     },
     "execution_count": 67,
     "metadata": {},
     "output_type": "execute_result"
    }
   ],
   "source": [
    "X"
   ]
  },
  {
   "cell_type": "code",
   "execution_count": 68,
   "metadata": {
    "ExecuteTime": {
     "end_time": "2019-03-15T23:23:33.579592Z",
     "start_time": "2019-03-15T23:23:33.573603Z"
    }
   },
   "outputs": [
    {
     "data": {
      "text/plain": [
       "array([[1., 0., 0.],\n",
       "       [0., 1., 0.],\n",
       "       [0., 0., 1.]])"
      ]
     },
     "execution_count": 68,
     "metadata": {},
     "output_type": "execute_result"
    }
   ],
   "source": [
    "I2 = np.identity(3)\n",
    "I2"
   ]
  },
  {
   "cell_type": "code",
   "execution_count": 69,
   "metadata": {
    "ExecuteTime": {
     "end_time": "2019-03-15T23:23:37.947074Z",
     "start_time": "2019-03-15T23:23:36.691900Z"
    }
   },
   "outputs": [
    {
     "name": "stdout",
     "output_type": "stream",
     "text": [
      "[[1 2 3]\n",
      " [4 5 6]\n",
      " [7 8 9]]\n",
      "[[1. 2. 3.]\n",
      " [4. 5. 6.]\n",
      " [7. 8. 9.]]\n",
      "[[1. 2. 3.]\n",
      " [4. 5. 6.]\n",
      " [7. 8. 9.]]\n"
     ]
    }
   ],
   "source": [
    "# what do you get when you multiply a matrix by its identity?\n",
    "print(X)\n",
    "print(X.dot(I2))\n",
    "print(I2.dot(X))"
   ]
  },
  {
   "cell_type": "markdown",
   "metadata": {},
   "source": [
    "### Multiplicative inverse\n"
   ]
  },
  {
   "cell_type": "code",
   "execution_count": 70,
   "metadata": {
    "ExecuteTime": {
     "end_time": "2019-03-15T23:24:12.223451Z",
     "start_time": "2019-03-15T23:24:12.216459Z"
    }
   },
   "outputs": [],
   "source": [
    "# create an array and its inverse\n",
    "A = np.array([[2., 3.], [3., 4.]])\n",
    "# B = np.array([[-4, 3], [3, -2]])\n",
    "\n",
    "# create its inverse\n",
    "B = np.linalg.inv(A)\n"
   ]
  },
  {
   "cell_type": "code",
   "execution_count": 71,
   "metadata": {
    "ExecuteTime": {
     "end_time": "2019-03-15T23:24:14.314617Z",
     "start_time": "2019-03-15T23:24:14.308627Z"
    }
   },
   "outputs": [
    {
     "name": "stdout",
     "output_type": "stream",
     "text": [
      "[[2. 3.]\n",
      " [3. 4.]]\n",
      "\n",
      "[[-4.  3.]\n",
      " [ 3. -2.]]\n"
     ]
    }
   ],
   "source": [
    "print(A)\n",
    "print()\n",
    "print(B)"
   ]
  },
  {
   "cell_type": "code",
   "execution_count": 72,
   "metadata": {
    "ExecuteTime": {
     "end_time": "2019-03-15T23:24:25.225572Z",
     "start_time": "2019-03-15T23:24:25.218569Z"
    }
   },
   "outputs": [
    {
     "name": "stdout",
     "output_type": "stream",
     "text": [
      "[[1. 0.]\n",
      " [0. 1.]]\n",
      "[[1. 0.]\n",
      " [0. 1.]]\n"
     ]
    }
   ],
   "source": [
    "print(A.dot(B))\n",
    "print(B.dot(A))"
   ]
  },
  {
   "cell_type": "markdown",
   "metadata": {},
   "source": [
    "## Numpy Broadcasting\n",
    "\n",
    "Broadcasting refers to how numpy handles arrays with different shapes during arithmetic operations.\n",
    "\n",
    "In most cases, the smaller array is \"broadcast\" across the larger array so they have compatible shapes.\n",
    "\n",
    "Broadcasting supports the concept of _vectorizing_ an operation so that loops are done very efficiently in C instead of python, without making needless copies of the data.\n",
    "\n",
    "Broadcasting has the effect of \"stretching\" the smaller array so that it is compatible with a matrix operation with the other array\n",
    "\n"
   ]
  },
  {
   "cell_type": "markdown",
   "metadata": {},
   "source": [
    "### Rules of broadcasting\n",
    "\n",
    "1. If the two arrays differ in their number of dimensions, the shape of the one with the fewer dimensions is padded with ones on its left side.\n",
    "2. If the shape of the two arrays does not match in any dimension, the array with shape equal to 1 in that dimension is stretched to match the other shape\n",
    "3. If any dimension sizes disagree and niether is equal to 1, an error is raised."
   ]
  },
  {
   "cell_type": "markdown",
   "metadata": {},
   "source": [
    "Normally, array operations are done with arrays of compatible sizes"
   ]
  },
  {
   "cell_type": "code",
   "execution_count": 75,
   "metadata": {
    "ExecuteTime": {
     "end_time": "2019-03-15T23:33:35.704251Z",
     "start_time": "2019-03-15T23:33:35.697246Z"
    }
   },
   "outputs": [
    {
     "data": {
      "text/plain": [
       "array([5, 6, 7])"
      ]
     },
     "execution_count": 75,
     "metadata": {},
     "output_type": "execute_result"
    }
   ],
   "source": [
    "a = np.array([1,2,3])\n",
    "b = np.array([4,4,4])\n",
    "a + b"
   ]
  },
  {
   "cell_type": "markdown",
   "metadata": {
    "ExecuteTime": {
     "end_time": "2019-03-15T23:29:33.863277Z",
     "start_time": "2019-03-15T23:29:33.855270Z"
    }
   },
   "source": [
    "When multiplying by a scalar, broadcasting 'stretches' the scalar to have a compatible shape"
   ]
  },
  {
   "cell_type": "code",
   "execution_count": 77,
   "metadata": {
    "ExecuteTime": {
     "end_time": "2019-03-15T23:35:05.008654Z",
     "start_time": "2019-03-15T23:35:05.003663Z"
    }
   },
   "outputs": [
    {
     "data": {
      "text/plain": [
       "array([5, 6, 7])"
      ]
     },
     "execution_count": 77,
     "metadata": {},
     "output_type": "execute_result"
    }
   ],
   "source": [
    "a + 4"
   ]
  },
  {
   "cell_type": "markdown",
   "metadata": {
    "ExecuteTime": {
     "end_time": "2019-03-15T23:30:18.618592Z",
     "start_time": "2019-03-15T23:30:18.613605Z"
    }
   },
   "source": [
    "This has the same effect as expanding the scalar to an array `[4,4,4]`"
   ]
  },
  {
   "cell_type": "code",
   "execution_count": 78,
   "metadata": {
    "ExecuteTime": {
     "end_time": "2019-03-15T23:36:11.963337Z",
     "start_time": "2019-03-15T23:36:11.957350Z"
    }
   },
   "outputs": [
    {
     "data": {
      "text/plain": [
       "array([5, 6, 7])"
      ]
     },
     "execution_count": 78,
     "metadata": {},
     "output_type": "execute_result"
    }
   ],
   "source": [
    "a + np.array([4,4,4])"
   ]
  },
  {
   "cell_type": "markdown",
   "metadata": {},
   "source": [
    "What happens when we add a one-dimensional array to a two-dimensional array?"
   ]
  },
  {
   "cell_type": "code",
   "execution_count": 79,
   "metadata": {
    "ExecuteTime": {
     "end_time": "2019-03-15T23:37:25.500838Z",
     "start_time": "2019-03-15T23:37:25.495831Z"
    }
   },
   "outputs": [
    {
     "name": "stdout",
     "output_type": "stream",
     "text": [
      "[[1. 1. 1.]\n",
      " [1. 1. 1.]\n",
      " [1. 1. 1.]]\n"
     ]
    }
   ],
   "source": [
    "M = np.ones((3,3))\n",
    "print(M)"
   ]
  },
  {
   "cell_type": "code",
   "execution_count": 81,
   "metadata": {
    "ExecuteTime": {
     "end_time": "2019-03-15T23:38:20.587298Z",
     "start_time": "2019-03-15T23:38:20.579792Z"
    }
   },
   "outputs": [
    {
     "name": "stdout",
     "output_type": "stream",
     "text": [
      "[1 2 3]\n",
      "\n"
     ]
    },
    {
     "data": {
      "text/plain": [
       "array([[2., 3., 4.],\n",
       "       [2., 3., 4.],\n",
       "       [2., 3., 4.]])"
      ]
     },
     "execution_count": 81,
     "metadata": {},
     "output_type": "execute_result"
    }
   ],
   "source": [
    "print(a)\n",
    "print()\n",
    "M + a"
   ]
  },
  {
   "cell_type": "markdown",
   "metadata": {},
   "source": [
    "Here, the one-dimensional array `a` was broadcast (stretched) across the second dimension to match the shape of M\n",
    "\n",
    "What happens when we have two dimensions that differ?"
   ]
  },
  {
   "cell_type": "code",
   "execution_count": 82,
   "metadata": {
    "ExecuteTime": {
     "end_time": "2019-03-15T23:43:20.708655Z",
     "start_time": "2019-03-15T23:43:20.702151Z"
    }
   },
   "outputs": [
    {
     "name": "stdout",
     "output_type": "stream",
     "text": [
      "[0 1 2]\n",
      "[[0]\n",
      " [1]\n",
      " [2]]\n"
     ]
    }
   ],
   "source": [
    "a = np.arange(3)\n",
    "b = np.arange(3)[:, np.newaxis]\n",
    "\n",
    "print(a)\n",
    "print(b)"
   ]
  },
  {
   "cell_type": "code",
   "execution_count": 83,
   "metadata": {
    "ExecuteTime": {
     "end_time": "2019-03-15T23:43:35.764524Z",
     "start_time": "2019-03-15T23:43:35.758520Z"
    }
   },
   "outputs": [
    {
     "data": {
      "text/plain": [
       "array([[0, 1, 2],\n",
       "       [1, 2, 3],\n",
       "       [2, 3, 4]])"
      ]
     },
     "execution_count": 83,
     "metadata": {},
     "output_type": "execute_result"
    }
   ],
   "source": [
    "a  + b"
   ]
  },
  {
   "cell_type": "markdown",
   "metadata": {},
   "source": [
    "What happened? Here, the `[0, 1, 2]` was broadcast to `[[0,1,2],[0,1,2],[0,1,2]]`\n",
    "and the `[[0],[1],[2]]` (single-column array) was extended to `[[0,0,0],[1,1,1],[2,2,2]]`"
   ]
  },
  {
   "cell_type": "code",
   "execution_count": 86,
   "metadata": {
    "ExecuteTime": {
     "end_time": "2019-03-15T23:52:41.370838Z",
     "start_time": "2019-03-15T23:52:41.361330Z"
    }
   },
   "outputs": [
    {
     "name": "stdout",
     "output_type": "stream",
     "text": [
      "The effect of broadcasting\n",
      "[[0 1 2]\n",
      " [0 1 2]\n",
      " [0 1 2]]\n",
      "[[0 0 0]\n",
      " [1 1 1]\n",
      " [2 2 2]]\n"
     ]
    }
   ],
   "source": [
    "a1 = np.array([[0,1,2],[0,1,2],[0,1,2]])\n",
    "a2 = np.array([[0,0,0],[1,1,1],[2,2,2]])\n",
    "print(\"The effect of broadcasting\")\n",
    "print(a1)\n",
    "print(a2)"
   ]
  },
  {
   "cell_type": "code",
   "execution_count": 88,
   "metadata": {
    "ExecuteTime": {
     "end_time": "2019-03-15T23:52:53.360751Z",
     "start_time": "2019-03-15T23:52:53.355745Z"
    }
   },
   "outputs": [
    {
     "name": "stdout",
     "output_type": "stream",
     "text": [
      "Gives expected result\n",
      "[[0 1 2]\n",
      " [1 2 3]\n",
      " [2 3 4]]\n"
     ]
    }
   ],
   "source": [
    "print(\"Gives expected result\")\n",
    "print(a1 + a2)"
   ]
  },
  {
   "cell_type": "markdown",
   "metadata": {},
   "source": [
    "### Practice example - Center observations to have zero mean\n",
    "\n",
    "1. Create an array of 10 random observations with three columns each call this array X [10 x 3] use `np.random.random(n, n)`\n",
    "2. Take the mean of each column X into an array [1 x 3]  _hint: use <array>.mean(axis=0)_\n",
    "3. Subract the mean to get a representation of the original array X that is 'centered' around zero\n",
    "    \n",
    "For extra credit, implement the Mean Normalization formula where X  is the original value and x' is the normalized value.\n",
    "\n",
    "$$x' = \\frac{x - average(x)}{max(x) - min(x)}$$"
   ]
  },
  {
   "cell_type": "code",
   "execution_count": 102,
   "metadata": {
    "ExecuteTime": {
     "end_time": "2019-03-16T00:22:46.909076Z",
     "start_time": "2019-03-16T00:22:46.899069Z"
    }
   },
   "outputs": [
    {
     "name": "stdout",
     "output_type": "stream",
     "text": [
      "The mean of each column None\n"
     ]
    }
   ],
   "source": [
    "# fill in the code here. Rpleace None with the proper code\n",
    "\n",
    "X = None\n",
    "# take the mean of the columns of X\n",
    "X_mean = None\n",
    "print(\"The mean of each column\" , X_mean)\n",
    "# subtract the mean to get the centered values\n",
    "X_centered = None\n",
    "# check your result by seeing if the mean of the new matrix is zero (to the precision of the cpu)\n",
    "if X_centered is not None:\n",
    "    print(\"Check your work\")\n",
    "    print(X_centered.mean(axis=0))\n",
    "\n"
   ]
  },
  {
   "cell_type": "code",
   "execution_count": 103,
   "metadata": {
    "ExecuteTime": {
     "end_time": "2019-03-16T00:22:48.675676Z",
     "start_time": "2019-03-16T00:22:48.662683Z"
    }
   },
   "outputs": [
    {
     "name": "stdout",
     "output_type": "stream",
     "text": [
      "[[0.10955671 0.23034082 0.12911881]\n",
      " [0.95548795 0.01460991 0.61146307]\n",
      " [0.64003555 0.70942536 0.70114952]\n",
      " [0.44551036 0.10059025 0.743953  ]\n",
      " [0.90540154 0.48825    0.64997915]\n",
      " [0.60747308 0.99377717 0.36802317]\n",
      " [0.80167975 0.62843945 0.55705164]\n",
      " [0.44060395 0.44999859 0.82859436]\n",
      " [0.42398147 0.80858677 0.80381626]\n",
      " [0.71381209 0.97684153 0.24298307]]\n",
      "\n",
      "The mean of each column [0.60435424 0.54008599 0.5636132 ]\n",
      "[[-0.49479754 -0.30974517 -0.4344944 ]\n",
      " [ 0.3511337  -0.52547608  0.04784987]\n",
      " [ 0.03568131  0.16933937  0.13753631]\n",
      " [-0.15884388 -0.43949573  0.1803398 ]\n",
      " [ 0.30104729 -0.05183598  0.08636594]\n",
      " [ 0.00311884  0.45369119 -0.19559003]\n",
      " [ 0.19732551  0.08835347 -0.00656156]\n",
      " [-0.1637503  -0.09008739  0.26498115]\n",
      " [-0.18037277  0.26850078  0.24020305]\n",
      " [ 0.10945784  0.43675554 -0.32063014]]\n",
      "Check your work:\n",
      "[-5.55111512e-17 -1.11022302e-17  1.11022302e-17]\n"
     ]
    }
   ],
   "source": [
    "# Answer: \n",
    "X = np.random.random((10, 3))\n",
    "print(X)\n",
    "print()\n",
    "# take the mean of the columns of X\n",
    "X_mean = X.mean(0)\n",
    "print(\"The mean of each column\" , X_mean)\n",
    "# subtract the mean to get the centered values\n",
    "X_centered = X - X_mean\n",
    "print(X_centered)\n",
    "print(\"Check your work:\")\n",
    "print(X_centered.mean(0))"
   ]
  },
  {
   "cell_type": "code",
   "execution_count": null,
   "metadata": {},
   "outputs": [],
   "source": []
  }
 ],
 "metadata": {
  "kernelspec": {
   "display_name": "Python 3",
   "language": "python",
   "name": "python3"
  },
  "language_info": {
   "codemirror_mode": {
    "name": "ipython",
    "version": 3
   },
   "file_extension": ".py",
   "mimetype": "text/x-python",
   "name": "python",
   "nbconvert_exporter": "python",
   "pygments_lexer": "ipython3",
   "version": "3.6.4"
  },
  "latex_envs": {
   "LaTeX_envs_menu_present": true,
   "autoclose": false,
   "autocomplete": true,
   "bibliofile": "biblio.bib",
   "cite_by": "apalike",
   "current_citInitial": 1,
   "eqLabelWithNumbers": true,
   "eqNumInitial": 1,
   "hotkeys": {
    "equation": "Ctrl-E",
    "itemize": "Ctrl-I"
   },
   "labels_anchors": false,
   "latex_user_defs": false,
   "report_style_numbering": false,
   "user_envs_cfg": false
  }
 },
 "nbformat": 4,
 "nbformat_minor": 2
}
