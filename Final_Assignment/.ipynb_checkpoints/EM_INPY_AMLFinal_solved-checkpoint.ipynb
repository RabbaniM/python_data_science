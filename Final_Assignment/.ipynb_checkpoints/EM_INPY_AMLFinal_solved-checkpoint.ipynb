{
 "cells": [
  {
   "cell_type": "markdown",
   "metadata": {
    "deletable": false,
    "editable": false,
    "nbgrader": {
     "grade": false,
     "locked": true,
     "solution": false
    }
   },
   "source": [
    "# Python for Data Science Weeks 1-12: Final Assignment\n",
    "\n",
    "**_Author: Carleton L. Smith_**\n",
    "\n",
    "**Expected time = 3.0 hours**\n",
    "\n",
    "**Total Points = 105**"
   ]
  },
  {
   "cell_type": "markdown",
   "metadata": {
    "deletable": false,
    "editable": false,
    "nbgrader": {
     "grade": false,
     "locked": true,
     "solution": false
    }
   },
   "source": [
    "\n",
    "    \n",
    "## Assignment Overview\n",
    "\n",
    "The following activity is a comprehensive assignment assessing your capability across the key areas covered in Python for Data Science Weeks 1-12. Completing this assignment will demonstrate your proficiency in basic Python operations as well as more advanced activities such as data cleaning, exploratory data analysis, and linear algebra for machine learning. This is a graded, required assignment. Those who score 75% or higher can be confident in their proficiency as they move on to Applied Machine Learning. \n",
    "\n",
    "This assignment is designed to build your familiarity and comfort coding in Python while also helping you review key topics from each module. As you progress through the assignment, answers will get increasingly complex. It is important that you adopt a data scientist's mindset when completing this assignment. **Remember to run your code from each cell before submitting your assignment.** Running your code beforehand will notify you of errors and give you a chance to fix your errors before submitting. You should view your Vocareum submission as if you are delivering a final project to your manager or client.\n",
    "\n",
    "\n",
    "***Vocareum Tips***\n",
    "- Do not add arguments or options to functions unless you are specifically asked to. This will cause an error in Vocareum.\n",
    "- Do not use a library unless you are expicitly asked to in the question. \n",
    "- You can download the Grading Report after submitting the assignment. This will include feedback and hints on incorrect questions. \n",
    "\n",
    "\n",
    "### Learning Objectives\n",
    "\n",
    "Passing this assignment will demonstrate your ability to:\n",
    "- Work with native Python types and data structures\n",
    "- Use built-in and create user-defined functions\n",
    "- Prepare a dataset for exploratory data analysis and modeling\n",
    "- Manipulate and explore data stored in pandas DataFrames\n",
    "- Implement advanced linear algebra techniques using scikit-learn\n",
    "- Create a simple model using Ordinary Least Squares method"
   ]
  },
  {
   "cell_type": "markdown",
   "metadata": {
    "deletable": false,
    "editable": false,
    "nbgrader": {
     "grade": false,
     "locked": true,
     "solution": false
    }
   },
   "source": [
    "## Index:\n",
    "\n",
    "#### Data Types and Functions\n",
    "\n",
    "- [Question 1](#Question-1)\n",
    "- [Question 2](#Question-2)\n",
    "- [Question 3](#Question-3)\n",
    "- [Question 4](#Question-4)\n",
    "- [Question 5](#Question-5)\n",
    "- [Question 6](#Question-6)\n",
    "\n",
    "#### Preprocessing Data\n",
    "- [Question 7](#Question-7)\n",
    "- [Question 8](#Question-8)\n",
    "- [Question 9](#Question-9)\n",
    "- [Question 10](#Question-10)\n",
    "- [Question 11](#Question-11)\n",
    "- [Question 12](#Question-12)\n",
    "- [Question 13](#Question-13)\n",
    "\n",
    "#### Exploratory Data Analysis\n",
    "- [Question 14](#Question-14)\n",
    "- [Question 15](#Question-15)\n",
    "- [Question 16](#Question-16)\n",
    "\n",
    "#### Linear Algebra and Ordinary Least Squares\n",
    "- [Question 17](#Question-17)\n",
    "- [Question 18](#Question-18)\n",
    "- [Question 19](#Question-19)\n",
    "- [Question 20](#Question-20)\n"
   ]
  },
  {
   "cell_type": "markdown",
   "metadata": {
    "deletable": false,
    "editable": false,
    "nbgrader": {
     "grade": false,
     "locked": true,
     "solution": false
    }
   },
   "source": [
    "## Python for Data Science Weeks 1-12: Final Assignment Summary\n",
    "\n",
    "This assignment is broken into 4 parts:\n",
    "\n",
    "1. Data Types and Functions\n",
    "2. Preprocessing Data (Cleaning Data)\n",
    "3. Exploratory Data Analysis (EDA)\n",
    "4. Linear Algebra and Ordinary Least Squares (OLS)\n",
    "\n",
    "The first section will test you ability to create functions and work with data structures. In the second section, a dataset is intoduced and you will be asked a series of data cleaning questions. The third section includes questions about exploring this dataset. Finally, the last section tasks you with performing advanced linear algebra techniques and modeling with linear regression.\n",
    "\n",
    "Run the `Imports` and `Constants` cells prior to answering questions."
   ]
  },
  {
   "cell_type": "markdown",
   "metadata": {
    "deletable": false,
    "editable": false,
    "nbgrader": {
     "grade": false,
     "locked": true,
     "solution": false
    }
   },
   "source": [
    "##### Imports"
   ]
  },
  {
   "cell_type": "code",
   "execution_count": 11,
   "metadata": {
    "deletable": false,
    "editable": false,
    "nbgrader": {
     "grade": false,
     "locked": true,
     "solution": false
    }
   },
   "outputs": [],
   "source": [
    "import numpy as np\n",
    "import pandas as pd\n",
    "import pickle\n",
    "import inspect\n",
    "import matplotlib.pyplot as plt\n",
    "import seaborn as sns\n",
    "from sklearn.decomposition import PCA\n",
    "import statsmodels.api as sm\n",
    "\n",
    "from aml_resources import (\n",
    "                        read_beatles,\n",
    "                        read_training_data,\n",
    "                        read_testing_data,\n",
    "                        read_y_train,\n",
    "                        read_y_test,\n",
    "                        partial\n",
    ")"
   ]
  },
  {
   "cell_type": "markdown",
   "metadata": {
    "deletable": false,
    "editable": false,
    "nbgrader": {
     "grade": false,
     "locked": true,
     "solution": false
    }
   },
   "source": [
    "##### Constants"
   ]
  },
  {
   "cell_type": "code",
   "execution_count": 10,
   "metadata": {
    "collapsed": true,
    "deletable": false,
    "editable": false,
    "nbgrader": {
     "grade": false,
     "locked": true,
     "solution": false
    }
   },
   "outputs": [],
   "source": [
    "BANK_DATA_PATH = './asnlib/publicdata/bank_prepared.csv'"
   ]
  },
  {
   "cell_type": "markdown",
   "metadata": {
    "deletable": false,
    "editable": false,
    "nbgrader": {
     "grade": false,
     "locked": true,
     "solution": false
    }
   },
   "source": [
    "## Data Types and Functions\n",
    "\n",
    "This section will test your ability to work with Python data types and built-in functions. You will also be asked to create user-defined functions for specific tasks."
   ]
  },
  {
   "cell_type": "markdown",
   "metadata": {
    "deletable": false,
    "editable": false,
    "nbgrader": {
     "grade": false,
     "locked": true,
     "solution": false
    }
   },
   "source": [
    "[Back to top](#Index:) \n",
    "\n",
    "### Question 1\n",
    "\n",
    "*2 Points*\n",
    "\n",
    "Consider the string below assigned to `beatles_album`. Your task is to invoke the appropriate [string method](https://docs.python.org/3.7/library/string.html) on `beatles_album` so that a list is returned. Every element in the returned list should be an individual word from `beatles_album`.\n",
    "\n",
    "Assign the returned list to `ans1`."
   ]
  },
  {
   "cell_type": "code",
   "execution_count": 3,
   "metadata": {
    "deletable": false,
    "editable": false,
    "nbgrader": {
     "grade": false,
     "locked": true,
     "solution": false
    }
   },
   "outputs": [
    {
     "name": "stdout",
     "output_type": "stream",
     "text": [
      "Sgt. Pepper's Lonely Hearts Club Band\n"
     ]
    }
   ],
   "source": [
    "beatles_album = \"Sgt. Pepper's Lonely Hearts Club Band\"\n",
    "print(beatles_album)"
   ]
  },
  {
   "cell_type": "code",
   "execution_count": 4,
   "metadata": {},
   "outputs": [
    {
     "name": "stdout",
     "output_type": "stream",
     "text": [
      "beatles_album_list:\t['Sgt.', \"Pepper's\", 'Lonely', 'Hearts', 'Club', 'Band']\n",
      "Test string:\t'beatles album'\n",
      "Test output:\t['beatles', 'album']\n"
     ]
    }
   ],
   "source": [
    "### GRADED\n",
    "beatles_album = \"Sgt. Pepper's Lonely Hearts Club Band\"\n",
    "\n",
    "### YOUR SOLUTION HERE\n",
    "ans1 = ['Sgt.', \"Pepper's\", 'Lonely', 'Hearts', 'Club', 'Band']\n",
    "\n",
    "###\n",
    "### YOUR CODE HERE\n",
    "\n",
    "print('beatles_album_list:\\t{}'.format(beatles_album.split()))\n",
    "\n",
    "### For verifying answer:\n",
    "test_string = \"beatles album\"\n",
    "test_output = ['beatles', 'album']\n",
    "print(\"Test string:\\t'{}'\".format(test_string))\n",
    "print('Test output:\\t{}'.format(test_output))\n"
   ]
  },
  {
   "cell_type": "code",
   "execution_count": 5,
   "metadata": {
    "collapsed": true,
    "deletable": false,
    "editable": false,
    "nbgrader": {
     "grade": true,
     "grade_id": "Question 01",
     "locked": true,
     "points": "2",
     "solution": false
    }
   },
   "outputs": [],
   "source": [
    "###\n",
    "### AUTOGRADER TEST - DO NOT REMOVE\n",
    "###\n"
   ]
  },
  {
   "cell_type": "markdown",
   "metadata": {
    "deletable": false,
    "editable": false,
    "nbgrader": {
     "grade": false,
     "locked": true,
     "solution": false
    }
   },
   "source": [
    "[Back to top](#Index:) \n",
    "\n",
    "### Question 2\n",
    "\n",
    "*2 Points*\n",
    "\n",
    "This question consists of two parts:\n",
    "\n",
    "1. Cast the tuple below named `beatles_tuple` to a list and assign to the variable to `beatles_list`\n",
    "2. Append the string \"Let It Be\" to the end of the `beatles_list`"
   ]
  },
  {
   "cell_type": "code",
   "execution_count": 6,
   "metadata": {
    "collapsed": true,
    "deletable": false,
    "editable": false,
    "nbgrader": {
     "grade": false,
     "locked": true,
     "solution": false
    }
   },
   "outputs": [],
   "source": [
    "beatles_tuple = (\n",
    "    \"Please Please Me\",\n",
    "    \"With The Beatles\",\n",
    "    \"A Hard Day's Night\",\n",
    "    \"Beatles For Sale\",\n",
    "    \"Help!\",\n",
    "    \"Rubber Soul\",\n",
    "    \"Revolver\",\n",
    "    \"Sgt. Pepper's Lonely Hearts Club Band\",\n",
    "    \"The Beatles (White Album)\",\n",
    "    \"Yellow Submarine\",\n",
    "    \"Abbey Road\",\n",
    ")"
   ]
  },
  {
   "cell_type": "code",
   "execution_count": 7,
   "metadata": {},
   "outputs": [
    {
     "name": "stdout",
     "output_type": "stream",
     "text": [
      "['Please Please Me', 'With The Beatles', \"A Hard Day's Night\", 'Beatles For Sale', 'Help!', 'Rubber Soul', 'Revolver', \"Sgt. Pepper's Lonely Hearts Club Band\", 'The Beatles (White Album)', 'Yellow Submarine', 'Abbey Road', 'Let It Be']\n",
      "'beatles_list' type:\t<class 'list'>\n",
      "Your last item:\t\tLet It Be\n",
      "Expected last item:\tLet It Be\n"
     ]
    }
   ],
   "source": [
    "### GRADED\n",
    "\n",
    "### YOUR SOLUTION HERE\n",
    "beatles_list = ['Please Please Me', 'With The Beatles', \"A Hard Day's Night\", 'Beatles For Sale', 'Help!', 'Rubber Soul', 'Revolver', \"Sgt. Pepper's Lonely Hearts Club Band\", 'The Beatles (White Album)', 'Yellow Submarine', 'Abbey Road', 'Let It Be']\n",
    "\n",
    "\n",
    "###\n",
    "### YOUR CODE HERE\n",
    "###\n",
    "beatles_list=list(beatles_tuple)\n",
    "beatles_list.append(\"Let It Be\")\n",
    "print(beatles_list)\n",
    "\n",
    "### For verifying answer:\n",
    "print(\"'beatles_list' type:\\t{}\".format(type(beatles_list)))\n",
    "print(\"Your last item:\\t\\t{}\".format(beatles_list[-1]))\n",
    "print(\"Expected last item:\\t{}\".format(\"Let It Be\"))"
   ]
  },
  {
   "cell_type": "code",
   "execution_count": 8,
   "metadata": {
    "collapsed": true,
    "deletable": false,
    "editable": false,
    "nbgrader": {
     "grade": true,
     "grade_id": "Question 02",
     "locked": true,
     "points": "2",
     "solution": false
    }
   },
   "outputs": [],
   "source": [
    "###\n",
    "### AUTOGRADER TEST - DO NOT REMOVE\n",
    "###\n"
   ]
  },
  {
   "cell_type": "markdown",
   "metadata": {
    "deletable": false,
    "editable": false,
    "nbgrader": {
     "grade": false,
     "locked": true,
     "solution": false
    }
   },
   "source": [
    "[Back to top](#Index:) \n",
    "\n",
    "### Question 3\n",
    "\n",
    "*4 Points*\n",
    "\n",
    "The dictionary `beatles` below is a data structure that stores which band member contributed as a songwriter to the songs on their albums ([see source credit](#beatles)).\n",
    "\n",
    "Your task for this question is to extract out the list of songs that John Lennon (\"Lennon\") wrote on the album *Abbey Road*. Assign the answer as a list to the variable `lennon_abbey_road`.\n",
    "\n",
    "Here's a sample of the structure: \n",
    "\n",
    "```\n",
    "{\n",
    "    'Anthology 2': [{\n",
    "        'Lennon': ['12-Bar Original', \"If You've Got Trouble\", 'Real Love'],\n",
    "        'McCartney': ['12-Bar Original',\"If You've Got Trouble\",'Real Love','That Means a Lot'],\n",
    "        'Harrison': ['12-Bar Original', 'Real Love'],\n",
    "        'Starkey': ['12-Bar Original', 'Real Love']\n",
    "        }],\n",
    "        \n",
    "    ...,\n",
    "    \n",
    "    'Rubber Soul': [{\n",
    "        'Lennon': [\n",
    "            'Girl', 'In My Life', 'Michelle', 'Norwegian Wood (This Bird Has Flown)',\n",
    "            'Run for Your Life','The Word','Wait'\n",
    "            ],\n",
    "        'McCartney': [\n",
    "            \"I'm Looking Through You\", 'In My Life', 'Michelle', 'Norwegian Wood (This Bird Has Flown)',\n",
    "            'Run for Your Life', 'The Word', 'Wait', \"You Won't See Me\"\n",
    "            ],\n",
    "        'Harrison': ['Think for Yourself'],\n",
    "        'Starkey': []\n",
    "    }]\n",
    "}\n",
    "```"
   ]
  },
  {
   "cell_type": "code",
   "execution_count": 9,
   "metadata": {
    "collapsed": true,
    "deletable": false,
    "editable": false,
    "nbgrader": {
     "grade": false,
     "locked": true,
     "solution": false
    }
   },
   "outputs": [],
   "source": [
    "# read beatles data as dictionary\n",
    "beatles = read_beatles()"
   ]
  },
  {
   "cell_type": "code",
   "execution_count": 10,
   "metadata": {},
   "outputs": [
    {
     "data": {
      "text/plain": [
       "['Because',\n",
       " 'Come Together',\n",
       " \"I Want You (She's So Heavy)\",\n",
       " 'Mean Mr. Mustard',\n",
       " 'Polythene Pam',\n",
       " 'Sun King']"
      ]
     },
     "execution_count": 10,
     "metadata": {},
     "output_type": "execute_result"
    }
   ],
   "source": [
    "### GRADED\n",
    "# Extract out the list of songs that John Lennon (\"Lennon\") \n",
    "# wrote on the album \"Abbey Road\".\n",
    "# Assign answer as a list to the variable `lennon_abbey_road`.\n",
    "\n",
    "### YOUR SOLUTION HERE\n",
    "lennon_abbey_road = ['Because',\n",
    " 'Come Together',\n",
    " \"I Want You (She's So Heavy)\",\n",
    " 'Mean Mr. Mustard',\n",
    " 'Polythene Pam',\n",
    " 'Sun King']\n",
    "\n",
    "###\n",
    "### YOUR CODE HERE\n",
    "###\n",
    "beatles['Abbey Road'][0]['Lennon']"
   ]
  },
  {
   "cell_type": "code",
   "execution_count": 11,
   "metadata": {
    "collapsed": true,
    "deletable": false,
    "editable": false,
    "nbgrader": {
     "grade": true,
     "grade_id": "Question 03",
     "locked": true,
     "points": "4",
     "solution": false
    }
   },
   "outputs": [],
   "source": [
    "###\n",
    "### AUTOGRADER TEST - DO NOT REMOVE\n",
    "###\n"
   ]
  },
  {
   "cell_type": "markdown",
   "metadata": {
    "deletable": false,
    "editable": false,
    "nbgrader": {
     "grade": false,
     "locked": true,
     "solution": false
    }
   },
   "source": [
    "[Back to top](#Index:) \n",
    "\n",
    "### Question 4\n",
    "\n",
    "*5 Points*\n",
    "\n",
    "According to the `beatles` dictionary, how many total combined songs did George Harrison (\"Harrison\") and Ringo Starr (\"Starkey\") contribute to on the *Magical Mystery Tour* and *Revolver* albums? Assign the answer to `ringo_harrison_songs` as an integer or float. \n",
    "\n",
    "Hint: You may find some of Python's [built-in functions](https://docs.python.org/3/library/functions.html) helpful for this exercise."
   ]
  },
  {
   "cell_type": "code",
   "execution_count": 12,
   "metadata": {},
   "outputs": [
    {
     "data": {
      "text/plain": [
       "6"
      ]
     },
     "execution_count": 12,
     "metadata": {},
     "output_type": "execute_result"
    }
   ],
   "source": [
    "### GRADED\n",
    "\n",
    "### YOUR SOLUTION HERE\n",
    "ringo_harrison_songs = 6\n",
    "\n",
    "###\n",
    "### YOUR CODE HERE\n",
    "###\n",
    "len(beatles['Magical Mystery Tour'][0][\"Harrison\"] + beatles['Revolver'][0][\"Harrison\"] + \\\n",
    "    beatles['Magical Mystery Tour'][0][\"Starkey\"]+ beatles['Revolver'][0][\"Starkey\"])\n"
   ]
  },
  {
   "cell_type": "code",
   "execution_count": 13,
   "metadata": {
    "collapsed": true,
    "deletable": false,
    "editable": false,
    "nbgrader": {
     "grade": true,
     "grade_id": "Question 04",
     "locked": true,
     "points": "5",
     "solution": false
    }
   },
   "outputs": [],
   "source": [
    "###\n",
    "### AUTOGRADER TEST - DO NOT REMOVE\n",
    "###\n"
   ]
  },
  {
   "cell_type": "markdown",
   "metadata": {
    "deletable": false,
    "editable": false,
    "nbgrader": {
     "grade": false,
     "locked": true,
     "solution": false
    }
   },
   "source": [
    "[Back to top](#Index:) \n",
    "\n",
    "### Question 5\n",
    "\n",
    "*5 Points*\n",
    "\n",
    "Create a function called `dictionary_builder` that accepts 2 parameters and returns a dictionary, where the keys are strings from the parameter `col_names` and the values are the respective list from `list_of_lists`:\n",
    "\n",
    "    Parameters:\n",
    "    list_of_lists -- a list of elements, which themselves are lists.\n",
    "    col_names -- list of strings; the name label for each respective list inside of `list_of_lists`\n",
    "    \n",
    "    Returns: dict; a dictionary with column names as keys and corresponding list as the value.\n",
    "    \n",
    "    Example:\n",
    "    \n",
    "    >>> col_names = ['col_1', 'col_2', 'col_3',]\n",
    "    >>> list_of_lists = [\n",
    "            [ 0,  1,  2,  3,  4],\n",
    "            [ 5,  6,  7,  8,  9],\n",
    "            [10, 11, 12, 13, 14],\n",
    "        ]\n",
    "    \n",
    "    >>> dictionary_builder(list_of_lists, col_names)\n",
    "        {'col_1': [0, 1, 2, 3, 4],\n",
    "         'col_2': [5, 6, 7, 8, 9],\n",
    "         'col_3': [10, 11, 12, 13, 14]}\n",
    "    \n",
    "    Hint: To iterate through two objects at once, see the built-in `zip()` function."
   ]
  },
  {
   "cell_type": "code",
   "execution_count": 3,
   "metadata": {},
   "outputs": [
    {
     "name": "stdout",
     "output_type": "stream",
     "text": [
      "Your result:\t\t{'col_1': [0, 1, 2, 3, 4], 'col_2': [5, 6, 7, 8, 9], 'col_3': [10, 11, 12, 13, 14]}\n",
      "Expected result:\t{'col_1': [0, 1, 2, 3, 4], 'col_2': [5, 6, 7, 8, 9], 'col_3': [10, 11, 12, 13, 14]}\n"
     ]
    }
   ],
   "source": [
    "### GRADED\n",
    "\n",
    "### YOUR SOLUTION HERE\n",
    "def dictionary_builder(list_of_lists, col_names):\n",
    "    dict={}\n",
    "    for col_names, list_of_lists in zip(col_names, list_of_lists):\n",
    "        dict[col_names]=list_of_lists\n",
    "    return dict\n",
    "\n",
    "###\n",
    "### YOUR CODE HERE\n",
    "###\n",
    "\n",
    "\n",
    "### For verifying answer\n",
    "sample_names = ['col_1', 'col_2', 'col_3',]\n",
    "sample_lst = [\n",
    "    [ 0,  1,  2,  3,  4],\n",
    "    [ 5,  6,  7,  8,  9],\n",
    "    [10, 11, 12, 13, 14],\n",
    "]\n",
    "result = {\n",
    "    'col_1': [0, 1, 2, 3, 4],\n",
    "    'col_2': [5, 6, 7, 8, 9],\n",
    "    'col_3': [10, 11, 12, 13, 14]\n",
    "}\n",
    "print(\"Your result:\\t\\t{}\".format(dictionary_builder(sample_lst, sample_names)))\n",
    "print(\"Expected result:\\t{}\".format(result))"
   ]
  },
  {
   "cell_type": "code",
   "execution_count": 15,
   "metadata": {
    "collapsed": true,
    "deletable": false,
    "editable": false,
    "nbgrader": {
     "grade": true,
     "grade_id": "Question 05",
     "locked": true,
     "points": "5",
     "solution": false
    }
   },
   "outputs": [],
   "source": [
    "###\n",
    "### AUTOGRADER TEST - DO NOT REMOVE\n",
    "###\n"
   ]
  },
  {
   "cell_type": "markdown",
   "metadata": {
    "deletable": false,
    "editable": false,
    "nbgrader": {
     "grade": false,
     "locked": true,
     "solution": false
    }
   },
   "source": [
    "#### Note on Dictionaries and Dataframes\n",
    "Several questions above required you to work with dictionaries. This is because dictionaries are a convenient data structure to store data in Python. In addition to their performance benefits, they're also easily converted to pandas dataframe objects."
   ]
  },
  {
   "cell_type": "code",
   "execution_count": 16,
   "metadata": {
    "deletable": false,
    "editable": false,
    "nbgrader": {
     "grade": false,
     "locked": true,
     "solution": false
    }
   },
   "outputs": [
    {
     "data": {
      "text/plain": [
       "{'col_1': [0, 1, 2, 3, 4],\n",
       " 'col_2': [5, 6, 7, 8, 9],\n",
       " 'col_3': [10, 11, 12, 13, 14]}"
      ]
     },
     "metadata": {},
     "output_type": "display_data"
    }
   ],
   "source": [
    "sample_dict = {\n",
    "    'col_1': [0, 1, 2, 3, 4],\n",
    "    'col_2': [5, 6, 7, 8, 9],\n",
    "    'col_3': [10, 11, 12, 13, 14]\n",
    "}\n",
    "display(sample_dict)"
   ]
  },
  {
   "cell_type": "markdown",
   "metadata": {
    "deletable": false,
    "editable": false,
    "nbgrader": {
     "grade": false,
     "locked": true,
     "solution": false
    }
   },
   "source": [
    "This can be converted to a dataframe in one line:"
   ]
  },
  {
   "cell_type": "code",
   "execution_count": 17,
   "metadata": {
    "deletable": false,
    "editable": false,
    "nbgrader": {
     "grade": false,
     "locked": true,
     "solution": false
    }
   },
   "outputs": [
    {
     "data": {
      "text/html": [
       "<div>\n",
       "<style scoped>\n",
       "    .dataframe tbody tr th:only-of-type {\n",
       "        vertical-align: middle;\n",
       "    }\n",
       "\n",
       "    .dataframe tbody tr th {\n",
       "        vertical-align: top;\n",
       "    }\n",
       "\n",
       "    .dataframe thead th {\n",
       "        text-align: right;\n",
       "    }\n",
       "</style>\n",
       "<table border=\"1\" class=\"dataframe\">\n",
       "  <thead>\n",
       "    <tr style=\"text-align: right;\">\n",
       "      <th></th>\n",
       "      <th>col_1</th>\n",
       "      <th>col_2</th>\n",
       "      <th>col_3</th>\n",
       "    </tr>\n",
       "  </thead>\n",
       "  <tbody>\n",
       "    <tr>\n",
       "      <th>0</th>\n",
       "      <td>0</td>\n",
       "      <td>5</td>\n",
       "      <td>10</td>\n",
       "    </tr>\n",
       "    <tr>\n",
       "      <th>1</th>\n",
       "      <td>1</td>\n",
       "      <td>6</td>\n",
       "      <td>11</td>\n",
       "    </tr>\n",
       "    <tr>\n",
       "      <th>2</th>\n",
       "      <td>2</td>\n",
       "      <td>7</td>\n",
       "      <td>12</td>\n",
       "    </tr>\n",
       "    <tr>\n",
       "      <th>3</th>\n",
       "      <td>3</td>\n",
       "      <td>8</td>\n",
       "      <td>13</td>\n",
       "    </tr>\n",
       "    <tr>\n",
       "      <th>4</th>\n",
       "      <td>4</td>\n",
       "      <td>9</td>\n",
       "      <td>14</td>\n",
       "    </tr>\n",
       "  </tbody>\n",
       "</table>\n",
       "</div>"
      ],
      "text/plain": [
       "   col_1  col_2  col_3\n",
       "0      0      5     10\n",
       "1      1      6     11\n",
       "2      2      7     12\n",
       "3      3      8     13\n",
       "4      4      9     14"
      ]
     },
     "execution_count": 17,
     "metadata": {},
     "output_type": "execute_result"
    }
   ],
   "source": [
    "pd.DataFrame(sample_dict)"
   ]
  },
  {
   "cell_type": "markdown",
   "metadata": {
    "deletable": false,
    "editable": false,
    "nbgrader": {
     "grade": false,
     "locked": true,
     "solution": false
    }
   },
   "source": [
    "Alternatively:"
   ]
  },
  {
   "cell_type": "code",
   "execution_count": 18,
   "metadata": {
    "deletable": false,
    "editable": false,
    "nbgrader": {
     "grade": false,
     "locked": true,
     "solution": false
    }
   },
   "outputs": [
    {
     "data": {
      "text/html": [
       "<div>\n",
       "<style scoped>\n",
       "    .dataframe tbody tr th:only-of-type {\n",
       "        vertical-align: middle;\n",
       "    }\n",
       "\n",
       "    .dataframe tbody tr th {\n",
       "        vertical-align: top;\n",
       "    }\n",
       "\n",
       "    .dataframe thead th {\n",
       "        text-align: right;\n",
       "    }\n",
       "</style>\n",
       "<table border=\"1\" class=\"dataframe\">\n",
       "  <thead>\n",
       "    <tr style=\"text-align: right;\">\n",
       "      <th></th>\n",
       "      <th>col_1</th>\n",
       "      <th>col_2</th>\n",
       "      <th>col_3</th>\n",
       "    </tr>\n",
       "  </thead>\n",
       "  <tbody>\n",
       "    <tr>\n",
       "      <th>0</th>\n",
       "      <td>0</td>\n",
       "      <td>5</td>\n",
       "      <td>10</td>\n",
       "    </tr>\n",
       "    <tr>\n",
       "      <th>1</th>\n",
       "      <td>1</td>\n",
       "      <td>6</td>\n",
       "      <td>11</td>\n",
       "    </tr>\n",
       "    <tr>\n",
       "      <th>2</th>\n",
       "      <td>2</td>\n",
       "      <td>7</td>\n",
       "      <td>12</td>\n",
       "    </tr>\n",
       "    <tr>\n",
       "      <th>3</th>\n",
       "      <td>3</td>\n",
       "      <td>8</td>\n",
       "      <td>13</td>\n",
       "    </tr>\n",
       "    <tr>\n",
       "      <th>4</th>\n",
       "      <td>4</td>\n",
       "      <td>9</td>\n",
       "      <td>14</td>\n",
       "    </tr>\n",
       "  </tbody>\n",
       "</table>\n",
       "</div>"
      ],
      "text/plain": [
       "   col_1  col_2  col_3\n",
       "0      0      5     10\n",
       "1      1      6     11\n",
       "2      2      7     12\n",
       "3      3      8     13\n",
       "4      4      9     14"
      ]
     },
     "execution_count": 18,
     "metadata": {},
     "output_type": "execute_result"
    }
   ],
   "source": [
    "pd.DataFrame().from_dict(sample_dict)"
   ]
  },
  {
   "cell_type": "markdown",
   "metadata": {
    "deletable": false,
    "editable": false,
    "nbgrader": {
     "grade": false,
     "locked": true,
     "solution": false
    }
   },
   "source": [
    "[Back to top](#Index:) \n",
    "\n",
    "### Question 6\n",
    "\n",
    "*2 Points*\n",
    "\n",
    "Create a function that accepts two parameters: a pandas dataframe and a list of column names. The function should return a new dataframe that contains only the columns listed in `col_names`.\n",
    "\n",
    "    Parameters:\n",
    "    df -- a pandas DataFrame\n",
    "    col_names -- list; a list of column names from df\n",
    "    \n",
    "    Returns: pandas DataFrame; a subset of df with only columns listed in col_names\n",
    "    \n",
    "    Example:\n",
    "    \n",
    "    >>> data_dict = {\n",
    "            'numbers': [1, 2, 3],\n",
    "            'colors': ['red', 'green', 'blue'],\n",
    "            'letters': ['a', 'b', 'c'],\n",
    "        }\n",
    "    >>> df = pd.DataFrame(data_dict)\n",
    "    >>> col_names = ['numbers', 'letters']\n",
    "    >>> df_subset(df, col_names)\n",
    "       numbers letters\n",
    "    0        1       a\n",
    "    1        2       b\n",
    "    2        3       c"
   ]
  },
  {
   "cell_type": "code",
   "execution_count": 6,
   "metadata": {},
   "outputs": [
    {
     "name": "stdout",
     "output_type": "stream",
     "text": [
      "Your result:\n"
     ]
    },
    {
     "data": {
      "text/html": [
       "<div>\n",
       "<style scoped>\n",
       "    .dataframe tbody tr th:only-of-type {\n",
       "        vertical-align: middle;\n",
       "    }\n",
       "\n",
       "    .dataframe tbody tr th {\n",
       "        vertical-align: top;\n",
       "    }\n",
       "\n",
       "    .dataframe thead th {\n",
       "        text-align: right;\n",
       "    }\n",
       "</style>\n",
       "<table border=\"1\" class=\"dataframe\">\n",
       "  <thead>\n",
       "    <tr style=\"text-align: right;\">\n",
       "      <th></th>\n",
       "      <th>numbers</th>\n",
       "      <th>letters</th>\n",
       "    </tr>\n",
       "  </thead>\n",
       "  <tbody>\n",
       "    <tr>\n",
       "      <th>0</th>\n",
       "      <td>1</td>\n",
       "      <td>a</td>\n",
       "    </tr>\n",
       "    <tr>\n",
       "      <th>1</th>\n",
       "      <td>2</td>\n",
       "      <td>b</td>\n",
       "    </tr>\n",
       "    <tr>\n",
       "      <th>2</th>\n",
       "      <td>3</td>\n",
       "      <td>c</td>\n",
       "    </tr>\n",
       "  </tbody>\n",
       "</table>\n",
       "</div>"
      ],
      "text/plain": [
       "   numbers letters\n",
       "0        1       a\n",
       "1        2       b\n",
       "2        3       c"
      ]
     },
     "metadata": {},
     "output_type": "display_data"
    },
    {
     "name": "stdout",
     "output_type": "stream",
     "text": [
      "\n",
      "Expected result:\n"
     ]
    },
    {
     "data": {
      "text/html": [
       "<div>\n",
       "<style scoped>\n",
       "    .dataframe tbody tr th:only-of-type {\n",
       "        vertical-align: middle;\n",
       "    }\n",
       "\n",
       "    .dataframe tbody tr th {\n",
       "        vertical-align: top;\n",
       "    }\n",
       "\n",
       "    .dataframe thead th {\n",
       "        text-align: right;\n",
       "    }\n",
       "</style>\n",
       "<table border=\"1\" class=\"dataframe\">\n",
       "  <thead>\n",
       "    <tr style=\"text-align: right;\">\n",
       "      <th></th>\n",
       "      <th>numbers</th>\n",
       "      <th>letters</th>\n",
       "    </tr>\n",
       "  </thead>\n",
       "  <tbody>\n",
       "    <tr>\n",
       "      <th>0</th>\n",
       "      <td>1</td>\n",
       "      <td>a</td>\n",
       "    </tr>\n",
       "    <tr>\n",
       "      <th>1</th>\n",
       "      <td>2</td>\n",
       "      <td>b</td>\n",
       "    </tr>\n",
       "    <tr>\n",
       "      <th>2</th>\n",
       "      <td>3</td>\n",
       "      <td>c</td>\n",
       "    </tr>\n",
       "  </tbody>\n",
       "</table>\n",
       "</div>"
      ],
      "text/plain": [
       "   numbers letters\n",
       "0        1       a\n",
       "1        2       b\n",
       "2        3       c"
      ]
     },
     "metadata": {},
     "output_type": "display_data"
    }
   ],
   "source": [
    "### GRADED\n",
    "\n",
    "### YOUR SOLUTION HERE\n",
    "def df_subset(df, col_names):\n",
    "    new_dict={k: df[k] for k in col_names}\n",
    "    return pd.DataFrame(new_dict)\n",
    "\n",
    "###\n",
    "### YOUR CODE HERE\n",
    "###\n",
    "\n",
    "\n",
    "### For verifying answer:\n",
    "data_dict = {\n",
    "    'numbers': [1, 2, 3],\n",
    "    'colors': ['red', 'green', 'blue'],\n",
    "    'letters': ['a', 'b', 'c'],\n",
    "}\n",
    "sample_df = pd.DataFrame(data_dict)\n",
    "sample_cols = ['numbers', 'letters']\n",
    "result = pd.DataFrame(\n",
    "    {'numbers': [1, 2, 3],\n",
    "    'letters': ['a', 'b', 'c'],}\n",
    ")\n",
    "print(\"Your result:\")\n",
    "display(df_subset(sample_df, sample_cols))\n",
    "print()\n",
    "print(\"Expected result:\")\n",
    "display(result)"
   ]
  },
  {
   "cell_type": "code",
   "execution_count": 21,
   "metadata": {
    "collapsed": true,
    "deletable": false,
    "editable": false,
    "nbgrader": {
     "grade": true,
     "grade_id": "Question 06",
     "locked": true,
     "points": "2",
     "solution": false
    }
   },
   "outputs": [],
   "source": [
    "###\n",
    "### AUTOGRADER TEST - DO NOT REMOVE\n",
    "###\n"
   ]
  },
  {
   "cell_type": "markdown",
   "metadata": {
    "deletable": false,
    "editable": false,
    "nbgrader": {
     "grade": false,
     "locked": true,
     "solution": false
    }
   },
   "source": [
    "## Preprocessing Data\n",
    "\n",
    "This section will focus on preprocessing (cleaning) data. For this, we will use the sample dataset `bank` below, which contains data from marketing phone calls made on behalf of a bank. The version of the `bank` dataset we are using is partially preprocessed. You can find the raw data and column descriptions in the [UCI Machine Learning Repository](https://archive.ics.uci.edu/ml/datasets/Bank+Marketing)"
   ]
  },
  {
   "cell_type": "code",
   "execution_count": 8,
   "metadata": {
    "deletable": false,
    "editable": false,
    "nbgrader": {
     "grade": false,
     "locked": true,
     "solution": false
    }
   },
   "outputs": [
    {
     "data": {
      "text/html": [
       "<div>\n",
       "<style scoped>\n",
       "    .dataframe tbody tr th:only-of-type {\n",
       "        vertical-align: middle;\n",
       "    }\n",
       "\n",
       "    .dataframe tbody tr th {\n",
       "        vertical-align: top;\n",
       "    }\n",
       "\n",
       "    .dataframe thead th {\n",
       "        text-align: right;\n",
       "    }\n",
       "</style>\n",
       "<table border=\"1\" class=\"dataframe\">\n",
       "  <thead>\n",
       "    <tr style=\"text-align: right;\">\n",
       "      <th></th>\n",
       "      <th>age</th>\n",
       "      <th>job</th>\n",
       "      <th>marital</th>\n",
       "      <th>education</th>\n",
       "      <th>default</th>\n",
       "      <th>balance</th>\n",
       "      <th>housing</th>\n",
       "      <th>loan</th>\n",
       "      <th>contact</th>\n",
       "      <th>day</th>\n",
       "      <th>month</th>\n",
       "      <th>duration</th>\n",
       "      <th>campaign</th>\n",
       "      <th>pdays</th>\n",
       "      <th>previous</th>\n",
       "      <th>poutcome</th>\n",
       "      <th>y</th>\n",
       "    </tr>\n",
       "  </thead>\n",
       "  <tbody>\n",
       "    <tr>\n",
       "      <th>0</th>\n",
       "      <td>30</td>\n",
       "      <td>unemployed</td>\n",
       "      <td>married</td>\n",
       "      <td>primary</td>\n",
       "      <td>no</td>\n",
       "      <td>1787.0</td>\n",
       "      <td>no</td>\n",
       "      <td>no</td>\n",
       "      <td>cellular</td>\n",
       "      <td>19</td>\n",
       "      <td>oct</td>\n",
       "      <td>79</td>\n",
       "      <td>1</td>\n",
       "      <td>-1</td>\n",
       "      <td>0</td>\n",
       "      <td>unknown</td>\n",
       "      <td>no</td>\n",
       "    </tr>\n",
       "    <tr>\n",
       "      <th>1</th>\n",
       "      <td>33</td>\n",
       "      <td>services</td>\n",
       "      <td>married</td>\n",
       "      <td>secondary</td>\n",
       "      <td>no</td>\n",
       "      <td>4789.0</td>\n",
       "      <td>yes</td>\n",
       "      <td>yes</td>\n",
       "      <td>cellular</td>\n",
       "      <td>11</td>\n",
       "      <td>may</td>\n",
       "      <td>220</td>\n",
       "      <td>1</td>\n",
       "      <td>339</td>\n",
       "      <td>4</td>\n",
       "      <td>failure</td>\n",
       "      <td>no</td>\n",
       "    </tr>\n",
       "    <tr>\n",
       "      <th>2</th>\n",
       "      <td>35</td>\n",
       "      <td>management</td>\n",
       "      <td>single</td>\n",
       "      <td>tertiary</td>\n",
       "      <td>no</td>\n",
       "      <td>1350.0</td>\n",
       "      <td>yes</td>\n",
       "      <td>no</td>\n",
       "      <td>cellular</td>\n",
       "      <td>16</td>\n",
       "      <td>apr</td>\n",
       "      <td>185</td>\n",
       "      <td>1</td>\n",
       "      <td>330</td>\n",
       "      <td>1</td>\n",
       "      <td>failure</td>\n",
       "      <td>no</td>\n",
       "    </tr>\n",
       "    <tr>\n",
       "      <th>3</th>\n",
       "      <td>30</td>\n",
       "      <td>management</td>\n",
       "      <td>married</td>\n",
       "      <td>tertiary</td>\n",
       "      <td>no</td>\n",
       "      <td>1476.0</td>\n",
       "      <td>yes</td>\n",
       "      <td>yes</td>\n",
       "      <td>unknown</td>\n",
       "      <td>3</td>\n",
       "      <td>jun</td>\n",
       "      <td>199</td>\n",
       "      <td>4</td>\n",
       "      <td>-1</td>\n",
       "      <td>0</td>\n",
       "      <td>unknown</td>\n",
       "      <td>no</td>\n",
       "    </tr>\n",
       "    <tr>\n",
       "      <th>4</th>\n",
       "      <td>59</td>\n",
       "      <td>blue-collar</td>\n",
       "      <td>married</td>\n",
       "      <td>secondary</td>\n",
       "      <td>no</td>\n",
       "      <td>0.0</td>\n",
       "      <td>yes</td>\n",
       "      <td>no</td>\n",
       "      <td>unknown</td>\n",
       "      <td>5</td>\n",
       "      <td>may</td>\n",
       "      <td>226</td>\n",
       "      <td>1</td>\n",
       "      <td>-1</td>\n",
       "      <td>0</td>\n",
       "      <td>unknown</td>\n",
       "      <td>no</td>\n",
       "    </tr>\n",
       "  </tbody>\n",
       "</table>\n",
       "</div>"
      ],
      "text/plain": [
       "   age          job  marital  education default  balance housing loan  \\\n",
       "0   30   unemployed  married    primary      no   1787.0      no   no   \n",
       "1   33     services  married  secondary      no   4789.0     yes  yes   \n",
       "2   35   management   single   tertiary      no   1350.0     yes   no   \n",
       "3   30   management  married   tertiary      no   1476.0     yes  yes   \n",
       "4   59  blue-collar  married  secondary      no      0.0     yes   no   \n",
       "\n",
       "    contact  day month  duration  campaign  pdays  previous poutcome   y  \n",
       "0  cellular   19   oct        79         1     -1         0  unknown  no  \n",
       "1  cellular   11   may       220         1    339         4  failure  no  \n",
       "2  cellular   16   apr       185         1    330         1  failure  no  \n",
       "3   unknown    3   jun       199         4     -1         0  unknown  no  \n",
       "4   unknown    5   may       226         1     -1         0  unknown  no  "
      ]
     },
     "execution_count": 8,
     "metadata": {},
     "output_type": "execute_result"
    }
   ],
   "source": [
    "bank = pd.read_csv(BANK_DATA_PATH)\n",
    "bank.head()"
   ]
  },
  {
   "cell_type": "markdown",
   "metadata": {
    "deletable": false,
    "editable": false,
    "nbgrader": {
     "grade": false,
     "locked": true,
     "solution": false
    }
   },
   "source": [
    "### Data Dictionary\n",
    "\n",
    "```\n",
    "##### Input Attributes\n",
    "\n",
    "age       : client age (numeric)\n",
    "job       : type of job (categorical)\n",
    "marital   : marital status (categorical)\n",
    "education : highest level of client's education (categorical)\n",
    "default   : has credit in default? (categorical)\n",
    "balance   : the account balance of the client (numeric)\n",
    "housing   : has housing loan? (categorical)\n",
    "loan      : has personal loan? (categorical)\n",
    "\n",
    "##### Other Attributes\n",
    "\n",
    "campaign  : number of contacts performed during this campaign and for this client (numeric)\n",
    "pdays     : # of days after client was last contacted from a previous campaign (numeric; -1 means no previous contact)\n",
    "previous  : number of contacts performed before this campaign and for this client (numeric)\n",
    "poutcome  : outcome of the previous marketing campaign (categorical)\n",
    "\n",
    "##### Related with the last contact of the current campaign\n",
    "\n",
    "contact   : contact communication type (categorical)\n",
    "month     : last contact month of year (categorical)\n",
    "day       : day of the month (categorical)\n",
    "*duration : last contact duration, in seconds (numeric)\n",
    "\n",
    "#### Target Variable\n",
    "y         : has the client subscribed a term deposit? (binary: 'yes','no')\n",
    "\n",
    "\n",
    "```\n",
    "\n",
    "*__Important note__: the `duration` attribute highly affects the output target (e.g., if `duration`=0 then `y`='no'). Yet, the duration is not known before a call is performed. Also, after the end of the call `y` is known. Thus, this input should only be included for benchmark purposes and should be discarded if the intention is to have a realistic predictive model."
   ]
  },
  {
   "cell_type": "markdown",
   "metadata": {
    "deletable": false,
    "editable": false,
    "nbgrader": {
     "grade": false,
     "locked": true,
     "solution": false
    }
   },
   "source": [
    "[Back to top](#Index:) \n",
    "\n",
    "### Question 7\n",
    "\n",
    "*2 Points*\n",
    "\n",
    "First, let's rename the columns to be more descriptive. Rename the columns of `bank` to the names stored in the list called `NEW_COL_NAMES` below. Assign the dataframe with renamed columns to the variable `bank_renamed`."
   ]
  },
  {
   "cell_type": "code",
   "execution_count": 9,
   "metadata": {
    "collapsed": true,
    "deletable": false,
    "editable": false,
    "nbgrader": {
     "grade": false,
     "locked": true,
     "solution": false
    }
   },
   "outputs": [],
   "source": [
    "NEW_COL_NAMES = {\n",
    "    'marital': 'marital_status',\n",
    "    'default': 'has_credit_default',\n",
    "    'balance': 'account_balance',\n",
    "    'housing': 'has_housing_loan',\n",
    "    'loan': 'has_personal_loan',\n",
    "    'contact': 'contact_type',\n",
    "    'day': 'day_of_month',\n",
    "    'duration': 'last_contact_duration',\n",
    "    'campaign': 'num_contacts_campaign',\n",
    "    'pdays': 'days_since_prev_campaign',\n",
    "    'previous': 'num_contacts_previous',\n",
    "}"
   ]
  },
  {
   "cell_type": "code",
   "execution_count": 10,
   "metadata": {},
   "outputs": [
    {
     "data": {
      "text/html": [
       "<div>\n",
       "<style scoped>\n",
       "    .dataframe tbody tr th:only-of-type {\n",
       "        vertical-align: middle;\n",
       "    }\n",
       "\n",
       "    .dataframe tbody tr th {\n",
       "        vertical-align: top;\n",
       "    }\n",
       "\n",
       "    .dataframe thead th {\n",
       "        text-align: right;\n",
       "    }\n",
       "</style>\n",
       "<table border=\"1\" class=\"dataframe\">\n",
       "  <thead>\n",
       "    <tr style=\"text-align: right;\">\n",
       "      <th></th>\n",
       "      <th>age</th>\n",
       "      <th>job</th>\n",
       "      <th>marital_status</th>\n",
       "      <th>education</th>\n",
       "      <th>has_credit_default</th>\n",
       "      <th>account_balance</th>\n",
       "      <th>has_housing_loan</th>\n",
       "      <th>has_personal_loan</th>\n",
       "      <th>contact_type</th>\n",
       "      <th>day_of_month</th>\n",
       "      <th>month</th>\n",
       "      <th>last_contact_duration</th>\n",
       "      <th>num_contacts_campaign</th>\n",
       "      <th>days_since_prev_campaign</th>\n",
       "      <th>num_contacts_previous</th>\n",
       "      <th>poutcome</th>\n",
       "      <th>y</th>\n",
       "    </tr>\n",
       "  </thead>\n",
       "  <tbody>\n",
       "    <tr>\n",
       "      <th>0</th>\n",
       "      <td>30</td>\n",
       "      <td>unemployed</td>\n",
       "      <td>married</td>\n",
       "      <td>primary</td>\n",
       "      <td>no</td>\n",
       "      <td>1787.0</td>\n",
       "      <td>no</td>\n",
       "      <td>no</td>\n",
       "      <td>cellular</td>\n",
       "      <td>19</td>\n",
       "      <td>oct</td>\n",
       "      <td>79</td>\n",
       "      <td>1</td>\n",
       "      <td>-1</td>\n",
       "      <td>0</td>\n",
       "      <td>unknown</td>\n",
       "      <td>no</td>\n",
       "    </tr>\n",
       "    <tr>\n",
       "      <th>1</th>\n",
       "      <td>33</td>\n",
       "      <td>services</td>\n",
       "      <td>married</td>\n",
       "      <td>secondary</td>\n",
       "      <td>no</td>\n",
       "      <td>4789.0</td>\n",
       "      <td>yes</td>\n",
       "      <td>yes</td>\n",
       "      <td>cellular</td>\n",
       "      <td>11</td>\n",
       "      <td>may</td>\n",
       "      <td>220</td>\n",
       "      <td>1</td>\n",
       "      <td>339</td>\n",
       "      <td>4</td>\n",
       "      <td>failure</td>\n",
       "      <td>no</td>\n",
       "    </tr>\n",
       "    <tr>\n",
       "      <th>2</th>\n",
       "      <td>35</td>\n",
       "      <td>management</td>\n",
       "      <td>single</td>\n",
       "      <td>tertiary</td>\n",
       "      <td>no</td>\n",
       "      <td>1350.0</td>\n",
       "      <td>yes</td>\n",
       "      <td>no</td>\n",
       "      <td>cellular</td>\n",
       "      <td>16</td>\n",
       "      <td>apr</td>\n",
       "      <td>185</td>\n",
       "      <td>1</td>\n",
       "      <td>330</td>\n",
       "      <td>1</td>\n",
       "      <td>failure</td>\n",
       "      <td>no</td>\n",
       "    </tr>\n",
       "    <tr>\n",
       "      <th>3</th>\n",
       "      <td>30</td>\n",
       "      <td>management</td>\n",
       "      <td>married</td>\n",
       "      <td>tertiary</td>\n",
       "      <td>no</td>\n",
       "      <td>1476.0</td>\n",
       "      <td>yes</td>\n",
       "      <td>yes</td>\n",
       "      <td>unknown</td>\n",
       "      <td>3</td>\n",
       "      <td>jun</td>\n",
       "      <td>199</td>\n",
       "      <td>4</td>\n",
       "      <td>-1</td>\n",
       "      <td>0</td>\n",
       "      <td>unknown</td>\n",
       "      <td>no</td>\n",
       "    </tr>\n",
       "    <tr>\n",
       "      <th>4</th>\n",
       "      <td>59</td>\n",
       "      <td>blue-collar</td>\n",
       "      <td>married</td>\n",
       "      <td>secondary</td>\n",
       "      <td>no</td>\n",
       "      <td>0.0</td>\n",
       "      <td>yes</td>\n",
       "      <td>no</td>\n",
       "      <td>unknown</td>\n",
       "      <td>5</td>\n",
       "      <td>may</td>\n",
       "      <td>226</td>\n",
       "      <td>1</td>\n",
       "      <td>-1</td>\n",
       "      <td>0</td>\n",
       "      <td>unknown</td>\n",
       "      <td>no</td>\n",
       "    </tr>\n",
       "  </tbody>\n",
       "</table>\n",
       "</div>"
      ],
      "text/plain": [
       "   age          job marital_status  education has_credit_default  \\\n",
       "0   30   unemployed        married    primary                 no   \n",
       "1   33     services        married  secondary                 no   \n",
       "2   35   management         single   tertiary                 no   \n",
       "3   30   management        married   tertiary                 no   \n",
       "4   59  blue-collar        married  secondary                 no   \n",
       "\n",
       "   account_balance has_housing_loan has_personal_loan contact_type  \\\n",
       "0           1787.0               no                no     cellular   \n",
       "1           4789.0              yes               yes     cellular   \n",
       "2           1350.0              yes                no     cellular   \n",
       "3           1476.0              yes               yes      unknown   \n",
       "4              0.0              yes                no      unknown   \n",
       "\n",
       "   day_of_month month  last_contact_duration  num_contacts_campaign  \\\n",
       "0            19   oct                     79                      1   \n",
       "1            11   may                    220                      1   \n",
       "2            16   apr                    185                      1   \n",
       "3             3   jun                    199                      4   \n",
       "4             5   may                    226                      1   \n",
       "\n",
       "   days_since_prev_campaign  num_contacts_previous poutcome   y  \n",
       "0                        -1                      0  unknown  no  \n",
       "1                       339                      4  failure  no  \n",
       "2                       330                      1  failure  no  \n",
       "3                        -1                      0  unknown  no  \n",
       "4                        -1                      0  unknown  no  "
      ]
     },
     "execution_count": 10,
     "metadata": {},
     "output_type": "execute_result"
    }
   ],
   "source": [
    "### GRADED\n",
    "\n",
    "### YOUR SOLUTION HERE\n",
    "bank_renamed = bank.rename(columns=NEW_COL_NAMES)\n",
    "\n",
    "###\n",
    "### YOUR CODE HERE\n",
    "###\n",
    "bank.rename(columns=NEW_COL_NAMES).head()"
   ]
  },
  {
   "cell_type": "code",
   "execution_count": 11,
   "metadata": {
    "collapsed": true,
    "deletable": false,
    "editable": false,
    "nbgrader": {
     "grade": true,
     "grade_id": "Question 07",
     "locked": true,
     "points": "2",
     "solution": false
    }
   },
   "outputs": [],
   "source": [
    "###\n",
    "### AUTOGRADER TEST - DO NOT REMOVE\n",
    "###\n"
   ]
  },
  {
   "cell_type": "markdown",
   "metadata": {
    "deletable": false,
    "editable": false,
    "nbgrader": {
     "grade": false,
     "locked": true,
     "solution": false
    }
   },
   "source": [
    "Let's reload the data with the new column names. Next, we will separate the target variable (`y`) from the features. We will assign the features to `X` and the target to the variable `y`."
   ]
  },
  {
   "cell_type": "code",
   "execution_count": 12,
   "metadata": {
    "deletable": false,
    "editable": false,
    "nbgrader": {
     "grade": false,
     "locked": true,
     "solution": false
    }
   },
   "outputs": [],
   "source": [
    "# make list of new columns\n",
    "col_lst = [\n",
    "    'age', 'job', 'marital_status', 'education',\n",
    "    'has_credit_default', 'account_balance', 'has_housing_loan',\n",
    "    'has_personal_loan', 'contact_type', 'day_of_month',\n",
    "    'month', 'last_contact_duration', 'num_contacts_campaign',\n",
    "    'days_since_prev_campaign', 'num_contacts_previous',\n",
    "    'poutcome', 'y',\n",
    "]\n",
    "# reload data\n",
    "bank_renamed = pd.read_csv(BANK_DATA_PATH, header=0, names=col_lst)\n",
    "# separate X and y\n",
    "X = bank_renamed.drop('y', axis=1)\n",
    "y = bank_renamed['y']"
   ]
  },
  {
   "cell_type": "markdown",
   "metadata": {
    "deletable": false,
    "editable": false,
    "nbgrader": {
     "grade": false,
     "locked": true,
     "solution": false
    }
   },
   "source": [
    "---\n",
    "#### Note on our target variable:\n",
    "\n",
    "\n",
    ">Later in this assignment, you will be asked to build regression models. For those exercises, we will treat `account_balance` as the target variable because it is a continuous variable (`y` is discrete). Despite this, the following preprocessing exercises will consider `y` the target variable simply because this approach pedagogically lends itself well to testing common preprocessing tasks.\n",
    "\n",
    "---"
   ]
  },
  {
   "cell_type": "markdown",
   "metadata": {
    "deletable": false,
    "editable": false,
    "nbgrader": {
     "grade": false,
     "locked": true,
     "solution": false
    }
   },
   "source": [
    "[Back to top](#Index:) \n",
    "\n",
    "### Question 8\n",
    "\n",
    "*10 Points*\n",
    "\n",
    "Before preparing your data for modeling, you should partition your dataset into training and testing sets. You should do this before making any changes so that you will have a valid set of untouched samples to test the models you make later. This is a standard practice. Using `sklearn`'s [StratifiedShuffleSplit](https://scikit-learn.org/stable/modules/generated/sklearn.model_selection.StratifiedShuffleSplit.html) class, we will randomly partition 35% of the data into testing and the rest into training.\n",
    "\n",
    "The first 5 steps in this process are provided below. You are expected to complete steps 6 and 7 on your own.\n",
    "\n",
    ">Hint: This is covered in Week 8 (Sampling).\n",
    "\n",
    "**Steps:**\n",
    "\n",
    "1.  Instantiate an instance of StratifiedShuffleSplit with the following signature and assign to variable `sss`. Set the `random_state` to `42` for reproducibility:\n",
    ">`sss = StratifiedShuffleSplit(n_splits=1, test_size=0.35, random_state=42)`\n",
    "\n",
    "2. Use the `.split()` method to generate indices for splitting data. Assign the output to the variable `indices_gen`. The output of `sss.split()` is a generator object (similar to what `range()` produces). Read more about them [here](https://realpython.com/introduction-to-python-generators/) and [here](https://www.dataquest.io/blog/python-generators-tutorial/).\n",
    ">`indices_gen = sss.split(X, y)`\n",
    "3.  Cast the variable `indices_gen` to a list and assign the **first** item in that list to the variable `indices_tuple`\n",
    "> `indices_tuple = list(indices_gen)[0]`\n",
    "4.  The first item in `indices_tuple` should be the row labels for the training set. Assign this array to the variable `train_idx`\n",
    ">`train_idx = indices_tuple[0]`\n",
    "5. The second item in `indices_tuple` should be the row labels for the testing set. Assign this array to the variable `test_idx`\n",
    ">`test_idx = indices_tuple[1]`\n",
    "\n",
    "6. Filter `X` using the row labels stored in `train_idx` and `test_idx`. Name the filtered **pandas dataframes** `X_train` and `X_test`\n",
    "\n",
    "7. Filter `y` using the row labels stored in `train_idx` and `test_idx`. Name the filtered **pandas Series** `y_train` and `y_test`\n"
   ]
  },
  {
   "cell_type": "code",
   "execution_count": 13,
   "metadata": {},
   "outputs": [],
   "source": [
    "### GRADED\n",
    "from sklearn.model_selection import StratifiedShuffleSplit\n",
    "\n",
    "### YOUR SOLUTION HERE\n",
    "sss = StratifiedShuffleSplit(n_splits=1, test_size=0.35, random_state=42) # keep random_state=24!\n",
    "indices_gen = sss.split(X, y)\n",
    "indices_tuple = list(indices_gen)[0]\n",
    "train_idx = indices_tuple[0]\n",
    "test_idx = indices_tuple[1]\n",
    "X_train, X_test = X.iloc[train_idx], X.iloc[test_idx]\n",
    "y_train, y_test = y.iloc[train_idx], y.iloc[test_idx]\n",
    "\n",
    "###\n",
    "### YOUR CODE HERE\n",
    "###\n"
   ]
  },
  {
   "cell_type": "code",
   "execution_count": 28,
   "metadata": {
    "collapsed": true,
    "deletable": false,
    "editable": false,
    "nbgrader": {
     "grade": true,
     "grade_id": "Question 08",
     "locked": true,
     "points": "10",
     "solution": false
    }
   },
   "outputs": [],
   "source": [
    "###\n",
    "### AUTOGRADER TEST - DO NOT REMOVE\n",
    "###\n"
   ]
  },
  {
   "cell_type": "markdown",
   "metadata": {
    "deletable": false,
    "editable": false,
    "nbgrader": {
     "grade": false,
     "locked": true,
     "solution": false
    }
   },
   "source": [
    "Run the cell below to read a partially processed `X_train`, `X_test`, `y_train`, and `y_test`."
   ]
  },
  {
   "cell_type": "code",
   "execution_count": 29,
   "metadata": {
    "collapsed": true,
    "deletable": false,
    "editable": false,
    "nbgrader": {
     "grade": false,
     "locked": true,
     "solution": false
    }
   },
   "outputs": [],
   "source": [
    "X_train = read_training_data()\n",
    "X_test = read_testing_data()\n",
    "y_train = read_y_train()\n",
    "y_test = read_y_test()"
   ]
  },
  {
   "cell_type": "markdown",
   "metadata": {
    "deletable": false,
    "editable": false,
    "nbgrader": {
     "grade": false,
     "locked": true,
     "solution": false
    }
   },
   "source": [
    "[Back to top](#Index:) \n",
    "\n",
    "### Question 9\n",
    "\n",
    "*4 Points*\n",
    "\n",
    "The `account_balance` column in `X_train` contains missing values (stored as `np.nan`). Assign the number of missing values contained in this column as an integer to the variable `num_missing`."
   ]
  },
  {
   "cell_type": "code",
   "execution_count": 30,
   "metadata": {},
   "outputs": [
    {
     "data": {
      "text/plain": [
       "84"
      ]
     },
     "execution_count": 30,
     "metadata": {},
     "output_type": "execute_result"
    }
   ],
   "source": [
    "### GRADED\n",
    "\n",
    "### YOUR SOLUTION HERE\n",
    "num_missing = 84\n",
    "\n",
    "###\n",
    "### YOUR CODE HERE\n",
    "###\n",
    "X_train['account_balance'].isnull().sum()"
   ]
  },
  {
   "cell_type": "code",
   "execution_count": 31,
   "metadata": {
    "collapsed": true,
    "deletable": false,
    "editable": false,
    "nbgrader": {
     "grade": true,
     "grade_id": "Question 09",
     "locked": true,
     "points": "4",
     "solution": false
    }
   },
   "outputs": [],
   "source": [
    "###\n",
    "### AUTOGRADER TEST - DO NOT REMOVE\n",
    "###\n"
   ]
  },
  {
   "cell_type": "markdown",
   "metadata": {
    "deletable": false,
    "editable": false,
    "nbgrader": {
     "grade": false,
     "locked": true,
     "solution": false
    }
   },
   "source": [
    "Let's explore the numeric features. The following cell will visualize the distributions of the numeric features."
   ]
  },
  {
   "cell_type": "code",
   "execution_count": 32,
   "metadata": {
    "deletable": false,
    "editable": false,
    "nbgrader": {
     "grade": false,
     "locked": true,
     "solution": false
    }
   },
   "outputs": [
    {
     "data": {
      "image/png": "[encoded data removed]",
      "text/plain": [
       "<Figure size 1008x504 with 8 Axes>"
      ]
     },
     "metadata": {},
     "output_type": "display_data"
    }
   ],
   "source": [
    "bank_renamed.hist(figsize=(14,7), layout=(2,4), bins=30);"
   ]
  },
  {
   "cell_type": "markdown",
   "metadata": {
    "deletable": false,
    "editable": false,
    "nbgrader": {
     "grade": false,
     "locked": true,
     "solution": false
    }
   },
   "source": [
    "##### Note: Questions 10, 11, 12, and 13 are connected and need to be completed in sequence."
   ]
  },
  {
   "cell_type": "markdown",
   "metadata": {
    "deletable": false,
    "editable": false,
    "nbgrader": {
     "grade": false,
     "locked": true,
     "solution": false
    }
   },
   "source": [
    "[Back to top](#Index:) \n",
    "\n",
    "### Question 10\n",
    "\n",
    "*5 Points*\n",
    "\n",
    "Notice the distribution above for `account_balance`. It shows that the data are skewed right. Because of this skew, we will replace the missing values in this column with the median instead of the mean.\n",
    "\n",
    "Replace all missing values in `X_train` with the median value for each column. Assign the new dataframe to the variable `X_train_nonan`."
   ]
  },
  {
   "cell_type": "code",
   "execution_count": 33,
   "metadata": {
    "collapsed": true
   },
   "outputs": [],
   "source": [
    "### GRADED\n",
    "\n",
    "### YOUR SOLUTION HERE\n",
    "X_train_nonan = X_train.fillna(X_train.median())\n",
    "\n",
    "###\n",
    "### YOUR CODE HERE\n",
    "###\n",
    "#X_train.fillna(X_train.median())"
   ]
  },
  {
   "cell_type": "code",
   "execution_count": 34,
   "metadata": {
    "collapsed": true,
    "deletable": false,
    "editable": false,
    "nbgrader": {
     "grade": true,
     "grade_id": "Question 10",
     "locked": true,
     "points": "5",
     "solution": false
    }
   },
   "outputs": [],
   "source": [
    "###\n",
    "### AUTOGRADER TEST - DO NOT REMOVE\n",
    "###\n"
   ]
  },
  {
   "cell_type": "markdown",
   "metadata": {
    "deletable": false,
    "editable": false,
    "nbgrader": {
     "grade": false,
     "locked": true,
     "solution": false
    }
   },
   "source": [
    "[Back to top](#Index:) \n",
    "\n",
    "### Question 11\n",
    "\n",
    "*5 Points*\n",
    "\n",
    " The `age` attribute spans from 19-87. Your next task is to write a function named `age_binner` that will discretize this feature into the following bins:\n",
    " \n",
    " - age < 20: 'teenager'\n",
    " - 20 <= age < 30: 'twenties'\n",
    " - 30 <= age < 40: 'thirties'\n",
    " - 40 <= age < 50: 'forties'\n",
    " - 50 <= age < 60: 'fifties'\n",
    " - 60 <= age: 'over-sixty'\n",
    " \n",
    "Your function should accept one parameter (int or float) and return the appropriate bin label as a string."
   ]
  },
  {
   "cell_type": "code",
   "execution_count": 2,
   "metadata": {
    "collapsed": true
   },
   "outputs": [],
   "source": [
    "### GRADED\n",
    "\n",
    "### YOUR SOLUTION HERE\n",
    "def age_binner(num):\n",
    "    '''\n",
    "    Parameters:\n",
    "    num -- int or float; a number representing \n",
    "    \n",
    "    Returns: str; bin label categorizing an individual's age\n",
    "    \n",
    "    Example:\n",
    "    \n",
    "    >>> age = 31\n",
    "    >>> age_binner(age)\n",
    "    'thirties'\n",
    "    \n",
    "    '''\n",
    "    ###\n",
    "    ### YOUR CODE HERE\n",
    "    ###\n",
    "    if num < 20: \n",
    "        return 'teenager'\n",
    "    elif num < 30:\n",
    "        return 'twenties' \n",
    "    elif num < 40:\n",
    "        return 'thirties'\n",
    "    elif num < 50: \n",
    "        return 'forties'\n",
    "    elif num < 60: \n",
    "        return 'fifties'\n",
    "    else: \n",
    "        return 'over-sixty'\n",
    " "
   ]
  },
  {
   "cell_type": "code",
   "execution_count": 38,
   "metadata": {
    "collapsed": true,
    "deletable": false,
    "editable": false,
    "nbgrader": {
     "grade": true,
     "grade_id": "Question 11",
     "locked": true,
     "points": "5",
     "solution": false
    }
   },
   "outputs": [],
   "source": [
    "###\n",
    "### AUTOGRADER TEST - DO NOT REMOVE\n",
    "###\n"
   ]
  },
  {
   "cell_type": "markdown",
   "metadata": {
    "deletable": false,
    "editable": false,
    "nbgrader": {
     "grade": false,
     "locked": true,
     "solution": false
    }
   },
   "source": [
    "Import a function `bin_ages` for the next question."
   ]
  },
  {
   "cell_type": "code",
   "execution_count": 39,
   "metadata": {
    "collapsed": true,
    "deletable": false,
    "editable": false,
    "nbgrader": {
     "grade": false,
     "locked": true,
     "solution": false
    }
   },
   "outputs": [],
   "source": [
    "from aml_resources import bin_ages"
   ]
  },
  {
   "cell_type": "code",
   "execution_count": 40,
   "metadata": {
    "deletable": false,
    "editable": false,
    "nbgrader": {
     "grade": false,
     "locked": true,
     "solution": false
    }
   },
   "outputs": [
    {
     "data": {
      "text/plain": [
       "'thirties'"
      ]
     },
     "execution_count": 40,
     "metadata": {},
     "output_type": "execute_result"
    }
   ],
   "source": [
    "bin_ages(33)"
   ]
  },
  {
   "cell_type": "markdown",
   "metadata": {
    "deletable": false,
    "editable": false,
    "nbgrader": {
     "grade": false,
     "locked": true,
     "solution": false
    }
   },
   "source": [
    "[Back to top](#Index:) \n",
    "\n",
    "### Question 12\n",
    "\n",
    "*5 Points*\n",
    "\n",
    "Create a new column in `X_train_nonan` called `age_binned` that discretizes the `age` column into the categories defined above. Use the function `bin_ages` (imported above) to create the categories - **do not** use your function from Q11.\n",
    "\n",
    "Hint: the pandas Series method `.apply(func)` might be helpful here."
   ]
  },
  {
   "cell_type": "code",
   "execution_count": 41,
   "metadata": {
    "collapsed": true
   },
   "outputs": [],
   "source": [
    "### GRADED\n",
    "\n",
    "### YOUR SOLUTION HERE\n",
    "X_train_nonan['age_binned'] = X_train_nonan['age'].apply(bin_ages)\n",
    "\n",
    "###\n",
    "### YOUR CODE HERE\n",
    "###\n"
   ]
  },
  {
   "cell_type": "code",
   "execution_count": 42,
   "metadata": {
    "collapsed": true,
    "deletable": false,
    "editable": false,
    "nbgrader": {
     "grade": true,
     "grade_id": "Question 12",
     "locked": true,
     "points": "5",
     "solution": false
    }
   },
   "outputs": [],
   "source": [
    "###\n",
    "### AUTOGRADER TEST - DO NOT REMOVE\n",
    "###\n"
   ]
  },
  {
   "cell_type": "markdown",
   "metadata": {
    "deletable": false,
    "editable": false,
    "nbgrader": {
     "grade": false,
     "locked": true,
     "solution": false
    }
   },
   "source": [
    "[Back to top](#Index:) \n",
    "\n",
    "### Question 13\n",
    "\n",
    "*2 Points*\n",
    "\n",
    "Our training dataset is almost prepared. One of the final steps is to drop columns that won't be used in modeling. Drop all of the columns in the list `COLS_TO_DROP` from `X_train_nonan`. Assign the dataframe with the dropped columns to the variable `X_train_prepared`."
   ]
  },
  {
   "cell_type": "code",
   "execution_count": 43,
   "metadata": {
    "collapsed": true,
    "deletable": false,
    "editable": false,
    "nbgrader": {
     "grade": false,
     "locked": true,
     "solution": false
    }
   },
   "outputs": [],
   "source": [
    "COLS_TO_DROP = ['age', 'day_of_month', 'last_contact_duration',]"
   ]
  },
  {
   "cell_type": "code",
   "execution_count": 44,
   "metadata": {
    "collapsed": true
   },
   "outputs": [],
   "source": [
    "### GRADED\n",
    "\n",
    "### YOUR SOLUTION HERE\n",
    "X_train_prepared = X_train_nonan.drop(COLS_TO_DROP, axis=1 )\n",
    "\n",
    "###\n",
    "### YOUR CODE HERE\n",
    "###\n"
   ]
  },
  {
   "cell_type": "code",
   "execution_count": 45,
   "metadata": {
    "collapsed": true,
    "deletable": false,
    "editable": false,
    "nbgrader": {
     "grade": true,
     "grade_id": "Question 13",
     "locked": true,
     "points": "2",
     "solution": false
    }
   },
   "outputs": [],
   "source": [
    "###\n",
    "### AUTOGRADER TEST - DO NOT REMOVE\n",
    "###\n"
   ]
  },
  {
   "cell_type": "markdown",
   "metadata": {
    "deletable": false,
    "editable": false,
    "nbgrader": {
     "grade": false,
     "locked": true,
     "solution": false
    }
   },
   "source": [
    "For the next question, use the dataframe `q14_df` defined below."
   ]
  },
  {
   "cell_type": "code",
   "execution_count": 46,
   "metadata": {
    "collapsed": true,
    "deletable": false,
    "editable": false,
    "nbgrader": {
     "grade": false,
     "locked": true,
     "solution": false
    }
   },
   "outputs": [],
   "source": [
    "q14_df = partial()"
   ]
  },
  {
   "cell_type": "markdown",
   "metadata": {
    "deletable": false,
    "editable": false,
    "nbgrader": {
     "grade": false,
     "locked": true,
     "solution": false
    }
   },
   "source": [
    "## Exploratory Data Analysis (EDA)\n",
    "\n",
    "In this next section, we will perform exploratory data analysis. This will help us visualize the data and give us insight into relationships between the features in our dataset."
   ]
  },
  {
   "cell_type": "markdown",
   "metadata": {
    "deletable": false,
    "editable": false,
    "nbgrader": {
     "grade": false,
     "locked": true,
     "solution": false
    }
   },
   "source": [
    "[Back to top](#Index:) \n",
    "\n",
    "### Question 14\n",
    "\n",
    "*8 Points*\n",
    "\n",
    "The data are nearly prepared for modeling. Let's quickly do some exploratory data analysis (EDA) before modeling. This step provides insight into potential issues and which features are good candidates for modeling.\n",
    "\n",
    " - Using the newly created `age_binned` column in `q14_df`, calculate the mean `account_balance` for each age bin.\n",
    " - Assign the means to `avg_age_balances` as a pandas Series, sorted in ascending order by the mean values. The index should be the age categories.\n",
    " \n",
    "\n",
    "Hint: [pandas.DataFrame.groupby()](https://pandas.pydata.org/pandas-docs/stable/reference/api/pandas.DataFrame.groupby.html) may be helpful.\n",
    "\n",
    "_Remember to use the dataframe `q14_df` for this question._"
   ]
  },
  {
   "cell_type": "code",
   "execution_count": 47,
   "metadata": {
    "collapsed": true
   },
   "outputs": [],
   "source": [
    "### GRADED\n",
    "q14_df = partial()\n",
    "\n",
    "### YOUR SOLUTION HERE\n",
    "avg_age_balances = q14_df.groupby('age_binned').mean()['account_balance'].sort_values(ascending=True)\n",
    "\n",
    "###\n",
    "### YOUR CODE HERE\n",
    "###\n"
   ]
  },
  {
   "cell_type": "code",
   "execution_count": 48,
   "metadata": {
    "collapsed": true,
    "deletable": false,
    "editable": false,
    "nbgrader": {
     "grade": true,
     "grade_id": "Question 14",
     "locked": true,
     "points": "8",
     "solution": false
    }
   },
   "outputs": [],
   "source": [
    "###\n",
    "### AUTOGRADER TEST - DO NOT REMOVE\n",
    "###\n"
   ]
  },
  {
   "cell_type": "markdown",
   "metadata": {
    "deletable": false,
    "editable": false,
    "nbgrader": {
     "grade": false,
     "locked": true,
     "solution": false
    }
   },
   "source": [
    "[Back to top](#Index:) \n",
    "\n",
    "### Question 15\n",
    "\n",
    "*4 Points*\n",
    "\n",
    "Create a scatter matrix using the function from the `pandas.plotting` module (as demonstrated in lecture notebooks). Assign the output from the pandas function to `ans15`.\n",
    "\n",
    "For input, use the dataframe `q_15_data` below and set `figsize=(12,12)` and `diagonal='kde`. Leave all other parameters set to their default value.\n",
    "\n",
    "Hint: Review these [pandas docs](https://pandas.pydata.org/docs/reference/api/pandas.plotting.scatter_matrix.html)."
   ]
  },
  {
   "cell_type": "code",
   "execution_count": 49,
   "metadata": {
    "deletable": false,
    "editable": false,
    "nbgrader": {
     "grade": false,
     "locked": true,
     "solution": false
    },
    "scrolled": true
   },
   "outputs": [
    {
     "data": {
      "text/html": [
       "<div>\n",
       "<style scoped>\n",
       "    .dataframe tbody tr th:only-of-type {\n",
       "        vertical-align: middle;\n",
       "    }\n",
       "\n",
       "    .dataframe tbody tr th {\n",
       "        vertical-align: top;\n",
       "    }\n",
       "\n",
       "    .dataframe thead th {\n",
       "        text-align: right;\n",
       "    }\n",
       "</style>\n",
       "<table border=\"1\" class=\"dataframe\">\n",
       "  <thead>\n",
       "    <tr style=\"text-align: right;\">\n",
       "      <th></th>\n",
       "      <th>account_balance</th>\n",
       "      <th>num_contacts_campaign</th>\n",
       "      <th>days_since_prev_campaign</th>\n",
       "      <th>num_contacts_previous</th>\n",
       "    </tr>\n",
       "  </thead>\n",
       "  <tbody>\n",
       "    <tr>\n",
       "      <th>3585</th>\n",
       "      <td>-118.0</td>\n",
       "      <td>3</td>\n",
       "      <td>-1</td>\n",
       "      <td>0</td>\n",
       "    </tr>\n",
       "    <tr>\n",
       "      <th>65</th>\n",
       "      <td>203.0</td>\n",
       "      <td>1</td>\n",
       "      <td>170</td>\n",
       "      <td>5</td>\n",
       "    </tr>\n",
       "    <tr>\n",
       "      <th>1385</th>\n",
       "      <td>3165.0</td>\n",
       "      <td>4</td>\n",
       "      <td>-1</td>\n",
       "      <td>0</td>\n",
       "    </tr>\n",
       "  </tbody>\n",
       "</table>\n",
       "</div>"
      ],
      "text/plain": [
       "      account_balance  num_contacts_campaign  days_since_prev_campaign  \\\n",
       "3585           -118.0                      3                        -1   \n",
       "65              203.0                      1                       170   \n",
       "1385           3165.0                      4                        -1   \n",
       "\n",
       "      num_contacts_previous  \n",
       "3585                      0  \n",
       "65                        5  \n",
       "1385                      0  "
      ]
     },
     "execution_count": 49,
     "metadata": {},
     "output_type": "execute_result"
    }
   ],
   "source": [
    "COLS_TO_PLOT = [\n",
    "    'account_balance',\n",
    "    'num_contacts_campaign',\n",
    "    'days_since_prev_campaign',\n",
    "    'num_contacts_previous',\n",
    "]\n",
    "q_15_data = partial()[COLS_TO_PLOT]\n",
    "q_15_data.head(3)"
   ]
  },
  {
   "cell_type": "code",
   "execution_count": 50,
   "metadata": {},
   "outputs": [
    {
     "data": {
      "image/png": "[encoded data removed]",
      "text/plain": [
       "<Figure size 864x864 with 16 Axes>"
      ]
     },
     "metadata": {},
     "output_type": "display_data"
    }
   ],
   "source": [
    "### GRADED\n",
    "from pandas.plotting import scatter_matrix\n",
    "### YOUR SOLUTION HERE\n",
    "ans15 = scatter_matrix(q_15_data, figsize=(12,12),diagonal='kde')\n",
    "\n",
    "###\n",
    "### YOUR CODE HERE\n",
    "###\n",
    "plt.show()"
   ]
  },
  {
   "cell_type": "code",
   "execution_count": 51,
   "metadata": {
    "collapsed": true,
    "deletable": false,
    "editable": false,
    "nbgrader": {
     "grade": true,
     "grade_id": "Question 15",
     "locked": true,
     "points": "4",
     "solution": false
    }
   },
   "outputs": [],
   "source": [
    "###\n",
    "### AUTOGRADER TEST - DO NOT REMOVE\n",
    "###\n"
   ]
  },
  {
   "cell_type": "markdown",
   "metadata": {
    "deletable": false,
    "editable": false,
    "nbgrader": {
     "grade": false,
     "locked": true,
     "solution": false
    }
   },
   "source": [
    "#### Preprocess Target Variables\n",
    "With our training data nearly prepared, we will turn our focus on the target variable `y_train`. Let's look at the distribution of clients that subscribed a term deposit."
   ]
  },
  {
   "cell_type": "code",
   "execution_count": 52,
   "metadata": {
    "deletable": false,
    "editable": false,
    "nbgrader": {
     "grade": false,
     "locked": true,
     "solution": false
    }
   },
   "outputs": [
    {
     "data": {
      "text/plain": [
       "no     2599\n",
       "yes     339\n",
       "Name: y, dtype: int64"
      ]
     },
     "metadata": {},
     "output_type": "display_data"
    }
   ],
   "source": [
    "display(y_train.value_counts())"
   ]
  },
  {
   "cell_type": "markdown",
   "metadata": {
    "deletable": false,
    "editable": false,
    "nbgrader": {
     "grade": false,
     "locked": true,
     "solution": false
    }
   },
   "source": [
    "[Back to top](#Index:) \n",
    "\n",
    "### Question 16\n",
    "\n",
    "*8 Points*\n",
    "\n",
    "If our goal is to create classification models that predict which clients are likely to subscribe, we need to convert the values in `y_train` to be numeric instead of \"no\" and \"yes\".\n",
    "\n",
    "- Write a [lambda](https://realpython.com/python-lambda/) function that accepts one parameter (\"yes\" or \"no\"). Your function should return a `1` (`int`) when the value is \"yes\", otherwise return `0` (`int`). Assign the lambda function to the variable `label_encoder`.\n",
    "- Use your lambda function to create a new pandas Series with `1`'s and `0`'s. Assign this Series to `y_train_encoded`.\n",
    "\n",
    "Hint: the `.apply()` Series method may be handy for the second bullet"
   ]
  },
  {
   "cell_type": "code",
   "execution_count": 53,
   "metadata": {
    "collapsed": true
   },
   "outputs": [],
   "source": [
    "### GRADED\n",
    "\n",
    "### YOUR SOLUTION HERE\n",
    "label_encoder = lambda x: 1 if x=='yes' else 0\n",
    "y_train_encoded = y_train.apply(label_encoder)\n",
    "###\n",
    "### YOUR CODE HERE\n",
    "###\n"
   ]
  },
  {
   "cell_type": "code",
   "execution_count": 54,
   "metadata": {
    "collapsed": true,
    "deletable": false,
    "editable": false,
    "nbgrader": {
     "grade": true,
     "grade_id": "Question 16",
     "locked": true,
     "points": "8",
     "solution": false
    }
   },
   "outputs": [],
   "source": [
    "###\n",
    "### AUTOGRADER TEST - DO NOT REMOVE\n",
    "###\n"
   ]
  },
  {
   "cell_type": "markdown",
   "metadata": {
    "deletable": false,
    "editable": false,
    "nbgrader": {
     "grade": false,
     "locked": true,
     "solution": false
    }
   },
   "source": [
    "As a final step preparing the dataset, we will create \"dummy variables\", which are numeric representations of categorical data. Some machine learning packages (i.e. `sklearn`) require all data to be numeric.\n",
    "\n",
    "Pandas provides a convenient function, `pd.get_dummies()` that will create dummy variables for all categorical columns."
   ]
  },
  {
   "cell_type": "code",
   "execution_count": 55,
   "metadata": {
    "deletable": false,
    "editable": false,
    "nbgrader": {
     "grade": false,
     "locked": true,
     "solution": false
    }
   },
   "outputs": [
    {
     "data": {
      "text/html": [
       "<div>\n",
       "<style scoped>\n",
       "    .dataframe tbody tr th:only-of-type {\n",
       "        vertical-align: middle;\n",
       "    }\n",
       "\n",
       "    .dataframe tbody tr th {\n",
       "        vertical-align: top;\n",
       "    }\n",
       "\n",
       "    .dataframe thead th {\n",
       "        text-align: right;\n",
       "    }\n",
       "</style>\n",
       "<table border=\"1\" class=\"dataframe\">\n",
       "  <thead>\n",
       "    <tr style=\"text-align: right;\">\n",
       "      <th></th>\n",
       "      <th>account_balance</th>\n",
       "      <th>num_contacts_campaign</th>\n",
       "      <th>days_since_prev_campaign</th>\n",
       "      <th>num_contacts_previous</th>\n",
       "      <th>job_blue-collar</th>\n",
       "      <th>job_entrepreneur</th>\n",
       "      <th>job_housemaid</th>\n",
       "      <th>job_management</th>\n",
       "      <th>job_retired</th>\n",
       "      <th>job_self-employed</th>\n",
       "      <th>...</th>\n",
       "      <th>month_oct</th>\n",
       "      <th>month_sep</th>\n",
       "      <th>poutcome_other</th>\n",
       "      <th>poutcome_success</th>\n",
       "      <th>poutcome_unknown</th>\n",
       "      <th>age_binned_forties</th>\n",
       "      <th>age_binned_over sixty</th>\n",
       "      <th>age_binned_teen</th>\n",
       "      <th>age_binned_thirties</th>\n",
       "      <th>age_binned_twenties</th>\n",
       "    </tr>\n",
       "  </thead>\n",
       "  <tbody>\n",
       "    <tr>\n",
       "      <th>3585</th>\n",
       "      <td>-118.0</td>\n",
       "      <td>3</td>\n",
       "      <td>-1</td>\n",
       "      <td>0</td>\n",
       "      <td>0</td>\n",
       "      <td>1</td>\n",
       "      <td>0</td>\n",
       "      <td>0</td>\n",
       "      <td>0</td>\n",
       "      <td>0</td>\n",
       "      <td>...</td>\n",
       "      <td>0</td>\n",
       "      <td>0</td>\n",
       "      <td>0</td>\n",
       "      <td>0</td>\n",
       "      <td>1</td>\n",
       "      <td>0</td>\n",
       "      <td>0</td>\n",
       "      <td>0</td>\n",
       "      <td>1</td>\n",
       "      <td>0</td>\n",
       "    </tr>\n",
       "    <tr>\n",
       "      <th>65</th>\n",
       "      <td>203.0</td>\n",
       "      <td>1</td>\n",
       "      <td>170</td>\n",
       "      <td>5</td>\n",
       "      <td>1</td>\n",
       "      <td>0</td>\n",
       "      <td>0</td>\n",
       "      <td>0</td>\n",
       "      <td>0</td>\n",
       "      <td>0</td>\n",
       "      <td>...</td>\n",
       "      <td>0</td>\n",
       "      <td>0</td>\n",
       "      <td>0</td>\n",
       "      <td>0</td>\n",
       "      <td>0</td>\n",
       "      <td>0</td>\n",
       "      <td>0</td>\n",
       "      <td>0</td>\n",
       "      <td>0</td>\n",
       "      <td>0</td>\n",
       "    </tr>\n",
       "    <tr>\n",
       "      <th>1385</th>\n",
       "      <td>3165.0</td>\n",
       "      <td>4</td>\n",
       "      <td>-1</td>\n",
       "      <td>0</td>\n",
       "      <td>0</td>\n",
       "      <td>0</td>\n",
       "      <td>0</td>\n",
       "      <td>0</td>\n",
       "      <td>0</td>\n",
       "      <td>0</td>\n",
       "      <td>...</td>\n",
       "      <td>0</td>\n",
       "      <td>0</td>\n",
       "      <td>0</td>\n",
       "      <td>0</td>\n",
       "      <td>1</td>\n",
       "      <td>1</td>\n",
       "      <td>0</td>\n",
       "      <td>0</td>\n",
       "      <td>0</td>\n",
       "      <td>0</td>\n",
       "    </tr>\n",
       "  </tbody>\n",
       "</table>\n",
       "<p>3 rows × 44 columns</p>\n",
       "</div>"
      ],
      "text/plain": [
       "      account_balance  num_contacts_campaign  days_since_prev_campaign  \\\n",
       "3585           -118.0                      3                        -1   \n",
       "65              203.0                      1                       170   \n",
       "1385           3165.0                      4                        -1   \n",
       "\n",
       "      num_contacts_previous  job_blue-collar  job_entrepreneur  job_housemaid  \\\n",
       "3585                      0                0                 1              0   \n",
       "65                        5                1                 0              0   \n",
       "1385                      0                0                 0              0   \n",
       "\n",
       "      job_management  job_retired  job_self-employed         ...           \\\n",
       "3585               0            0                  0         ...            \n",
       "65                 0            0                  0         ...            \n",
       "1385               0            0                  0         ...            \n",
       "\n",
       "      month_oct  month_sep  poutcome_other  poutcome_success  \\\n",
       "3585          0          0               0                 0   \n",
       "65            0          0               0                 0   \n",
       "1385          0          0               0                 0   \n",
       "\n",
       "      poutcome_unknown  age_binned_forties  age_binned_over sixty  \\\n",
       "3585                 1                   0                      0   \n",
       "65                   0                   0                      0   \n",
       "1385                 1                   1                      0   \n",
       "\n",
       "      age_binned_teen  age_binned_thirties  age_binned_twenties  \n",
       "3585                0                    1                    0  \n",
       "65                  0                    0                    0  \n",
       "1385                0                    0                    0  \n",
       "\n",
       "[3 rows x 44 columns]"
      ]
     },
     "execution_count": 55,
     "metadata": {},
     "output_type": "execute_result"
    }
   ],
   "source": [
    "pd.get_dummies(X_train_prepared, drop_first=True).head(3)"
   ]
  },
  {
   "cell_type": "markdown",
   "metadata": {
    "deletable": false,
    "editable": false,
    "nbgrader": {
     "grade": false,
     "locked": true,
     "solution": false
    }
   },
   "source": [
    "## Linear Algebra & Least Squares Regression\n",
    "\n",
    "For the remaining questions, we will import a fully prepared training and testing dataset. The target variable for the regression models will be `account_balance` because it is a continuous variable.\n",
    "\n",
    "**Note:**\n",
    "We will use `statsmodels` to create the linear regression models because it offers rich diagnostic tools for regression. `scikit-learn` takes a more general purpose model building approach focused on generalization rather than diagnostics, which can be specific to regression."
   ]
  },
  {
   "cell_type": "code",
   "execution_count": 119,
   "metadata": {
    "deletable": false,
    "editable": false,
    "nbgrader": {
     "grade": false,
     "locked": true,
     "solution": false
    }
   },
   "outputs": [
    {
     "name": "stdout",
     "output_type": "stream",
     "text": [
      "First 3 Training Samples:\n"
     ]
    },
    {
     "data": {
      "text/html": [
       "<div>\n",
       "<style scoped>\n",
       "    .dataframe tbody tr th:only-of-type {\n",
       "        vertical-align: middle;\n",
       "    }\n",
       "\n",
       "    .dataframe tbody tr th {\n",
       "        vertical-align: top;\n",
       "    }\n",
       "\n",
       "    .dataframe thead th {\n",
       "        text-align: right;\n",
       "    }\n",
       "</style>\n",
       "<table border=\"1\" class=\"dataframe\">\n",
       "  <thead>\n",
       "    <tr style=\"text-align: right;\">\n",
       "      <th></th>\n",
       "      <th>age</th>\n",
       "      <th>has_credit_default</th>\n",
       "      <th>has_housing_loan</th>\n",
       "      <th>has_personal_loan</th>\n",
       "      <th>num_contacts_campaign</th>\n",
       "      <th>days_since_prev_campaign</th>\n",
       "      <th>num_contacts_previous</th>\n",
       "      <th>y</th>\n",
       "      <th>job_admin.</th>\n",
       "      <th>job_blue-collar</th>\n",
       "      <th>...</th>\n",
       "      <th>month_jun</th>\n",
       "      <th>month_mar</th>\n",
       "      <th>month_may</th>\n",
       "      <th>month_nov</th>\n",
       "      <th>month_oct</th>\n",
       "      <th>month_sep</th>\n",
       "      <th>poutcome_failure</th>\n",
       "      <th>poutcome_other</th>\n",
       "      <th>poutcome_success</th>\n",
       "      <th>poutcome_unknown</th>\n",
       "    </tr>\n",
       "  </thead>\n",
       "  <tbody>\n",
       "    <tr>\n",
       "      <th>3397</th>\n",
       "      <td>36</td>\n",
       "      <td>0</td>\n",
       "      <td>1</td>\n",
       "      <td>0</td>\n",
       "      <td>2</td>\n",
       "      <td>-1</td>\n",
       "      <td>0</td>\n",
       "      <td>0</td>\n",
       "      <td>1</td>\n",
       "      <td>0</td>\n",
       "      <td>...</td>\n",
       "      <td>0</td>\n",
       "      <td>0</td>\n",
       "      <td>1</td>\n",
       "      <td>0</td>\n",
       "      <td>0</td>\n",
       "      <td>0</td>\n",
       "      <td>0</td>\n",
       "      <td>0</td>\n",
       "      <td>0</td>\n",
       "      <td>1</td>\n",
       "    </tr>\n",
       "    <tr>\n",
       "      <th>3548</th>\n",
       "      <td>39</td>\n",
       "      <td>0</td>\n",
       "      <td>0</td>\n",
       "      <td>0</td>\n",
       "      <td>2</td>\n",
       "      <td>364</td>\n",
       "      <td>1</td>\n",
       "      <td>0</td>\n",
       "      <td>1</td>\n",
       "      <td>0</td>\n",
       "      <td>...</td>\n",
       "      <td>0</td>\n",
       "      <td>0</td>\n",
       "      <td>1</td>\n",
       "      <td>0</td>\n",
       "      <td>0</td>\n",
       "      <td>0</td>\n",
       "      <td>1</td>\n",
       "      <td>0</td>\n",
       "      <td>0</td>\n",
       "      <td>0</td>\n",
       "    </tr>\n",
       "    <tr>\n",
       "      <th>3220</th>\n",
       "      <td>34</td>\n",
       "      <td>0</td>\n",
       "      <td>1</td>\n",
       "      <td>1</td>\n",
       "      <td>1</td>\n",
       "      <td>-1</td>\n",
       "      <td>0</td>\n",
       "      <td>0</td>\n",
       "      <td>0</td>\n",
       "      <td>1</td>\n",
       "      <td>...</td>\n",
       "      <td>0</td>\n",
       "      <td>0</td>\n",
       "      <td>0</td>\n",
       "      <td>0</td>\n",
       "      <td>0</td>\n",
       "      <td>0</td>\n",
       "      <td>0</td>\n",
       "      <td>0</td>\n",
       "      <td>0</td>\n",
       "      <td>1</td>\n",
       "    </tr>\n",
       "  </tbody>\n",
       "</table>\n",
       "<p>3 rows × 46 columns</p>\n",
       "</div>"
      ],
      "text/plain": [
       "      age  has_credit_default  has_housing_loan  has_personal_loan  \\\n",
       "3397   36                   0                 1                  0   \n",
       "3548   39                   0                 0                  0   \n",
       "3220   34                   0                 1                  1   \n",
       "\n",
       "      num_contacts_campaign  days_since_prev_campaign  num_contacts_previous  \\\n",
       "3397                      2                        -1                      0   \n",
       "3548                      2                       364                      1   \n",
       "3220                      1                        -1                      0   \n",
       "\n",
       "      y  job_admin.  job_blue-collar        ...         month_jun  month_mar  \\\n",
       "3397  0           1                0        ...                 0          0   \n",
       "3548  0           1                0        ...                 0          0   \n",
       "3220  0           0                1        ...                 0          0   \n",
       "\n",
       "      month_may  month_nov  month_oct  month_sep  poutcome_failure  \\\n",
       "3397          1          0          0          0                 0   \n",
       "3548          1          0          0          0                 1   \n",
       "3220          0          0          0          0                 0   \n",
       "\n",
       "      poutcome_other  poutcome_success  poutcome_unknown  \n",
       "3397               0                 0                 1  \n",
       "3548               0                 0                 0  \n",
       "3220               0                 0                 1  \n",
       "\n",
       "[3 rows x 46 columns]"
      ]
     },
     "metadata": {},
     "output_type": "display_data"
    },
    {
     "name": "stdout",
     "output_type": "stream",
     "text": [
      "First 3 Training Labels:\n"
     ]
    },
    {
     "data": {
      "text/plain": [
       "3397    998.0\n",
       "3548   -650.0\n",
       "3220    470.0\n",
       "Name: account_balance, dtype: float64"
      ]
     },
     "metadata": {},
     "output_type": "display_data"
    },
    {
     "name": "stdout",
     "output_type": "stream",
     "text": [
      "First 3 Testing Samples:\n"
     ]
    },
    {
     "data": {
      "text/html": [
       "<div>\n",
       "<style scoped>\n",
       "    .dataframe tbody tr th:only-of-type {\n",
       "        vertical-align: middle;\n",
       "    }\n",
       "\n",
       "    .dataframe tbody tr th {\n",
       "        vertical-align: top;\n",
       "    }\n",
       "\n",
       "    .dataframe thead th {\n",
       "        text-align: right;\n",
       "    }\n",
       "</style>\n",
       "<table border=\"1\" class=\"dataframe\">\n",
       "  <thead>\n",
       "    <tr style=\"text-align: right;\">\n",
       "      <th></th>\n",
       "      <th>age</th>\n",
       "      <th>has_credit_default</th>\n",
       "      <th>has_housing_loan</th>\n",
       "      <th>has_personal_loan</th>\n",
       "      <th>num_contacts_campaign</th>\n",
       "      <th>days_since_prev_campaign</th>\n",
       "      <th>num_contacts_previous</th>\n",
       "      <th>y</th>\n",
       "      <th>job_admin.</th>\n",
       "      <th>job_blue-collar</th>\n",
       "      <th>...</th>\n",
       "      <th>month_jun</th>\n",
       "      <th>month_mar</th>\n",
       "      <th>month_may</th>\n",
       "      <th>month_nov</th>\n",
       "      <th>month_oct</th>\n",
       "      <th>month_sep</th>\n",
       "      <th>poutcome_failure</th>\n",
       "      <th>poutcome_other</th>\n",
       "      <th>poutcome_success</th>\n",
       "      <th>poutcome_unknown</th>\n",
       "    </tr>\n",
       "  </thead>\n",
       "  <tbody>\n",
       "    <tr>\n",
       "      <th>3087</th>\n",
       "      <td>28</td>\n",
       "      <td>0</td>\n",
       "      <td>1</td>\n",
       "      <td>0</td>\n",
       "      <td>3</td>\n",
       "      <td>-1</td>\n",
       "      <td>0</td>\n",
       "      <td>0</td>\n",
       "      <td>0</td>\n",
       "      <td>0</td>\n",
       "      <td>...</td>\n",
       "      <td>0</td>\n",
       "      <td>0</td>\n",
       "      <td>0</td>\n",
       "      <td>0</td>\n",
       "      <td>0</td>\n",
       "      <td>0</td>\n",
       "      <td>0</td>\n",
       "      <td>0</td>\n",
       "      <td>0</td>\n",
       "      <td>1</td>\n",
       "    </tr>\n",
       "    <tr>\n",
       "      <th>238</th>\n",
       "      <td>57</td>\n",
       "      <td>0</td>\n",
       "      <td>0</td>\n",
       "      <td>0</td>\n",
       "      <td>3</td>\n",
       "      <td>-1</td>\n",
       "      <td>0</td>\n",
       "      <td>0</td>\n",
       "      <td>0</td>\n",
       "      <td>0</td>\n",
       "      <td>...</td>\n",
       "      <td>1</td>\n",
       "      <td>0</td>\n",
       "      <td>0</td>\n",
       "      <td>0</td>\n",
       "      <td>0</td>\n",
       "      <td>0</td>\n",
       "      <td>0</td>\n",
       "      <td>0</td>\n",
       "      <td>0</td>\n",
       "      <td>1</td>\n",
       "    </tr>\n",
       "    <tr>\n",
       "      <th>2391</th>\n",
       "      <td>54</td>\n",
       "      <td>0</td>\n",
       "      <td>0</td>\n",
       "      <td>1</td>\n",
       "      <td>1</td>\n",
       "      <td>-1</td>\n",
       "      <td>0</td>\n",
       "      <td>0</td>\n",
       "      <td>0</td>\n",
       "      <td>0</td>\n",
       "      <td>...</td>\n",
       "      <td>0</td>\n",
       "      <td>0</td>\n",
       "      <td>0</td>\n",
       "      <td>0</td>\n",
       "      <td>0</td>\n",
       "      <td>0</td>\n",
       "      <td>0</td>\n",
       "      <td>0</td>\n",
       "      <td>0</td>\n",
       "      <td>1</td>\n",
       "    </tr>\n",
       "  </tbody>\n",
       "</table>\n",
       "<p>3 rows × 46 columns</p>\n",
       "</div>"
      ],
      "text/plain": [
       "      age  has_credit_default  has_housing_loan  has_personal_loan  \\\n",
       "3087   28                   0                 1                  0   \n",
       "238    57                   0                 0                  0   \n",
       "2391   54                   0                 0                  1   \n",
       "\n",
       "      num_contacts_campaign  days_since_prev_campaign  num_contacts_previous  \\\n",
       "3087                      3                        -1                      0   \n",
       "238                       3                        -1                      0   \n",
       "2391                      1                        -1                      0   \n",
       "\n",
       "      y  job_admin.  job_blue-collar        ...         month_jun  month_mar  \\\n",
       "3087  0           0                0        ...                 0          0   \n",
       "238   0           0                0        ...                 1          0   \n",
       "2391  0           0                0        ...                 0          0   \n",
       "\n",
       "      month_may  month_nov  month_oct  month_sep  poutcome_failure  \\\n",
       "3087          0          0          0          0                 0   \n",
       "238           0          0          0          0                 0   \n",
       "2391          0          0          0          0                 0   \n",
       "\n",
       "      poutcome_other  poutcome_success  poutcome_unknown  \n",
       "3087               0                 0                 1  \n",
       "238                0                 0                 1  \n",
       "2391               0                 0                 1  \n",
       "\n",
       "[3 rows x 46 columns]"
      ]
     },
     "metadata": {},
     "output_type": "display_data"
    },
    {
     "name": "stdout",
     "output_type": "stream",
     "text": [
      "First 3 Testing Labels:\n"
     ]
    },
    {
     "data": {
      "text/plain": [
       "3087     224.0\n",
       "238     7082.0\n",
       "2391       0.0\n",
       "Name: account_balance, dtype: float64"
      ]
     },
     "metadata": {},
     "output_type": "display_data"
    }
   ],
   "source": [
    "X_train_final = read_training_data(final=True)\n",
    "y_train_final = read_y_train(final=True)\n",
    "X_test_final = read_testing_data(final=True)\n",
    "y_test_final = read_y_test(final=True)\n",
    "\n",
    "print(\"First 3 Training Samples:\")\n",
    "display(X_train_final.head(3))\n",
    "print(\"First 3 Training Labels:\")\n",
    "display(y_train_final.head(3))\n",
    "print(\"First 3 Testing Samples:\")\n",
    "display(X_test_final.head(3))\n",
    "print(\"First 3 Testing Labels:\")\n",
    "display(y_test_final.head(3))"
   ]
  },
  {
   "cell_type": "code",
   "execution_count": 120,
   "metadata": {
    "deletable": false,
    "editable": false,
    "nbgrader": {
     "grade": false,
     "locked": true,
     "solution": false
    }
   },
   "outputs": [
    {
     "name": "stdout",
     "output_type": "stream",
     "text": [
      "Number of rows:\t\t3290\n",
      "Number of columns:\t46\n"
     ]
    }
   ],
   "source": [
    "print(\"Number of rows:\\t\\t{}\".format(X_train_final.shape[0]))\n",
    "print(\"Number of columns:\\t{}\".format(X_train_final.shape[1]))"
   ]
  },
  {
   "cell_type": "markdown",
   "metadata": {
    "deletable": false,
    "editable": false,
    "nbgrader": {
     "grade": false,
     "locked": true,
     "solution": false
    }
   },
   "source": [
    "[Back to top](#Index:) \n",
    "\n",
    "### Question 17\n",
    "\n",
    "*10 Points*\n",
    "\n",
    "Create an [Ordinary Least Squares](https://www.statsmodels.org/dev/generated/statsmodels.regression.linear_model.OLS.html) regression model using statsmodels:\n",
    "\n",
    "- Prepend a column of ones to `X_train_final` and `X_test_final` for the intercept term ([`statsmodels.api.add_constant(df)`](https://www.statsmodels.org/stable/generated/statsmodels.tools.tools.add_constant.html)). Assign output to `X_train_ols` and `X_test_ols`, respectively.\n",
    "- Fit an OLS model using `X_train_ols` and `y_train_final`. Assign the model object to `ols_model`.\n",
    "- Using `ols_model`, create predictions for `X_test_ols` and assign to `ols_test_preds`"
   ]
  },
  {
   "cell_type": "code",
   "execution_count": 121,
   "metadata": {
    "collapsed": true
   },
   "outputs": [],
   "source": [
    "### GRADED\n",
    "import statsmodels.api as sm\n",
    "### YOUR SOLUTION HERE\n",
    "X_train_final = sm.add_constant(X_train_final)\n",
    "X_test_final = sm.add_constant(X_test_final)\n",
    "X_train_ols = X_train_final\n",
    "X_test_ols = X_test_final\n",
    "ols_model = sm.OLS(y_train_final,X_train_ols).fit()\n",
    "ols_test_preds = ols_model.predict(X_test_ols)\n",
    "\n",
    "###\n",
    "### YOUR CODE HERE\n",
    "###\n"
   ]
  },
  {
   "cell_type": "code",
   "execution_count": 56,
   "metadata": {
    "collapsed": true,
    "deletable": false,
    "editable": false,
    "nbgrader": {
     "grade": true,
     "grade_id": "Question 17",
     "locked": true,
     "points": "10",
     "solution": false
    }
   },
   "outputs": [],
   "source": [
    "###\n",
    "### AUTOGRADER TEST - DO NOT REMOVE\n",
    "###\n"
   ]
  },
  {
   "cell_type": "markdown",
   "metadata": {
    "deletable": false,
    "editable": false,
    "nbgrader": {
     "grade": false,
     "locked": true,
     "solution": false
    }
   },
   "source": [
    "[Back to top](#Index:) \n",
    "\n",
    "### Question 18\n",
    "\n",
    "*8 Points*\n",
    "\n",
    "The final training set has 46 columns, including dummy variables. The model above uses every one of the features in the model. Your next task will be to reduce this dimensionality.\n",
    "\n",
    "Use [PCA](https://scikit-learn.org/stable/modules/generated/sklearn.decomposition.PCA.html) to reduce the dimensionality of `X_train_final`.\n",
    "\n",
    "- Fit a PCA instance with `X_train_final` with `random_state=24` (leave the rest as default) and assign to `pca_all`.\n",
    "- Transform `X_train_final` using the fit `pca_all` instance. Assign the result as a numpy array to `pca_components`."
   ]
  },
  {
   "cell_type": "code",
   "execution_count": 122,
   "metadata": {
    "collapsed": true
   },
   "outputs": [],
   "source": [
    "### GRADED\n",
    "from sklearn.decomposition import PCA\n",
    "pca=PCA(random_state=24)\n",
    "### YOUR SOLUTION HERE\n",
    "pca_all = pca.fit(X_train_final)\n",
    "pca_components=pca_all.transform(X_train_final)\n",
    "\n",
    "###\n",
    "### YOUR CODE HERE\n",
    "###\n"
   ]
  },
  {
   "cell_type": "code",
   "execution_count": 58,
   "metadata": {
    "collapsed": true,
    "deletable": false,
    "editable": false,
    "nbgrader": {
     "grade": true,
     "grade_id": "Question 18",
     "locked": true,
     "points": "8",
     "solution": false
    }
   },
   "outputs": [],
   "source": [
    "###\n",
    "### AUTOGRADER TEST - DO NOT REMOVE\n",
    "###\n"
   ]
  },
  {
   "cell_type": "markdown",
   "metadata": {
    "deletable": false,
    "editable": false,
    "nbgrader": {
     "grade": false,
     "locked": true,
     "solution": false
    }
   },
   "source": [
    "[Back to top](#Index:) \n",
    "\n",
    "### Question 19\n",
    "\n",
    "*4 Points*\n",
    "\n",
    "After fitting an instance of [PCA](https://scikit-learn.org/stable/modules/generated/sklearn.decomposition.PCA.html), the attribute `.explained_variance_ratio_` shows how much variance is explained from each PCA component. How many components are required to capture at least 90% of the variance contained within `X_train_final`? Assign the number as an integer or float to `ninety_percent_variance`."
   ]
  },
  {
   "cell_type": "code",
   "execution_count": 59,
   "metadata": {
    "collapsed": true
   },
   "outputs": [],
   "source": [
    "### GRADED\n",
    "\n",
    "### YOUR SOLUTION HERE\n",
    "ninety_percent_variance = 1\n",
    "\n",
    "###\n",
    "### YOUR CODE HERE\n",
    "###\n",
    "pca_all.explained_variance_ratio_.cumsum()"
   ]
  },
  {
   "cell_type": "code",
   "execution_count": 60,
   "metadata": {
    "collapsed": true,
    "deletable": false,
    "editable": false,
    "nbgrader": {
     "grade": true,
     "grade_id": "Question 19",
     "locked": true,
     "points": "4",
     "solution": false
    }
   },
   "outputs": [],
   "source": [
    "###\n",
    "### AUTOGRADER TEST - DO NOT REMOVE\n",
    "###\n"
   ]
  },
  {
   "cell_type": "markdown",
   "metadata": {
    "deletable": false,
    "editable": false,
    "nbgrader": {
     "grade": false,
     "locked": true,
     "solution": false
    }
   },
   "source": [
    "[Back to top](#Index:) \n",
    "\n",
    "### Question 20\n",
    "\n",
    "*10 Points*\n",
    "\n",
    "The fully prepared training and testing data is reloaded below and assigned to the following variables:\n",
    "- `X_train_final`\n",
    "- `X_test_final`\n",
    "- `y_train_final`\n",
    "- `y_test_final`\n",
    "\n",
    "For the last question, you will create another OLS model using 1 Principal Component.\n",
    "- Instantiate an instance of PCA with the following configuration and assign to `pca_one`:\n",
    "\n",
    ">`PCA(n_components=1, random_state=24)`\n",
    "\n",
    "- Using `pca_one`, fit and transform `X_train_final` and assign the output to `X_train_pca`.\n",
    "- Using `pca_one`, transform `X_test_final` and assign output to `X_test_pca` (Be careful not to refit on testing data!)\n",
    "- Create an [OLS](https://www.statsmodels.org/dev/generated/statsmodels.regression.linear_model.OLS.html) regression model using statsmodels:\n",
    "    - Prepend a column of ones to `X_train_pca` and `X_test_pca` for the intercept term ([`statsmodels.api.add_constant(df)`](https://www.statsmodels.org/stable/generated/statsmodels.tools.tools.add_constant.html)) \n",
    "    - Fit an OLS model using `X_train_pca` and `y_train_final`. Assign the model to `pca_model`\n",
    "    - Using `pca_model`, create predictions for `X_test_pca` and assign to `pca_test_preds`"
   ]
  },
  {
   "cell_type": "code",
   "execution_count": 155,
   "metadata": {
    "collapsed": true,
    "deletable": false,
    "editable": false,
    "nbgrader": {
     "grade": false,
     "locked": true,
     "solution": false
    }
   },
   "outputs": [],
   "source": [
    "X_train_final = read_training_data(final=True)\n",
    "y_train_final = read_y_train(final=True)\n",
    "X_test_final = read_testing_data(final=True)\n",
    "y_test_final = read_y_test(final=True)"
   ]
  },
  {
   "cell_type": "code",
   "execution_count": 158,
   "metadata": {
    "collapsed": true
   },
   "outputs": [],
   "source": [
    "### GRADED\n",
    "import statsmodels.api as sm\n",
    "\n",
    "### YOUR SOLUTION HERE\n",
    "pca_one = PCA(n_components=1, random_state=24)\n",
    "X_train_pca = pca_one.fit(X_train_final).transform(X_train_final)\n",
    "X_test_pca = pca_one.transform(X_test_final)\n",
    "\n",
    "X_train_pca = sm.add_constant(X_train_pca)\n",
    "X_test_pca = sm.add_constant(X_test_pca)\n",
    "\n",
    "pca_model = sm.OLS(y_train_final,X_train_pca).fit()\n",
    "pca_test_preds = pca_model.predict(X_test_pca)\n",
    "\n",
    "###\n",
    "### YOUR CODE HERE\n",
    "###\n"
   ]
  },
  {
   "cell_type": "code",
   "execution_count": 63,
   "metadata": {
    "collapsed": true,
    "deletable": false,
    "editable": false,
    "nbgrader": {
     "grade": true,
     "grade_id": "Question 20",
     "locked": true,
     "points": "10",
     "solution": false
    }
   },
   "outputs": [],
   "source": [
    "###\n",
    "### AUTOGRADER TEST - DO NOT REMOVE\n",
    "###\n"
   ]
  },
  {
   "cell_type": "markdown",
   "metadata": {
    "deletable": false,
    "editable": false,
    "nbgrader": {
     "grade": false,
     "locked": true,
     "solution": false
    }
   },
   "source": [
    "#### Evaluate the model\n",
    "\n",
    "If Q17 and Q20 above are completed correctly, the following cell will output the testing root mean squared error (RMSE) for both models. Notice the similar scores, despite the fact the model fit with PCA used only 1 component.\n",
    "\n",
    "The interpretation of can be a helpful evaluation metric when comparing models because it is an absolute measure of fit and conveniently in the target variable units. The RMSE can be interpreted as the standard deviation of the unexplained error. "
   ]
  },
  {
   "cell_type": "code",
   "execution_count": 159,
   "metadata": {
    "deletable": false,
    "editable": false,
    "nbgrader": {
     "grade": false,
     "locked": true,
     "solution": false
    }
   },
   "outputs": [
    {
     "name": "stdout",
     "output_type": "stream",
     "text": [
      "OLS root mean squared error (46 features):\t2752.76\n",
      "PCA root mean squared error (1 component):\t2798.933\n"
     ]
    }
   ],
   "source": [
    "from sklearn.metrics import mean_squared_error\n",
    "\n",
    "rmse_test_ols = np.round(np.sqrt(mean_squared_error(y_test_final, ols_test_preds)), 3)\n",
    "print(\"OLS root mean squared error (46 features):\\t{}\".format(rmse_test_ols))\n",
    "\n",
    "rmse_test_pca = np.round(np.sqrt(mean_squared_error(y_test_final, pca_test_preds)), 3)\n",
    "print(\"PCA root mean squared error (1 component):\\t{}\".format(rmse_test_pca))"
   ]
  },
  {
   "cell_type": "markdown",
   "metadata": {
    "deletable": false,
    "editable": false,
    "nbgrader": {
     "grade": false,
     "locked": true,
     "solution": false
    }
   },
   "source": [
    "[Back to top](#Index:) \n",
    "<a id = \"beatles\"></a>\n",
    "#### Beatles data source credit\n",
    "\n",
    "> *The Beatles data was modified from [this source](https://github.com/rmnoon/beatles-songs), which is available with the following license and copyright notice:*\n",
    ">\n",
    ">\n",
    "> MIT License\n",
    ">\n",
    "> Copyright (c) 2016 Ryan Noon\n",
    "> \n",
    "> Permission is hereby granted, free of charge, to any person obtaining a copy\n",
    "of this software and associated documentation files (the \"Software\"), to deal\n",
    "in the Software without restriction, including without limitation the rights\n",
    "to use, copy, modify, merge, publish, distribute, sublicense, and/or sell\n",
    "copies of the Software, and to permit persons to whom the Software is\n",
    "furnished to do so, subject to the following conditions:\n",
    "> \n",
    "> The above copyright notice and this permission notice shall be included in all\n",
    "copies or substantial portions of the Software.\n"
   ]
  },
  {
   "cell_type": "code",
   "execution_count": null,
   "metadata": {
    "collapsed": true,
    "deletable": false,
    "editable": false,
    "nbgrader": {
     "grade": false,
     "locked": true,
     "solution": false
    }
   },
   "outputs": [],
   "source": []
  }
 ],
 "metadata": {
  "kernelspec": {
   "display_name": "Python 3 [3.6]",
   "language": "python",
   "name": "python3"
  },
  "language_info": {
   "codemirror_mode": {
    "name": "ipython",
    "version": 3
   },
   "file_extension": ".py",
   "mimetype": "text/x-python",
   "name": "python",
   "nbconvert_exporter": "python",
   "pygments_lexer": "ipython3",
   "version": "3.6.4"
  }
 },
 "nbformat": 4,
 "nbformat_minor": 4
}
