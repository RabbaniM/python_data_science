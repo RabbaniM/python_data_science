{
 "cells": [
  {
   "cell_type": "markdown",
   "metadata": {},
   "source": [
    "# Session 1 - Part 2"
   ]
  },
  {
   "cell_type": "markdown",
   "metadata": {},
   "source": [
    "<br>\n",
    "\n",
    "### List, Tuple and Dictionaries\n",
    "\n",
    "#### List\n",
    "List are most flexible and multipurpose data type in Python. It is defined using square bracket and can easily be accessed  and modified."
   ]
  },
  {
   "cell_type": "code",
   "execution_count": 5,
   "metadata": {},
   "outputs": [
    {
     "data": {
      "text/plain": [
       "[11, 22, 33]"
      ]
     },
     "execution_count": 5,
     "metadata": {},
     "output_type": "execute_result"
    }
   ],
   "source": [
    "list = [11,22,33]\n",
    "\n",
    "list"
   ]
  },
  {
   "cell_type": "code",
   "execution_count": 171,
   "metadata": {},
   "outputs": [
    {
     "data": {
      "text/plain": [
       "22"
      ]
     },
     "execution_count": 171,
     "metadata": {},
     "output_type": "execute_result"
    }
   ],
   "source": [
    "list[1]"
   ]
  },
  {
   "cell_type": "code",
   "execution_count": 6,
   "metadata": {},
   "outputs": [
    {
     "data": {
      "text/plain": [
       "11"
      ]
     },
     "execution_count": 6,
     "metadata": {},
     "output_type": "execute_result"
    }
   ],
   "source": [
    "list [0]"
   ]
  },
  {
   "cell_type": "code",
   "execution_count": 172,
   "metadata": {},
   "outputs": [],
   "source": [
    "#Note this will give error\n",
    "\n",
    "#list[3]"
   ]
  },
  {
   "cell_type": "code",
   "execution_count": 173,
   "metadata": {},
   "outputs": [
    {
     "data": {
      "text/plain": [
       "[11, 22, 100]"
      ]
     },
     "execution_count": 173,
     "metadata": {},
     "output_type": "execute_result"
    }
   ],
   "source": [
    "#Update\n",
    "list[2]=100\n",
    "\n",
    "list"
   ]
  },
  {
   "cell_type": "code",
   "execution_count": 174,
   "metadata": {},
   "outputs": [
    {
     "data": {
      "text/plain": [
       "[11, 22, 100, 33]"
      ]
     },
     "execution_count": 174,
     "metadata": {},
     "output_type": "execute_result"
    }
   ],
   "source": [
    "list.append(33)\n",
    "\n",
    "list\n"
   ]
  },
  {
   "cell_type": "code",
   "execution_count": 175,
   "metadata": {},
   "outputs": [
    {
     "name": "stdout",
     "output_type": "stream",
     "text": [
      "11\n",
      "22\n",
      "100\n",
      "33\n"
     ]
    }
   ],
   "source": [
    "for i in list:\n",
    "\n",
    "    print(i)"
   ]
  },
  {
   "cell_type": "code",
   "execution_count": 176,
   "metadata": {},
   "outputs": [
    {
     "data": {
      "text/plain": [
       "[11, 22, 33]"
      ]
     },
     "execution_count": 176,
     "metadata": {},
     "output_type": "execute_result"
    }
   ],
   "source": [
    "#deleting an element\n",
    "\n",
    "list.remove(100)\n",
    "\n",
    "list"
   ]
  },
  {
   "cell_type": "code",
   "execution_count": 177,
   "metadata": {},
   "outputs": [
    {
     "data": {
      "text/plain": [
       "[22, 33]"
      ]
     },
     "execution_count": 177,
     "metadata": {},
     "output_type": "execute_result"
    }
   ],
   "source": [
    "list.pop(0)\n",
    "\n",
    "list"
   ]
  },
  {
   "cell_type": "code",
   "execution_count": 97,
   "metadata": {},
   "outputs": [
    {
     "name": "stdout",
     "output_type": "stream",
     "text": [
      "1 ,  4\n",
      "2 ,  5\n",
      "3 ,  6\n"
     ]
    }
   ],
   "source": [
    "#looping through two lists\n",
    "list = [1, 2, 3]\n",
    "list2 = [4, 5, 6]\n",
    "\n",
    "for x,y in zip(list, list2):\n",
    "\n",
    "    print(x,\", \",y)\n"
   ]
  },
  {
   "cell_type": "code",
   "execution_count": 104,
   "metadata": {},
   "outputs": [
    {
     "name": "stdout",
     "output_type": "stream",
     "text": [
      "((1, 4), (2, 5), (3, 6))\n"
     ]
    }
   ],
   "source": [
    "#Piaring  two list into a tuple\n",
    "list1 = [1, 2, 3]\n",
    "list2 = [4, 5, 6]\n",
    "\n",
    "tuple1= zip(list1, list2)\n",
    "\n",
    "print (tuple(tuple1)) #you need an extra \"tuple\" function inside print for a readable output\n"
   ]
  },
  {
   "cell_type": "code",
   "execution_count": 179,
   "metadata": {},
   "outputs": [
    {
     "name": "stdout",
     "output_type": "stream",
     "text": [
      "[10, 42, 30]\n"
     ]
    }
   ],
   "source": [
    "#Guess what will be printed value for y\n",
    "\n",
    "x = [10,20,30]\n",
    "\n",
    "y = x\n",
    "\n",
    "x[1] = 42\n",
    "\n",
    "print(y)"
   ]
  },
  {
   "cell_type": "markdown",
   "metadata": {},
   "source": [
    "<br>\n",
    "#### Now let's see tuple\n",
    "\n",
    "- Tuples are useful for parallel computing when you do not want something to be changed by a worker process\n"
   ]
  },
  {
   "cell_type": "code",
   "execution_count": 180,
   "metadata": {},
   "outputs": [
    {
     "data": {
      "text/plain": [
       "('FRM', 350, 'SF', 'FL')"
      ]
     },
     "execution_count": 180,
     "metadata": {},
     "output_type": "execute_result"
    }
   ],
   "source": [
    "#Looks same as list\n",
    "\n",
    "tuple1 = ('FRM',350, 'SF','FL')\n",
    "\n",
    "tuple1"
   ]
  },
  {
   "cell_type": "markdown",
   "metadata": {},
   "source": [
    "But they are immutable and if the following statement is run, you will get an error message stating \"TypeError: 'tuple' object does not support item assignment\"\n",
    "\n",
    "`tuple1[3]= 'VA'`"
   ]
  },
  {
   "cell_type": "markdown",
   "metadata": {},
   "source": [
    "<br>\n",
    "#### Dictionaries\n",
    "Dictionaries are one of the most widely used data types that makes Python powerful and effective for accessing and manipulating data."
   ]
  },
  {
   "cell_type": "code",
   "execution_count": 183,
   "metadata": {},
   "outputs": [],
   "source": [
    "iphonePrice = {\n",
    "\n",
    "    'iphone5' : 200,\n",
    "\n",
    "    'iphone6' : 300,\n",
    "\n",
    "    'iphone8' : 700,\n",
    "\n",
    "    'iphonex' : 900   }"
   ]
  },
  {
   "cell_type": "code",
   "execution_count": 184,
   "metadata": {},
   "outputs": [
    {
     "data": {
      "text/plain": [
       "900"
      ]
     },
     "execution_count": 184,
     "metadata": {},
     "output_type": "execute_result"
    }
   ],
   "source": [
    "iphonePrice[\"iphonex\"]"
   ]
  },
  {
   "cell_type": "code",
   "execution_count": 185,
   "metadata": {},
   "outputs": [
    {
     "data": {
      "text/plain": [
       "{'iphone5': 200,\n",
       " 'iphone6': 300,\n",
       " 'iphone8': 700,\n",
       " 'iphonex': 900,\n",
       " 'iphone7': 500}"
      ]
     },
     "execution_count": 185,
     "metadata": {},
     "output_type": "execute_result"
    }
   ],
   "source": [
    "iphonePrice['iphone7']=500\n",
    "iphonePrice"
   ]
  },
  {
   "cell_type": "markdown",
   "metadata": {},
   "source": [
    "### List and Dictionary Comprehension\n",
    "\n",
    "Comrehension is a way to build list or dictionaries quickly"
   ]
  },
  {
   "cell_type": "code",
   "execution_count": 6,
   "metadata": {},
   "outputs": [
    {
     "data": {
      "text/plain": [
       "[1, 4, 9, 16, 25, 36, 49, 64, 81, 100]"
      ]
     },
     "execution_count": 6,
     "metadata": {},
     "output_type": "execute_result"
    }
   ],
   "source": [
    "#Creating a quick list\n",
    "list=[i**2 for i in range(1, 11)]\n",
    "list"
   ]
  },
  {
   "cell_type": "code",
   "execution_count": 7,
   "metadata": {},
   "outputs": [
    {
     "data": {
      "text/plain": [
       "{1: 1, 2: 8, 3: 27, 4: 64, 5: 125, 6: 216, 7: 343, 8: 512, 9: 729, 10: 1000}"
      ]
     },
     "execution_count": 7,
     "metadata": {},
     "output_type": "execute_result"
    }
   ],
   "source": [
    "# Creating a quick dictionary \n",
    "dict= {i : i**3 for i in range (1, 11)}\n",
    "dict"
   ]
  },
  {
   "cell_type": "code",
   "execution_count": 20,
   "metadata": {},
   "outputs": [
    {
     "name": "stdout",
     "output_type": "stream",
     "text": [
      "{'have': 4, 'not': 3, 'failed.': 7, \"I've\": 4, 'just': 4, 'found': 5, '10,000': 6, 'ways': 4, 'that': 4, \"won't\": 5, 'work.': 5}\n"
     ]
    }
   ],
   "source": [
    "sentence = \"I have not failed. I've just found 10,000 ways that won't work.\"\n",
    "words = sentence.split()\n",
    "word_and_lengths = {word : len(word) for word in words if len(word) > 1}\n",
    "print (word_and_lengths)"
   ]
  },
  {
   "cell_type": "markdown",
   "metadata": {},
   "source": [
    "### Programming in Python\n",
    "As a Python program terminates as soon as it encounters an error, you need to write codes that handle errors gracefully without terminating the program. \n",
    "\n",
    "#### Error handling\n",
    "The following diagram from https://realpython.com/ shows how errors are handled in Python."
   ]
  },
  {
   "cell_type": "markdown",
   "metadata": {},
   "source": [
    "<img src=\"https://files.realpython.com/media/try_except_else_finally.a7fac6c36c55.png\"> \n",
    "*Source: https://realpython.com/python-exceptions*\n",
    "<br>\n",
    "<br>\n",
    "Now let's see three examples of error handling. The first one is very basic. The second one is a complete example and the last one is for defining your own custom error handling codes."
   ]
  },
  {
   "cell_type": "code",
   "execution_count": 98,
   "metadata": {},
   "outputs": [
    {
     "name": "stdout",
     "output_type": "stream",
     "text": [
      "Failed to open\n"
     ]
    }
   ],
   "source": [
    "#Example 1\n",
    "try:                          \n",
    "    f = open(\"file.txt\")\n",
    "except IOError:               \n",
    "    print (\"Failed to open\")\n",
    "else:                         \n",
    "    f.close()\n"
   ]
  },
  {
   "cell_type": "code",
   "execution_count": 97,
   "metadata": {},
   "outputs": [
    {
     "name": "stdout",
     "output_type": "stream",
     "text": [
      "Cleaning up, irrespective of any exceptions.\n"
     ]
    }
   ],
   "source": [
    "#Example 2\n",
    "try:\n",
    "    a = [1,2,3] \n",
    "except AssertionError as error:\n",
    "    print(error)\n",
    "else:\n",
    "    try:\n",
    "        with open('derby.log') as file:\n",
    "            read_data = file.read()\n",
    "    except FileNotFoundError as fnf_error:\n",
    "        print(fnf_error)\n",
    "finally:\n",
    "    print('Cleaning up, irrespective of any exceptions.')"
   ]
  },
  {
   "cell_type": "markdown",
   "metadata": {},
   "source": [
    "<br>\n",
    "As shouwn below, you can easily make your own exceptions using a python class."
   ]
  },
  {
   "cell_type": "code",
   "execution_count": 4,
   "metadata": {},
   "outputs": [],
   "source": [
    "#Example 3\n",
    "class ValidationError(Exception):\n",
    "    def __init__(self, message, errors):\n",
    "\n",
    "        # Call the base class constructor with the parameters it needs\n",
    "        super().__init__(message)\n",
    "\n",
    "        # Now for your custom code...\n",
    "        self.errors = errors"
   ]
  },
  {
   "cell_type": "markdown",
   "metadata": {},
   "source": [
    "<br>\n",
    "### Class\n",
    "Here is a simple Python Class that you can use for object oriented programming in Python. However, we will mostly use functional programming for our data science discussions in this book."
   ]
  },
  {
   "cell_type": "code",
   "execution_count": 146,
   "metadata": {},
   "outputs": [],
   "source": [
    "class MyVector: \n",
    "    \"\"\"A simple vector class.\"\"\" \n",
    "    num_created = 0\n",
    "    def __init__(self,x=0,y=0): \n",
    "        self.__x = x \n",
    "        self.__y = y \n",
    "        MyVector.num_created += 1 \n",
    "    def get_size(self): \n",
    "        return self.__x + self.__y \n",
    "    "
   ]
  },
  {
   "cell_type": "markdown",
   "metadata": {},
   "source": [
    "The code below shows how to use the class defined above."
   ]
  },
  {
   "cell_type": "code",
   "execution_count": 147,
   "metadata": {},
   "outputs": [
    {
     "name": "stdout",
     "output_type": "stream",
     "text": [
      "0\n",
      "8\n",
      "True\n"
     ]
    }
   ],
   "source": [
    "#USAGE OF CLASS MyVector\n",
    "print (MyVector.num_created)\n",
    "v = MyVector()\n",
    "w = MyVector(3, 5)\n",
    "print (w.get_size() )\n",
    "bool = isinstance(v, MyVector)\n",
    "print (bool)\n"
   ]
  },
  {
   "cell_type": "markdown",
   "metadata": {},
   "source": [
    "<br>\n",
    "### A Word About Using Unix Commands From Notebook\n",
    "Before we move into the next session, let's quickly explore few Unix commands that may be usefull while working with data. You can run Unix commands directly from notebook prefixing them with \"!\". Here are coouple of examples."
   ]
  },
  {
   "cell_type": "code",
   "execution_count": 1,
   "metadata": {},
   "outputs": [
    {
     "name": "stdout",
     "output_type": "stream",
     "text": [
      "/Users/adamrob/Learn/Python_Data_Science_Book\n"
     ]
    }
   ],
   "source": [
    "#To know the path of your working directory\n",
    "!pwd"
   ]
  },
  {
   "cell_type": "code",
   "execution_count": 3,
   "metadata": {},
   "outputs": [
    {
     "name": "stdout",
     "output_type": "stream",
     "text": [
      "100001806951|R|OTHER|6.125|177000|360|01/2008|03/2008|47|47|1||662|N|C|SF|1|P|CA|935||FRM|\n",
      "100004792573|R|OTHER|6.125|146000|360|01/2008|03/2008|95|95|1|43|635|Y|P|SF|1|P|FL|335|35|FRM|\n",
      "100006270289|C|WELLS FARGO BANK, N.A.|7.5|226000|360|11/2007|01/2008|95|95|1|42|704|Y|P|SF|1|P|CA|933|30|FRM|\n",
      "100007067443|R|WELLS FARGO BANK, N.A.|5.25|210000|360|02/2008|04/2008|83|83|1|33|704|N|C|PU|1|P|MN|554|12|FRM|\n",
      "100009070123|C|BANK OF AMERICA, N.A.|6.25|417000|360|01/2008|02/2008|80|90|2|34|735|N|R|PU|1|P|CO|801||FRM|647\n",
      "100011447122|R|WELLS FARGO BANK, N.A.|6|300000|360|12/2007|02/2008|61|61|2|51|637|N|C|SF|1|P|AL|352||FRM|620\n",
      "100012063299|B|CHASE HOME FINANCE, LLC|6.125|55000|360|01/2008|03/2008|47|47|1|30|726|N|C|SF|1|P|LA|708||FRM|\n",
      "100016487299|R|CHASE HOME FINANCE, LLC|6.625|178000|360|11/2007|01/2008|75|75|2|46|806|N|P|SF|4|I|CO|815||FRM|807\n",
      "100018668038|C|CITIMORTGAGE, INC.|5.625|202000|360|02/2008|04/2008|77|77|2|27|755|N|C|SF|1|P|CA|932||FRM|717\n",
      "100021791751|C|OTHER|6.125|149000|360|12/2007|02/2008|80|80|1|58|673|N|P|PU|1|P|OH|430||FRM|\n"
     ]
    }
   ],
   "source": [
    "#To see the top few lines of a file\n",
    "!head ~/data/Acquisition_2008Q1.txt"
   ]
  },
  {
   "cell_type": "code",
   "execution_count": 129,
   "metadata": {},
   "outputs": [
    {
     "name": "stdout",
     "output_type": "stream",
     "text": [
      "['/Users/adamrob']\n"
     ]
    }
   ],
   "source": [
    "directory = !pwd\n",
    "print (directory)"
   ]
  },
  {
   "cell_type": "code",
   "execution_count": 132,
   "metadata": {},
   "outputs": [
    {
     "name": "stdout",
     "output_type": "stream",
     "text": [
      "/Users/adamrob/Learn/Python_Data_Science_Book\n"
     ]
    }
   ],
   "source": [
    "cd ~/Learn/Python_Data_Science_Book"
   ]
  },
  {
   "cell_type": "code",
   "execution_count": 133,
   "metadata": {},
   "outputs": [
    {
     "name": "stdout",
     "output_type": "stream",
     "text": [
      "Chapter-1-PythonDataScienceBook-2.md\n",
      "Chapter-4-MachineLearning.ipynb\n",
      "Exercises and Solutions.ipynb\n",
      "IMDB_lab_notebook.ipynb\n",
      "Machine_learning_2016_July-Final.ipynb\n",
      "Session1a-PythonDataScienceBook-Copy1.ipynb\n",
      "Session1b-PythonDataScienceBook.ipynb\n",
      "Session2-Numpy_Notebook.ipynb\n",
      "Untitled.ipynb\n",
      "\u001b[34m__pycache__\u001b[m\u001b[m/\n",
      "nameMain.py\n",
      "quiz.py\n",
      "second.py\n"
     ]
    }
   ],
   "source": [
    "ls"
   ]
  },
  {
   "cell_type": "markdown",
   "metadata": {},
   "source": [
    "<br>\n",
    "<br>\n"
   ]
  },
  {
   "cell_type": "code",
   "execution_count": 134,
   "metadata": {},
   "outputs": [
    {
     "data": {
      "text/plain": [
       "'/Users/adamrob/Learn/Python_Data_Science_Book'"
      ]
     },
     "execution_count": 134,
     "metadata": {},
     "output_type": "execute_result"
    }
   ],
   "source": [
    "pwd"
   ]
  },
  {
   "cell_type": "code",
   "execution_count": 135,
   "metadata": {},
   "outputs": [
    {
     "name": "stdout",
     "output_type": "stream",
     "text": [
      "#Let's save another python file named second.py that imports nameMain.py\n",
      "import nameMain"
     ]
    }
   ],
   "source": [
    "cat second.py"
   ]
  },
  {
   "cell_type": "code",
   "execution_count": 7,
   "metadata": {},
   "outputs": [
    {
     "data": {
      "image/png": "[encoded data removed]",
      "text/plain": [
       "<Figure size 432x288 with 1 Axes>"
      ]
     },
     "metadata": {},
     "output_type": "display_data"
    }
   ],
   "source": [
    "\"\"\"\n",
    "Fill Demo From Matplotlib.org\n",
    "\"\"\"\n",
    "import numpy as np\n",
    "import matplotlib.pyplot as plt\n",
    "\n",
    "x = np.linspace(0, 2 * np.pi, 500)\n",
    "y1 = np.sin(x)\n",
    "y2 = np.sin(3 * x)\n",
    "\n",
    "fig, ax = plt.subplots()\n",
    "ax.fill(x, y1, 'b', x, y2, 'r', alpha=0.3)\n",
    "plt.show()"
   ]
  },
  {
   "cell_type": "code",
   "execution_count": 5,
   "metadata": {},
   "outputs": [
    {
     "data": {
      "image/png": "[encoded data removed]",
      "text/plain": [
       "<Figure size 432x288 with 1 Axes>"
      ]
     },
     "metadata": {},
     "output_type": "display_data"
    }
   ],
   "source": [
    "\"\"\"\n",
    "Simple demo of the imshow function.\n",
    "\"\"\"\n",
    "import matplotlib.pyplot as plt\n",
    "import matplotlib.cbook as cbook\n",
    "\n",
    "image_file = cbook.get_sample_data('/Users/adamrob/Learn/kiwi_ms.jpg')\n",
    "image = plt.imread(image_file)\n",
    "\n",
    "fig, ax = plt.subplots()\n",
    "ax.imshow(image)\n",
    "ax.axis('off')  # clear x- and y-axes\n",
    "plt.show()"
   ]
  },
  {
   "cell_type": "code",
   "execution_count": null,
   "metadata": {},
   "outputs": [],
   "source": []
  }
 ],
 "metadata": {
  "kernelspec": {
   "display_name": "Python 3",
   "language": "python",
   "name": "python3"
  },
  "language_info": {
   "codemirror_mode": {
    "name": "ipython",
    "version": 3
   },
   "file_extension": ".py",
   "mimetype": "text/x-python",
   "name": "python",
   "nbconvert_exporter": "python",
   "pygments_lexer": "ipython3",
   "version": "3.6.5"
  }
 },
 "nbformat": 4,
 "nbformat_minor": 2
}
