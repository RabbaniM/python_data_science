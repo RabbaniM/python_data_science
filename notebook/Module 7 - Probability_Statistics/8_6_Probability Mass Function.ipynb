{
 "cells": [
  {
   "cell_type": "markdown",
   "metadata": {},
   "source": [
    "# Probability Mass Function\n",
    "\n",
    "## Outine\n",
    "- What is the Probability Mass Function\n",
    "- Discrete Variables and the Probability Mass Function\n",
    "- Probability Mass Function using Binomial\n",
    "- Wrap up\n"
   ]
  },
  {
   "cell_type": "markdown",
   "metadata": {},
   "source": [
    "  \n",
    "## What is the Probability Mass Function\n",
    "   \n",
    "In probability and statistics, a probability mass function (PMF) is a function that gives the probability that a discrete random variable is exactly equal to some value.\n",
    "\n",
    "Sometimes it is also known as the discrete density function. The probability mass function is often the primary means of defining a discrete probability distribution, and such functions exist for either scalar or multivariate random variables whose domain is discrete.\n",
    "\n",
    "A probability mass function differs from a probability density function (PDF) in that the latter is associated with continuous rather than discrete random variables. A PDF must be integrated over an interval to yield a probability.\n",
    "\n",
    "<img src=\"images/prob_mass_function.png\" width=\"400\">\n"
   ]
  },
  {
   "cell_type": "markdown",
   "metadata": {},
   "source": [
    "## Discrete Variables and the Probability Mass Function\n",
    "In order to describe the Probability Mass Function (PMF), let's use an example. Say we are going to roll a die an infinite number of times and look at the proportion of each of the faces of the die (1, 2, etc). \n",
    "\n",
    "We will use **x** to describe the random variable that corresponds to the outcome of the dice roll. Thus the random variable **x** can only take the following discrete values: 1, 2, 3, 4, 5 or 6. It is thus a **discrete random variable.**\n",
    "\n",
    "**The aim of the probability mass function is to describe the probability of each possible value.** In our example, it describes the probability to get a 1, the probability to get a 2 and so on. In the case of a dice rolling experiment, we have the same probability to get each value. \n",
    "\n",
    "This means that we can write:\n",
    "\n",
    "**P(x=1)=P(x=2)=P(x=3)=P(x=4)=P(x=5)=P(x=6)**\n",
    "\n",
    "Now, how can we calculate the probabilities P(x=1), P(x=2) etc.? Since we have 6 possible outcomes and that they all have the same probability:\n",
    "\n",
    "**P(x=1)=P(x=2)=P(x=3)=P(x=4)=P(x=5)=P(x=6)=16**\n",
    "\n",
    "By the way, this distribution shows the same probability for each value: it is called the **uniform distribution.**\n",
    "\n",
    "Let's try it out. If we roll the die 100000 times, we should see a uniform distribution."
   ]
  },
  {
   "cell_type": "code",
   "execution_count": 14,
   "metadata": {},
   "outputs": [
    {
     "data": {
      "image/png": "[encoded data removed]",
      "text/plain": [
       "<Figure size 432x288 with 1 Axes>"
      ]
     },
     "metadata": {
      "needs_background": "light"
     },
     "output_type": "display_data"
    }
   ],
   "source": [
    "import numpy as np\n",
    "import matplotlib.pyplot as plt\n",
    "\n",
    "num_throws = 100000\n",
    "outcomes = np.zeros(num_throws)\n",
    "for i in range(num_throws):\n",
    "    # let's roll the die\n",
    "    outcome = np.random.choice(['1', '2', '3', '4', '5', '6'])\n",
    "    outcomes[i] = outcome\n",
    "\n",
    "\n",
    "val, cnt = np.unique(outcomes, return_counts=True)\n",
    "prop = cnt / len(outcomes)\n",
    "\n",
    "# Now that we have rolled our die 100000 times, let's plot the results\n",
    "plt.bar(val, prop)\n",
    "plt.ylabel(\"Probability\")\n",
    "plt.xlabel(\"Outcome\")\n",
    "plt.show()\n"
   ]
  },
  {
   "cell_type": "markdown",
   "metadata": {},
   "source": [
    "## Probability Mass Function using Binomial\n",
    "\n",
    "For discrete variates the probability mass function (PMF) gives the probability of the variate having a value x.\n",
    "\n",
    "For example, for a binomial distribution with p = 0.5 and number of trials n = 10 we can calculate the PMF using the following:"
   ]
  },
  {
   "cell_type": "code",
   "execution_count": 20,
   "metadata": {},
   "outputs": [
    {
     "name": "stdout",
     "output_type": "stream",
     "text": [
      "[0.00097656 0.00976563 0.04394531 0.1171875  0.20507813 0.24609375\n",
      " 0.20507813 0.1171875  0.04394531 0.00976563 0.00097656]\n"
     ]
    }
   ],
   "source": [
    "tries = range(11) # 0 thru 10\n",
    "print(stats.binom.pmf(tries, 10, 0.5))"
   ]
  },
  {
   "cell_type": "code",
   "execution_count": 21,
   "metadata": {},
   "outputs": [],
   "source": [
    "from scipy import stats\n",
    "import scipy as sp\n",
    "import numpy as np\n",
    "import matplotlib as mpl\n",
    "from matplotlib import pyplot as plt\n",
    "\n",
    "def binom_pmf(n=4, p=0.5):\n",
    "    # There are n+1 possible number of \"successes\": 0 to n.\n",
    "    x = range(n+1)\n",
    "    y = stats.binom.pmf(x, n, p)\n",
    "    plt.plot(x,y,\"o\", color=\"black\")\n",
    "\n",
    "    # Format x-axis and y-axis.\n",
    "    plt.axis([-(max(x)-min(x))*0.05, max(x)*1.05, -0.01, max(y)*1.10])\n",
    "    plt.xticks(x)\n",
    "    plt.title(\"Binomial distribution PMF for tries = {0} & p ={1}\".format(\n",
    "            n,p))\n",
    "    plt.xlabel(\"Variate\")\n",
    "    plt.ylabel(\"Probability\")\n",
    "\n",
    "    plt.show()"
   ]
  },
  {
   "cell_type": "markdown",
   "metadata": {},
   "source": [
    "The plot for the binomial distribution with n = 10 and p = 0.5 is shown below."
   ]
  },
  {
   "cell_type": "code",
   "execution_count": 24,
   "metadata": {},
   "outputs": [
    {
     "data": {
      "image/png": "[encoded data removed]",
      "text/plain": [
       "<Figure size 432x288 with 1 Axes>"
      ]
     },
     "metadata": {
      "needs_background": "light"
     },
     "output_type": "display_data"
    }
   ],
   "source": [
    "binom_pmf(10, 0.5) "
   ]
  },
  {
   "cell_type": "markdown",
   "metadata": {},
   "source": [
    "## Wrap up\n",
    "We discussed:\n",
    "- What is the Probability Mass Function\n",
    "- Discrete Variables and the Probability Mass Function\n",
    "- Probability Mass Function using Binomial"
   ]
  },
  {
   "cell_type": "code",
   "execution_count": null,
   "metadata": {},
   "outputs": [],
   "source": []
  }
 ],
 "metadata": {
  "kernelspec": {
   "display_name": "Python 3",
   "language": "python",
   "name": "python3"
  },
  "language_info": {
   "codemirror_mode": {
    "name": "ipython",
    "version": 3
   },
   "file_extension": ".py",
   "mimetype": "text/x-python",
   "name": "python",
   "nbconvert_exporter": "python",
   "pygments_lexer": "ipython3",
   "version": "3.7.4"
  },
  "latex_envs": {
   "LaTeX_envs_menu_present": true,
   "autoclose": false,
   "autocomplete": true,
   "bibliofile": "biblio.bib",
   "cite_by": "apalike",
   "current_citInitial": 1,
   "eqLabelWithNumbers": true,
   "eqNumInitial": 1,
   "hotkeys": {
    "equation": "Ctrl-E",
    "itemize": "Ctrl-I"
   },
   "labels_anchors": false,
   "latex_user_defs": false,
   "report_style_numbering": false,
   "user_envs_cfg": false
  }
 },
 "nbformat": 4,
 "nbformat_minor": 1
}
