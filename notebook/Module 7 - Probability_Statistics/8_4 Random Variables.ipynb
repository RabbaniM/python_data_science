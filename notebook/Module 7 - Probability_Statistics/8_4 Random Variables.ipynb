{
 "cells": [
  {
   "cell_type": "markdown",
   "metadata": {},
   "source": [
    "# Random Variables\n",
    "\n",
    "## Outine\n",
    "- What are Random variables\n",
    "- Discrete Random variables\n",
    "- Continuous Random variables\n",
    "- Wrap up\n"
   ]
  },
  {
   "cell_type": "markdown",
   "metadata": {},
   "source": [
    "  \n",
    "## What are Random Variables\n",
    "   \n",
    "A random variable is a numerical description of the outcome of a statistical experiment. \n",
    "\n",
    "A random variable that may assume only a finite number or an infinite sequence of values is said to be **discrete**; \n",
    "\n",
    "one that may assume any value in some interval on the real number line is said to be **continuous**.\n",
    "\n",
    "<img src=\"images/random_variable.png\" width=\"400\">\n",
    "\n",
    "A discrete random variable is one which may take on only a countable number of distinct values and thus can be **quantified**. \n",
    "\n",
    "For example, you can define a random variable X to be the number which comes up when you roll a fair dice. X can take values : [1,2,3,4,5,6] and therefore is a discrete random variable.\n",
    "\n",
    "A continuous random variable is one which takes an infinite number of possible values. \n",
    "\n",
    "For example, you can define a random variable X to be the height of students in a class. Since the continuous random variable is defined over an interval of values, it is **represented by the area under a curve (or the integral)**."
   ]
  },
  {
   "cell_type": "markdown",
   "metadata": {},
   "source": [
    "## Discrete Random variables\n",
    "\n",
    "**rv_discrete** is a base class to construct specific distribution classes and instances for discrete random variables. It can also be used to construct an arbitrary distribution defined by a list of support points and corresponding probabilities.\n",
    "\n",
    "Creating a discrete distribution from a list of probabilities.\n"
   ]
  },
  {
   "cell_type": "code",
   "execution_count": 25,
   "metadata": {},
   "outputs": [
    {
     "data": {
      "image/png": "[encoded data removed]",
      "text/plain": [
       "<Figure size 432x288 with 1 Axes>"
      ]
     },
     "metadata": {
      "needs_background": "light"
     },
     "output_type": "display_data"
    }
   ],
   "source": [
    "import numpy as np\n",
    "from scipy import stats\n",
    "xk = np.arange(7)\n",
    "pk = (0.1, 0.2, 0.3, 0.1, 0.1, 0.0, 0.2)\n",
    "custm = stats.rv_discrete(name='custm', values=(xk, pk))\n",
    "\n",
    "import matplotlib.pyplot as plt\n",
    "fig, ax = plt.subplots(1, 1)\n",
    "ax.plot(xk, custm.pmf(xk), 'ro', ms=12, mec='r')\n",
    "ax.vlines(xk, 0, custm.pmf(xk), colors='r', lw=4)\n",
    "plt.show()"
   ]
  },
  {
   "cell_type": "markdown",
   "metadata": {},
   "source": [
    "## Continuous Random variables\n",
    "\n",
    "**rv_continuous** is a base class to construct specific distribution classes and instances for continuous random variables. It cannot be used directly as a distribution. We will use an example of the histogram to demonstrate a distribution."
   ]
  },
  {
   "cell_type": "code",
   "execution_count": 26,
   "metadata": {},
   "outputs": [
    {
     "data": {
      "text/plain": [
       "0.0998183104238299"
      ]
     },
     "execution_count": 26,
     "metadata": {},
     "output_type": "execute_result"
    }
   ],
   "source": [
    "from scipy.stats import rv_continuous \n",
    "import numpy as np \n",
    "  \n",
    "class gaussian_gen(rv_continuous): \n",
    "    '''Gaussian distribution'''\n",
    "    def _pdf(self, x): \n",
    "        return np.exp(-x**2 / 2.) / np.sqrt(2.0 * np.pi) \n",
    "      \n",
    "gaussian = gaussian_gen(name = 'gaussian') \n",
    "  \n",
    "x = 2.1\n",
    "loc = 0\n",
    "scale = 1.5\n",
    "gaussian.pdf(x, loc, scale)"
   ]
  },
  {
   "cell_type": "code",
   "execution_count": 27,
   "metadata": {},
   "outputs": [
    {
     "data": {
      "image/png": "[encoded data removed]",
      "text/plain": [
       "<Figure size 432x288 with 1 Axes>"
      ]
     },
     "metadata": {
      "needs_background": "light"
     },
     "output_type": "display_data"
    }
   ],
   "source": [
    "import scipy.stats\n",
    "data = scipy.stats.norm.rvs(size=100000, loc=0, scale=1.5, random_state=123)\n",
    "hist = np.histogram(data, bins=100)\n",
    "hist_dist = scipy.stats.rv_histogram(hist)\n",
    "\n",
    "# this will behave according to the rv_continuous distribution\n",
    "hist_dist.pdf(x)\n",
    "X = np.linspace(-5.0, 5.0, 100)\n",
    "plt.title(\"PDF from Template\")\n",
    "plt.hist(data, density=True, bins=100)\n",
    "plt.plot(X, hist_dist.pdf(X), label='PDF')\n",
    "plt.show()"
   ]
  },
  {
   "cell_type": "code",
   "execution_count": 28,
   "metadata": {},
   "outputs": [
    {
     "name": "stdout",
     "output_type": "stream",
     "text": [
      "Probability: 0.11599990133052498\n",
      "Probability: 0.09955041699469135\n",
      "Probability: 0.0879116309080166\n",
      "Probability: 0.07681598817205333\n"
     ]
    }
   ],
   "source": [
    "# to test out the continuous nature\n",
    "print(\"Probability:\", hist_dist.pdf(2))\n",
    "print(\"Probability:\", hist_dist.pdf(2.1))\n",
    "print(\"Probability:\", hist_dist.pdf(2.25))\n",
    "print(\"Probability:\", hist_dist.pdf(2.3))"
   ]
  },
  {
   "cell_type": "markdown",
   "metadata": {},
   "source": [
    "## Wrap up\n",
    "We discussed:\n",
    "- What are Random variables\n",
    "- Discrete Random variables\n",
    "- Continuous Random variables"
   ]
  },
  {
   "cell_type": "code",
   "execution_count": null,
   "metadata": {},
   "outputs": [],
   "source": []
  }
 ],
 "metadata": {
  "kernelspec": {
   "display_name": "Python 3",
   "language": "python",
   "name": "python3"
  },
  "language_info": {
   "codemirror_mode": {
    "name": "ipython",
    "version": 3
   },
   "file_extension": ".py",
   "mimetype": "text/x-python",
   "name": "python",
   "nbconvert_exporter": "python",
   "pygments_lexer": "ipython3",
   "version": "3.7.4"
  },
  "latex_envs": {
   "LaTeX_envs_menu_present": true,
   "autoclose": false,
   "autocomplete": true,
   "bibliofile": "biblio.bib",
   "cite_by": "apalike",
   "current_citInitial": 1,
   "eqLabelWithNumbers": true,
   "eqNumInitial": 1,
   "hotkeys": {
    "equation": "Ctrl-E",
    "itemize": "Ctrl-I"
   },
   "labels_anchors": false,
   "latex_user_defs": false,
   "report_style_numbering": false,
   "user_envs_cfg": false
  }
 },
 "nbformat": 4,
 "nbformat_minor": 1
}
