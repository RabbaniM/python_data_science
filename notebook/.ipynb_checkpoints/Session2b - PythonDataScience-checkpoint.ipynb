{
 "cells": [
  {
   "cell_type": "markdown",
   "metadata": {},
   "source": [
    "# Session 2b\n",
    "Rabbani Mozahid, Hernando Vera\n",
    "<br>\n",
    "<br>\n",
    "\n",
    "# Pandas\n",
    "\n",
    "*pandas* is a Python library for data analysis. It offers a number of data exploration, cleaning and transformation operations that are critical in working with data in Python. \n",
    "\n",
    "*pandas* build upon *numpy* and *scipy* providing easy-to-use data structures and data manipulation functions with integrated indexing.\n",
    "\n",
    "The main data structures *pandas* provides are *Series* and *DataFrames*. After a brief introduction to these two data structures and data ingestion, the key features of *pandas* this notebook covers are:\n",
    "* Generating descriptive statistics on data\n",
    "* Data cleaning using built in pandas functions\n",
    "* Frequent data operations for subsetting, filtering, insertion, deletion and aggregation of data\n",
    "* Merging multiple datasets using dataframes\n",
    "* Working with timestamps and time-series data\n",
    "\n",
    "**Additional Recommended Resources:**\n",
    "* *pandas* Documentation: http://pandas.pydata.org/pandas-docs/stable/\n",
    "* *Python for Data Analysis* by Wes McKinney\n",
    "* *Python Data Science Handbook* by Jake VanderPlas\n",
    "\n",
    "Let's get started with our first *pandas* notebook!"
   ]
  },
  {
   "cell_type": "markdown",
   "metadata": {},
   "source": [
    "<p style=\"font-family: Arial; font-size:1.75em;color:#2462C0; font-style:bold\"><br>\n",
    "\n",
    "Import Libraries\n",
    "</p>"
   ]
  },
  {
   "cell_type": "code",
   "execution_count": 2,
   "metadata": {
    "collapsed": false
   },
   "outputs": [],
   "source": [
    "\n",
    "import pandas as pd\n",
    "import numpy as np\n",
    "import matplotlib.pyplot as plt\n",
    "import seaborn as sns\n",
    "from matplotlib.pyplot import pie, axis, show\n",
    "from IPython.display import Markdown, display\n",
    "from plotly.offline import init_notebook_mode, iplot"
   ]
  },
  {
   "cell_type": "markdown",
   "metadata": {},
   "source": [
    "<p style=\"font-family: Arial; font-size:1.75em;color:#2462C0; font-style:bold\">\n",
    "Introduction to pandas Data Structures</p>\n",
    "<br>\n",
    "*pandas* has two main data structures it uses, namely, *Series* and *DataFrames*. \n",
    "\n",
    "<p style=\"font-family: Arial; font-size:1.75em;color:#2462C0; font-style:bold\">\n",
    "pandas Series</p>\n",
    "\n",
    "### *pandas Series* one-dimensional labeled array. \n"
   ]
  },
  {
   "cell_type": "code",
   "execution_count": 3,
   "metadata": {
    "collapsed": false
   },
   "outputs": [
    {
     "data": {
      "text/plain": [
       "bob        95\n",
       "rose    forty\n",
       "sue        30\n",
       "tom     sixty\n",
       "eve        75\n",
       "dtype: object"
      ]
     },
     "execution_count": 3,
     "metadata": {},
     "output_type": "execute_result"
    }
   ],
   "source": [
    "# pandas Series - one-dimensional labeled array\n",
    "ser1=pd.Series([95, 'forty', 30, 'sixty', 75], \n",
    "['bob', 'rose', 'sue', 'tom', 'eve'])\n",
    "ser1"
   ]
  },
  {
   "cell_type": "markdown",
   "metadata": {},
   "source": [
    "ser1.index"
   ]
  },
  {
   "cell_type": "code",
   "execution_count": 4,
   "metadata": {
    "collapsed": false
   },
   "outputs": [
    {
     "data": {
      "text/plain": [
       "sue       30\n",
       "tom    sixty\n",
       "dtype: object"
      ]
     },
     "execution_count": 4,
     "metadata": {},
     "output_type": "execute_result"
    }
   ],
   "source": [
    "ser1.loc[['sue','tom']]"
   ]
  },
  {
   "cell_type": "code",
   "execution_count": 5,
   "metadata": {
    "collapsed": false
   },
   "outputs": [
    {
     "data": {
      "text/plain": [
       "eve        75\n",
       "tom     sixty\n",
       "rose    forty\n",
       "dtype: object"
      ]
     },
     "execution_count": 5,
     "metadata": {},
     "output_type": "execute_result"
    }
   ],
   "source": [
    "ser1[[4, 3, 1]]"
   ]
  },
  {
   "cell_type": "code",
   "execution_count": 6,
   "metadata": {
    "collapsed": false
   },
   "outputs": [
    {
     "data": {
      "text/plain": [
       "30"
      ]
     },
     "execution_count": 6,
     "metadata": {},
     "output_type": "execute_result"
    }
   ],
   "source": [
    "ser1.iloc[2]"
   ]
  },
  {
   "cell_type": "code",
   "execution_count": 7,
   "metadata": {
    "collapsed": false
   },
   "outputs": [
    {
     "data": {
      "text/plain": [
       "True"
      ]
     },
     "execution_count": 7,
     "metadata": {},
     "output_type": "execute_result"
    }
   ],
   "source": [
    "'bob' in ser1"
   ]
  },
  {
   "cell_type": "code",
   "execution_count": 8,
   "metadata": {
    "collapsed": false
   },
   "outputs": [
    {
     "data": {
      "text/plain": [
       "bob            190\n",
       "rose    fortyforty\n",
       "sue             60\n",
       "tom     sixtysixty\n",
       "eve            150\n",
       "dtype: object"
      ]
     },
     "execution_count": 8,
     "metadata": {},
     "output_type": "execute_result"
    }
   ],
   "source": [
    "ser1 * 2"
   ]
  },
  {
   "cell_type": "code",
   "execution_count": 9,
   "metadata": {
    "collapsed": false
   },
   "outputs": [
    {
     "data": {
      "text/plain": [
       "bob    9025\n",
       "sue     900\n",
       "dtype: object"
      ]
     },
     "execution_count": 9,
     "metadata": {},
     "output_type": "execute_result"
    }
   ],
   "source": [
    "ser1[['bob', 'sue']] ** 2"
   ]
  },
  {
   "cell_type": "markdown",
   "metadata": {},
   "source": [
    "\n",
    "### *pandas DataFrame* is a 2-dimensional labeled data structure."
   ]
  },
  {
   "cell_type": "markdown",
   "metadata": {},
   "source": [
    "<p style=\"font-family: Arial; font-size:1.25em;color:#2462C0; font-style:bold\">\n",
    "Create DataFrame from dictionary of Python Series</p>"
   ]
  },
  {
   "cell_type": "code",
   "execution_count": 10,
   "metadata": {},
   "outputs": [
    {
     "name": "stdout",
     "output_type": "stream",
     "text": [
      "a    1\n",
      "b    2\n",
      "c    3\n",
      "dtype: int64\n",
      "a    2\n",
      "b    4\n",
      "c    6\n",
      "d    7\n",
      "dtype: int64\n"
     ]
    }
   ],
   "source": [
    "ser1=pd.Series([1, 2, 3], index=['a', 'b', 'c'])\n",
    "ser2=pd.Series([2, 4, 6, 7], index=['a', 'b', 'c', 'd'])\n",
    "print (ser1)\n",
    "print (ser2)"
   ]
  },
  {
   "cell_type": "code",
   "execution_count": 11,
   "metadata": {},
   "outputs": [
    {
     "name": "stdout",
     "output_type": "stream",
     "text": [
      "   one  two\n",
      "a  1.0    2\n",
      "b  2.0    4\n",
      "c  3.0    6\n",
      "d  NaN    7\n"
     ]
    }
   ],
   "source": [
    "d = {'one' : ser1,\n",
    "     'two' : ser2}\n",
    "df = pd.DataFrame(d)\n",
    "print(df)"
   ]
  },
  {
   "cell_type": "code",
   "execution_count": 12,
   "metadata": {
    "collapsed": false
   },
   "outputs": [
    {
     "data": {
      "text/plain": [
       "Index(['a', 'b', 'c', 'd'], dtype='object')"
      ]
     },
     "execution_count": 12,
     "metadata": {},
     "output_type": "execute_result"
    }
   ],
   "source": [
    "df.index"
   ]
  },
  {
   "cell_type": "code",
   "execution_count": 13,
   "metadata": {
    "collapsed": false
   },
   "outputs": [
    {
     "data": {
      "text/plain": [
       "Index(['one', 'two'], dtype='object')"
      ]
     },
     "execution_count": 13,
     "metadata": {},
     "output_type": "execute_result"
    }
   ],
   "source": [
    "df.columns"
   ]
  },
  {
   "cell_type": "code",
   "execution_count": 14,
   "metadata": {},
   "outputs": [
    {
     "data": {
      "text/plain": [
       "{'one': a    1\n",
       " b    2\n",
       " c    3\n",
       " dtype: int64, 'two': a    2\n",
       " b    4\n",
       " c    6\n",
       " d    7\n",
       " dtype: int64}"
      ]
     },
     "execution_count": 14,
     "metadata": {},
     "output_type": "execute_result"
    }
   ],
   "source": [
    "d"
   ]
  },
  {
   "cell_type": "code",
   "execution_count": 15,
   "metadata": {
    "collapsed": false
   },
   "outputs": [
    {
     "data": {
      "text/html": [
       "<div>\n",
       "<style scoped>\n",
       "    .dataframe tbody tr th:only-of-type {\n",
       "        vertical-align: middle;\n",
       "    }\n",
       "\n",
       "    .dataframe tbody tr th {\n",
       "        vertical-align: top;\n",
       "    }\n",
       "\n",
       "    .dataframe thead th {\n",
       "        text-align: right;\n",
       "    }\n",
       "</style>\n",
       "<table border=\"1\" class=\"dataframe\">\n",
       "  <thead>\n",
       "    <tr style=\"text-align: right;\">\n",
       "      <th></th>\n",
       "      <th>one</th>\n",
       "      <th>two</th>\n",
       "    </tr>\n",
       "  </thead>\n",
       "  <tbody>\n",
       "    <tr>\n",
       "      <th>b</th>\n",
       "      <td>2</td>\n",
       "      <td>4</td>\n",
       "    </tr>\n",
       "    <tr>\n",
       "      <th>c</th>\n",
       "      <td>3</td>\n",
       "      <td>6</td>\n",
       "    </tr>\n",
       "  </tbody>\n",
       "</table>\n",
       "</div>"
      ],
      "text/plain": [
       "   one  two\n",
       "b    2    4\n",
       "c    3    6"
      ]
     },
     "execution_count": 15,
     "metadata": {},
     "output_type": "execute_result"
    }
   ],
   "source": [
    "# Creating a dataframe with selected indexes\n",
    "pd.DataFrame(d, index=[ 'b', 'c'])"
   ]
  },
  {
   "cell_type": "code",
   "execution_count": 16,
   "metadata": {
    "collapsed": false
   },
   "outputs": [
    {
     "data": {
      "text/html": [
       "<div>\n",
       "<style scoped>\n",
       "    .dataframe tbody tr th:only-of-type {\n",
       "        vertical-align: middle;\n",
       "    }\n",
       "\n",
       "    .dataframe tbody tr th {\n",
       "        vertical-align: top;\n",
       "    }\n",
       "\n",
       "    .dataframe thead th {\n",
       "        text-align: right;\n",
       "    }\n",
       "</style>\n",
       "<table border=\"1\" class=\"dataframe\">\n",
       "  <thead>\n",
       "    <tr style=\"text-align: right;\">\n",
       "      <th></th>\n",
       "      <th>two</th>\n",
       "      <th>three</th>\n",
       "    </tr>\n",
       "  </thead>\n",
       "  <tbody>\n",
       "    <tr>\n",
       "      <th>d</th>\n",
       "      <td>7</td>\n",
       "      <td>NaN</td>\n",
       "    </tr>\n",
       "    <tr>\n",
       "      <th>b</th>\n",
       "      <td>4</td>\n",
       "      <td>NaN</td>\n",
       "    </tr>\n",
       "    <tr>\n",
       "      <th>a</th>\n",
       "      <td>2</td>\n",
       "      <td>NaN</td>\n",
       "    </tr>\n",
       "  </tbody>\n",
       "</table>\n",
       "</div>"
      ],
      "text/plain": [
       "   two three\n",
       "d    7   NaN\n",
       "b    4   NaN\n",
       "a    2   NaN"
      ]
     },
     "execution_count": 16,
     "metadata": {},
     "output_type": "execute_result"
    }
   ],
   "source": [
    "pd.DataFrame(d, index=['d', 'b', 'a'], columns=['two', 'three'])"
   ]
  },
  {
   "cell_type": "markdown",
   "metadata": {},
   "source": [
    "<p style=\"font-family: Arial; font-size:1.25em;color:#2462C0; font-style:bold\">\n",
    "Create DataFrame from list of Python dictionaries</p>"
   ]
  },
  {
   "cell_type": "code",
   "execution_count": 17,
   "metadata": {
    "collapsed": true
   },
   "outputs": [],
   "source": [
    "data = [{'alex': 1, 'joe': 2}, {'ema': 5, 'dora': 10, 'alice': 20}]"
   ]
  },
  {
   "cell_type": "code",
   "execution_count": 18,
   "metadata": {
    "collapsed": false
   },
   "outputs": [],
   "source": [
    "df1=pd.DataFrame(data)"
   ]
  },
  {
   "cell_type": "code",
   "execution_count": 19,
   "metadata": {},
   "outputs": [
    {
     "data": {
      "text/html": [
       "<div>\n",
       "<style scoped>\n",
       "    .dataframe tbody tr th:only-of-type {\n",
       "        vertical-align: middle;\n",
       "    }\n",
       "\n",
       "    .dataframe tbody tr th {\n",
       "        vertical-align: top;\n",
       "    }\n",
       "\n",
       "    .dataframe thead th {\n",
       "        text-align: right;\n",
       "    }\n",
       "</style>\n",
       "<table border=\"1\" class=\"dataframe\">\n",
       "  <thead>\n",
       "    <tr style=\"text-align: right;\">\n",
       "      <th></th>\n",
       "      <th>alex</th>\n",
       "      <th>alice</th>\n",
       "      <th>dora</th>\n",
       "      <th>ema</th>\n",
       "      <th>joe</th>\n",
       "    </tr>\n",
       "  </thead>\n",
       "  <tbody>\n",
       "    <tr>\n",
       "      <th>0</th>\n",
       "      <td>1.0</td>\n",
       "      <td>NaN</td>\n",
       "      <td>NaN</td>\n",
       "      <td>NaN</td>\n",
       "      <td>2.0</td>\n",
       "    </tr>\n",
       "    <tr>\n",
       "      <th>1</th>\n",
       "      <td>NaN</td>\n",
       "      <td>20.0</td>\n",
       "      <td>10.0</td>\n",
       "      <td>5.0</td>\n",
       "      <td>NaN</td>\n",
       "    </tr>\n",
       "  </tbody>\n",
       "</table>\n",
       "</div>"
      ],
      "text/plain": [
       "   alex  alice  dora  ema  joe\n",
       "0   1.0    NaN   NaN  NaN  2.0\n",
       "1   NaN   20.0  10.0  5.0  NaN"
      ]
     },
     "execution_count": 19,
     "metadata": {},
     "output_type": "execute_result"
    }
   ],
   "source": [
    "df1"
   ]
  },
  {
   "cell_type": "markdown",
   "metadata": {},
   "source": [
    "<p style=\"font-family: Arial; font-size:1.25em;color:#2462C0; font-style:bold\">\n",
    "Basic DataFrame operations</p>"
   ]
  },
  {
   "cell_type": "code",
   "execution_count": 20,
   "metadata": {
    "collapsed": false
   },
   "outputs": [
    {
     "name": "stdout",
     "output_type": "stream",
     "text": [
      "   one  two\n",
      "a  1.0    2\n",
      "b  2.0    4\n",
      "c  3.0    6\n",
      "d  NaN    7\n"
     ]
    }
   ],
   "source": [
    "print(df)"
   ]
  },
  {
   "cell_type": "code",
   "execution_count": 21,
   "metadata": {},
   "outputs": [
    {
     "data": {
      "text/plain": [
       "a    1.0\n",
       "b    2.0\n",
       "c    3.0\n",
       "d    NaN\n",
       "Name: one, dtype: float64"
      ]
     },
     "execution_count": 21,
     "metadata": {},
     "output_type": "execute_result"
    }
   ],
   "source": [
    "#Selecting column\n",
    "df['one']"
   ]
  },
  {
   "cell_type": "code",
   "execution_count": 22,
   "metadata": {},
   "outputs": [
    {
     "data": {
      "text/plain": [
       "one    2.0\n",
       "two    4.0\n",
       "Name: b, dtype: float64"
      ]
     },
     "execution_count": 22,
     "metadata": {},
     "output_type": "execute_result"
    }
   ],
   "source": [
    "#selecting row\n",
    "df.loc['b']"
   ]
  },
  {
   "cell_type": "code",
   "execution_count": 23,
   "metadata": {},
   "outputs": [
    {
     "data": {
      "text/plain": [
       "one    1.0\n",
       "two    2.0\n",
       "Name: a, dtype: float64"
      ]
     },
     "execution_count": 23,
     "metadata": {},
     "output_type": "execute_result"
    }
   ],
   "source": [
    "#selecting rows based on position\n",
    "df.iloc[0]"
   ]
  },
  {
   "cell_type": "code",
   "execution_count": 24,
   "metadata": {},
   "outputs": [
    {
     "data": {
      "text/html": [
       "<div>\n",
       "<style scoped>\n",
       "    .dataframe tbody tr th:only-of-type {\n",
       "        vertical-align: middle;\n",
       "    }\n",
       "\n",
       "    .dataframe tbody tr th {\n",
       "        vertical-align: top;\n",
       "    }\n",
       "\n",
       "    .dataframe thead th {\n",
       "        text-align: right;\n",
       "    }\n",
       "</style>\n",
       "<table border=\"1\" class=\"dataframe\">\n",
       "  <thead>\n",
       "    <tr style=\"text-align: right;\">\n",
       "      <th></th>\n",
       "      <th>one</th>\n",
       "      <th>two</th>\n",
       "    </tr>\n",
       "  </thead>\n",
       "  <tbody>\n",
       "    <tr>\n",
       "      <th>c</th>\n",
       "      <td>3.0</td>\n",
       "      <td>6</td>\n",
       "    </tr>\n",
       "    <tr>\n",
       "      <th>d</th>\n",
       "      <td>NaN</td>\n",
       "      <td>7</td>\n",
       "    </tr>\n",
       "  </tbody>\n",
       "</table>\n",
       "</div>"
      ],
      "text/plain": [
       "   one  two\n",
       "c  3.0    6\n",
       "d  NaN    7"
      ]
     },
     "execution_count": 24,
     "metadata": {},
     "output_type": "execute_result"
    }
   ],
   "source": [
    "#Selecting rows based on condition\n",
    "df[df['two']>4]"
   ]
  },
  {
   "cell_type": "code",
   "execution_count": 25,
   "metadata": {
    "collapsed": false
   },
   "outputs": [
    {
     "data": {
      "text/html": [
       "<div>\n",
       "<style scoped>\n",
       "    .dataframe tbody tr th:only-of-type {\n",
       "        vertical-align: middle;\n",
       "    }\n",
       "\n",
       "    .dataframe tbody tr th {\n",
       "        vertical-align: top;\n",
       "    }\n",
       "\n",
       "    .dataframe thead th {\n",
       "        text-align: right;\n",
       "    }\n",
       "</style>\n",
       "<table border=\"1\" class=\"dataframe\">\n",
       "  <thead>\n",
       "    <tr style=\"text-align: right;\">\n",
       "      <th></th>\n",
       "      <th>one</th>\n",
       "      <th>two</th>\n",
       "      <th>three</th>\n",
       "    </tr>\n",
       "  </thead>\n",
       "  <tbody>\n",
       "    <tr>\n",
       "      <th>a</th>\n",
       "      <td>1.0</td>\n",
       "      <td>2</td>\n",
       "      <td>2.0</td>\n",
       "    </tr>\n",
       "    <tr>\n",
       "      <th>b</th>\n",
       "      <td>2.0</td>\n",
       "      <td>4</td>\n",
       "      <td>8.0</td>\n",
       "    </tr>\n",
       "    <tr>\n",
       "      <th>c</th>\n",
       "      <td>3.0</td>\n",
       "      <td>6</td>\n",
       "      <td>18.0</td>\n",
       "    </tr>\n",
       "    <tr>\n",
       "      <th>d</th>\n",
       "      <td>NaN</td>\n",
       "      <td>7</td>\n",
       "      <td>NaN</td>\n",
       "    </tr>\n",
       "  </tbody>\n",
       "</table>\n",
       "</div>"
      ],
      "text/plain": [
       "   one  two  three\n",
       "a  1.0    2    2.0\n",
       "b  2.0    4    8.0\n",
       "c  3.0    6   18.0\n",
       "d  NaN    7    NaN"
      ]
     },
     "execution_count": 25,
     "metadata": {},
     "output_type": "execute_result"
    }
   ],
   "source": [
    "#Adding a column\n",
    "df['three'] = df['one'] * df['two']\n",
    "df"
   ]
  },
  {
   "cell_type": "code",
   "execution_count": 26,
   "metadata": {
    "collapsed": false
   },
   "outputs": [
    {
     "data": {
      "text/html": [
       "<div>\n",
       "<style scoped>\n",
       "    .dataframe tbody tr th:only-of-type {\n",
       "        vertical-align: middle;\n",
       "    }\n",
       "\n",
       "    .dataframe tbody tr th {\n",
       "        vertical-align: top;\n",
       "    }\n",
       "\n",
       "    .dataframe thead th {\n",
       "        text-align: right;\n",
       "    }\n",
       "</style>\n",
       "<table border=\"1\" class=\"dataframe\">\n",
       "  <thead>\n",
       "    <tr style=\"text-align: right;\">\n",
       "      <th></th>\n",
       "      <th>one</th>\n",
       "      <th>two</th>\n",
       "      <th>three</th>\n",
       "      <th>flag</th>\n",
       "    </tr>\n",
       "  </thead>\n",
       "  <tbody>\n",
       "    <tr>\n",
       "      <th>a</th>\n",
       "      <td>1.0</td>\n",
       "      <td>2</td>\n",
       "      <td>2.0</td>\n",
       "      <td>False</td>\n",
       "    </tr>\n",
       "    <tr>\n",
       "      <th>b</th>\n",
       "      <td>2.0</td>\n",
       "      <td>4</td>\n",
       "      <td>8.0</td>\n",
       "      <td>False</td>\n",
       "    </tr>\n",
       "    <tr>\n",
       "      <th>c</th>\n",
       "      <td>3.0</td>\n",
       "      <td>6</td>\n",
       "      <td>18.0</td>\n",
       "      <td>False</td>\n",
       "    </tr>\n",
       "    <tr>\n",
       "      <th>d</th>\n",
       "      <td>NaN</td>\n",
       "      <td>7</td>\n",
       "      <td>NaN</td>\n",
       "      <td>False</td>\n",
       "    </tr>\n",
       "  </tbody>\n",
       "</table>\n",
       "</div>"
      ],
      "text/plain": [
       "   one  two  three   flag\n",
       "a  1.0    2    2.0  False\n",
       "b  2.0    4    8.0  False\n",
       "c  3.0    6   18.0  False\n",
       "d  NaN    7    NaN  False"
      ]
     },
     "execution_count": 26,
     "metadata": {},
     "output_type": "execute_result"
    }
   ],
   "source": [
    "#adding a flag\n",
    "df['flag'] = df['one'] > 250\n",
    "df"
   ]
  },
  {
   "cell_type": "code",
   "execution_count": 27,
   "metadata": {
    "collapsed": true
   },
   "outputs": [],
   "source": [
    "# deleting a column\n",
    "del df['two']"
   ]
  },
  {
   "cell_type": "code",
   "execution_count": 28,
   "metadata": {
    "collapsed": false
   },
   "outputs": [
    {
     "data": {
      "text/html": [
       "<div>\n",
       "<style scoped>\n",
       "    .dataframe tbody tr th:only-of-type {\n",
       "        vertical-align: middle;\n",
       "    }\n",
       "\n",
       "    .dataframe tbody tr th {\n",
       "        vertical-align: top;\n",
       "    }\n",
       "\n",
       "    .dataframe thead th {\n",
       "        text-align: right;\n",
       "    }\n",
       "</style>\n",
       "<table border=\"1\" class=\"dataframe\">\n",
       "  <thead>\n",
       "    <tr style=\"text-align: right;\">\n",
       "      <th></th>\n",
       "      <th>one</th>\n",
       "      <th>three</th>\n",
       "      <th>flag</th>\n",
       "    </tr>\n",
       "  </thead>\n",
       "  <tbody>\n",
       "    <tr>\n",
       "      <th>a</th>\n",
       "      <td>1.0</td>\n",
       "      <td>2.0</td>\n",
       "      <td>False</td>\n",
       "    </tr>\n",
       "    <tr>\n",
       "      <th>b</th>\n",
       "      <td>2.0</td>\n",
       "      <td>8.0</td>\n",
       "      <td>False</td>\n",
       "    </tr>\n",
       "    <tr>\n",
       "      <th>c</th>\n",
       "      <td>3.0</td>\n",
       "      <td>18.0</td>\n",
       "      <td>False</td>\n",
       "    </tr>\n",
       "    <tr>\n",
       "      <th>d</th>\n",
       "      <td>NaN</td>\n",
       "      <td>NaN</td>\n",
       "      <td>False</td>\n",
       "    </tr>\n",
       "  </tbody>\n",
       "</table>\n",
       "</div>"
      ],
      "text/plain": [
       "   one  three   flag\n",
       "a  1.0    2.0  False\n",
       "b  2.0    8.0  False\n",
       "c  3.0   18.0  False\n",
       "d  NaN    NaN  False"
      ]
     },
     "execution_count": 28,
     "metadata": {},
     "output_type": "execute_result"
    }
   ],
   "source": [
    "df"
   ]
  },
  {
   "cell_type": "code",
   "execution_count": 29,
   "metadata": {
    "collapsed": false
   },
   "outputs": [
    {
     "data": {
      "text/html": [
       "<div>\n",
       "<style scoped>\n",
       "    .dataframe tbody tr th:only-of-type {\n",
       "        vertical-align: middle;\n",
       "    }\n",
       "\n",
       "    .dataframe tbody tr th {\n",
       "        vertical-align: top;\n",
       "    }\n",
       "\n",
       "    .dataframe thead th {\n",
       "        text-align: right;\n",
       "    }\n",
       "</style>\n",
       "<table border=\"1\" class=\"dataframe\">\n",
       "  <thead>\n",
       "    <tr style=\"text-align: right;\">\n",
       "      <th></th>\n",
       "      <th>one</th>\n",
       "      <th>three</th>\n",
       "      <th>copy_of_one</th>\n",
       "      <th>flag</th>\n",
       "    </tr>\n",
       "  </thead>\n",
       "  <tbody>\n",
       "    <tr>\n",
       "      <th>a</th>\n",
       "      <td>1.0</td>\n",
       "      <td>2.0</td>\n",
       "      <td>1.0</td>\n",
       "      <td>False</td>\n",
       "    </tr>\n",
       "    <tr>\n",
       "      <th>b</th>\n",
       "      <td>2.0</td>\n",
       "      <td>8.0</td>\n",
       "      <td>2.0</td>\n",
       "      <td>False</td>\n",
       "    </tr>\n",
       "    <tr>\n",
       "      <th>c</th>\n",
       "      <td>3.0</td>\n",
       "      <td>18.0</td>\n",
       "      <td>3.0</td>\n",
       "      <td>False</td>\n",
       "    </tr>\n",
       "    <tr>\n",
       "      <th>d</th>\n",
       "      <td>NaN</td>\n",
       "      <td>NaN</td>\n",
       "      <td>NaN</td>\n",
       "      <td>False</td>\n",
       "    </tr>\n",
       "  </tbody>\n",
       "</table>\n",
       "</div>"
      ],
      "text/plain": [
       "   one  three  copy_of_one   flag\n",
       "a  1.0    2.0          1.0  False\n",
       "b  2.0    8.0          2.0  False\n",
       "c  3.0   18.0          3.0  False\n",
       "d  NaN    NaN          NaN  False"
      ]
     },
     "execution_count": 29,
     "metadata": {},
     "output_type": "execute_result"
    }
   ],
   "source": [
    "df.insert(2, 'copy_of_one', df['one'])\n",
    "df"
   ]
  },
  {
   "cell_type": "code",
   "execution_count": 30,
   "metadata": {
    "collapsed": false
   },
   "outputs": [
    {
     "data": {
      "text/html": [
       "<div>\n",
       "<style scoped>\n",
       "    .dataframe tbody tr th:only-of-type {\n",
       "        vertical-align: middle;\n",
       "    }\n",
       "\n",
       "    .dataframe tbody tr th {\n",
       "        vertical-align: top;\n",
       "    }\n",
       "\n",
       "    .dataframe thead th {\n",
       "        text-align: right;\n",
       "    }\n",
       "</style>\n",
       "<table border=\"1\" class=\"dataframe\">\n",
       "  <thead>\n",
       "    <tr style=\"text-align: right;\">\n",
       "      <th></th>\n",
       "      <th>one</th>\n",
       "      <th>three</th>\n",
       "      <th>copy_of_one</th>\n",
       "      <th>flag</th>\n",
       "      <th>one_upper_half</th>\n",
       "    </tr>\n",
       "  </thead>\n",
       "  <tbody>\n",
       "    <tr>\n",
       "      <th>a</th>\n",
       "      <td>1.0</td>\n",
       "      <td>2.0</td>\n",
       "      <td>1.0</td>\n",
       "      <td>False</td>\n",
       "      <td>1.0</td>\n",
       "    </tr>\n",
       "    <tr>\n",
       "      <th>b</th>\n",
       "      <td>2.0</td>\n",
       "      <td>8.0</td>\n",
       "      <td>2.0</td>\n",
       "      <td>False</td>\n",
       "      <td>2.0</td>\n",
       "    </tr>\n",
       "    <tr>\n",
       "      <th>c</th>\n",
       "      <td>3.0</td>\n",
       "      <td>18.0</td>\n",
       "      <td>3.0</td>\n",
       "      <td>False</td>\n",
       "      <td>NaN</td>\n",
       "    </tr>\n",
       "    <tr>\n",
       "      <th>d</th>\n",
       "      <td>NaN</td>\n",
       "      <td>NaN</td>\n",
       "      <td>NaN</td>\n",
       "      <td>False</td>\n",
       "      <td>NaN</td>\n",
       "    </tr>\n",
       "  </tbody>\n",
       "</table>\n",
       "</div>"
      ],
      "text/plain": [
       "   one  three  copy_of_one   flag  one_upper_half\n",
       "a  1.0    2.0          1.0  False             1.0\n",
       "b  2.0    8.0          2.0  False             2.0\n",
       "c  3.0   18.0          3.0  False             NaN\n",
       "d  NaN    NaN          NaN  False             NaN"
      ]
     },
     "execution_count": 30,
     "metadata": {},
     "output_type": "execute_result"
    }
   ],
   "source": [
    "df['one_upper_half'] = df['one'][:2]\n",
    "df"
   ]
  },
  {
   "cell_type": "code",
   "execution_count": 31,
   "metadata": {},
   "outputs": [
    {
     "data": {
      "text/plain": [
       "one                True\n",
       "three              True\n",
       "copy_of_one        True\n",
       "flag              False\n",
       "one_upper_half     True\n",
       "dtype: bool"
      ]
     },
     "execution_count": 31,
     "metadata": {},
     "output_type": "execute_result"
    }
   ],
   "source": [
    "#Checking null values\n",
    "df.isnull().any()"
   ]
  },
  {
   "cell_type": "code",
   "execution_count": 32,
   "metadata": {},
   "outputs": [
    {
     "data": {
      "text/plain": [
       "one               1\n",
       "three             1\n",
       "copy_of_one       1\n",
       "flag              0\n",
       "one_upper_half    2\n",
       "dtype: int64"
      ]
     },
     "execution_count": 32,
     "metadata": {},
     "output_type": "execute_result"
    }
   ],
   "source": [
    "#Counting null values\n",
    "df.isnull().sum()"
   ]
  },
  {
   "cell_type": "code",
   "execution_count": 33,
   "metadata": {},
   "outputs": [
    {
     "data": {
      "text/html": [
       "<div>\n",
       "<style scoped>\n",
       "    .dataframe tbody tr th:only-of-type {\n",
       "        vertical-align: middle;\n",
       "    }\n",
       "\n",
       "    .dataframe tbody tr th {\n",
       "        vertical-align: top;\n",
       "    }\n",
       "\n",
       "    .dataframe thead th {\n",
       "        text-align: right;\n",
       "    }\n",
       "</style>\n",
       "<table border=\"1\" class=\"dataframe\">\n",
       "  <thead>\n",
       "    <tr style=\"text-align: right;\">\n",
       "      <th></th>\n",
       "      <th>one</th>\n",
       "      <th>three</th>\n",
       "      <th>copy_of_one</th>\n",
       "      <th>flag</th>\n",
       "      <th>one_upper_half</th>\n",
       "    </tr>\n",
       "  </thead>\n",
       "  <tbody>\n",
       "    <tr>\n",
       "      <th>a</th>\n",
       "      <td>1.0</td>\n",
       "      <td>2.0</td>\n",
       "      <td>1.0</td>\n",
       "      <td>False</td>\n",
       "      <td>1.0</td>\n",
       "    </tr>\n",
       "    <tr>\n",
       "      <th>b</th>\n",
       "      <td>2.0</td>\n",
       "      <td>8.0</td>\n",
       "      <td>2.0</td>\n",
       "      <td>False</td>\n",
       "      <td>2.0</td>\n",
       "    </tr>\n",
       "    <tr>\n",
       "      <th>c</th>\n",
       "      <td>3.0</td>\n",
       "      <td>18.0</td>\n",
       "      <td>3.0</td>\n",
       "      <td>False</td>\n",
       "      <td>NaN</td>\n",
       "    </tr>\n",
       "    <tr>\n",
       "      <th>d</th>\n",
       "      <td>0.0</td>\n",
       "      <td>NaN</td>\n",
       "      <td>NaN</td>\n",
       "      <td>False</td>\n",
       "      <td>NaN</td>\n",
       "    </tr>\n",
       "  </tbody>\n",
       "</table>\n",
       "</div>"
      ],
      "text/plain": [
       "   one  three  copy_of_one   flag  one_upper_half\n",
       "a  1.0    2.0          1.0  False             1.0\n",
       "b  2.0    8.0          2.0  False             2.0\n",
       "c  3.0   18.0          3.0  False             NaN\n",
       "d  0.0    NaN          NaN  False             NaN"
      ]
     },
     "execution_count": 33,
     "metadata": {},
     "output_type": "execute_result"
    }
   ],
   "source": [
    "#Replacing null values\n",
    "df['one'].fillna(0,inplace=True)\n",
    "df"
   ]
  },
  {
   "cell_type": "code",
   "execution_count": 34,
   "metadata": {},
   "outputs": [],
   "source": [
    "df.isnull().any() #Checking null values\n",
    "df.isnull().sum() #Counting null values\n",
    "df['one'].fillna(0,inplace=True)#Replacing null values"
   ]
  },
  {
   "cell_type": "markdown",
   "metadata": {},
   "source": [
    "### Lab 2b: Exploring Loan Data using Pandas"
   ]
  },
  {
   "cell_type": "code",
   "execution_count": 35,
   "metadata": {},
   "outputs": [
    {
     "data": {
      "text/markdown": [
       "**Loan Acquision Table** \n"
      ],
      "text/plain": [
       "<IPython.core.display.Markdown object>"
      ]
     },
     "metadata": {},
     "output_type": "display_data"
    },
    {
     "name": "stdout",
     "output_type": "stream",
     "text": [
      "         loanID channel              sellerName  origIntRate  origUPB  \\\n",
      "0  100002091588       R                   OTHER        4.125   345000   \n",
      "1  100004219574       R  WELLS FARGO BANK, N.A.        4.125   293000   \n",
      "2  100004457300       C  WELLS FARGO BANK, N.A.        3.875   304000   \n",
      "3  100006803390       R                   OTHER        4.375   110000   \n",
      "4  100008763886       R      QUICKEN LOANS INC.        4.375   325000   \n",
      "\n",
      "   origLoanTerm orig_date firstPaymentDate  origLTV  origCLTV  \\\n",
      "0           360   12/2014          02/2015       95        95   \n",
      "1           312   12/2014          02/2015       77        77   \n",
      "2           360   11/2014          01/2015       80        80   \n",
      "3           360   10/2014          12/2014       65        65   \n",
      "4           348   01/2015          03/2015       72        72   \n",
      "\n",
      "          ...           firstTimeBuyer  loanPurpose  propertyType  \\\n",
      "0         ...                        N            P            PU   \n",
      "1         ...                        N            R            PU   \n",
      "2         ...                        N            P            SF   \n",
      "3         ...                        N            C            SF   \n",
      "4         ...                        N            R            SF   \n",
      "\n",
      "  numberOfUnit occupStatus propType  zip miPercentage prodType  \\\n",
      "0            1           P       NC  282         30.0      FRM   \n",
      "1            1           P       IL  605          NaN      FRM   \n",
      "2            1           P       GA  300          NaN      FRM   \n",
      "3            1           P       VA  229          NaN      FRM   \n",
      "4            1           P       CA  936          NaN      FRM   \n",
      "\n",
      "   coBorrowCreditScore  \n",
      "0                  NaN  \n",
      "1                723.0  \n",
      "2                  NaN  \n",
      "3                736.0  \n",
      "4                797.0  \n",
      "\n",
      "[5 rows x 23 columns]\n",
      " \n",
      " \n"
     ]
    },
    {
     "data": {
      "text/markdown": [
       "**Loan Performance Table** \n"
      ],
      "text/plain": [
       "<IPython.core.display.Markdown object>"
      ]
     },
     "metadata": {},
     "output_type": "display_data"
    },
    {
     "name": "stdout",
     "output_type": "stream",
     "text": [
      "         loanID periodMonth servicerName  currIntRate  currUPB  loanAge  \\\n",
      "0  100002091588  01/01/2015        OTHER        4.125      NaN        0   \n",
      "1  100002091588  02/01/2015          NaN        4.125      NaN        1   \n",
      "2  100002091588  03/01/2015          NaN        4.125      NaN        2   \n",
      "3  100002091588  04/01/2015          NaN        4.125      NaN        3   \n",
      "4  100002091588  05/01/2015          NaN        4.125      NaN        4   \n",
      "\n",
      "   monthToMature  adjMonthToMature maturityDate    MSA    ...     \\\n",
      "0            360             360.0      01/2045  16740    ...      \n",
      "1            359             359.0      01/2045  16740    ...      \n",
      "2            358             358.0      01/2045  16740    ...      \n",
      "3            357             357.0      01/2045  16740    ...      \n",
      "4            356             356.0      01/2045  16740    ...      \n",
      "\n",
      "  propMaintCost assetRecovCost  miscHoldingExpCredit taxAssociated  \\\n",
      "0           NaN            NaN                   NaN           NaN   \n",
      "1           NaN            NaN                   NaN           NaN   \n",
      "2           NaN            NaN                   NaN           NaN   \n",
      "3           NaN            NaN                   NaN           NaN   \n",
      "4           NaN            NaN                   NaN           NaN   \n",
      "\n",
      "   netSalesProceed  creditEnhcProceed  repurchaseMakeWhole  \\\n",
      "0              NaN                NaN                  NaN   \n",
      "1              NaN                NaN                  NaN   \n",
      "2              NaN                NaN                  NaN   \n",
      "3              NaN                NaN                  NaN   \n",
      "4              NaN                NaN                  NaN   \n",
      "\n",
      "   otherForeclProceed  unknown1  unknown2  \n",
      "0                 NaN       NaN       NaN  \n",
      "1                 NaN       NaN       NaN  \n",
      "2                 NaN       NaN       NaN  \n",
      "3                 NaN       NaN       NaN  \n",
      "4                 NaN       NaN       NaN  \n",
      "\n",
      "[5 rows x 28 columns]\n",
      " \n",
      " \n"
     ]
    }
   ],
   "source": [
    "loanData = pd.read_csv('/Users/adamrob/data/Acquisition_2015Q1.txt', sep='|',encoding='latin1',\n",
    "                           names=[\"loanID\",\"channel\",\"sellerName\",\"origIntRate\",\"origUPB\",\"origLoanTerm\",\"orig_date\",\n",
    "                                  \"firstPaymentDate\", \"origLTV\", \"origCLTV\", \"numBorower\", \"DTI\", \"borrowCreditScore\", \"firstTimeBuyer\",\n",
    "                                  \"loanPurpose\", \"propertyType\", \"numberOfUnit\", \"occupStatus\", \"propType\", \"zip\",\"miPercentage\",\n",
    "                                  \"prodType\", \"coBorrowCreditScore\"])\n",
    "#print(\" Acquisition Data \\n\")\n",
    "display(Markdown(\"**Loan Acquision Table** \\n\"))\n",
    "print(loanData.head(5)) #last N rws\n",
    "print (\" \\n \") \n",
    "   \n",
    "\n",
    "perfData = pd.read_csv('/Users/adamrob/data/Performance_2015Q1_part1.csv', sep=',',encoding='latin1',\n",
    "                           names=[\"loanID\",\"periodMonth\",\"servicerName\",\"currIntRate\",\"currUPB\",\"loanAge\",\"monthToMature\",\n",
    "                                  \"adjMonthToMature\", \"maturityDate\", \"MSA\", \"delinqStatus\", \"modFlag\", \"zeroBalCode\", \"loanBalEffectDate\",\n",
    "                                  \"lastPaidInstallDate\", \"forecloseDate\", \"dispositionDate\", \"foreclCost\", \"propMaintCost\", \"assetRecovCost\",\n",
    "                                  \"miscHoldingExpCredit\",\n",
    "                                  \"taxAssociated\", \"netSalesProceed\", \"creditEnhcProceed\", \"repurchaseMakeWhole\",\"otherForeclProceed\",\"unknown1\",\"unknown2\"])\n",
    "#print(\"Performance Data \\n\")\n",
    "display(Markdown(\"**Loan Performance Table** \\n\"))\n",
    "print(perfData.head(5)) #first N rws\n",
    "print (\" \\n \") \n"
   ]
  },
  {
   "cell_type": "markdown",
   "metadata": {},
   "source": [
    "<h1 style=\"font-size:2em;color:#2467C0\">Data Structures </h1>"
   ]
  },
  {
   "cell_type": "markdown",
   "metadata": {},
   "source": [
    "<h1 style=\"font-size:1.5em;color:#2467C0\">Series</h1>"
   ]
  },
  {
   "cell_type": "code",
   "execution_count": 36,
   "metadata": {
    "collapsed": false
   },
   "outputs": [
    {
     "name": "stdout",
     "output_type": "stream",
     "text": [
      "<class 'pandas.core.series.Series'>\n",
      "loanID                 100002091588\n",
      "channel                           R\n",
      "sellerName                    OTHER\n",
      "origIntRate                   4.125\n",
      "origUPB                      345000\n",
      "origLoanTerm                    360\n",
      "orig_date                   12/2014\n",
      "firstPaymentDate            02/2015\n",
      "origLTV                          95\n",
      "origCLTV                         95\n",
      "numBorower                        1\n",
      "DTI                              32\n",
      "borrowCreditScore               652\n",
      "firstTimeBuyer                    N\n",
      "loanPurpose                       P\n",
      "propertyType                     PU\n",
      "numberOfUnit                      1\n",
      "occupStatus                       P\n",
      "propType                         NC\n",
      "zip                             282\n",
      "miPercentage                     30\n",
      "prodType                        FRM\n",
      "coBorrowCreditScore             NaN\n",
      "Name: 0, dtype: object\n"
     ]
    }
   ],
   "source": [
    "#Extract 0th row: notice that it is infact a Series\n",
    "row_0 = loanData.iloc[0]\n",
    "print (type(row_0))\n",
    "print(row_0)"
   ]
  },
  {
   "cell_type": "code",
   "execution_count": 37,
   "metadata": {
    "collapsed": false
   },
   "outputs": [
    {
     "data": {
      "text/plain": [
       "Index(['loanID', 'channel', 'sellerName', 'origIntRate', 'origUPB',\n",
       "       'origLoanTerm', 'orig_date', 'firstPaymentDate', 'origLTV', 'origCLTV',\n",
       "       'numBorower', 'DTI', 'borrowCreditScore', 'firstTimeBuyer',\n",
       "       'loanPurpose', 'propertyType', 'numberOfUnit', 'occupStatus',\n",
       "       'propType', 'zip', 'miPercentage', 'prodType', 'coBorrowCreditScore'],\n",
       "      dtype='object')"
      ]
     },
     "execution_count": 37,
     "metadata": {},
     "output_type": "execute_result"
    }
   ],
   "source": [
    "row_0.index"
   ]
  },
  {
   "cell_type": "code",
   "execution_count": 38,
   "metadata": {
    "collapsed": false
   },
   "outputs": [
    {
     "data": {
      "text/plain": [
       "True"
      ]
     },
     "execution_count": 38,
     "metadata": {},
     "output_type": "execute_result"
    }
   ],
   "source": [
    "'DTI' in row_0"
   ]
  },
  {
   "cell_type": "code",
   "execution_count": 39,
   "metadata": {
    "collapsed": false
   },
   "outputs": [
    {
     "data": {
      "text/plain": [
       "0"
      ]
     },
     "execution_count": 39,
     "metadata": {},
     "output_type": "execute_result"
    }
   ],
   "source": [
    "row_0.name"
   ]
  },
  {
   "cell_type": "code",
   "execution_count": 40,
   "metadata": {
    "collapsed": false
   },
   "outputs": [
    {
     "data": {
      "text/plain": [
       "'first_row'"
      ]
     },
     "execution_count": 40,
     "metadata": {},
     "output_type": "execute_result"
    }
   ],
   "source": [
    "row_0 = row_0.rename('first_row')\n",
    "row_0.name"
   ]
  },
  {
   "cell_type": "markdown",
   "metadata": {},
   "source": [
    "<h1 style=\"font-size:1.5em;color:#2467C0\">DataFrames </h1>"
   ]
  },
  {
   "cell_type": "code",
   "execution_count": 41,
   "metadata": {
    "collapsed": false
   },
   "outputs": [
    {
     "data": {
      "text/html": [
       "<div>\n",
       "<style scoped>\n",
       "    .dataframe tbody tr th:only-of-type {\n",
       "        vertical-align: middle;\n",
       "    }\n",
       "\n",
       "    .dataframe tbody tr th {\n",
       "        vertical-align: top;\n",
       "    }\n",
       "\n",
       "    .dataframe thead th {\n",
       "        text-align: right;\n",
       "    }\n",
       "</style>\n",
       "<table border=\"1\" class=\"dataframe\">\n",
       "  <thead>\n",
       "    <tr style=\"text-align: right;\">\n",
       "      <th></th>\n",
       "      <th>loanID</th>\n",
       "      <th>channel</th>\n",
       "      <th>sellerName</th>\n",
       "      <th>origIntRate</th>\n",
       "      <th>origUPB</th>\n",
       "      <th>origLoanTerm</th>\n",
       "      <th>orig_date</th>\n",
       "      <th>firstPaymentDate</th>\n",
       "      <th>origLTV</th>\n",
       "      <th>origCLTV</th>\n",
       "      <th>...</th>\n",
       "      <th>firstTimeBuyer</th>\n",
       "      <th>loanPurpose</th>\n",
       "      <th>propertyType</th>\n",
       "      <th>numberOfUnit</th>\n",
       "      <th>occupStatus</th>\n",
       "      <th>propType</th>\n",
       "      <th>zip</th>\n",
       "      <th>miPercentage</th>\n",
       "      <th>prodType</th>\n",
       "      <th>coBorrowCreditScore</th>\n",
       "    </tr>\n",
       "  </thead>\n",
       "  <tbody>\n",
       "    <tr>\n",
       "      <th>0</th>\n",
       "      <td>100002091588</td>\n",
       "      <td>R</td>\n",
       "      <td>OTHER</td>\n",
       "      <td>4.125</td>\n",
       "      <td>345000</td>\n",
       "      <td>360</td>\n",
       "      <td>12/2014</td>\n",
       "      <td>02/2015</td>\n",
       "      <td>95</td>\n",
       "      <td>95</td>\n",
       "      <td>...</td>\n",
       "      <td>N</td>\n",
       "      <td>P</td>\n",
       "      <td>PU</td>\n",
       "      <td>1</td>\n",
       "      <td>P</td>\n",
       "      <td>NC</td>\n",
       "      <td>282</td>\n",
       "      <td>30.0</td>\n",
       "      <td>FRM</td>\n",
       "      <td>NaN</td>\n",
       "    </tr>\n",
       "    <tr>\n",
       "      <th>1</th>\n",
       "      <td>100004219574</td>\n",
       "      <td>R</td>\n",
       "      <td>WELLS FARGO BANK, N.A.</td>\n",
       "      <td>4.125</td>\n",
       "      <td>293000</td>\n",
       "      <td>312</td>\n",
       "      <td>12/2014</td>\n",
       "      <td>02/2015</td>\n",
       "      <td>77</td>\n",
       "      <td>77</td>\n",
       "      <td>...</td>\n",
       "      <td>N</td>\n",
       "      <td>R</td>\n",
       "      <td>PU</td>\n",
       "      <td>1</td>\n",
       "      <td>P</td>\n",
       "      <td>IL</td>\n",
       "      <td>605</td>\n",
       "      <td>NaN</td>\n",
       "      <td>FRM</td>\n",
       "      <td>723.0</td>\n",
       "    </tr>\n",
       "    <tr>\n",
       "      <th>2</th>\n",
       "      <td>100004457300</td>\n",
       "      <td>C</td>\n",
       "      <td>WELLS FARGO BANK, N.A.</td>\n",
       "      <td>3.875</td>\n",
       "      <td>304000</td>\n",
       "      <td>360</td>\n",
       "      <td>11/2014</td>\n",
       "      <td>01/2015</td>\n",
       "      <td>80</td>\n",
       "      <td>80</td>\n",
       "      <td>...</td>\n",
       "      <td>N</td>\n",
       "      <td>P</td>\n",
       "      <td>SF</td>\n",
       "      <td>1</td>\n",
       "      <td>P</td>\n",
       "      <td>GA</td>\n",
       "      <td>300</td>\n",
       "      <td>NaN</td>\n",
       "      <td>FRM</td>\n",
       "      <td>NaN</td>\n",
       "    </tr>\n",
       "    <tr>\n",
       "      <th>3</th>\n",
       "      <td>100006803390</td>\n",
       "      <td>R</td>\n",
       "      <td>OTHER</td>\n",
       "      <td>4.375</td>\n",
       "      <td>110000</td>\n",
       "      <td>360</td>\n",
       "      <td>10/2014</td>\n",
       "      <td>12/2014</td>\n",
       "      <td>65</td>\n",
       "      <td>65</td>\n",
       "      <td>...</td>\n",
       "      <td>N</td>\n",
       "      <td>C</td>\n",
       "      <td>SF</td>\n",
       "      <td>1</td>\n",
       "      <td>P</td>\n",
       "      <td>VA</td>\n",
       "      <td>229</td>\n",
       "      <td>NaN</td>\n",
       "      <td>FRM</td>\n",
       "      <td>736.0</td>\n",
       "    </tr>\n",
       "    <tr>\n",
       "      <th>4</th>\n",
       "      <td>100008763886</td>\n",
       "      <td>R</td>\n",
       "      <td>QUICKEN LOANS INC.</td>\n",
       "      <td>4.375</td>\n",
       "      <td>325000</td>\n",
       "      <td>348</td>\n",
       "      <td>01/2015</td>\n",
       "      <td>03/2015</td>\n",
       "      <td>72</td>\n",
       "      <td>72</td>\n",
       "      <td>...</td>\n",
       "      <td>N</td>\n",
       "      <td>R</td>\n",
       "      <td>SF</td>\n",
       "      <td>1</td>\n",
       "      <td>P</td>\n",
       "      <td>CA</td>\n",
       "      <td>936</td>\n",
       "      <td>NaN</td>\n",
       "      <td>FRM</td>\n",
       "      <td>797.0</td>\n",
       "    </tr>\n",
       "  </tbody>\n",
       "</table>\n",
       "<p>5 rows × 23 columns</p>\n",
       "</div>"
      ],
      "text/plain": [
       "         loanID channel              sellerName  origIntRate  origUPB  \\\n",
       "0  100002091588       R                   OTHER        4.125   345000   \n",
       "1  100004219574       R  WELLS FARGO BANK, N.A.        4.125   293000   \n",
       "2  100004457300       C  WELLS FARGO BANK, N.A.        3.875   304000   \n",
       "3  100006803390       R                   OTHER        4.375   110000   \n",
       "4  100008763886       R      QUICKEN LOANS INC.        4.375   325000   \n",
       "\n",
       "   origLoanTerm orig_date firstPaymentDate  origLTV  origCLTV  \\\n",
       "0           360   12/2014          02/2015       95        95   \n",
       "1           312   12/2014          02/2015       77        77   \n",
       "2           360   11/2014          01/2015       80        80   \n",
       "3           360   10/2014          12/2014       65        65   \n",
       "4           348   01/2015          03/2015       72        72   \n",
       "\n",
       "          ...           firstTimeBuyer  loanPurpose  propertyType  \\\n",
       "0         ...                        N            P            PU   \n",
       "1         ...                        N            R            PU   \n",
       "2         ...                        N            P            SF   \n",
       "3         ...                        N            C            SF   \n",
       "4         ...                        N            R            SF   \n",
       "\n",
       "  numberOfUnit occupStatus propType  zip miPercentage prodType  \\\n",
       "0            1           P       NC  282         30.0      FRM   \n",
       "1            1           P       IL  605          NaN      FRM   \n",
       "2            1           P       GA  300          NaN      FRM   \n",
       "3            1           P       VA  229          NaN      FRM   \n",
       "4            1           P       CA  936          NaN      FRM   \n",
       "\n",
       "   coBorrowCreditScore  \n",
       "0                  NaN  \n",
       "1                723.0  \n",
       "2                  NaN  \n",
       "3                736.0  \n",
       "4                797.0  \n",
       "\n",
       "[5 rows x 23 columns]"
      ]
     },
     "execution_count": 41,
     "metadata": {},
     "output_type": "execute_result"
    }
   ],
   "source": [
    "loanData.head()"
   ]
  },
  {
   "cell_type": "code",
   "execution_count": 42,
   "metadata": {
    "collapsed": false
   },
   "outputs": [
    {
     "data": {
      "text/plain": [
       "RangeIndex(start=0, stop=326695, step=1)"
      ]
     },
     "execution_count": 42,
     "metadata": {},
     "output_type": "execute_result"
    }
   ],
   "source": [
    "loanData.index"
   ]
  },
  {
   "cell_type": "code",
   "execution_count": 43,
   "metadata": {
    "collapsed": false
   },
   "outputs": [
    {
     "data": {
      "text/plain": [
       "Index(['loanID', 'channel', 'sellerName', 'origIntRate', 'origUPB',\n",
       "       'origLoanTerm', 'orig_date', 'firstPaymentDate', 'origLTV', 'origCLTV',\n",
       "       'numBorower', 'DTI', 'borrowCreditScore', 'firstTimeBuyer',\n",
       "       'loanPurpose', 'propertyType', 'numberOfUnit', 'occupStatus',\n",
       "       'propType', 'zip', 'miPercentage', 'prodType', 'coBorrowCreditScore'],\n",
       "      dtype='object')"
      ]
     },
     "execution_count": 43,
     "metadata": {},
     "output_type": "execute_result"
    }
   ],
   "source": [
    "loanData.columns"
   ]
  },
  {
   "cell_type": "code",
   "execution_count": 44,
   "metadata": {
    "collapsed": false
   },
   "outputs": [
    {
     "data": {
      "text/html": [
       "<div>\n",
       "<style scoped>\n",
       "    .dataframe tbody tr th:only-of-type {\n",
       "        vertical-align: middle;\n",
       "    }\n",
       "\n",
       "    .dataframe tbody tr th {\n",
       "        vertical-align: top;\n",
       "    }\n",
       "\n",
       "    .dataframe thead th {\n",
       "        text-align: right;\n",
       "    }\n",
       "</style>\n",
       "<table border=\"1\" class=\"dataframe\">\n",
       "  <thead>\n",
       "    <tr style=\"text-align: right;\">\n",
       "      <th></th>\n",
       "      <th>loanID</th>\n",
       "      <th>channel</th>\n",
       "      <th>sellerName</th>\n",
       "      <th>origIntRate</th>\n",
       "      <th>origUPB</th>\n",
       "      <th>origLoanTerm</th>\n",
       "      <th>orig_date</th>\n",
       "      <th>firstPaymentDate</th>\n",
       "      <th>origLTV</th>\n",
       "      <th>origCLTV</th>\n",
       "      <th>...</th>\n",
       "      <th>firstTimeBuyer</th>\n",
       "      <th>loanPurpose</th>\n",
       "      <th>propertyType</th>\n",
       "      <th>numberOfUnit</th>\n",
       "      <th>occupStatus</th>\n",
       "      <th>propType</th>\n",
       "      <th>zip</th>\n",
       "      <th>miPercentage</th>\n",
       "      <th>prodType</th>\n",
       "      <th>coBorrowCreditScore</th>\n",
       "    </tr>\n",
       "  </thead>\n",
       "  <tbody>\n",
       "    <tr>\n",
       "      <th>0</th>\n",
       "      <td>100002091588</td>\n",
       "      <td>R</td>\n",
       "      <td>OTHER</td>\n",
       "      <td>4.125</td>\n",
       "      <td>345000</td>\n",
       "      <td>360</td>\n",
       "      <td>12/2014</td>\n",
       "      <td>02/2015</td>\n",
       "      <td>95</td>\n",
       "      <td>95</td>\n",
       "      <td>...</td>\n",
       "      <td>N</td>\n",
       "      <td>P</td>\n",
       "      <td>PU</td>\n",
       "      <td>1</td>\n",
       "      <td>P</td>\n",
       "      <td>NC</td>\n",
       "      <td>282</td>\n",
       "      <td>30.0</td>\n",
       "      <td>FRM</td>\n",
       "      <td>NaN</td>\n",
       "    </tr>\n",
       "    <tr>\n",
       "      <th>100</th>\n",
       "      <td>100317081765</td>\n",
       "      <td>C</td>\n",
       "      <td>WELLS FARGO BANK, N.A.</td>\n",
       "      <td>4.375</td>\n",
       "      <td>160000</td>\n",
       "      <td>360</td>\n",
       "      <td>12/2014</td>\n",
       "      <td>02/2015</td>\n",
       "      <td>90</td>\n",
       "      <td>90</td>\n",
       "      <td>...</td>\n",
       "      <td>N</td>\n",
       "      <td>P</td>\n",
       "      <td>PU</td>\n",
       "      <td>1</td>\n",
       "      <td>S</td>\n",
       "      <td>TX</td>\n",
       "      <td>781</td>\n",
       "      <td>25.0</td>\n",
       "      <td>FRM</td>\n",
       "      <td>733.0</td>\n",
       "    </tr>\n",
       "    <tr>\n",
       "      <th>1000</th>\n",
       "      <td>102816334673</td>\n",
       "      <td>B</td>\n",
       "      <td>OTHER</td>\n",
       "      <td>4.250</td>\n",
       "      <td>127000</td>\n",
       "      <td>360</td>\n",
       "      <td>12/2014</td>\n",
       "      <td>02/2015</td>\n",
       "      <td>80</td>\n",
       "      <td>80</td>\n",
       "      <td>...</td>\n",
       "      <td>N</td>\n",
       "      <td>P</td>\n",
       "      <td>CO</td>\n",
       "      <td>1</td>\n",
       "      <td>S</td>\n",
       "      <td>NC</td>\n",
       "      <td>287</td>\n",
       "      <td>NaN</td>\n",
       "      <td>FRM</td>\n",
       "      <td>799.0</td>\n",
       "    </tr>\n",
       "  </tbody>\n",
       "</table>\n",
       "<p>3 rows × 23 columns</p>\n",
       "</div>"
      ],
      "text/plain": [
       "            loanID channel              sellerName  origIntRate  origUPB  \\\n",
       "0     100002091588       R                   OTHER        4.125   345000   \n",
       "100   100317081765       C  WELLS FARGO BANK, N.A.        4.375   160000   \n",
       "1000  102816334673       B                   OTHER        4.250   127000   \n",
       "\n",
       "      origLoanTerm orig_date firstPaymentDate  origLTV  origCLTV  \\\n",
       "0              360   12/2014          02/2015       95        95   \n",
       "100            360   12/2014          02/2015       90        90   \n",
       "1000           360   12/2014          02/2015       80        80   \n",
       "\n",
       "             ...           firstTimeBuyer  loanPurpose  propertyType  \\\n",
       "0            ...                        N            P            PU   \n",
       "100          ...                        N            P            PU   \n",
       "1000         ...                        N            P            CO   \n",
       "\n",
       "     numberOfUnit occupStatus propType  zip miPercentage prodType  \\\n",
       "0               1           P       NC  282         30.0      FRM   \n",
       "100             1           S       TX  781         25.0      FRM   \n",
       "1000            1           S       NC  287          NaN      FRM   \n",
       "\n",
       "      coBorrowCreditScore  \n",
       "0                     NaN  \n",
       "100                 733.0  \n",
       "1000                799.0  \n",
       "\n",
       "[3 rows x 23 columns]"
      ]
     },
     "execution_count": 44,
     "metadata": {},
     "output_type": "execute_result"
    }
   ],
   "source": [
    "# Extract row 0, 100, 1000 from DataFrame\n",
    "loanData.iloc[ [0,100,1000] ]"
   ]
  },
  {
   "cell_type": "markdown",
   "metadata": {},
   "source": [
    "<h1 style=\"font-size:2em;color:#2467C0\">Descriptive Statistics</h1>\n",
    "\n",
    "Let's look how the ratings are distributed! "
   ]
  },
  {
   "cell_type": "code",
   "execution_count": 45,
   "metadata": {
    "collapsed": false
   },
   "outputs": [
    {
     "data": {
      "text/plain": [
       "count    3.266950e+05\n",
       "mean     2.407928e+05\n",
       "std      1.202889e+05\n",
       "min      1.200000e+04\n",
       "25%      1.470000e+05\n",
       "50%      2.220000e+05\n",
       "75%      3.200000e+05\n",
       "max      1.203000e+06\n",
       "Name: origUPB, dtype: float64"
      ]
     },
     "execution_count": 45,
     "metadata": {},
     "output_type": "execute_result"
    }
   ],
   "source": [
    "loanData['origUPB'].describe()"
   ]
  },
  {
   "cell_type": "code",
   "execution_count": 46,
   "metadata": {
    "collapsed": false
   },
   "outputs": [
    {
     "data": {
      "text/html": [
       "<div>\n",
       "<style scoped>\n",
       "    .dataframe tbody tr th:only-of-type {\n",
       "        vertical-align: middle;\n",
       "    }\n",
       "\n",
       "    .dataframe tbody tr th {\n",
       "        vertical-align: top;\n",
       "    }\n",
       "\n",
       "    .dataframe thead th {\n",
       "        text-align: right;\n",
       "    }\n",
       "</style>\n",
       "<table border=\"1\" class=\"dataframe\">\n",
       "  <thead>\n",
       "    <tr style=\"text-align: right;\">\n",
       "      <th></th>\n",
       "      <th>loanID</th>\n",
       "      <th>origIntRate</th>\n",
       "      <th>origUPB</th>\n",
       "      <th>origLoanTerm</th>\n",
       "      <th>origLTV</th>\n",
       "      <th>origCLTV</th>\n",
       "      <th>numBorower</th>\n",
       "      <th>DTI</th>\n",
       "      <th>borrowCreditScore</th>\n",
       "      <th>numberOfUnit</th>\n",
       "      <th>zip</th>\n",
       "      <th>miPercentage</th>\n",
       "      <th>coBorrowCreditScore</th>\n",
       "    </tr>\n",
       "  </thead>\n",
       "  <tbody>\n",
       "    <tr>\n",
       "      <th>count</th>\n",
       "      <td>3.266950e+05</td>\n",
       "      <td>326695.000000</td>\n",
       "      <td>3.266950e+05</td>\n",
       "      <td>326695.000000</td>\n",
       "      <td>326695.000000</td>\n",
       "      <td>326695.000000</td>\n",
       "      <td>326695.000000</td>\n",
       "      <td>326598.000000</td>\n",
       "      <td>326577.000000</td>\n",
       "      <td>326695.000000</td>\n",
       "      <td>326695.000000</td>\n",
       "      <td>103468.000000</td>\n",
       "      <td>157147.000000</td>\n",
       "    </tr>\n",
       "    <tr>\n",
       "      <th>mean</th>\n",
       "      <td>5.503930e+11</td>\n",
       "      <td>4.172323</td>\n",
       "      <td>2.407928e+05</td>\n",
       "      <td>359.843582</td>\n",
       "      <td>76.884966</td>\n",
       "      <td>77.596416</td>\n",
       "      <td>1.487069</td>\n",
       "      <td>34.023647</td>\n",
       "      <td>751.836755</td>\n",
       "      <td>1.038795</td>\n",
       "      <td>601.307244</td>\n",
       "      <td>25.356622</td>\n",
       "      <td>759.128179</td>\n",
       "    </tr>\n",
       "    <tr>\n",
       "      <th>std</th>\n",
       "      <td>2.596103e+11</td>\n",
       "      <td>0.344801</td>\n",
       "      <td>1.202889e+05</td>\n",
       "      <td>2.168483</td>\n",
       "      <td>14.907149</td>\n",
       "      <td>14.929720</td>\n",
       "      <td>0.512742</td>\n",
       "      <td>8.656829</td>\n",
       "      <td>46.097700</td>\n",
       "      <td>0.269014</td>\n",
       "      <td>305.976799</td>\n",
       "      <td>6.525678</td>\n",
       "      <td>43.350807</td>\n",
       "    </tr>\n",
       "    <tr>\n",
       "      <th>min</th>\n",
       "      <td>1.000021e+11</td>\n",
       "      <td>2.750000</td>\n",
       "      <td>1.200000e+04</td>\n",
       "      <td>301.000000</td>\n",
       "      <td>3.000000</td>\n",
       "      <td>3.000000</td>\n",
       "      <td>1.000000</td>\n",
       "      <td>1.000000</td>\n",
       "      <td>471.000000</td>\n",
       "      <td>1.000000</td>\n",
       "      <td>0.000000</td>\n",
       "      <td>6.000000</td>\n",
       "      <td>490.000000</td>\n",
       "    </tr>\n",
       "    <tr>\n",
       "      <th>25%</th>\n",
       "      <td>3.252292e+11</td>\n",
       "      <td>3.875000</td>\n",
       "      <td>1.470000e+05</td>\n",
       "      <td>360.000000</td>\n",
       "      <td>70.000000</td>\n",
       "      <td>71.000000</td>\n",
       "      <td>1.000000</td>\n",
       "      <td>28.000000</td>\n",
       "      <td>720.000000</td>\n",
       "      <td>1.000000</td>\n",
       "      <td>327.000000</td>\n",
       "      <td>25.000000</td>\n",
       "      <td>732.000000</td>\n",
       "    </tr>\n",
       "    <tr>\n",
       "      <th>50%</th>\n",
       "      <td>5.510662e+11</td>\n",
       "      <td>4.125000</td>\n",
       "      <td>2.220000e+05</td>\n",
       "      <td>360.000000</td>\n",
       "      <td>80.000000</td>\n",
       "      <td>80.000000</td>\n",
       "      <td>1.000000</td>\n",
       "      <td>35.000000</td>\n",
       "      <td>762.000000</td>\n",
       "      <td>1.000000</td>\n",
       "      <td>640.000000</td>\n",
       "      <td>30.000000</td>\n",
       "      <td>770.000000</td>\n",
       "    </tr>\n",
       "    <tr>\n",
       "      <th>75%</th>\n",
       "      <td>7.754436e+11</td>\n",
       "      <td>4.375000</td>\n",
       "      <td>3.200000e+05</td>\n",
       "      <td>360.000000</td>\n",
       "      <td>90.000000</td>\n",
       "      <td>90.000000</td>\n",
       "      <td>2.000000</td>\n",
       "      <td>41.000000</td>\n",
       "      <td>790.000000</td>\n",
       "      <td>1.000000</td>\n",
       "      <td>907.000000</td>\n",
       "      <td>30.000000</td>\n",
       "      <td>794.000000</td>\n",
       "    </tr>\n",
       "    <tr>\n",
       "      <th>max</th>\n",
       "      <td>9.999957e+11</td>\n",
       "      <td>6.125000</td>\n",
       "      <td>1.203000e+06</td>\n",
       "      <td>360.000000</td>\n",
       "      <td>97.000000</td>\n",
       "      <td>105.000000</td>\n",
       "      <td>4.000000</td>\n",
       "      <td>51.000000</td>\n",
       "      <td>839.000000</td>\n",
       "      <td>4.000000</td>\n",
       "      <td>999.000000</td>\n",
       "      <td>40.000000</td>\n",
       "      <td>837.000000</td>\n",
       "    </tr>\n",
       "  </tbody>\n",
       "</table>\n",
       "</div>"
      ],
      "text/plain": [
       "             loanID    origIntRate       origUPB   origLoanTerm  \\\n",
       "count  3.266950e+05  326695.000000  3.266950e+05  326695.000000   \n",
       "mean   5.503930e+11       4.172323  2.407928e+05     359.843582   \n",
       "std    2.596103e+11       0.344801  1.202889e+05       2.168483   \n",
       "min    1.000021e+11       2.750000  1.200000e+04     301.000000   \n",
       "25%    3.252292e+11       3.875000  1.470000e+05     360.000000   \n",
       "50%    5.510662e+11       4.125000  2.220000e+05     360.000000   \n",
       "75%    7.754436e+11       4.375000  3.200000e+05     360.000000   \n",
       "max    9.999957e+11       6.125000  1.203000e+06     360.000000   \n",
       "\n",
       "             origLTV       origCLTV     numBorower            DTI  \\\n",
       "count  326695.000000  326695.000000  326695.000000  326598.000000   \n",
       "mean       76.884966      77.596416       1.487069      34.023647   \n",
       "std        14.907149      14.929720       0.512742       8.656829   \n",
       "min         3.000000       3.000000       1.000000       1.000000   \n",
       "25%        70.000000      71.000000       1.000000      28.000000   \n",
       "50%        80.000000      80.000000       1.000000      35.000000   \n",
       "75%        90.000000      90.000000       2.000000      41.000000   \n",
       "max        97.000000     105.000000       4.000000      51.000000   \n",
       "\n",
       "       borrowCreditScore   numberOfUnit            zip   miPercentage  \\\n",
       "count      326577.000000  326695.000000  326695.000000  103468.000000   \n",
       "mean          751.836755       1.038795     601.307244      25.356622   \n",
       "std            46.097700       0.269014     305.976799       6.525678   \n",
       "min           471.000000       1.000000       0.000000       6.000000   \n",
       "25%           720.000000       1.000000     327.000000      25.000000   \n",
       "50%           762.000000       1.000000     640.000000      30.000000   \n",
       "75%           790.000000       1.000000     907.000000      30.000000   \n",
       "max           839.000000       4.000000     999.000000      40.000000   \n",
       "\n",
       "       coBorrowCreditScore  \n",
       "count        157147.000000  \n",
       "mean            759.128179  \n",
       "std              43.350807  \n",
       "min             490.000000  \n",
       "25%             732.000000  \n",
       "50%             770.000000  \n",
       "75%             794.000000  \n",
       "max             837.000000  "
      ]
     },
     "execution_count": 46,
     "metadata": {},
     "output_type": "execute_result"
    }
   ],
   "source": [
    "loanData.describe()"
   ]
  },
  {
   "cell_type": "code",
   "execution_count": 47,
   "metadata": {
    "collapsed": false
   },
   "outputs": [
    {
     "data": {
      "text/plain": [
       "751.8367551909657"
      ]
     },
     "execution_count": 47,
     "metadata": {},
     "output_type": "execute_result"
    }
   ],
   "source": [
    "loanData['borrowCreditScore'].mean()"
   ]
  },
  {
   "cell_type": "code",
   "execution_count": 48,
   "metadata": {
    "collapsed": false
   },
   "outputs": [
    {
     "data": {
      "text/plain": [
       "471.0"
      ]
     },
     "execution_count": 48,
     "metadata": {},
     "output_type": "execute_result"
    }
   ],
   "source": [
    "loanData['borrowCreditScore'].min()"
   ]
  },
  {
   "cell_type": "code",
   "execution_count": 49,
   "metadata": {
    "collapsed": false
   },
   "outputs": [
    {
     "data": {
      "text/plain": [
       "839.0"
      ]
     },
     "execution_count": 49,
     "metadata": {},
     "output_type": "execute_result"
    }
   ],
   "source": [
    "loanData['borrowCreditScore'].max()"
   ]
  },
  {
   "cell_type": "code",
   "execution_count": 50,
   "metadata": {
    "collapsed": false
   },
   "outputs": [
    {
     "data": {
      "text/plain": [
       "46.09769953873249"
      ]
     },
     "execution_count": 50,
     "metadata": {},
     "output_type": "execute_result"
    }
   ],
   "source": [
    "loanData['borrowCreditScore'].std()"
   ]
  },
  {
   "cell_type": "code",
   "execution_count": 51,
   "metadata": {
    "collapsed": false
   },
   "outputs": [
    {
     "data": {
      "text/plain": [
       "0    801.0\n",
       "dtype: float64"
      ]
     },
     "execution_count": 51,
     "metadata": {},
     "output_type": "execute_result"
    }
   ],
   "source": [
    "loanData['borrowCreditScore'].mode()"
   ]
  },
  {
   "cell_type": "code",
   "execution_count": 52,
   "metadata": {
    "collapsed": false,
    "scrolled": true
   },
   "outputs": [
    {
     "data": {
      "text/html": [
       "<div>\n",
       "<style scoped>\n",
       "    .dataframe tbody tr th:only-of-type {\n",
       "        vertical-align: middle;\n",
       "    }\n",
       "\n",
       "    .dataframe tbody tr th {\n",
       "        vertical-align: top;\n",
       "    }\n",
       "\n",
       "    .dataframe thead th {\n",
       "        text-align: right;\n",
       "    }\n",
       "</style>\n",
       "<table border=\"1\" class=\"dataframe\">\n",
       "  <thead>\n",
       "    <tr style=\"text-align: right;\">\n",
       "      <th></th>\n",
       "      <th>loanID</th>\n",
       "      <th>origIntRate</th>\n",
       "      <th>origUPB</th>\n",
       "      <th>origLoanTerm</th>\n",
       "      <th>origLTV</th>\n",
       "      <th>origCLTV</th>\n",
       "      <th>numBorower</th>\n",
       "      <th>DTI</th>\n",
       "      <th>borrowCreditScore</th>\n",
       "      <th>numberOfUnit</th>\n",
       "      <th>zip</th>\n",
       "      <th>miPercentage</th>\n",
       "      <th>coBorrowCreditScore</th>\n",
       "    </tr>\n",
       "  </thead>\n",
       "  <tbody>\n",
       "    <tr>\n",
       "      <th>loanID</th>\n",
       "      <td>1.000000</td>\n",
       "      <td>-0.002168</td>\n",
       "      <td>-0.000944</td>\n",
       "      <td>-0.001819</td>\n",
       "      <td>0.000579</td>\n",
       "      <td>0.000335</td>\n",
       "      <td>0.001874</td>\n",
       "      <td>-0.001564</td>\n",
       "      <td>0.003674</td>\n",
       "      <td>0.000041</td>\n",
       "      <td>-0.002308</td>\n",
       "      <td>0.000819</td>\n",
       "      <td>0.001936</td>\n",
       "    </tr>\n",
       "    <tr>\n",
       "      <th>origIntRate</th>\n",
       "      <td>-0.002168</td>\n",
       "      <td>1.000000</td>\n",
       "      <td>-0.208986</td>\n",
       "      <td>-0.011273</td>\n",
       "      <td>0.164424</td>\n",
       "      <td>0.161094</td>\n",
       "      <td>-0.065848</td>\n",
       "      <td>0.149126</td>\n",
       "      <td>-0.388532</td>\n",
       "      <td>0.109249</td>\n",
       "      <td>-0.038613</td>\n",
       "      <td>-0.079057</td>\n",
       "      <td>-0.366862</td>\n",
       "    </tr>\n",
       "    <tr>\n",
       "      <th>origUPB</th>\n",
       "      <td>-0.000944</td>\n",
       "      <td>-0.208986</td>\n",
       "      <td>1.000000</td>\n",
       "      <td>-0.007772</td>\n",
       "      <td>-0.030600</td>\n",
       "      <td>-0.007717</td>\n",
       "      <td>0.166198</td>\n",
       "      <td>0.060736</td>\n",
       "      <td>0.090680</td>\n",
       "      <td>0.086089</td>\n",
       "      <td>0.160365</td>\n",
       "      <td>-0.019131</td>\n",
       "      <td>0.067285</td>\n",
       "    </tr>\n",
       "    <tr>\n",
       "      <th>origLoanTerm</th>\n",
       "      <td>-0.001819</td>\n",
       "      <td>-0.011273</td>\n",
       "      <td>-0.007772</td>\n",
       "      <td>1.000000</td>\n",
       "      <td>0.008183</td>\n",
       "      <td>0.008921</td>\n",
       "      <td>-0.013515</td>\n",
       "      <td>0.013625</td>\n",
       "      <td>-0.018940</td>\n",
       "      <td>0.006000</td>\n",
       "      <td>0.017326</td>\n",
       "      <td>0.027957</td>\n",
       "      <td>-0.019572</td>\n",
       "    </tr>\n",
       "    <tr>\n",
       "      <th>origLTV</th>\n",
       "      <td>0.000579</td>\n",
       "      <td>0.164424</td>\n",
       "      <td>-0.030600</td>\n",
       "      <td>0.008183</td>\n",
       "      <td>1.000000</td>\n",
       "      <td>0.973429</td>\n",
       "      <td>-0.043807</td>\n",
       "      <td>0.048152</td>\n",
       "      <td>-0.098579</td>\n",
       "      <td>-0.100509</td>\n",
       "      <td>-0.130198</td>\n",
       "      <td>0.767360</td>\n",
       "      <td>-0.140064</td>\n",
       "    </tr>\n",
       "    <tr>\n",
       "      <th>origCLTV</th>\n",
       "      <td>0.000335</td>\n",
       "      <td>0.161094</td>\n",
       "      <td>-0.007717</td>\n",
       "      <td>0.008921</td>\n",
       "      <td>0.973429</td>\n",
       "      <td>1.000000</td>\n",
       "      <td>-0.038430</td>\n",
       "      <td>0.049880</td>\n",
       "      <td>-0.104063</td>\n",
       "      <td>-0.105279</td>\n",
       "      <td>-0.127452</td>\n",
       "      <td>0.626622</td>\n",
       "      <td>-0.145683</td>\n",
       "    </tr>\n",
       "    <tr>\n",
       "      <th>numBorower</th>\n",
       "      <td>0.001874</td>\n",
       "      <td>-0.065848</td>\n",
       "      <td>0.166198</td>\n",
       "      <td>-0.013515</td>\n",
       "      <td>-0.043807</td>\n",
       "      <td>-0.038430</td>\n",
       "      <td>1.000000</td>\n",
       "      <td>-0.093050</td>\n",
       "      <td>0.115622</td>\n",
       "      <td>-0.002000</td>\n",
       "      <td>0.035792</td>\n",
       "      <td>0.011339</td>\n",
       "      <td>-0.004082</td>\n",
       "    </tr>\n",
       "    <tr>\n",
       "      <th>DTI</th>\n",
       "      <td>-0.001564</td>\n",
       "      <td>0.149126</td>\n",
       "      <td>0.060736</td>\n",
       "      <td>0.013625</td>\n",
       "      <td>0.048152</td>\n",
       "      <td>0.049880</td>\n",
       "      <td>-0.093050</td>\n",
       "      <td>1.000000</td>\n",
       "      <td>-0.181649</td>\n",
       "      <td>0.018396</td>\n",
       "      <td>0.045397</td>\n",
       "      <td>0.009280</td>\n",
       "      <td>-0.200430</td>\n",
       "    </tr>\n",
       "    <tr>\n",
       "      <th>borrowCreditScore</th>\n",
       "      <td>0.003674</td>\n",
       "      <td>-0.388532</td>\n",
       "      <td>0.090680</td>\n",
       "      <td>-0.018940</td>\n",
       "      <td>-0.098579</td>\n",
       "      <td>-0.104063</td>\n",
       "      <td>0.115622</td>\n",
       "      <td>-0.181649</td>\n",
       "      <td>1.000000</td>\n",
       "      <td>0.026819</td>\n",
       "      <td>0.017597</td>\n",
       "      <td>0.021233</td>\n",
       "      <td>0.680389</td>\n",
       "    </tr>\n",
       "    <tr>\n",
       "      <th>numberOfUnit</th>\n",
       "      <td>0.000041</td>\n",
       "      <td>0.109249</td>\n",
       "      <td>0.086089</td>\n",
       "      <td>0.006000</td>\n",
       "      <td>-0.100509</td>\n",
       "      <td>-0.105279</td>\n",
       "      <td>-0.002000</td>\n",
       "      <td>0.018396</td>\n",
       "      <td>0.026819</td>\n",
       "      <td>1.000000</td>\n",
       "      <td>-0.002966</td>\n",
       "      <td>-0.119837</td>\n",
       "      <td>0.026335</td>\n",
       "    </tr>\n",
       "    <tr>\n",
       "      <th>zip</th>\n",
       "      <td>-0.002308</td>\n",
       "      <td>-0.038613</td>\n",
       "      <td>0.160365</td>\n",
       "      <td>0.017326</td>\n",
       "      <td>-0.130198</td>\n",
       "      <td>-0.127452</td>\n",
       "      <td>0.035792</td>\n",
       "      <td>0.045397</td>\n",
       "      <td>0.017597</td>\n",
       "      <td>-0.002966</td>\n",
       "      <td>1.000000</td>\n",
       "      <td>-0.013030</td>\n",
       "      <td>0.008217</td>\n",
       "    </tr>\n",
       "    <tr>\n",
       "      <th>miPercentage</th>\n",
       "      <td>0.000819</td>\n",
       "      <td>-0.079057</td>\n",
       "      <td>-0.019131</td>\n",
       "      <td>0.027957</td>\n",
       "      <td>0.767360</td>\n",
       "      <td>0.626622</td>\n",
       "      <td>0.011339</td>\n",
       "      <td>0.009280</td>\n",
       "      <td>0.021233</td>\n",
       "      <td>-0.119837</td>\n",
       "      <td>-0.013030</td>\n",
       "      <td>1.000000</td>\n",
       "      <td>-0.009519</td>\n",
       "    </tr>\n",
       "    <tr>\n",
       "      <th>coBorrowCreditScore</th>\n",
       "      <td>0.001936</td>\n",
       "      <td>-0.366862</td>\n",
       "      <td>0.067285</td>\n",
       "      <td>-0.019572</td>\n",
       "      <td>-0.140064</td>\n",
       "      <td>-0.145683</td>\n",
       "      <td>-0.004082</td>\n",
       "      <td>-0.200430</td>\n",
       "      <td>0.680389</td>\n",
       "      <td>0.026335</td>\n",
       "      <td>0.008217</td>\n",
       "      <td>-0.009519</td>\n",
       "      <td>1.000000</td>\n",
       "    </tr>\n",
       "  </tbody>\n",
       "</table>\n",
       "</div>"
      ],
      "text/plain": [
       "                       loanID  origIntRate   origUPB  origLoanTerm   origLTV  \\\n",
       "loanID               1.000000    -0.002168 -0.000944     -0.001819  0.000579   \n",
       "origIntRate         -0.002168     1.000000 -0.208986     -0.011273  0.164424   \n",
       "origUPB             -0.000944    -0.208986  1.000000     -0.007772 -0.030600   \n",
       "origLoanTerm        -0.001819    -0.011273 -0.007772      1.000000  0.008183   \n",
       "origLTV              0.000579     0.164424 -0.030600      0.008183  1.000000   \n",
       "origCLTV             0.000335     0.161094 -0.007717      0.008921  0.973429   \n",
       "numBorower           0.001874    -0.065848  0.166198     -0.013515 -0.043807   \n",
       "DTI                 -0.001564     0.149126  0.060736      0.013625  0.048152   \n",
       "borrowCreditScore    0.003674    -0.388532  0.090680     -0.018940 -0.098579   \n",
       "numberOfUnit         0.000041     0.109249  0.086089      0.006000 -0.100509   \n",
       "zip                 -0.002308    -0.038613  0.160365      0.017326 -0.130198   \n",
       "miPercentage         0.000819    -0.079057 -0.019131      0.027957  0.767360   \n",
       "coBorrowCreditScore  0.001936    -0.366862  0.067285     -0.019572 -0.140064   \n",
       "\n",
       "                     origCLTV  numBorower       DTI  borrowCreditScore  \\\n",
       "loanID               0.000335    0.001874 -0.001564           0.003674   \n",
       "origIntRate          0.161094   -0.065848  0.149126          -0.388532   \n",
       "origUPB             -0.007717    0.166198  0.060736           0.090680   \n",
       "origLoanTerm         0.008921   -0.013515  0.013625          -0.018940   \n",
       "origLTV              0.973429   -0.043807  0.048152          -0.098579   \n",
       "origCLTV             1.000000   -0.038430  0.049880          -0.104063   \n",
       "numBorower          -0.038430    1.000000 -0.093050           0.115622   \n",
       "DTI                  0.049880   -0.093050  1.000000          -0.181649   \n",
       "borrowCreditScore   -0.104063    0.115622 -0.181649           1.000000   \n",
       "numberOfUnit        -0.105279   -0.002000  0.018396           0.026819   \n",
       "zip                 -0.127452    0.035792  0.045397           0.017597   \n",
       "miPercentage         0.626622    0.011339  0.009280           0.021233   \n",
       "coBorrowCreditScore -0.145683   -0.004082 -0.200430           0.680389   \n",
       "\n",
       "                     numberOfUnit       zip  miPercentage  coBorrowCreditScore  \n",
       "loanID                   0.000041 -0.002308      0.000819             0.001936  \n",
       "origIntRate              0.109249 -0.038613     -0.079057            -0.366862  \n",
       "origUPB                  0.086089  0.160365     -0.019131             0.067285  \n",
       "origLoanTerm             0.006000  0.017326      0.027957            -0.019572  \n",
       "origLTV                 -0.100509 -0.130198      0.767360            -0.140064  \n",
       "origCLTV                -0.105279 -0.127452      0.626622            -0.145683  \n",
       "numBorower              -0.002000  0.035792      0.011339            -0.004082  \n",
       "DTI                      0.018396  0.045397      0.009280            -0.200430  \n",
       "borrowCreditScore        0.026819  0.017597      0.021233             0.680389  \n",
       "numberOfUnit             1.000000 -0.002966     -0.119837             0.026335  \n",
       "zip                     -0.002966  1.000000     -0.013030             0.008217  \n",
       "miPercentage            -0.119837 -0.013030      1.000000            -0.009519  \n",
       "coBorrowCreditScore      0.026335  0.008217     -0.009519             1.000000  "
      ]
     },
     "execution_count": 52,
     "metadata": {},
     "output_type": "execute_result"
    }
   ],
   "source": [
    "loanData.corr()"
   ]
  },
  {
   "cell_type": "code",
   "execution_count": 53,
   "metadata": {
    "collapsed": false
   },
   "outputs": [
    {
     "name": "stdout",
     "output_type": "stream",
     "text": [
      "0         False\n",
      "1         False\n",
      "2          True\n",
      "3         False\n",
      "4         False\n",
      "5         False\n",
      "6         False\n",
      "7         False\n",
      "8          True\n",
      "9         False\n",
      "10        False\n",
      "11        False\n",
      "12        False\n",
      "13        False\n",
      "14        False\n",
      "15        False\n",
      "16        False\n",
      "17        False\n",
      "18        False\n",
      "19        False\n",
      "20        False\n",
      "21        False\n",
      "22         True\n",
      "23        False\n",
      "24        False\n",
      "25        False\n",
      "26        False\n",
      "27        False\n",
      "28        False\n",
      "29        False\n",
      "          ...  \n",
      "326665    False\n",
      "326666    False\n",
      "326667     True\n",
      "326668    False\n",
      "326669     True\n",
      "326670    False\n",
      "326671    False\n",
      "326672    False\n",
      "326673    False\n",
      "326674     True\n",
      "326675    False\n",
      "326676    False\n",
      "326677     True\n",
      "326678    False\n",
      "326679    False\n",
      "326680    False\n",
      "326681    False\n",
      "326682    False\n",
      "326683    False\n",
      "326684     True\n",
      "326685     True\n",
      "326686     True\n",
      "326687    False\n",
      "326688    False\n",
      "326689    False\n",
      "326690    False\n",
      "326691    False\n",
      "326692    False\n",
      "326693    False\n",
      "326694    False\n",
      "Name: borrowCreditScore, Length: 326695, dtype: bool\n"
     ]
    },
    {
     "data": {
      "text/plain": [
       "True"
      ]
     },
     "execution_count": 53,
     "metadata": {},
     "output_type": "execute_result"
    }
   ],
   "source": [
    "filter_1 = loanData['borrowCreditScore'] > 800\n",
    "print(filter_1)\n",
    "filter_1.any()"
   ]
  },
  {
   "cell_type": "code",
   "execution_count": 54,
   "metadata": {
    "collapsed": false
   },
   "outputs": [
    {
     "name": "stdout",
     "output_type": "stream",
     "text": [
      "0         True\n",
      "1         True\n",
      "2         True\n",
      "3         True\n",
      "4         True\n",
      "5         True\n",
      "6         True\n",
      "7         True\n",
      "8         True\n",
      "9         True\n",
      "10        True\n",
      "11        True\n",
      "12        True\n",
      "13        True\n",
      "14        True\n",
      "15        True\n",
      "16        True\n",
      "17        True\n",
      "18        True\n",
      "19        True\n",
      "20        True\n",
      "21        True\n",
      "22        True\n",
      "23        True\n",
      "24        True\n",
      "25        True\n",
      "26        True\n",
      "27        True\n",
      "28        True\n",
      "29        True\n",
      "          ... \n",
      "326665    True\n",
      "326666    True\n",
      "326667    True\n",
      "326668    True\n",
      "326669    True\n",
      "326670    True\n",
      "326671    True\n",
      "326672    True\n",
      "326673    True\n",
      "326674    True\n",
      "326675    True\n",
      "326676    True\n",
      "326677    True\n",
      "326678    True\n",
      "326679    True\n",
      "326680    True\n",
      "326681    True\n",
      "326682    True\n",
      "326683    True\n",
      "326684    True\n",
      "326685    True\n",
      "326686    True\n",
      "326687    True\n",
      "326688    True\n",
      "326689    True\n",
      "326690    True\n",
      "326691    True\n",
      "326692    True\n",
      "326693    True\n",
      "326694    True\n",
      "Name: borrowCreditScore, Length: 326695, dtype: bool\n"
     ]
    },
    {
     "data": {
      "text/plain": [
       "False"
      ]
     },
     "execution_count": 54,
     "metadata": {},
     "output_type": "execute_result"
    }
   ],
   "source": [
    "filter_2 = loanData['borrowCreditScore']>0\n",
    "print(filter_2)\n",
    "filter_2.all()"
   ]
  },
  {
   "cell_type": "markdown",
   "metadata": {},
   "source": [
    "<h1 style=\"font-size:2em;color:#2467C0\">Merge Dataframes</h1>"
   ]
  },
  {
   "cell_type": "code",
   "execution_count": 55,
   "metadata": {},
   "outputs": [],
   "source": [
    "loanAll = pd.merge(loanData, perfData, on='loanID', how='inner')"
   ]
  },
  {
   "cell_type": "markdown",
   "metadata": {},
   "source": [
    "More examples: http://pandas.pydata.org/pandas-docs/stable/merging.html"
   ]
  },
  {
   "cell_type": "markdown",
   "metadata": {},
   "source": [
    "<h1 style=\"font-size:2em;color:#2467C0\">Data Cleaning: Handling Missing Data</h1>"
   ]
  },
  {
   "cell_type": "code",
   "execution_count": 56,
   "metadata": {
    "collapsed": false
   },
   "outputs": [
    {
     "data": {
      "text/plain": [
       "(326695, 23)"
      ]
     },
     "execution_count": 56,
     "metadata": {},
     "output_type": "execute_result"
    }
   ],
   "source": [
    "loanData.shape"
   ]
  },
  {
   "cell_type": "code",
   "execution_count": 57,
   "metadata": {
    "collapsed": false
   },
   "outputs": [
    {
     "data": {
      "text/plain": [
       "loanID                 False\n",
       "channel                False\n",
       "sellerName             False\n",
       "origIntRate            False\n",
       "origUPB                False\n",
       "origLoanTerm           False\n",
       "orig_date              False\n",
       "firstPaymentDate       False\n",
       "origLTV                False\n",
       "origCLTV               False\n",
       "numBorower             False\n",
       "DTI                     True\n",
       "borrowCreditScore       True\n",
       "firstTimeBuyer         False\n",
       "loanPurpose            False\n",
       "propertyType           False\n",
       "numberOfUnit           False\n",
       "occupStatus            False\n",
       "propType               False\n",
       "zip                    False\n",
       "miPercentage            True\n",
       "prodType               False\n",
       "coBorrowCreditScore     True\n",
       "dtype: bool"
      ]
     },
     "execution_count": 57,
     "metadata": {},
     "output_type": "execute_result"
    }
   ],
   "source": [
    "#is any row NULL ?\n",
    "\n",
    "loanData.isnull().any()"
   ]
  },
  {
   "cell_type": "code",
   "execution_count": 58,
   "metadata": {},
   "outputs": [
    {
     "data": {
      "text/html": [
       "<div>\n",
       "<style scoped>\n",
       "    .dataframe tbody tr th:only-of-type {\n",
       "        vertical-align: middle;\n",
       "    }\n",
       "\n",
       "    .dataframe tbody tr th {\n",
       "        vertical-align: top;\n",
       "    }\n",
       "\n",
       "    .dataframe thead th {\n",
       "        text-align: right;\n",
       "    }\n",
       "</style>\n",
       "<table border=\"1\" class=\"dataframe\">\n",
       "  <thead>\n",
       "    <tr style=\"text-align: right;\">\n",
       "      <th></th>\n",
       "      <th>Total</th>\n",
       "      <th>Percent</th>\n",
       "    </tr>\n",
       "  </thead>\n",
       "  <tbody>\n",
       "    <tr>\n",
       "      <th>unknown2</th>\n",
       "      <td>1700000</td>\n",
       "      <td>100.000000</td>\n",
       "    </tr>\n",
       "    <tr>\n",
       "      <th>unknown1</th>\n",
       "      <td>1700000</td>\n",
       "      <td>100.000000</td>\n",
       "    </tr>\n",
       "    <tr>\n",
       "      <th>otherForeclProceed</th>\n",
       "      <td>1700000</td>\n",
       "      <td>100.000000</td>\n",
       "    </tr>\n",
       "    <tr>\n",
       "      <th>repurchaseMakeWhole</th>\n",
       "      <td>1700000</td>\n",
       "      <td>100.000000</td>\n",
       "    </tr>\n",
       "    <tr>\n",
       "      <th>creditEnhcProceed</th>\n",
       "      <td>1700000</td>\n",
       "      <td>100.000000</td>\n",
       "    </tr>\n",
       "    <tr>\n",
       "      <th>netSalesProceed</th>\n",
       "      <td>1700000</td>\n",
       "      <td>100.000000</td>\n",
       "    </tr>\n",
       "    <tr>\n",
       "      <th>taxAssociated</th>\n",
       "      <td>1700000</td>\n",
       "      <td>100.000000</td>\n",
       "    </tr>\n",
       "    <tr>\n",
       "      <th>miscHoldingExpCredit</th>\n",
       "      <td>1700000</td>\n",
       "      <td>100.000000</td>\n",
       "    </tr>\n",
       "    <tr>\n",
       "      <th>assetRecovCost</th>\n",
       "      <td>1700000</td>\n",
       "      <td>100.000000</td>\n",
       "    </tr>\n",
       "    <tr>\n",
       "      <th>propMaintCost</th>\n",
       "      <td>1700000</td>\n",
       "      <td>100.000000</td>\n",
       "    </tr>\n",
       "    <tr>\n",
       "      <th>foreclCost</th>\n",
       "      <td>1700000</td>\n",
       "      <td>100.000000</td>\n",
       "    </tr>\n",
       "    <tr>\n",
       "      <th>dispositionDate</th>\n",
       "      <td>1700000</td>\n",
       "      <td>100.000000</td>\n",
       "    </tr>\n",
       "    <tr>\n",
       "      <th>forecloseDate</th>\n",
       "      <td>1700000</td>\n",
       "      <td>100.000000</td>\n",
       "    </tr>\n",
       "    <tr>\n",
       "      <th>lastPaidInstallDate</th>\n",
       "      <td>1700000</td>\n",
       "      <td>100.000000</td>\n",
       "    </tr>\n",
       "    <tr>\n",
       "      <th>loanBalEffectDate</th>\n",
       "      <td>1692364</td>\n",
       "      <td>99.550824</td>\n",
       "    </tr>\n",
       "    <tr>\n",
       "      <th>zeroBalCode</th>\n",
       "      <td>1692364</td>\n",
       "      <td>99.550824</td>\n",
       "    </tr>\n",
       "    <tr>\n",
       "      <th>servicerName</th>\n",
       "      <td>1515710</td>\n",
       "      <td>89.159412</td>\n",
       "    </tr>\n",
       "    <tr>\n",
       "      <th>miPercentage</th>\n",
       "      <td>1154949</td>\n",
       "      <td>67.938176</td>\n",
       "    </tr>\n",
       "    <tr>\n",
       "      <th>currUPB</th>\n",
       "      <td>938008</td>\n",
       "      <td>55.176941</td>\n",
       "    </tr>\n",
       "    <tr>\n",
       "      <th>coBorrowCreditScore</th>\n",
       "      <td>884891</td>\n",
       "      <td>52.052412</td>\n",
       "    </tr>\n",
       "    <tr>\n",
       "      <th>borrowCreditScore</th>\n",
       "      <td>648</td>\n",
       "      <td>0.038118</td>\n",
       "    </tr>\n",
       "    <tr>\n",
       "      <th>DTI</th>\n",
       "      <td>540</td>\n",
       "      <td>0.031765</td>\n",
       "    </tr>\n",
       "    <tr>\n",
       "      <th>delinqStatus</th>\n",
       "      <td>0</td>\n",
       "      <td>0.000000</td>\n",
       "    </tr>\n",
       "    <tr>\n",
       "      <th>numBorower</th>\n",
       "      <td>0</td>\n",
       "      <td>0.000000</td>\n",
       "    </tr>\n",
       "    <tr>\n",
       "      <th>origCLTV</th>\n",
       "      <td>0</td>\n",
       "      <td>0.000000</td>\n",
       "    </tr>\n",
       "    <tr>\n",
       "      <th>origLTV</th>\n",
       "      <td>0</td>\n",
       "      <td>0.000000</td>\n",
       "    </tr>\n",
       "    <tr>\n",
       "      <th>firstPaymentDate</th>\n",
       "      <td>0</td>\n",
       "      <td>0.000000</td>\n",
       "    </tr>\n",
       "    <tr>\n",
       "      <th>loanPurpose</th>\n",
       "      <td>0</td>\n",
       "      <td>0.000000</td>\n",
       "    </tr>\n",
       "    <tr>\n",
       "      <th>orig_date</th>\n",
       "      <td>0</td>\n",
       "      <td>0.000000</td>\n",
       "    </tr>\n",
       "    <tr>\n",
       "      <th>origLoanTerm</th>\n",
       "      <td>0</td>\n",
       "      <td>0.000000</td>\n",
       "    </tr>\n",
       "    <tr>\n",
       "      <th>origUPB</th>\n",
       "      <td>0</td>\n",
       "      <td>0.000000</td>\n",
       "    </tr>\n",
       "    <tr>\n",
       "      <th>origIntRate</th>\n",
       "      <td>0</td>\n",
       "      <td>0.000000</td>\n",
       "    </tr>\n",
       "    <tr>\n",
       "      <th>sellerName</th>\n",
       "      <td>0</td>\n",
       "      <td>0.000000</td>\n",
       "    </tr>\n",
       "    <tr>\n",
       "      <th>channel</th>\n",
       "      <td>0</td>\n",
       "      <td>0.000000</td>\n",
       "    </tr>\n",
       "    <tr>\n",
       "      <th>firstTimeBuyer</th>\n",
       "      <td>0</td>\n",
       "      <td>0.000000</td>\n",
       "    </tr>\n",
       "    <tr>\n",
       "      <th>numberOfUnit</th>\n",
       "      <td>0</td>\n",
       "      <td>0.000000</td>\n",
       "    </tr>\n",
       "    <tr>\n",
       "      <th>propertyType</th>\n",
       "      <td>0</td>\n",
       "      <td>0.000000</td>\n",
       "    </tr>\n",
       "    <tr>\n",
       "      <th>MSA</th>\n",
       "      <td>0</td>\n",
       "      <td>0.000000</td>\n",
       "    </tr>\n",
       "    <tr>\n",
       "      <th>occupStatus</th>\n",
       "      <td>0</td>\n",
       "      <td>0.000000</td>\n",
       "    </tr>\n",
       "    <tr>\n",
       "      <th>propType</th>\n",
       "      <td>0</td>\n",
       "      <td>0.000000</td>\n",
       "    </tr>\n",
       "    <tr>\n",
       "      <th>zip</th>\n",
       "      <td>0</td>\n",
       "      <td>0.000000</td>\n",
       "    </tr>\n",
       "    <tr>\n",
       "      <th>prodType</th>\n",
       "      <td>0</td>\n",
       "      <td>0.000000</td>\n",
       "    </tr>\n",
       "    <tr>\n",
       "      <th>periodMonth</th>\n",
       "      <td>0</td>\n",
       "      <td>0.000000</td>\n",
       "    </tr>\n",
       "    <tr>\n",
       "      <th>modFlag</th>\n",
       "      <td>0</td>\n",
       "      <td>0.000000</td>\n",
       "    </tr>\n",
       "    <tr>\n",
       "      <th>currIntRate</th>\n",
       "      <td>0</td>\n",
       "      <td>0.000000</td>\n",
       "    </tr>\n",
       "    <tr>\n",
       "      <th>loanAge</th>\n",
       "      <td>0</td>\n",
       "      <td>0.000000</td>\n",
       "    </tr>\n",
       "    <tr>\n",
       "      <th>monthToMature</th>\n",
       "      <td>0</td>\n",
       "      <td>0.000000</td>\n",
       "    </tr>\n",
       "    <tr>\n",
       "      <th>adjMonthToMature</th>\n",
       "      <td>0</td>\n",
       "      <td>0.000000</td>\n",
       "    </tr>\n",
       "    <tr>\n",
       "      <th>maturityDate</th>\n",
       "      <td>0</td>\n",
       "      <td>0.000000</td>\n",
       "    </tr>\n",
       "    <tr>\n",
       "      <th>loanID</th>\n",
       "      <td>0</td>\n",
       "      <td>0.000000</td>\n",
       "    </tr>\n",
       "  </tbody>\n",
       "</table>\n",
       "</div>"
      ],
      "text/plain": [
       "                        Total     Percent\n",
       "unknown2              1700000  100.000000\n",
       "unknown1              1700000  100.000000\n",
       "otherForeclProceed    1700000  100.000000\n",
       "repurchaseMakeWhole   1700000  100.000000\n",
       "creditEnhcProceed     1700000  100.000000\n",
       "netSalesProceed       1700000  100.000000\n",
       "taxAssociated         1700000  100.000000\n",
       "miscHoldingExpCredit  1700000  100.000000\n",
       "assetRecovCost        1700000  100.000000\n",
       "propMaintCost         1700000  100.000000\n",
       "foreclCost            1700000  100.000000\n",
       "dispositionDate       1700000  100.000000\n",
       "forecloseDate         1700000  100.000000\n",
       "lastPaidInstallDate   1700000  100.000000\n",
       "loanBalEffectDate     1692364   99.550824\n",
       "zeroBalCode           1692364   99.550824\n",
       "servicerName          1515710   89.159412\n",
       "miPercentage          1154949   67.938176\n",
       "currUPB                938008   55.176941\n",
       "coBorrowCreditScore    884891   52.052412\n",
       "borrowCreditScore         648    0.038118\n",
       "DTI                       540    0.031765\n",
       "delinqStatus                0    0.000000\n",
       "numBorower                  0    0.000000\n",
       "origCLTV                    0    0.000000\n",
       "origLTV                     0    0.000000\n",
       "firstPaymentDate            0    0.000000\n",
       "loanPurpose                 0    0.000000\n",
       "orig_date                   0    0.000000\n",
       "origLoanTerm                0    0.000000\n",
       "origUPB                     0    0.000000\n",
       "origIntRate                 0    0.000000\n",
       "sellerName                  0    0.000000\n",
       "channel                     0    0.000000\n",
       "firstTimeBuyer              0    0.000000\n",
       "numberOfUnit                0    0.000000\n",
       "propertyType                0    0.000000\n",
       "MSA                         0    0.000000\n",
       "occupStatus                 0    0.000000\n",
       "propType                    0    0.000000\n",
       "zip                         0    0.000000\n",
       "prodType                    0    0.000000\n",
       "periodMonth                 0    0.000000\n",
       "modFlag                     0    0.000000\n",
       "currIntRate                 0    0.000000\n",
       "loanAge                     0    0.000000\n",
       "monthToMature               0    0.000000\n",
       "adjMonthToMature            0    0.000000\n",
       "maturityDate                0    0.000000\n",
       "loanID                      0    0.000000"
      ]
     },
     "execution_count": 58,
     "metadata": {},
     "output_type": "execute_result"
    }
   ],
   "source": [
    "# checking missing data\n",
    "total = loanAll.isnull().sum().sort_values(ascending = False)\n",
    "percent = (loanAll.isnull().sum()/loanAll.isnull().count()*100).sort_values(ascending = False)\n",
    "missing_loan_data  = pd.concat([total, percent], axis=1, keys=['Total', 'Percent'])\n",
    "missing_loan_data"
   ]
  },
  {
   "cell_type": "code",
   "execution_count": 59,
   "metadata": {},
   "outputs": [],
   "source": [
    "df  = loanAll.drop(['unknown1','unknown2', 'assetRecovCost',\n",
    " 'creditEnhcProceed',\n",
    " 'miscHoldingExpCredit',\n",
    " 'netSalesProceed',\n",
    " 'otherForeclProceed',\n",
    " 'periodMonth',\n",
    " 'propMaintCost',\n",
    " 'propType',\n",
    " 'taxAssociated',\n",
    " 'zeroBalCode',\n",
    " 'dispositionDate',\n",
    " 'repurchaseMakeWhole',\n",
    " 'foreclCost',\n",
    " 'forecloseDate',\n",
    " 'lastPaidInstallDate',\n",
    " 'loanBalEffectDate',\n",
    " 'servicerName',\n",
    " 'adjMonthToMature'                  \n",
    "  ], axis=1)"
   ]
  },
  {
   "cell_type": "code",
   "execution_count": 60,
   "metadata": {},
   "outputs": [
    {
     "data": {
      "text/plain": [
       "(1700000, 30)"
      ]
     },
     "execution_count": 60,
     "metadata": {},
     "output_type": "execute_result"
    }
   ],
   "source": [
    "df.shape"
   ]
  },
  {
   "cell_type": "code",
   "execution_count": 61,
   "metadata": {},
   "outputs": [
    {
     "data": {
      "text/html": [
       "<div>\n",
       "<style scoped>\n",
       "    .dataframe tbody tr th:only-of-type {\n",
       "        vertical-align: middle;\n",
       "    }\n",
       "\n",
       "    .dataframe tbody tr th {\n",
       "        vertical-align: top;\n",
       "    }\n",
       "\n",
       "    .dataframe thead th {\n",
       "        text-align: right;\n",
       "    }\n",
       "</style>\n",
       "<table border=\"1\" class=\"dataframe\">\n",
       "  <thead>\n",
       "    <tr style=\"text-align: right;\">\n",
       "      <th></th>\n",
       "      <th>Total</th>\n",
       "      <th>Percent</th>\n",
       "    </tr>\n",
       "  </thead>\n",
       "  <tbody>\n",
       "    <tr>\n",
       "      <th>miPercentage</th>\n",
       "      <td>1154949</td>\n",
       "      <td>67.938176</td>\n",
       "    </tr>\n",
       "    <tr>\n",
       "      <th>currUPB</th>\n",
       "      <td>938008</td>\n",
       "      <td>55.176941</td>\n",
       "    </tr>\n",
       "    <tr>\n",
       "      <th>coBorrowCreditScore</th>\n",
       "      <td>884891</td>\n",
       "      <td>52.052412</td>\n",
       "    </tr>\n",
       "    <tr>\n",
       "      <th>borrowCreditScore</th>\n",
       "      <td>648</td>\n",
       "      <td>0.038118</td>\n",
       "    </tr>\n",
       "    <tr>\n",
       "      <th>DTI</th>\n",
       "      <td>540</td>\n",
       "      <td>0.031765</td>\n",
       "    </tr>\n",
       "    <tr>\n",
       "      <th>modFlag</th>\n",
       "      <td>0</td>\n",
       "      <td>0.000000</td>\n",
       "    </tr>\n",
       "    <tr>\n",
       "      <th>channel</th>\n",
       "      <td>0</td>\n",
       "      <td>0.000000</td>\n",
       "    </tr>\n",
       "    <tr>\n",
       "      <th>sellerName</th>\n",
       "      <td>0</td>\n",
       "      <td>0.000000</td>\n",
       "    </tr>\n",
       "    <tr>\n",
       "      <th>origIntRate</th>\n",
       "      <td>0</td>\n",
       "      <td>0.000000</td>\n",
       "    </tr>\n",
       "    <tr>\n",
       "      <th>origUPB</th>\n",
       "      <td>0</td>\n",
       "      <td>0.000000</td>\n",
       "    </tr>\n",
       "    <tr>\n",
       "      <th>origLoanTerm</th>\n",
       "      <td>0</td>\n",
       "      <td>0.000000</td>\n",
       "    </tr>\n",
       "    <tr>\n",
       "      <th>orig_date</th>\n",
       "      <td>0</td>\n",
       "      <td>0.000000</td>\n",
       "    </tr>\n",
       "    <tr>\n",
       "      <th>firstPaymentDate</th>\n",
       "      <td>0</td>\n",
       "      <td>0.000000</td>\n",
       "    </tr>\n",
       "    <tr>\n",
       "      <th>origLTV</th>\n",
       "      <td>0</td>\n",
       "      <td>0.000000</td>\n",
       "    </tr>\n",
       "    <tr>\n",
       "      <th>origCLTV</th>\n",
       "      <td>0</td>\n",
       "      <td>0.000000</td>\n",
       "    </tr>\n",
       "    <tr>\n",
       "      <th>numBorower</th>\n",
       "      <td>0</td>\n",
       "      <td>0.000000</td>\n",
       "    </tr>\n",
       "    <tr>\n",
       "      <th>loanPurpose</th>\n",
       "      <td>0</td>\n",
       "      <td>0.000000</td>\n",
       "    </tr>\n",
       "    <tr>\n",
       "      <th>firstTimeBuyer</th>\n",
       "      <td>0</td>\n",
       "      <td>0.000000</td>\n",
       "    </tr>\n",
       "    <tr>\n",
       "      <th>delinqStatus</th>\n",
       "      <td>0</td>\n",
       "      <td>0.000000</td>\n",
       "    </tr>\n",
       "    <tr>\n",
       "      <th>propertyType</th>\n",
       "      <td>0</td>\n",
       "      <td>0.000000</td>\n",
       "    </tr>\n",
       "    <tr>\n",
       "      <th>numberOfUnit</th>\n",
       "      <td>0</td>\n",
       "      <td>0.000000</td>\n",
       "    </tr>\n",
       "    <tr>\n",
       "      <th>occupStatus</th>\n",
       "      <td>0</td>\n",
       "      <td>0.000000</td>\n",
       "    </tr>\n",
       "    <tr>\n",
       "      <th>zip</th>\n",
       "      <td>0</td>\n",
       "      <td>0.000000</td>\n",
       "    </tr>\n",
       "    <tr>\n",
       "      <th>prodType</th>\n",
       "      <td>0</td>\n",
       "      <td>0.000000</td>\n",
       "    </tr>\n",
       "    <tr>\n",
       "      <th>currIntRate</th>\n",
       "      <td>0</td>\n",
       "      <td>0.000000</td>\n",
       "    </tr>\n",
       "    <tr>\n",
       "      <th>loanAge</th>\n",
       "      <td>0</td>\n",
       "      <td>0.000000</td>\n",
       "    </tr>\n",
       "    <tr>\n",
       "      <th>monthToMature</th>\n",
       "      <td>0</td>\n",
       "      <td>0.000000</td>\n",
       "    </tr>\n",
       "    <tr>\n",
       "      <th>maturityDate</th>\n",
       "      <td>0</td>\n",
       "      <td>0.000000</td>\n",
       "    </tr>\n",
       "    <tr>\n",
       "      <th>MSA</th>\n",
       "      <td>0</td>\n",
       "      <td>0.000000</td>\n",
       "    </tr>\n",
       "    <tr>\n",
       "      <th>loanID</th>\n",
       "      <td>0</td>\n",
       "      <td>0.000000</td>\n",
       "    </tr>\n",
       "  </tbody>\n",
       "</table>\n",
       "</div>"
      ],
      "text/plain": [
       "                       Total    Percent\n",
       "miPercentage         1154949  67.938176\n",
       "currUPB               938008  55.176941\n",
       "coBorrowCreditScore   884891  52.052412\n",
       "borrowCreditScore        648   0.038118\n",
       "DTI                      540   0.031765\n",
       "modFlag                    0   0.000000\n",
       "channel                    0   0.000000\n",
       "sellerName                 0   0.000000\n",
       "origIntRate                0   0.000000\n",
       "origUPB                    0   0.000000\n",
       "origLoanTerm               0   0.000000\n",
       "orig_date                  0   0.000000\n",
       "firstPaymentDate           0   0.000000\n",
       "origLTV                    0   0.000000\n",
       "origCLTV                   0   0.000000\n",
       "numBorower                 0   0.000000\n",
       "loanPurpose                0   0.000000\n",
       "firstTimeBuyer             0   0.000000\n",
       "delinqStatus               0   0.000000\n",
       "propertyType               0   0.000000\n",
       "numberOfUnit               0   0.000000\n",
       "occupStatus                0   0.000000\n",
       "zip                        0   0.000000\n",
       "prodType                   0   0.000000\n",
       "currIntRate                0   0.000000\n",
       "loanAge                    0   0.000000\n",
       "monthToMature              0   0.000000\n",
       "maturityDate               0   0.000000\n",
       "MSA                        0   0.000000\n",
       "loanID                     0   0.000000"
      ]
     },
     "execution_count": 61,
     "metadata": {},
     "output_type": "execute_result"
    }
   ],
   "source": [
    "total = df.isnull().sum().sort_values(ascending = False)\n",
    "percent = (df.isnull().sum()/df.isnull().count()*100).sort_values(ascending = False)\n",
    "missing_loan_data  = pd.concat([total, percent], axis=1, keys=['Total', 'Percent'])\n",
    "missing_loan_data"
   ]
  },
  {
   "cell_type": "code",
   "execution_count": 62,
   "metadata": {},
   "outputs": [
    {
     "name": "stdout",
     "output_type": "stream",
     "text": [
      "    DTI  borrowCreditScore  miPercentage  coBorrowCreditScore  currUPB\n",
      "0  32.0              652.0          30.0                  NaN      NaN\n",
      "1  32.0              652.0          30.0                  NaN      NaN\n",
      "2  32.0              652.0          30.0                  NaN      NaN\n",
      "3  32.0              652.0          30.0                  NaN      NaN\n",
      "4  32.0              652.0          30.0                  NaN      NaN\n"
     ]
    }
   ],
   "source": [
    "null_columns=df.columns[df.isnull().any()]\n",
    "print(df[df.isnull().any(axis=1)][null_columns].head())"
   ]
  },
  {
   "cell_type": "code",
   "execution_count": 63,
   "metadata": {},
   "outputs": [
    {
     "data": {
      "text/html": [
       "<div>\n",
       "<style scoped>\n",
       "    .dataframe tbody tr th:only-of-type {\n",
       "        vertical-align: middle;\n",
       "    }\n",
       "\n",
       "    .dataframe tbody tr th {\n",
       "        vertical-align: top;\n",
       "    }\n",
       "\n",
       "    .dataframe thead th {\n",
       "        text-align: right;\n",
       "    }\n",
       "</style>\n",
       "<table border=\"1\" class=\"dataframe\">\n",
       "  <thead>\n",
       "    <tr style=\"text-align: right;\">\n",
       "      <th></th>\n",
       "      <th>loanID</th>\n",
       "      <th>channel</th>\n",
       "      <th>sellerName</th>\n",
       "      <th>origIntRate</th>\n",
       "      <th>origUPB</th>\n",
       "      <th>origLoanTerm</th>\n",
       "      <th>orig_date</th>\n",
       "      <th>firstPaymentDate</th>\n",
       "      <th>origLTV</th>\n",
       "      <th>origCLTV</th>\n",
       "      <th>...</th>\n",
       "      <th>prodType</th>\n",
       "      <th>coBorrowCreditScore</th>\n",
       "      <th>currIntRate</th>\n",
       "      <th>currUPB</th>\n",
       "      <th>loanAge</th>\n",
       "      <th>monthToMature</th>\n",
       "      <th>maturityDate</th>\n",
       "      <th>MSA</th>\n",
       "      <th>delinqStatus</th>\n",
       "      <th>modFlag</th>\n",
       "    </tr>\n",
       "  </thead>\n",
       "  <tbody>\n",
       "    <tr>\n",
       "      <th>6</th>\n",
       "      <td>100002091588</td>\n",
       "      <td>R</td>\n",
       "      <td>OTHER</td>\n",
       "      <td>4.125</td>\n",
       "      <td>345000</td>\n",
       "      <td>360</td>\n",
       "      <td>12/2014</td>\n",
       "      <td>02/2015</td>\n",
       "      <td>95</td>\n",
       "      <td>95</td>\n",
       "      <td>...</td>\n",
       "      <td>FRM</td>\n",
       "      <td>0.0</td>\n",
       "      <td>4.125</td>\n",
       "      <td>342034.38</td>\n",
       "      <td>6</td>\n",
       "      <td>354</td>\n",
       "      <td>01/2045</td>\n",
       "      <td>16740</td>\n",
       "      <td>0</td>\n",
       "      <td>N</td>\n",
       "    </tr>\n",
       "    <tr>\n",
       "      <th>7</th>\n",
       "      <td>100002091588</td>\n",
       "      <td>R</td>\n",
       "      <td>OTHER</td>\n",
       "      <td>4.125</td>\n",
       "      <td>345000</td>\n",
       "      <td>360</td>\n",
       "      <td>12/2014</td>\n",
       "      <td>02/2015</td>\n",
       "      <td>95</td>\n",
       "      <td>95</td>\n",
       "      <td>...</td>\n",
       "      <td>FRM</td>\n",
       "      <td>0.0</td>\n",
       "      <td>4.125</td>\n",
       "      <td>341538.19</td>\n",
       "      <td>7</td>\n",
       "      <td>353</td>\n",
       "      <td>01/2045</td>\n",
       "      <td>16740</td>\n",
       "      <td>0</td>\n",
       "      <td>N</td>\n",
       "    </tr>\n",
       "    <tr>\n",
       "      <th>8</th>\n",
       "      <td>100002091588</td>\n",
       "      <td>R</td>\n",
       "      <td>OTHER</td>\n",
       "      <td>4.125</td>\n",
       "      <td>345000</td>\n",
       "      <td>360</td>\n",
       "      <td>12/2014</td>\n",
       "      <td>02/2015</td>\n",
       "      <td>95</td>\n",
       "      <td>95</td>\n",
       "      <td>...</td>\n",
       "      <td>FRM</td>\n",
       "      <td>0.0</td>\n",
       "      <td>4.125</td>\n",
       "      <td>341040.30</td>\n",
       "      <td>8</td>\n",
       "      <td>352</td>\n",
       "      <td>01/2045</td>\n",
       "      <td>16740</td>\n",
       "      <td>0</td>\n",
       "      <td>N</td>\n",
       "    </tr>\n",
       "    <tr>\n",
       "      <th>9</th>\n",
       "      <td>100002091588</td>\n",
       "      <td>R</td>\n",
       "      <td>OTHER</td>\n",
       "      <td>4.125</td>\n",
       "      <td>345000</td>\n",
       "      <td>360</td>\n",
       "      <td>12/2014</td>\n",
       "      <td>02/2015</td>\n",
       "      <td>95</td>\n",
       "      <td>95</td>\n",
       "      <td>...</td>\n",
       "      <td>FRM</td>\n",
       "      <td>0.0</td>\n",
       "      <td>4.125</td>\n",
       "      <td>340540.70</td>\n",
       "      <td>9</td>\n",
       "      <td>351</td>\n",
       "      <td>01/2045</td>\n",
       "      <td>16740</td>\n",
       "      <td>0</td>\n",
       "      <td>N</td>\n",
       "    </tr>\n",
       "    <tr>\n",
       "      <th>10</th>\n",
       "      <td>100002091588</td>\n",
       "      <td>R</td>\n",
       "      <td>OTHER</td>\n",
       "      <td>4.125</td>\n",
       "      <td>345000</td>\n",
       "      <td>360</td>\n",
       "      <td>12/2014</td>\n",
       "      <td>02/2015</td>\n",
       "      <td>95</td>\n",
       "      <td>95</td>\n",
       "      <td>...</td>\n",
       "      <td>FRM</td>\n",
       "      <td>0.0</td>\n",
       "      <td>4.125</td>\n",
       "      <td>340039.38</td>\n",
       "      <td>10</td>\n",
       "      <td>350</td>\n",
       "      <td>01/2045</td>\n",
       "      <td>16740</td>\n",
       "      <td>0</td>\n",
       "      <td>N</td>\n",
       "    </tr>\n",
       "  </tbody>\n",
       "</table>\n",
       "<p>5 rows × 30 columns</p>\n",
       "</div>"
      ],
      "text/plain": [
       "          loanID channel sellerName  origIntRate  origUPB  origLoanTerm  \\\n",
       "6   100002091588       R      OTHER        4.125   345000           360   \n",
       "7   100002091588       R      OTHER        4.125   345000           360   \n",
       "8   100002091588       R      OTHER        4.125   345000           360   \n",
       "9   100002091588       R      OTHER        4.125   345000           360   \n",
       "10  100002091588       R      OTHER        4.125   345000           360   \n",
       "\n",
       "   orig_date firstPaymentDate  origLTV  origCLTV   ...     prodType  \\\n",
       "6    12/2014          02/2015       95        95   ...          FRM   \n",
       "7    12/2014          02/2015       95        95   ...          FRM   \n",
       "8    12/2014          02/2015       95        95   ...          FRM   \n",
       "9    12/2014          02/2015       95        95   ...          FRM   \n",
       "10   12/2014          02/2015       95        95   ...          FRM   \n",
       "\n",
       "    coBorrowCreditScore  currIntRate    currUPB loanAge monthToMature  \\\n",
       "6                   0.0        4.125  342034.38       6           354   \n",
       "7                   0.0        4.125  341538.19       7           353   \n",
       "8                   0.0        4.125  341040.30       8           352   \n",
       "9                   0.0        4.125  340540.70       9           351   \n",
       "10                  0.0        4.125  340039.38      10           350   \n",
       "\n",
       "    maturityDate    MSA  delinqStatus  modFlag  \n",
       "6        01/2045  16740             0        N  \n",
       "7        01/2045  16740             0        N  \n",
       "8        01/2045  16740             0        N  \n",
       "9        01/2045  16740             0        N  \n",
       "10       01/2045  16740             0        N  \n",
       "\n",
       "[5 rows x 30 columns]"
      ]
     },
     "execution_count": 63,
     "metadata": {},
     "output_type": "execute_result"
    }
   ],
   "source": [
    "df.DTI=df.DTI.astype(float).fillna(0.0)\n",
    "df.miPercentage=df.miPercentage.astype(float).fillna(0.0)\n",
    "df.borrowCreditScore=df.borrowCreditScore.astype(float).fillna(0.0)\n",
    "df.coBorrowCreditScore=df.coBorrowCreditScore.astype(float).fillna(0.0)\n",
    "df.currUPB=df.currUPB.astype(float).fillna(0.0)\n",
    "\n",
    "df = df[(df.currUPB) > 0]\n",
    "df.head(5)"
   ]
  },
  {
   "cell_type": "markdown",
   "metadata": {},
   "source": [
    "<h1 style=\"font-size:2em;color:#2467C0\">Data Visualization</h1>"
   ]
  },
  {
   "cell_type": "code",
   "execution_count": 64,
   "metadata": {
    "collapsed": false
   },
   "outputs": [
    {
     "data": {
      "text/plain": [
       "array([[<matplotlib.axes._subplots.AxesSubplot object at 0x1a178d0908>]],\n",
       "      dtype=object)"
      ]
     },
     "execution_count": 64,
     "metadata": {},
     "output_type": "execute_result"
    },
    {
     "data": {
      "image/png": "[encoded data removed]",
      "text/plain": [
       "<Figure size 864x720 with 1 Axes>"
      ]
     },
     "metadata": {},
     "output_type": "display_data"
    }
   ],
   "source": [
    "%matplotlib inline\n",
    "\n",
    "loanData.hist(column='borrowCreditScore', figsize=(12,10))"
   ]
  },
  {
   "cell_type": "code",
   "execution_count": 74,
   "metadata": {
    "collapsed": false
   },
   "outputs": [
    {
     "data": {
      "text/plain": [
       "<matplotlib.axes._subplots.AxesSubplot at 0x108fe0160>"
      ]
     },
     "execution_count": 74,
     "metadata": {},
     "output_type": "execute_result"
    },
    {
     "data": {
      "image/png": "[encoded data removed]",
      "text/plain": [
       "<Figure size 864x720 with 1 Axes>"
      ]
     },
     "metadata": {},
     "output_type": "display_data"
    }
   ],
   "source": [
    "loanData.boxplot(column='borrowCreditScore', figsize=(12,10))"
   ]
  },
  {
   "cell_type": "markdown",
   "metadata": {},
   "source": [
    "<h1 style=\"font-size:2em;color:#2467C0\">Slicing Out Columns</h1>\n",
    " "
   ]
  },
  {
   "cell_type": "code",
   "execution_count": 66,
   "metadata": {
    "collapsed": false
   },
   "outputs": [
    {
     "data": {
      "text/plain": [
       "0                     OTHER\n",
       "1    WELLS FARGO BANK, N.A.\n",
       "2    WELLS FARGO BANK, N.A.\n",
       "3                     OTHER\n",
       "4        QUICKEN LOANS INC.\n",
       "Name: sellerName, dtype: object"
      ]
     },
     "execution_count": 66,
     "metadata": {},
     "output_type": "execute_result"
    }
   ],
   "source": [
    "loanData['sellerName'].head()"
   ]
  },
  {
   "cell_type": "code",
   "execution_count": 67,
   "metadata": {},
   "outputs": [
    {
     "data": {
      "text/plain": [
       "['loanID',\n",
       " 'channel',\n",
       " 'sellerName',\n",
       " 'origIntRate',\n",
       " 'origUPB',\n",
       " 'origLoanTerm',\n",
       " 'orig_date',\n",
       " 'firstPaymentDate',\n",
       " 'origLTV',\n",
       " 'origCLTV',\n",
       " 'numBorower',\n",
       " 'DTI',\n",
       " 'borrowCreditScore',\n",
       " 'firstTimeBuyer',\n",
       " 'loanPurpose',\n",
       " 'propertyType',\n",
       " 'numberOfUnit',\n",
       " 'occupStatus',\n",
       " 'zip',\n",
       " 'miPercentage',\n",
       " 'prodType',\n",
       " 'coBorrowCreditScore',\n",
       " 'currIntRate',\n",
       " 'currUPB',\n",
       " 'loanAge',\n",
       " 'monthToMature',\n",
       " 'maturityDate',\n",
       " 'MSA',\n",
       " 'delinqStatus',\n",
       " 'modFlag']"
      ]
     },
     "execution_count": 67,
     "metadata": {},
     "output_type": "execute_result"
    }
   ],
   "source": [
    "list(df)"
   ]
  },
  {
   "cell_type": "code",
   "execution_count": 68,
   "metadata": {
    "collapsed": false
   },
   "outputs": [
    {
     "data": {
      "text/html": [
       "<div>\n",
       "<style scoped>\n",
       "    .dataframe tbody tr th:only-of-type {\n",
       "        vertical-align: middle;\n",
       "    }\n",
       "\n",
       "    .dataframe tbody tr th {\n",
       "        vertical-align: top;\n",
       "    }\n",
       "\n",
       "    .dataframe thead th {\n",
       "        text-align: right;\n",
       "    }\n",
       "</style>\n",
       "<table border=\"1\" class=\"dataframe\">\n",
       "  <thead>\n",
       "    <tr style=\"text-align: right;\">\n",
       "      <th></th>\n",
       "      <th>sellerName</th>\n",
       "      <th>delinqStatus</th>\n",
       "    </tr>\n",
       "  </thead>\n",
       "  <tbody>\n",
       "    <tr>\n",
       "      <th>6</th>\n",
       "      <td>OTHER</td>\n",
       "      <td>0</td>\n",
       "    </tr>\n",
       "    <tr>\n",
       "      <th>7</th>\n",
       "      <td>OTHER</td>\n",
       "      <td>0</td>\n",
       "    </tr>\n",
       "    <tr>\n",
       "      <th>8</th>\n",
       "      <td>OTHER</td>\n",
       "      <td>0</td>\n",
       "    </tr>\n",
       "    <tr>\n",
       "      <th>9</th>\n",
       "      <td>OTHER</td>\n",
       "      <td>0</td>\n",
       "    </tr>\n",
       "    <tr>\n",
       "      <th>10</th>\n",
       "      <td>OTHER</td>\n",
       "      <td>0</td>\n",
       "    </tr>\n",
       "  </tbody>\n",
       "</table>\n",
       "</div>"
      ],
      "text/plain": [
       "   sellerName delinqStatus\n",
       "6       OTHER            0\n",
       "7       OTHER            0\n",
       "8       OTHER            0\n",
       "9       OTHER            0\n",
       "10      OTHER            0"
      ]
     },
     "execution_count": 68,
     "metadata": {},
     "output_type": "execute_result"
    }
   ],
   "source": [
    "df[['sellerName','delinqStatus']].head()"
   ]
  },
  {
   "cell_type": "code",
   "execution_count": 69,
   "metadata": {
    "collapsed": false
   },
   "outputs": [
    {
     "data": {
      "text/html": [
       "<div>\n",
       "<style scoped>\n",
       "    .dataframe tbody tr th:only-of-type {\n",
       "        vertical-align: middle;\n",
       "    }\n",
       "\n",
       "    .dataframe tbody tr th {\n",
       "        vertical-align: top;\n",
       "    }\n",
       "\n",
       "    .dataframe thead th {\n",
       "        text-align: right;\n",
       "    }\n",
       "</style>\n",
       "<table border=\"1\" class=\"dataframe\">\n",
       "  <thead>\n",
       "    <tr style=\"text-align: right;\">\n",
       "      <th></th>\n",
       "      <th>loanID</th>\n",
       "      <th>channel</th>\n",
       "      <th>sellerName</th>\n",
       "      <th>origIntRate</th>\n",
       "      <th>origUPB</th>\n",
       "      <th>origLoanTerm</th>\n",
       "      <th>orig_date</th>\n",
       "      <th>firstPaymentDate</th>\n",
       "      <th>origLTV</th>\n",
       "      <th>origCLTV</th>\n",
       "      <th>...</th>\n",
       "      <th>prodType</th>\n",
       "      <th>coBorrowCreditScore</th>\n",
       "      <th>currIntRate</th>\n",
       "      <th>currUPB</th>\n",
       "      <th>loanAge</th>\n",
       "      <th>monthToMature</th>\n",
       "      <th>maturityDate</th>\n",
       "      <th>MSA</th>\n",
       "      <th>delinqStatus</th>\n",
       "      <th>modFlag</th>\n",
       "    </tr>\n",
       "  </thead>\n",
       "  <tbody>\n",
       "    <tr>\n",
       "      <th>1699974</th>\n",
       "      <td>535226379158</td>\n",
       "      <td>R</td>\n",
       "      <td>OTHER</td>\n",
       "      <td>3.990</td>\n",
       "      <td>239000</td>\n",
       "      <td>360</td>\n",
       "      <td>02/2015</td>\n",
       "      <td>04/2015</td>\n",
       "      <td>80</td>\n",
       "      <td>90</td>\n",
       "      <td>...</td>\n",
       "      <td>FRM</td>\n",
       "      <td>800.0</td>\n",
       "      <td>3.990</td>\n",
       "      <td>236051.00</td>\n",
       "      <td>8</td>\n",
       "      <td>352</td>\n",
       "      <td>03/2045</td>\n",
       "      <td>26900</td>\n",
       "      <td>0</td>\n",
       "      <td>N</td>\n",
       "    </tr>\n",
       "    <tr>\n",
       "      <th>1699975</th>\n",
       "      <td>535226379158</td>\n",
       "      <td>R</td>\n",
       "      <td>OTHER</td>\n",
       "      <td>3.990</td>\n",
       "      <td>239000</td>\n",
       "      <td>360</td>\n",
       "      <td>02/2015</td>\n",
       "      <td>04/2015</td>\n",
       "      <td>80</td>\n",
       "      <td>90</td>\n",
       "      <td>...</td>\n",
       "      <td>FRM</td>\n",
       "      <td>800.0</td>\n",
       "      <td>3.990</td>\n",
       "      <td>235695.27</td>\n",
       "      <td>9</td>\n",
       "      <td>351</td>\n",
       "      <td>03/2045</td>\n",
       "      <td>26900</td>\n",
       "      <td>0</td>\n",
       "      <td>N</td>\n",
       "    </tr>\n",
       "    <tr>\n",
       "      <th>1699982</th>\n",
       "      <td>535226558018</td>\n",
       "      <td>R</td>\n",
       "      <td>OTHER</td>\n",
       "      <td>4.250</td>\n",
       "      <td>490000</td>\n",
       "      <td>360</td>\n",
       "      <td>02/2015</td>\n",
       "      <td>04/2015</td>\n",
       "      <td>62</td>\n",
       "      <td>62</td>\n",
       "      <td>...</td>\n",
       "      <td>FRM</td>\n",
       "      <td>0.0</td>\n",
       "      <td>4.250</td>\n",
       "      <td>485913.42</td>\n",
       "      <td>6</td>\n",
       "      <td>354</td>\n",
       "      <td>03/2045</td>\n",
       "      <td>31080</td>\n",
       "      <td>0</td>\n",
       "      <td>N</td>\n",
       "    </tr>\n",
       "    <tr>\n",
       "      <th>1699983</th>\n",
       "      <td>535226558018</td>\n",
       "      <td>R</td>\n",
       "      <td>OTHER</td>\n",
       "      <td>4.250</td>\n",
       "      <td>490000</td>\n",
       "      <td>360</td>\n",
       "      <td>02/2015</td>\n",
       "      <td>04/2015</td>\n",
       "      <td>62</td>\n",
       "      <td>62</td>\n",
       "      <td>...</td>\n",
       "      <td>FRM</td>\n",
       "      <td>0.0</td>\n",
       "      <td>4.250</td>\n",
       "      <td>485223.85</td>\n",
       "      <td>7</td>\n",
       "      <td>353</td>\n",
       "      <td>03/2045</td>\n",
       "      <td>31080</td>\n",
       "      <td>0</td>\n",
       "      <td>N</td>\n",
       "    </tr>\n",
       "    <tr>\n",
       "      <th>1699984</th>\n",
       "      <td>535226558018</td>\n",
       "      <td>R</td>\n",
       "      <td>OTHER</td>\n",
       "      <td>4.250</td>\n",
       "      <td>490000</td>\n",
       "      <td>360</td>\n",
       "      <td>02/2015</td>\n",
       "      <td>04/2015</td>\n",
       "      <td>62</td>\n",
       "      <td>62</td>\n",
       "      <td>...</td>\n",
       "      <td>FRM</td>\n",
       "      <td>0.0</td>\n",
       "      <td>4.250</td>\n",
       "      <td>484531.84</td>\n",
       "      <td>8</td>\n",
       "      <td>352</td>\n",
       "      <td>03/2045</td>\n",
       "      <td>31080</td>\n",
       "      <td>0</td>\n",
       "      <td>N</td>\n",
       "    </tr>\n",
       "    <tr>\n",
       "      <th>1699985</th>\n",
       "      <td>535226558018</td>\n",
       "      <td>R</td>\n",
       "      <td>OTHER</td>\n",
       "      <td>4.250</td>\n",
       "      <td>490000</td>\n",
       "      <td>360</td>\n",
       "      <td>02/2015</td>\n",
       "      <td>04/2015</td>\n",
       "      <td>62</td>\n",
       "      <td>62</td>\n",
       "      <td>...</td>\n",
       "      <td>FRM</td>\n",
       "      <td>0.0</td>\n",
       "      <td>4.250</td>\n",
       "      <td>483837.38</td>\n",
       "      <td>9</td>\n",
       "      <td>351</td>\n",
       "      <td>03/2045</td>\n",
       "      <td>31080</td>\n",
       "      <td>0</td>\n",
       "      <td>N</td>\n",
       "    </tr>\n",
       "    <tr>\n",
       "      <th>1699992</th>\n",
       "      <td>535226849021</td>\n",
       "      <td>B</td>\n",
       "      <td>OTHER</td>\n",
       "      <td>3.625</td>\n",
       "      <td>329000</td>\n",
       "      <td>360</td>\n",
       "      <td>02/2015</td>\n",
       "      <td>04/2015</td>\n",
       "      <td>83</td>\n",
       "      <td>83</td>\n",
       "      <td>...</td>\n",
       "      <td>FRM</td>\n",
       "      <td>0.0</td>\n",
       "      <td>3.625</td>\n",
       "      <td>319437.62</td>\n",
       "      <td>6</td>\n",
       "      <td>354</td>\n",
       "      <td>03/2045</td>\n",
       "      <td>26900</td>\n",
       "      <td>0</td>\n",
       "      <td>N</td>\n",
       "    </tr>\n",
       "    <tr>\n",
       "      <th>1699993</th>\n",
       "      <td>535226849021</td>\n",
       "      <td>B</td>\n",
       "      <td>OTHER</td>\n",
       "      <td>3.625</td>\n",
       "      <td>329000</td>\n",
       "      <td>360</td>\n",
       "      <td>02/2015</td>\n",
       "      <td>04/2015</td>\n",
       "      <td>83</td>\n",
       "      <td>83</td>\n",
       "      <td>...</td>\n",
       "      <td>FRM</td>\n",
       "      <td>0.0</td>\n",
       "      <td>3.625</td>\n",
       "      <td>318902.18</td>\n",
       "      <td>7</td>\n",
       "      <td>353</td>\n",
       "      <td>03/2045</td>\n",
       "      <td>26900</td>\n",
       "      <td>0</td>\n",
       "      <td>N</td>\n",
       "    </tr>\n",
       "    <tr>\n",
       "      <th>1699994</th>\n",
       "      <td>535226849021</td>\n",
       "      <td>B</td>\n",
       "      <td>OTHER</td>\n",
       "      <td>3.625</td>\n",
       "      <td>329000</td>\n",
       "      <td>360</td>\n",
       "      <td>02/2015</td>\n",
       "      <td>04/2015</td>\n",
       "      <td>83</td>\n",
       "      <td>83</td>\n",
       "      <td>...</td>\n",
       "      <td>FRM</td>\n",
       "      <td>0.0</td>\n",
       "      <td>3.625</td>\n",
       "      <td>318365.12</td>\n",
       "      <td>8</td>\n",
       "      <td>352</td>\n",
       "      <td>03/2045</td>\n",
       "      <td>26900</td>\n",
       "      <td>0</td>\n",
       "      <td>N</td>\n",
       "    </tr>\n",
       "    <tr>\n",
       "      <th>1699995</th>\n",
       "      <td>535226849021</td>\n",
       "      <td>B</td>\n",
       "      <td>OTHER</td>\n",
       "      <td>3.625</td>\n",
       "      <td>329000</td>\n",
       "      <td>360</td>\n",
       "      <td>02/2015</td>\n",
       "      <td>04/2015</td>\n",
       "      <td>83</td>\n",
       "      <td>83</td>\n",
       "      <td>...</td>\n",
       "      <td>FRM</td>\n",
       "      <td>0.0</td>\n",
       "      <td>3.625</td>\n",
       "      <td>317826.44</td>\n",
       "      <td>9</td>\n",
       "      <td>351</td>\n",
       "      <td>03/2045</td>\n",
       "      <td>26900</td>\n",
       "      <td>0</td>\n",
       "      <td>N</td>\n",
       "    </tr>\n",
       "  </tbody>\n",
       "</table>\n",
       "<p>10 rows × 30 columns</p>\n",
       "</div>"
      ],
      "text/plain": [
       "               loanID channel sellerName  origIntRate  origUPB  origLoanTerm  \\\n",
       "1699974  535226379158       R      OTHER        3.990   239000           360   \n",
       "1699975  535226379158       R      OTHER        3.990   239000           360   \n",
       "1699982  535226558018       R      OTHER        4.250   490000           360   \n",
       "1699983  535226558018       R      OTHER        4.250   490000           360   \n",
       "1699984  535226558018       R      OTHER        4.250   490000           360   \n",
       "1699985  535226558018       R      OTHER        4.250   490000           360   \n",
       "1699992  535226849021       B      OTHER        3.625   329000           360   \n",
       "1699993  535226849021       B      OTHER        3.625   329000           360   \n",
       "1699994  535226849021       B      OTHER        3.625   329000           360   \n",
       "1699995  535226849021       B      OTHER        3.625   329000           360   \n",
       "\n",
       "        orig_date firstPaymentDate  origLTV  origCLTV   ...     prodType  \\\n",
       "1699974   02/2015          04/2015       80        90   ...          FRM   \n",
       "1699975   02/2015          04/2015       80        90   ...          FRM   \n",
       "1699982   02/2015          04/2015       62        62   ...          FRM   \n",
       "1699983   02/2015          04/2015       62        62   ...          FRM   \n",
       "1699984   02/2015          04/2015       62        62   ...          FRM   \n",
       "1699985   02/2015          04/2015       62        62   ...          FRM   \n",
       "1699992   02/2015          04/2015       83        83   ...          FRM   \n",
       "1699993   02/2015          04/2015       83        83   ...          FRM   \n",
       "1699994   02/2015          04/2015       83        83   ...          FRM   \n",
       "1699995   02/2015          04/2015       83        83   ...          FRM   \n",
       "\n",
       "         coBorrowCreditScore  currIntRate    currUPB loanAge monthToMature  \\\n",
       "1699974                800.0        3.990  236051.00       8           352   \n",
       "1699975                800.0        3.990  235695.27       9           351   \n",
       "1699982                  0.0        4.250  485913.42       6           354   \n",
       "1699983                  0.0        4.250  485223.85       7           353   \n",
       "1699984                  0.0        4.250  484531.84       8           352   \n",
       "1699985                  0.0        4.250  483837.38       9           351   \n",
       "1699992                  0.0        3.625  319437.62       6           354   \n",
       "1699993                  0.0        3.625  318902.18       7           353   \n",
       "1699994                  0.0        3.625  318365.12       8           352   \n",
       "1699995                  0.0        3.625  317826.44       9           351   \n",
       "\n",
       "         maturityDate    MSA  delinqStatus  modFlag  \n",
       "1699974       03/2045  26900             0        N  \n",
       "1699975       03/2045  26900             0        N  \n",
       "1699982       03/2045  31080             0        N  \n",
       "1699983       03/2045  31080             0        N  \n",
       "1699984       03/2045  31080             0        N  \n",
       "1699985       03/2045  31080             0        N  \n",
       "1699992       03/2045  26900             0        N  \n",
       "1699993       03/2045  26900             0        N  \n",
       "1699994       03/2045  26900             0        N  \n",
       "1699995       03/2045  26900             0        N  \n",
       "\n",
       "[10 rows x 30 columns]"
      ]
     },
     "execution_count": 69,
     "metadata": {},
     "output_type": "execute_result"
    }
   ],
   "source": [
    "df[-10:]"
   ]
  },
  {
   "cell_type": "code",
   "execution_count": 70,
   "metadata": {
    "collapsed": false
   },
   "outputs": [
    {
     "data": {
      "text/plain": [
       "1     2906\n",
       "2      395\n",
       "3      140\n",
       "4       90\n",
       "5       59\n",
       "6       41\n",
       "7       26\n",
       "8       14\n",
       "9        7\n",
       "10       1\n",
       "Name: delinqStatus, dtype: int64"
      ]
     },
     "execution_count": 70,
     "metadata": {},
     "output_type": "execute_result"
    }
   ],
   "source": [
    "delinq_counts = df['delinqStatus'].value_counts()\n",
    "delinq_counts[-10:]"
   ]
  },
  {
   "cell_type": "code",
   "execution_count": 71,
   "metadata": {
    "collapsed": false
   },
   "outputs": [
    {
     "data": {
      "text/plain": [
       "<matplotlib.axes._subplots.AxesSubplot at 0x108ff30b8>"
      ]
     },
     "execution_count": 71,
     "metadata": {},
     "output_type": "execute_result"
    },
    {
     "data": {
      "image/png": "[encoded data removed]",
      "text/plain": [
       "<Figure size 1080x720 with 1 Axes>"
      ]
     },
     "metadata": {},
     "output_type": "display_data"
    }
   ],
   "source": [
    "delinq_counts[:10].plot(kind='bar', figsize=(15,10))"
   ]
  },
  {
   "cell_type": "markdown",
   "metadata": {},
   "source": [
    "<h1 style=\"font-size:2em;color:#2467C0\">Filters for Selecting Rows</h1>"
   ]
  },
  {
   "cell_type": "code",
   "execution_count": 72,
   "metadata": {
    "collapsed": false
   },
   "outputs": [
    {
     "data": {
      "text/html": [
       "<div>\n",
       "<style scoped>\n",
       "    .dataframe tbody tr th:only-of-type {\n",
       "        vertical-align: middle;\n",
       "    }\n",
       "\n",
       "    .dataframe tbody tr th {\n",
       "        vertical-align: top;\n",
       "    }\n",
       "\n",
       "    .dataframe thead th {\n",
       "        text-align: right;\n",
       "    }\n",
       "</style>\n",
       "<table border=\"1\" class=\"dataframe\">\n",
       "  <thead>\n",
       "    <tr style=\"text-align: right;\">\n",
       "      <th></th>\n",
       "      <th>loanID</th>\n",
       "      <th>channel</th>\n",
       "      <th>sellerName</th>\n",
       "      <th>origIntRate</th>\n",
       "      <th>origUPB</th>\n",
       "      <th>origLoanTerm</th>\n",
       "      <th>orig_date</th>\n",
       "      <th>firstPaymentDate</th>\n",
       "      <th>origLTV</th>\n",
       "      <th>origCLTV</th>\n",
       "      <th>...</th>\n",
       "      <th>prodType</th>\n",
       "      <th>coBorrowCreditScore</th>\n",
       "      <th>currIntRate</th>\n",
       "      <th>currUPB</th>\n",
       "      <th>loanAge</th>\n",
       "      <th>monthToMature</th>\n",
       "      <th>maturityDate</th>\n",
       "      <th>MSA</th>\n",
       "      <th>delinqStatus</th>\n",
       "      <th>modFlag</th>\n",
       "    </tr>\n",
       "  </thead>\n",
       "  <tbody>\n",
       "    <tr>\n",
       "      <th>101</th>\n",
       "      <td>100023998128</td>\n",
       "      <td>R</td>\n",
       "      <td>OTHER</td>\n",
       "      <td>4.125</td>\n",
       "      <td>125000</td>\n",
       "      <td>360</td>\n",
       "      <td>01/2015</td>\n",
       "      <td>03/2015</td>\n",
       "      <td>61</td>\n",
       "      <td>61</td>\n",
       "      <td>...</td>\n",
       "      <td>FRM</td>\n",
       "      <td>0.0</td>\n",
       "      <td>4.125</td>\n",
       "      <td>122085.58</td>\n",
       "      <td>10</td>\n",
       "      <td>350</td>\n",
       "      <td>02/2045</td>\n",
       "      <td>36100</td>\n",
       "      <td>0</td>\n",
       "      <td>N</td>\n",
       "    </tr>\n",
       "    <tr>\n",
       "      <th>249</th>\n",
       "      <td>100069006576</td>\n",
       "      <td>R</td>\n",
       "      <td>OTHER</td>\n",
       "      <td>4.125</td>\n",
       "      <td>102000</td>\n",
       "      <td>360</td>\n",
       "      <td>12/2014</td>\n",
       "      <td>02/2015</td>\n",
       "      <td>80</td>\n",
       "      <td>80</td>\n",
       "      <td>...</td>\n",
       "      <td>FRM</td>\n",
       "      <td>0.0</td>\n",
       "      <td>4.125</td>\n",
       "      <td>49191.65</td>\n",
       "      <td>6</td>\n",
       "      <td>354</td>\n",
       "      <td>01/2045</td>\n",
       "      <td>12020</td>\n",
       "      <td>0</td>\n",
       "      <td>N</td>\n",
       "    </tr>\n",
       "    <tr>\n",
       "      <th>250</th>\n",
       "      <td>100069006576</td>\n",
       "      <td>R</td>\n",
       "      <td>OTHER</td>\n",
       "      <td>4.125</td>\n",
       "      <td>102000</td>\n",
       "      <td>360</td>\n",
       "      <td>12/2014</td>\n",
       "      <td>02/2015</td>\n",
       "      <td>80</td>\n",
       "      <td>80</td>\n",
       "      <td>...</td>\n",
       "      <td>FRM</td>\n",
       "      <td>0.0</td>\n",
       "      <td>4.125</td>\n",
       "      <td>48660.75</td>\n",
       "      <td>7</td>\n",
       "      <td>353</td>\n",
       "      <td>01/2045</td>\n",
       "      <td>12020</td>\n",
       "      <td>0</td>\n",
       "      <td>N</td>\n",
       "    </tr>\n",
       "    <tr>\n",
       "      <th>251</th>\n",
       "      <td>100069006576</td>\n",
       "      <td>R</td>\n",
       "      <td>OTHER</td>\n",
       "      <td>4.125</td>\n",
       "      <td>102000</td>\n",
       "      <td>360</td>\n",
       "      <td>12/2014</td>\n",
       "      <td>02/2015</td>\n",
       "      <td>80</td>\n",
       "      <td>80</td>\n",
       "      <td>...</td>\n",
       "      <td>FRM</td>\n",
       "      <td>0.0</td>\n",
       "      <td>4.125</td>\n",
       "      <td>48128.02</td>\n",
       "      <td>8</td>\n",
       "      <td>352</td>\n",
       "      <td>01/2045</td>\n",
       "      <td>12020</td>\n",
       "      <td>0</td>\n",
       "      <td>N</td>\n",
       "    </tr>\n",
       "    <tr>\n",
       "      <th>252</th>\n",
       "      <td>100069006576</td>\n",
       "      <td>R</td>\n",
       "      <td>OTHER</td>\n",
       "      <td>4.125</td>\n",
       "      <td>102000</td>\n",
       "      <td>360</td>\n",
       "      <td>12/2014</td>\n",
       "      <td>02/2015</td>\n",
       "      <td>80</td>\n",
       "      <td>80</td>\n",
       "      <td>...</td>\n",
       "      <td>FRM</td>\n",
       "      <td>0.0</td>\n",
       "      <td>4.125</td>\n",
       "      <td>47593.46</td>\n",
       "      <td>9</td>\n",
       "      <td>351</td>\n",
       "      <td>01/2045</td>\n",
       "      <td>12020</td>\n",
       "      <td>0</td>\n",
       "      <td>N</td>\n",
       "    </tr>\n",
       "    <tr>\n",
       "      <th>253</th>\n",
       "      <td>100069006576</td>\n",
       "      <td>R</td>\n",
       "      <td>OTHER</td>\n",
       "      <td>4.125</td>\n",
       "      <td>102000</td>\n",
       "      <td>360</td>\n",
       "      <td>12/2014</td>\n",
       "      <td>02/2015</td>\n",
       "      <td>80</td>\n",
       "      <td>80</td>\n",
       "      <td>...</td>\n",
       "      <td>FRM</td>\n",
       "      <td>0.0</td>\n",
       "      <td>4.125</td>\n",
       "      <td>47057.06</td>\n",
       "      <td>10</td>\n",
       "      <td>350</td>\n",
       "      <td>01/2045</td>\n",
       "      <td>12020</td>\n",
       "      <td>0</td>\n",
       "      <td>N</td>\n",
       "    </tr>\n",
       "    <tr>\n",
       "      <th>254</th>\n",
       "      <td>100069006576</td>\n",
       "      <td>R</td>\n",
       "      <td>OTHER</td>\n",
       "      <td>4.125</td>\n",
       "      <td>102000</td>\n",
       "      <td>360</td>\n",
       "      <td>12/2014</td>\n",
       "      <td>02/2015</td>\n",
       "      <td>80</td>\n",
       "      <td>80</td>\n",
       "      <td>...</td>\n",
       "      <td>FRM</td>\n",
       "      <td>0.0</td>\n",
       "      <td>4.125</td>\n",
       "      <td>46518.82</td>\n",
       "      <td>11</td>\n",
       "      <td>349</td>\n",
       "      <td>01/2045</td>\n",
       "      <td>12020</td>\n",
       "      <td>0</td>\n",
       "      <td>N</td>\n",
       "    </tr>\n",
       "    <tr>\n",
       "      <th>367</th>\n",
       "      <td>100085561621</td>\n",
       "      <td>C</td>\n",
       "      <td>WELLS FARGO BANK, N.A.</td>\n",
       "      <td>4.125</td>\n",
       "      <td>207000</td>\n",
       "      <td>360</td>\n",
       "      <td>01/2015</td>\n",
       "      <td>03/2015</td>\n",
       "      <td>69</td>\n",
       "      <td>69</td>\n",
       "      <td>...</td>\n",
       "      <td>FRM</td>\n",
       "      <td>0.0</td>\n",
       "      <td>4.125</td>\n",
       "      <td>204726.42</td>\n",
       "      <td>6</td>\n",
       "      <td>354</td>\n",
       "      <td>02/2045</td>\n",
       "      <td>15980</td>\n",
       "      <td>0</td>\n",
       "      <td>N</td>\n",
       "    </tr>\n",
       "    <tr>\n",
       "      <th>368</th>\n",
       "      <td>100085561621</td>\n",
       "      <td>C</td>\n",
       "      <td>WELLS FARGO BANK, N.A.</td>\n",
       "      <td>4.125</td>\n",
       "      <td>207000</td>\n",
       "      <td>360</td>\n",
       "      <td>01/2015</td>\n",
       "      <td>03/2015</td>\n",
       "      <td>69</td>\n",
       "      <td>69</td>\n",
       "      <td>...</td>\n",
       "      <td>FRM</td>\n",
       "      <td>0.0</td>\n",
       "      <td>4.125</td>\n",
       "      <td>204427.26</td>\n",
       "      <td>7</td>\n",
       "      <td>353</td>\n",
       "      <td>02/2045</td>\n",
       "      <td>15980</td>\n",
       "      <td>0</td>\n",
       "      <td>N</td>\n",
       "    </tr>\n",
       "    <tr>\n",
       "      <th>369</th>\n",
       "      <td>100085561621</td>\n",
       "      <td>C</td>\n",
       "      <td>WELLS FARGO BANK, N.A.</td>\n",
       "      <td>4.125</td>\n",
       "      <td>207000</td>\n",
       "      <td>360</td>\n",
       "      <td>01/2015</td>\n",
       "      <td>03/2015</td>\n",
       "      <td>69</td>\n",
       "      <td>69</td>\n",
       "      <td>...</td>\n",
       "      <td>FRM</td>\n",
       "      <td>0.0</td>\n",
       "      <td>4.125</td>\n",
       "      <td>204127.07</td>\n",
       "      <td>8</td>\n",
       "      <td>352</td>\n",
       "      <td>02/2045</td>\n",
       "      <td>15980</td>\n",
       "      <td>0</td>\n",
       "      <td>N</td>\n",
       "    </tr>\n",
       "  </tbody>\n",
       "</table>\n",
       "<p>10 rows × 30 columns</p>\n",
       "</div>"
      ],
      "text/plain": [
       "           loanID channel              sellerName  origIntRate  origUPB  \\\n",
       "101  100023998128       R                   OTHER        4.125   125000   \n",
       "249  100069006576       R                   OTHER        4.125   102000   \n",
       "250  100069006576       R                   OTHER        4.125   102000   \n",
       "251  100069006576       R                   OTHER        4.125   102000   \n",
       "252  100069006576       R                   OTHER        4.125   102000   \n",
       "253  100069006576       R                   OTHER        4.125   102000   \n",
       "254  100069006576       R                   OTHER        4.125   102000   \n",
       "367  100085561621       C  WELLS FARGO BANK, N.A.        4.125   207000   \n",
       "368  100085561621       C  WELLS FARGO BANK, N.A.        4.125   207000   \n",
       "369  100085561621       C  WELLS FARGO BANK, N.A.        4.125   207000   \n",
       "\n",
       "     origLoanTerm orig_date firstPaymentDate  origLTV  origCLTV   ...     \\\n",
       "101           360   01/2015          03/2015       61        61   ...      \n",
       "249           360   12/2014          02/2015       80        80   ...      \n",
       "250           360   12/2014          02/2015       80        80   ...      \n",
       "251           360   12/2014          02/2015       80        80   ...      \n",
       "252           360   12/2014          02/2015       80        80   ...      \n",
       "253           360   12/2014          02/2015       80        80   ...      \n",
       "254           360   12/2014          02/2015       80        80   ...      \n",
       "367           360   01/2015          03/2015       69        69   ...      \n",
       "368           360   01/2015          03/2015       69        69   ...      \n",
       "369           360   01/2015          03/2015       69        69   ...      \n",
       "\n",
       "     prodType  coBorrowCreditScore  currIntRate    currUPB loanAge  \\\n",
       "101       FRM                  0.0        4.125  122085.58      10   \n",
       "249       FRM                  0.0        4.125   49191.65       6   \n",
       "250       FRM                  0.0        4.125   48660.75       7   \n",
       "251       FRM                  0.0        4.125   48128.02       8   \n",
       "252       FRM                  0.0        4.125   47593.46       9   \n",
       "253       FRM                  0.0        4.125   47057.06      10   \n",
       "254       FRM                  0.0        4.125   46518.82      11   \n",
       "367       FRM                  0.0        4.125  204726.42       6   \n",
       "368       FRM                  0.0        4.125  204427.26       7   \n",
       "369       FRM                  0.0        4.125  204127.07       8   \n",
       "\n",
       "    monthToMature  maturityDate    MSA  delinqStatus  modFlag  \n",
       "101           350       02/2045  36100             0        N  \n",
       "249           354       01/2045  12020             0        N  \n",
       "250           353       01/2045  12020             0        N  \n",
       "251           352       01/2045  12020             0        N  \n",
       "252           351       01/2045  12020             0        N  \n",
       "253           350       01/2045  12020             0        N  \n",
       "254           349       01/2045  12020             0        N  \n",
       "367           354       02/2045  15980             0        N  \n",
       "368           353       02/2045  15980             0        N  \n",
       "369           352       02/2045  15980             0        N  \n",
       "\n",
       "[10 rows x 30 columns]"
      ]
     },
     "execution_count": 72,
     "metadata": {},
     "output_type": "execute_result"
    }
   ],
   "source": [
    "excellent_credit = df['borrowCreditScore'] >= 800\n",
    "\n",
    "df[excellent_credit][10:20]"
   ]
  },
  {
   "cell_type": "markdown",
   "metadata": {},
   "source": [
    "<h1 style=\"font-size:2em;color:#2467C0\">Group By and Aggregate </h1>"
   ]
  },
  {
   "cell_type": "code",
   "execution_count": 73,
   "metadata": {
    "collapsed": false
   },
   "outputs": [
    {
     "data": {
      "text/html": [
       "<div>\n",
       "<style scoped>\n",
       "    .dataframe tbody tr th:only-of-type {\n",
       "        vertical-align: middle;\n",
       "    }\n",
       "\n",
       "    .dataframe tbody tr th {\n",
       "        vertical-align: top;\n",
       "    }\n",
       "\n",
       "    .dataframe thead th {\n",
       "        text-align: right;\n",
       "    }\n",
       "</style>\n",
       "<table border=\"1\" class=\"dataframe\">\n",
       "  <thead>\n",
       "    <tr style=\"text-align: right;\">\n",
       "      <th></th>\n",
       "      <th>delinqStatus</th>\n",
       "    </tr>\n",
       "    <tr>\n",
       "      <th>propertyType</th>\n",
       "      <th></th>\n",
       "    </tr>\n",
       "  </thead>\n",
       "  <tbody>\n",
       "    <tr>\n",
       "      <th>CO</th>\n",
       "      <td>75358</td>\n",
       "    </tr>\n",
       "    <tr>\n",
       "      <th>CP</th>\n",
       "      <td>3583</td>\n",
       "    </tr>\n",
       "    <tr>\n",
       "      <th>MH</th>\n",
       "      <td>3317</td>\n",
       "    </tr>\n",
       "    <tr>\n",
       "      <th>PU</th>\n",
       "      <td>210526</td>\n",
       "    </tr>\n",
       "    <tr>\n",
       "      <th>SF</th>\n",
       "      <td>469208</td>\n",
       "    </tr>\n",
       "  </tbody>\n",
       "</table>\n",
       "</div>"
      ],
      "text/plain": [
       "              delinqStatus\n",
       "propertyType              \n",
       "CO                   75358\n",
       "CP                    3583\n",
       "MH                    3317\n",
       "PU                  210526\n",
       "SF                  469208"
      ]
     },
     "execution_count": 73,
     "metadata": {},
     "output_type": "execute_result"
    }
   ],
   "source": [
    "delinq_count = df[['propertyType','delinqStatus']].groupby('propertyType').count()\n",
    "delinq_count "
   ]
  }
 ],
 "metadata": {
  "kernelspec": {
   "display_name": "Python 3",
   "language": "python",
   "name": "python3"
  },
  "language_info": {
   "codemirror_mode": {
    "name": "ipython",
    "version": 3
   },
   "file_extension": ".py",
   "mimetype": "text/x-python",
   "name": "python",
   "nbconvert_exporter": "python",
   "pygments_lexer": "ipython3",
   "version": "3.6.5"
  }
 },
 "nbformat": 4,
 "nbformat_minor": 2
}
