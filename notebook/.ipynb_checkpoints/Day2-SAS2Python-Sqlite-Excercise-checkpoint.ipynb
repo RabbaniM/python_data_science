{
 "cells": [
  {
   "cell_type": "markdown",
   "metadata": {},
   "source": [
    "# Converting SAS Data into SQLite and Use SQL Queries\n",
    "================================================================================"
   ]
  },
  {
   "cell_type": "markdown",
   "metadata": {},
   "source": [
    "In this excercise we will learn some basics of SQLite so that we can convert SAS datasets and use SQL queries easily. \n",
    "\n",
    "### Step - 1\n",
    "Import `pandas`, `pyreadstat' and `sqlite` "
   ]
  },
  {
   "cell_type": "code",
   "execution_count": 1,
   "metadata": {},
   "outputs": [],
   "source": []
  },
  {
   "cell_type": "markdown",
   "metadata": {},
   "source": [
    "### Step - 2\n",
    "Load the data. You can change the directory to data directory and load the SAS data using `pyreadstat`. Remember to use the `latin1` encoding. With `pyreadstat` we will import both data and metadata.\n",
    "\n",
    "Use this hints: `df2, meta = ...`\n",
    "\n",
    "Visit https://ofajardo.github.io/pyreadstat_documentation/_build/html/index.html for the detail documentation on `pyreadstat`\n"
   ]
  },
  {
   "cell_type": "code",
   "execution_count": null,
   "metadata": {},
   "outputs": [],
   "source": []
  },
  {
   "cell_type": "markdown",
   "metadata": {},
   "source": [
    "### Step - 3\n",
    "Explore the top 5 rows once the data is loaded."
   ]
  },
  {
   "cell_type": "code",
   "execution_count": null,
   "metadata": {},
   "outputs": [],
   "source": []
  },
  {
   "cell_type": "markdown",
   "metadata": {},
   "source": [
    "### Step - 4\n",
    "\n",
    "Print some basic metadata like the number of rows, columns and column labels. You may use the following to show the labels.\n",
    "\n",
    "`for x,y in zip(meta.column_names, meta.column_labels):\n",
    "    print(x,\"\\t\\t\\t \",y)`\n",
    "\n"
   ]
  },
  {
   "cell_type": "code",
   "execution_count": null,
   "metadata": {},
   "outputs": [],
   "source": []
  },
  {
   "cell_type": "markdown",
   "metadata": {},
   "source": [
    "### Step - 5\n",
    "Convert SAS datasets into SQLite. Use the following hints.\n",
    "\n",
    "`conn = sqlite3.connect('<SQLite file name>')\n",
    "df.to_sql('modpop', conn, if_exists='replace', index=False)`\n"
   ]
  },
  {
   "cell_type": "code",
   "execution_count": null,
   "metadata": {},
   "outputs": [],
   "source": []
  },
  {
   "cell_type": "markdown",
   "metadata": {},
   "source": [
    "### Step - 6\n",
    "Using `pandas` and the connection defined at step 5 run the following query to read data from the table.\n",
    "`select MOD_Type, count(*) from modpop group by MOD_type`"
   ]
  },
  {
   "cell_type": "code",
   "execution_count": 63,
   "metadata": {},
   "outputs": [],
   "source": []
  },
  {
   "cell_type": "markdown",
   "metadata": {},
   "source": [
    "### Step - 7\n",
    "Load an external SQL library using the magic command `%load_ext` . "
   ]
  },
  {
   "cell_type": "code",
   "execution_count": null,
   "metadata": {},
   "outputs": [],
   "source": []
  },
  {
   "cell_type": "markdown",
   "metadata": {},
   "source": [
    "### Step -8 \n",
    "Define a connection to the SQLite database file and then run the second and third cell.\n",
    "\n",
    "Hint: `%sql sqlite:////<path and filename>`"
   ]
  },
  {
   "cell_type": "code",
   "execution_count": null,
   "metadata": {},
   "outputs": [],
   "source": []
  },
  {
   "cell_type": "code",
   "execution_count": null,
   "metadata": {},
   "outputs": [],
   "source": [
    "%%sql\n",
    "select MOD_Type, count(*) from modpop group by MOD_type;"
   ]
  },
  {
   "cell_type": "code",
   "execution_count": null,
   "metadata": {},
   "outputs": [],
   "source": [
    "%%sql\n",
    "drop table mod_summary;\n",
    "create table mod_summary as \n",
    "select MOD_Type, count(*) from modpop group by MOD_type;\n",
    "\n",
    "select * from mod_summary where mod_type like 'ALT%';"
   ]
  },
  {
   "cell_type": "markdown",
   "metadata": {},
   "source": [
    "### Step -9\n",
    "#### Do the following from the command prompt\n",
    "1. Login to SQLite\n",
    "2. Run help\n",
    "3. Run .tables, .schema, .databases\n",
    "4. Describe table with `pragma table_info('tablename');` . Set .header on and .mode column\n",
    "5. Export data to CSV using .mode csv and .output myfile.csv"
   ]
  }
 ],
 "metadata": {
  "kernelspec": {
   "display_name": "Python 3",
   "language": "python",
   "name": "python3"
  },
  "language_info": {
   "codemirror_mode": {
    "name": "ipython",
    "version": 3
   },
   "file_extension": ".py",
   "mimetype": "text/x-python",
   "name": "python",
   "nbconvert_exporter": "python",
   "pygments_lexer": "ipython3",
   "version": "3.7.3"
  }
 },
 "nbformat": 4,
 "nbformat_minor": 4
}
