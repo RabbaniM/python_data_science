{
 "cells": [
  {
   "cell_type": "markdown",
   "metadata": {},
   "source": [
    "# Python for Data Science - A Quick Introduction\n",
    "\n",
    "##### Rabbani Mozahid\n",
    "\n",
    "<br />\n",
    "<br />\n",
    "\n",
    "Python is a high-level general-purpose programming language that can be used for wide range of practical applications starting from simple scripting, web develoment to large scale application development, scientifice computing and advance analytics. One of the important design philosophy of Python is code readability by using significant whitespace and indenting.\n",
    "\n",
    "\n",
    "\n",
    "#### Installing JupyterLab\n",
    "\n",
    "Visit the https://jupyterlab.readthedocs.io/en/stable/getting_started/installation.html to see the latest instruction on how to install JupyterLab.\n",
    "\n",
    "\n",
    "\n",
    "#### Launching JupyterLab\n",
    "\n",
    "To launch the JupyterLab, just type `jupyter lab` in your terminal. JupyterLab will open automatically in your browser."
   ]
  },
  {
   "cell_type": "code",
   "execution_count": null,
   "metadata": {},
   "outputs": [],
   "source": [
    "#Accessing help\n",
    "help(print)"
   ]
  },
  {
   "cell_type": "code",
   "execution_count": null,
   "metadata": {},
   "outputs": [],
   "source": [
    "#Accessing help shortcut\n",
    "print?"
   ]
  },
  {
   "cell_type": "code",
   "execution_count": null,
   "metadata": {},
   "outputs": [],
   "source": [
    "2+7"
   ]
  },
  {
   "cell_type": "code",
   "execution_count": null,
   "metadata": {},
   "outputs": [],
   "source": [
    "Name=\"John\""
   ]
  },
  {
   "cell_type": "code",
   "execution_count": null,
   "metadata": {},
   "outputs": [],
   "source": [
    "print (Name)"
   ]
  },
  {
   "cell_type": "code",
   "execution_count": null,
   "metadata": {},
   "outputs": [],
   "source": [
    "print(_) # Prints last unused values in memory "
   ]
  },
  {
   "cell_type": "markdown",
   "metadata": {},
   "source": [
    "\n",
    "<br>\n",
    "\n",
    "### Python Types\n",
    "- Int – Any integers or whole numbers like 1, 2, 89\n",
    "- Float – 2.171892\n",
    "- Complex – 4 + 3j\n",
    "- Bool – True of False\n",
    "- Str, unicode – ‘MyString’, u‘MyString’\n",
    "- List     – [ 69, 6.9, ‘mystring’, True]\n",
    "- Tuple – (69,  6.9, ‘mystring’, True) immutable\n",
    "- Set – set([69, 6.9, ‘str’, True]) –no duplicates & unordered\n",
    "- Dictionary or hash – {‘key 1’: 6.9, ‘key2’: False} - group of key and value pairs\n",
    "\n",
    "Python types are dynamic typing, so you do not need to declare."
   ]
  },
  {
   "cell_type": "code",
   "execution_count": null,
   "metadata": {},
   "outputs": [],
   "source": [
    "#Numeric: integers, float\n",
    "\n",
    "x=1\n",
    "\n",
    "y= 1.23\n",
    "\n",
    "#Sequence: list, tuple, range - List and Tuple will be covered details later in this notebook\n",
    "\n",
    "#Binary: byte, bytearray - We can possibly ignore this for data science work\n",
    "\n",
    "z= b\"This is a byte type\"\n",
    "\n",
    "#True/False: bool\n",
    "\n",
    "p=True\n",
    "\n",
    "#Text: string\n",
    "\n",
    "Name=\"Mike\"\n",
    "\n",
    "print (x, y, z,p, Name)\n",
    "\n",
    "print (type(x),type(y),type(z),type(p),type(Name) )"
   ]
  },
  {
   "cell_type": "code",
   "execution_count": null,
   "metadata": {},
   "outputs": [],
   "source": [
    "#Multiline string\n",
    "\n",
    "''' Learing Python is fun\n",
    "You can do it'''\n"
   ]
  },
  {
   "cell_type": "code",
   "execution_count": 78,
   "metadata": {},
   "outputs": [
    {
     "data": {
      "text/plain": [
       "True"
      ]
     },
     "execution_count": 78,
     "metadata": {},
     "output_type": "execute_result"
    }
   ],
   "source": [
    "x=bool(22)\n",
    "x"
   ]
  },
  {
   "cell_type": "code",
   "execution_count": 81,
   "metadata": {},
   "outputs": [
    {
     "data": {
      "text/plain": [
       "False"
      ]
     },
     "execution_count": 81,
     "metadata": {},
     "output_type": "execute_result"
    }
   ],
   "source": [
    "y=bool(0) # Only zero is False\n",
    "y"
   ]
  },
  {
   "cell_type": "code",
   "execution_count": 80,
   "metadata": {},
   "outputs": [
    {
     "data": {
      "text/plain": [
       "True"
      ]
     },
     "execution_count": 80,
     "metadata": {},
     "output_type": "execute_result"
    }
   ],
   "source": [
    "z=bool(-5)\n",
    "z"
   ]
  },
  {
   "cell_type": "code",
   "execution_count": 95,
   "metadata": {},
   "outputs": [
    {
     "data": {
      "text/plain": [
       "datetime.date(2021, 3, 9)"
      ]
     },
     "execution_count": 95,
     "metadata": {},
     "output_type": "execute_result"
    }
   ],
   "source": [
    "from datetime import date # Not a built-in data type\n",
    "today=date.today()\n",
    "today"
   ]
  },
  {
   "cell_type": "code",
   "execution_count": 104,
   "metadata": {},
   "outputs": [
    {
     "data": {
      "text/plain": [
       "'09/03/2021'"
      ]
     },
     "execution_count": 104,
     "metadata": {},
     "output_type": "execute_result"
    }
   ],
   "source": [
    "today.strftime('%d/%m%/%Y')"
   ]
  },
  {
   "cell_type": "code",
   "execution_count": 93,
   "metadata": {},
   "outputs": [
    {
     "data": {
      "text/plain": [
       "datetime.datetime(2021, 3, 9, 23, 38, 31, 303427)"
      ]
     },
     "execution_count": 93,
     "metadata": {},
     "output_type": "execute_result"
    }
   ],
   "source": [
    "from datetime import datetime  # if you need time too\n",
    "today=datetime.now()\n",
    "today"
   ]
  },
  {
   "cell_type": "code",
   "execution_count": null,
   "metadata": {},
   "outputs": [],
   "source": []
  },
  {
   "cell_type": "markdown",
   "metadata": {},
   "source": [
    "### Quiz\n",
    "What is True + False? Explain your answer."
   ]
  },
  {
   "cell_type": "code",
   "execution_count": null,
   "metadata": {},
   "outputs": [],
   "source": [
    "True + False"
   ]
  },
  {
   "cell_type": "markdown",
   "metadata": {},
   "source": [
    "### Python Syntax\n",
    "* Python uses indentation and/or whitespace to delimit statement blocks \n",
    "* Whitespace within lines does not matter\n",
    "* End-of-Line terminates a statement"
   ]
  },
  {
   "cell_type": "code",
   "execution_count": null,
   "metadata": {},
   "outputs": [],
   "source": [
    "if 10 > 7:\n",
    "  print      (\"Ten is greater than seven.\")"
   ]
  },
  {
   "cell_type": "markdown",
   "metadata": {},
   "source": [
    "<br>\n",
    "### Print\n",
    "print : Produces text output on the console. Prints the given text message or expression value on the console, and moves the cursor down to the next line. You can prin several messages and/or expressions on the same line.\n",
    "\n",
    "Syntax:\n",
    "- print \"Message\"\n",
    "- print Expression \n",
    "- print Item1, Item2, ..., ItemN\n",
    "\n",
    "\n",
    "\n"
   ]
  },
  {
   "cell_type": "code",
   "execution_count": null,
   "metadata": {},
   "outputs": [],
   "source": [
    "name=input('Type your name')\n",
    "print (\"**********************\")\n",
    "print (\"My name is \", name )\n",
    "My_age = 40\n",
    "print (\"I have\", 100 - My_age, \"years before I am 100 year's old\")"
   ]
  },
  {
   "cell_type": "markdown",
   "metadata": {},
   "source": [
    "### Comments \n",
    "Comments are marked by #"
   ]
  },
  {
   "cell_type": "code",
   "execution_count": null,
   "metadata": {},
   "outputs": [],
   "source": [
    "# But you do not need the syntax mentioned here just to print; you need this for advanced programming with python\n",
    "print (\"Hello Python\") "
   ]
  },
  {
   "cell_type": "markdown",
   "metadata": {},
   "source": [
    "### Quiz\n",
    "Guess what will be printed?  10, 6 or 6, 10"
   ]
  },
  {
   "cell_type": "code",
   "execution_count": null,
   "metadata": {},
   "outputs": [],
   "source": [
    "#Guess what will be printed?  10, 6 or 6, 10\n",
    "x = 10\n",
    "y = x\n",
    "x = 6\n",
    "print(x,\", \",y)"
   ]
  },
  {
   "cell_type": "markdown",
   "metadata": {},
   "source": [
    "### Loops and Condition\n",
    "\n",
    "range(start, stop[, step]) \n",
    "Returns values between start and stop, increasing by the value of step (defaults to 1)\n"
   ]
  },
  {
   "cell_type": "code",
   "execution_count": null,
   "metadata": {},
   "outputs": [],
   "source": [
    "for i in range(1,10):\n",
    "\n",
    "     print(i)\n",
    "        "
   ]
  },
  {
   "cell_type": "code",
   "execution_count": null,
   "metadata": {},
   "outputs": [],
   "source": [
    "for i in range(0,10,2):\n",
    "\n",
    "    print(i)"
   ]
  },
  {
   "cell_type": "code",
   "execution_count": null,
   "metadata": {},
   "outputs": [],
   "source": [
    "for i in range(1,10):\n",
    "    if i == 5:\n",
    "        break\n",
    "    print (i)"
   ]
  },
  {
   "cell_type": "markdown",
   "metadata": {},
   "source": [
    "#### Python supports to have an else statement with a loop statement. "
   ]
  },
  {
   "cell_type": "code",
   "execution_count": null,
   "metadata": {},
   "outputs": [],
   "source": [
    "# Let's write few lines to print prime numbers\n",
    "for num in range(5,25):     #To iterate between 5 to 25\n",
    "   for i in range(2,num):    #To iterate on the factors of the number\n",
    "      if num%i == 0:         #When remainder is zero we get the first factor\n",
    "         j=num/i             #To calculate the second factor\n",
    "         print ('%d equals %d * %d' % (num,i,j))\n",
    "         break #To move to the next number, the #first FOR\n",
    "   else:                  \n",
    "      print (num, 'is a prime number')"
   ]
  },
  {
   "cell_type": "code",
   "execution_count": null,
   "metadata": {},
   "outputs": [],
   "source": [
    "for num in range(5, 25):\n",
    "    for i in range(2, num):\n",
    "        if num%i==0:\n",
    "            j=num/i\n",
    "            #print (str(num) + \" is not a prime number\")\n",
    "            print ('%d equals %d * %d' %(num,i,j) )\n",
    "            break\n",
    "    else:\n",
    "        print (str(num) + \" is a prime number\")"
   ]
  },
  {
   "cell_type": "code",
   "execution_count": null,
   "metadata": {},
   "outputs": [],
   "source": [
    "while i < 12:\n",
    "\n",
    "     print(i)\n",
    "\n",
    "     i+=3"
   ]
  },
  {
   "cell_type": "code",
   "execution_count": null,
   "metadata": {},
   "outputs": [],
   "source": [
    "for i in range(0,10):\n",
    "\n",
    "    if i % 2 == 0:\n",
    "\n",
    "        print(i)"
   ]
  },
  {
   "cell_type": "markdown",
   "metadata": {},
   "source": [
    "<br>\n",
    "### Function\n",
    "\n",
    "Functions are block of codes that are written once and can be called any time when needed. Python functions are defined using the word `def` as shown below:\n",
    "\n",
    "    "
   ]
  },
  {
   "cell_type": "code",
   "execution_count": null,
   "metadata": {},
   "outputs": [],
   "source": [
    "def function_name(parameters):\n",
    "     \"\"\"docstring\"\"\"\n",
    "     statement(s)\n",
    "     return statement"
   ]
  },
  {
   "cell_type": "markdown",
   "metadata": {},
   "source": [
    "<br>\n",
    "\n",
    "Argumants can be passed in the function as shown below:"
   ]
  },
  {
   "cell_type": "code",
   "execution_count": null,
   "metadata": {},
   "outputs": [],
   "source": [
    "def with_args(arg1=0,arg2=['a', 5]):\n",
    "    \"\"\" A function with arguments \"\"\"\n",
    "    num = arg1 + 3\n",
    "    mylist = arg2 + ['b',10]\n",
    "    return [num, mylist]\n",
    "with_args()"
   ]
  },
  {
   "cell_type": "code",
   "execution_count": null,
   "metadata": {},
   "outputs": [],
   "source": [
    "with_args(5)"
   ]
  },
  {
   "cell_type": "code",
   "execution_count": null,
   "metadata": {},
   "outputs": [],
   "source": [
    "with_args(10, ['x',6])"
   ]
  },
  {
   "cell_type": "code",
   "execution_count": null,
   "metadata": {},
   "outputs": [],
   "source": [
    "# A Docstring is the first statement in the body of a function, which can be accessed with function_name.__doc__ \n",
    "with_args.__doc__"
   ]
  },
  {
   "cell_type": "markdown",
   "metadata": {},
   "source": [
    "<br>\n",
    "#### Lambda\n",
    "A lambda function is a small anonymous function. It can take any number of arguments, but allow only one expression."
   ]
  },
  {
   "cell_type": "code",
   "execution_count": null,
   "metadata": {},
   "outputs": [],
   "source": [
    "x = lambda a, b : a + b \n",
    "print(x(5, 7))"
   ]
  },
  {
   "cell_type": "markdown",
   "metadata": {},
   "source": [
    "The usefullness of lambda is shown below by using them as an anonymous function inside another function."
   ]
  },
  {
   "cell_type": "code",
   "execution_count": null,
   "metadata": {},
   "outputs": [],
   "source": [
    "\n",
    "def dup_or_double(n):  \n",
    "    return lambda x : x * n\n",
    "\n",
    "result = dup_or_double (2) \n"
   ]
  },
  {
   "cell_type": "code",
   "execution_count": null,
   "metadata": {},
   "outputs": [],
   "source": [
    "double = result (50) \n",
    "print (double) "
   ]
  },
  {
   "cell_type": "code",
   "execution_count": null,
   "metadata": {},
   "outputs": [],
   "source": [
    "dup_str = result ('Ha ') \n",
    "print (dup_str) "
   ]
  },
  {
   "cell_type": "markdown",
   "metadata": {},
   "source": [
    "### Excercise \n",
    "1. Make a function using lambda that returns three strings"
   ]
  },
  {
   "cell_type": "markdown",
   "metadata": {},
   "source": [
    "#### Built-in Functions"
   ]
  },
  {
   "cell_type": "code",
   "execution_count": null,
   "metadata": {},
   "outputs": [],
   "source": [
    "word = 'Hello'\n",
    "\n",
    "print (word, word.lower(), word.upper())"
   ]
  },
  {
   "cell_type": "code",
   "execution_count": null,
   "metadata": {},
   "outputs": [],
   "source": [
    "m=lambda x, y: x + y +3"
   ]
  },
  {
   "cell_type": "code",
   "execution_count": null,
   "metadata": {},
   "outputs": [],
   "source": [
    "m(2,3)"
   ]
  },
  {
   "cell_type": "code",
   "execution_count": null,
   "metadata": {},
   "outputs": [],
   "source": [
    "#Concatenation\n",
    "\n",
    "'1' +'2'"
   ]
  },
  {
   "cell_type": "code",
   "execution_count": null,
   "metadata": {},
   "outputs": [],
   "source": [
    "#Concatenation\n",
    "\n",
    "'Hello' + ' there'"
   ]
  },
  {
   "cell_type": "code",
   "execution_count": null,
   "metadata": {},
   "outputs": [],
   "source": [
    "#Concatenation and replication\n",
    "\n",
    "'1'*2 + '2'*3"
   ]
  },
  {
   "cell_type": "markdown",
   "metadata": {},
   "source": [
    "#Concatenation with join() method \n",
    "The method join() returns a string in which the string elements of sequence are joined by str separator."
   ]
  },
  {
   "cell_type": "code",
   "execution_count": null,
   "metadata": {},
   "outputs": [],
   "source": [
    "str_separator=' '\n",
    "list =['I','am','learning', 'dgf']\n",
    "str_separator.join(list)\n",
    "#or ' '.join(list)"
   ]
  },
  {
   "cell_type": "code",
   "execution_count": null,
   "metadata": {},
   "outputs": [],
   "source": [
    "enq='abc'.join(list)\n",
    "enq"
   ]
  },
  {
   "cell_type": "code",
   "execution_count": null,
   "metadata": {},
   "outputs": [],
   "source": [
    "enq.split('abc')"
   ]
  },
  {
   "cell_type": "code",
   "execution_count": null,
   "metadata": {},
   "outputs": [],
   "source": [
    "#split\n",
    "\n",
    "s = 'Let\\'s split the words'\n",
    "\n",
    "s.split(' ')"
   ]
  },
  {
   "cell_type": "markdown",
   "metadata": {},
   "source": [
    "### Quiz\n",
    "Which one is true?\n",
    "1. The first code block will print 5 and 4.\n",
    "2. The second code block will print 4 and 5\n",
    "3. The first code block will print only 5 and function name with address\n",
    "4. The second code blcok will print only 5 and function name with address"
   ]
  },
  {
   "cell_type": "code",
   "execution_count": null,
   "metadata": {},
   "outputs": [],
   "source": [
    "def num():\n",
    "    num = 5\n",
    "    print(num)\n",
    "\n",
    "num = 4\n",
    "\n",
    "#num()\n",
    "print(num)"
   ]
  },
  {
   "cell_type": "code",
   "execution_count": null,
   "metadata": {},
   "outputs": [],
   "source": [
    "num = 4\n",
    "def num():\n",
    "    num = 5\n",
    "    print(num)\n",
    "\n",
    "\n",
    "num()\n",
    "print(num)"
   ]
  },
  {
   "cell_type": "markdown",
   "metadata": {},
   "source": [
    "### Magic Function %"
   ]
  },
  {
   "cell_type": "code",
   "execution_count": null,
   "metadata": {},
   "outputs": [],
   "source": [
    "%%writefile quiz.py\n",
    "from random import randint\n",
    "\n",
    "#how big a number should we guess? \n",
    "max_number = 7\n",
    "first_line = \"Guess a number between 1 and %d\" % max_number\n",
    "print(first_line)\n",
    "\n",
    "number = randint(1, max_number)\n",
    "\n",
    "not_solved = True\n",
    "\n",
    "#keep looping unil we guess correctly\n",
    "while not_solved:\n",
    "    answer = int(input('?'))\n",
    "    you_said = \"You typed %d\" % answer\n",
    "    print (you_said)\n",
    "    if answer > number:\n",
    "        print (\"The number is lower\")\n",
    "    elif answer < number:\n",
    "       print (\"The number is higher\")\n",
    "    else:\n",
    "        print (\"You got it right\")\n",
    "        not_solved = False"
   ]
  },
  {
   "cell_type": "code",
   "execution_count": null,
   "metadata": {},
   "outputs": [],
   "source": [
    "# Runing external code\n",
    "%run quiz.py\n"
   ]
  },
  {
   "cell_type": "code",
   "execution_count": null,
   "metadata": {},
   "outputs": [],
   "source": [
    "#Another example\n",
    "#%timeit sum(range(10))"
   ]
  },
  {
   "cell_type": "code",
   "execution_count": null,
   "metadata": {},
   "outputs": [],
   "source": [
    "# List of magic functions\n",
    "# %lsmagic\n"
   ]
  },
  {
   "cell_type": "code",
   "execution_count": null,
   "metadata": {},
   "outputs": [],
   "source": [
    "%%writefile nameMain.py\n",
    "# Let's save this code in a file called nameMain.py\n",
    "print (\"I am for whoever needs me!\")\n",
    "#print ( __name__ ) # You can see the value of __name__ is __main__\n",
    "if __name__ == \"__main__\": \n",
    "    print (\"This is a local for this block only\")"
   ]
  },
  {
   "cell_type": "code",
   "execution_count": null,
   "metadata": {},
   "outputs": [],
   "source": [
    "# if block will be executed here as we are runnind diretly\n",
    "!python nameMain.py"
   ]
  },
  {
   "cell_type": "code",
   "execution_count": null,
   "metadata": {},
   "outputs": [],
   "source": [
    "%%writefile second.py\n",
    "#Let's save another python file named second.py that imports nameMain.py\n",
    "import nameMain"
   ]
  },
  {
   "cell_type": "code",
   "execution_count": null,
   "metadata": {},
   "outputs": [],
   "source": [
    "# if block will not be executed here as we are calling nameMain.py instead of running it diretly\n",
    "!python second.py"
   ]
  }
 ],
 "metadata": {
  "kernelspec": {
   "display_name": "Python 3",
   "language": "python",
   "name": "python3"
  },
  "language_info": {
   "codemirror_mode": {
    "name": "ipython",
    "version": 3
   },
   "file_extension": ".py",
   "mimetype": "text/x-python",
   "name": "python",
   "nbconvert_exporter": "python",
   "pygments_lexer": "ipython3",
   "version": "3.7.0"
  }
 },
 "nbformat": 4,
 "nbformat_minor": 4
}
