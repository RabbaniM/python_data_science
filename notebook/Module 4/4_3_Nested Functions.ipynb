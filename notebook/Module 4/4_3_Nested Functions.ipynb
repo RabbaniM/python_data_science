{
 "cells": [
  {
   "cell_type": "markdown",
   "metadata": {},
   "source": [
    "# Outline\n",
    "- What are nested functions and why should we use them?\n",
    "- Nested function example\n",
    "- Order of operations"
   ]
  },
  {
   "cell_type": "markdown",
   "metadata": {},
   "source": [
    "## Nested function example"
   ]
  },
  {
   "cell_type": "code",
   "execution_count": 2,
   "metadata": {},
   "outputs": [],
   "source": [
    "def add_two(n):\n",
    "    n = n + 2\n",
    "    print(n)"
   ]
  },
  {
   "cell_type": "code",
   "execution_count": 8,
   "metadata": {},
   "outputs": [],
   "source": [
    "def add_two(n, m, x, y, z):\n",
    "    n = n + 2\n",
    "    m = m + 2\n",
    "    x = x + 2\n",
    "    y = y + 2\n",
    "    z = z + 2\n",
    "    print(n, m, x, y, z)"
   ]
  },
  {
   "cell_type": "code",
   "execution_count": 81,
   "metadata": {},
   "outputs": [],
   "source": [
    "def add_two (n, m, x, y, z):\n",
    "    def value_plus_two(a):\n",
    "        a = a + 2\n",
    "        return a\n",
    "    print(value_plus_two(n), value_plus_two(m), value_plus_two(x), value_plus_two(y), value_plus_two(z))"
   ]
  },
  {
   "cell_type": "code",
   "execution_count": 82,
   "metadata": {},
   "outputs": [
    {
     "name": "stdout",
     "output_type": "stream",
     "text": [
      "3 4 5 6 7\n"
     ]
    }
   ],
   "source": [
    "add_two(1,2,3,4,5)"
   ]
  }
 ],
 "metadata": {
  "kernelspec": {
   "display_name": "Python 3",
   "language": "python",
   "name": "python3"
  },
  "language_info": {
   "codemirror_mode": {
    "name": "ipython",
    "version": 3
   },
   "file_extension": ".py",
   "mimetype": "text/x-python",
   "name": "python",
   "nbconvert_exporter": "python",
   "pygments_lexer": "ipython3",
   "version": "3.8.0"
  }
 },
 "nbformat": 4,
 "nbformat_minor": 2
}
