{
 "cells": [
  {
   "cell_type": "markdown",
   "metadata": {},
   "source": [
    "#  Converting SAS Data into SQLite and Use SQL Queries\n",
    "================================================================================"
   ]
  },
  {
   "cell_type": "code",
   "execution_count": 4,
   "metadata": {},
   "outputs": [],
   "source": [
    "import pandas as pd\n",
    "import pyreadstat\n",
    "import sqlite3 "
   ]
  },
  {
   "cell_type": "code",
   "execution_count": 31,
   "metadata": {},
   "outputs": [
    {
     "name": "stdout",
     "output_type": "stream",
     "text": [
      "CPU times: user 1.07 s, sys: 53.6 ms, total: 1.12 s\n",
      "Wall time: 1.12 s\n"
     ]
    }
   ],
   "source": [
    "%%time\n",
    "df2, meta = pyreadstat.read_sas7bdat('../Data/modpop_1to1_201910.sas7bdat', row_limit= 50000, encoding='latin1')"
   ]
  },
  {
   "cell_type": "code",
   "execution_count": 32,
   "metadata": {},
   "outputs": [
    {
     "data": {
      "text/plain": [
       "50000"
      ]
     },
     "execution_count": 32,
     "metadata": {},
     "output_type": "execute_result"
    }
   ],
   "source": [
    "meta.number_rows"
   ]
  },
  {
   "cell_type": "code",
   "execution_count": 33,
   "metadata": {
    "collapsed": true,
    "jupyter": {
     "outputs_hidden": true
    }
   },
   "outputs": [
    {
     "data": {
      "text/plain": [
       "['ACTG_PER',\n",
       " 'COMPLETION_DTE',\n",
       " 'DARTS_CASE_ID',\n",
       " 'DLQ_BF_CONVERSION',\n",
       " 'DLQ_BF_TRIAL',\n",
       " 'DLQ_RESET_DTE',\n",
       " 'DLQ_VALID_DTE',\n",
       " 'FNMA_LN',\n",
       " 'INT_FORGIVEN',\n",
       " 'LIQD_DTE',\n",
       " 'MOD_CURR_DTE',\n",
       " 'MOD_START_DTE',\n",
       " 'MOD_TYPE',\n",
       " 'PCT_PAY_CHG',\n",
       " 'POST_MOD_PMT',\n",
       " 'POST_MOD_PRDCT',\n",
       " 'POST_MOD_RATE',\n",
       " 'POST_MOD_REMTRM',\n",
       " 'POST_MOD_UPB',\n",
       " 'PRE_MOD_PMT',\n",
       " 'PRE_MOD_PRDCT',\n",
       " 'PRE_MOD_RATE',\n",
       " 'PRE_MOD_REMTRM',\n",
       " 'PRE_MOD_UPB',\n",
       " 'TOT_MTHY_HHLD_GRS_INCM_AMT',\n",
       " 'TRIAL_END_DTE',\n",
       " 'TRIAL_OUTCOME',\n",
       " 'TRL_FST_PMT_DTE',\n",
       " 'UPB_FORBORN',\n",
       " 'UPB_FORGIVEN',\n",
       " 'STEP_RATE_01',\n",
       " 'STEP_DATE_01',\n",
       " 'STEP_RATE_02',\n",
       " 'STEP_DATE_02',\n",
       " 'STEP_RATE_03',\n",
       " 'STEP_DATE_03',\n",
       " 'STEP_RATE_04',\n",
       " 'STEP_DATE_04',\n",
       " 'STEP_RATE_05',\n",
       " 'STEP_DATE_05',\n",
       " 'STEP_RATE_06',\n",
       " 'STEP_DATE_06',\n",
       " 'STEP_RATE_07',\n",
       " 'STEP_DATE_07',\n",
       " 'STEP_RATE_08',\n",
       " 'STEP_DATE_08',\n",
       " 'STEP_RATE_09',\n",
       " 'STEP_DATE_09',\n",
       " 'STEP_RATE_10',\n",
       " 'STEP_DATE_10',\n",
       " 'DARTS_CPGN_ID']"
      ]
     },
     "execution_count": 33,
     "metadata": {},
     "output_type": "execute_result"
    }
   ],
   "source": [
    "meta.column_names"
   ]
  },
  {
   "cell_type": "markdown",
   "metadata": {},
   "source": []
  },
  {
   "cell_type": "markdown",
   "metadata": {},
   "source": [
    "https://ofajardo.github.io/pyreadstat_documentation/_build/html/index.html"
   ]
  },
  {
   "cell_type": "code",
   "execution_count": 34,
   "metadata": {},
   "outputs": [
    {
     "data": {
      "text/html": [
       "<div>\n",
       "<style scoped>\n",
       "    .dataframe tbody tr th:only-of-type {\n",
       "        vertical-align: middle;\n",
       "    }\n",
       "\n",
       "    .dataframe tbody tr th {\n",
       "        vertical-align: top;\n",
       "    }\n",
       "\n",
       "    .dataframe thead th {\n",
       "        text-align: right;\n",
       "    }\n",
       "</style>\n",
       "<table border=\"1\" class=\"dataframe\">\n",
       "  <thead>\n",
       "    <tr style=\"text-align: right;\">\n",
       "      <th></th>\n",
       "      <th>ACTG_PER</th>\n",
       "      <th>COMPLETION_DTE</th>\n",
       "      <th>DARTS_CASE_ID</th>\n",
       "      <th>DLQ_BF_CONVERSION</th>\n",
       "      <th>DLQ_BF_TRIAL</th>\n",
       "      <th>DLQ_RESET_DTE</th>\n",
       "      <th>DLQ_VALID_DTE</th>\n",
       "      <th>FNMA_LN</th>\n",
       "      <th>INT_FORGIVEN</th>\n",
       "      <th>LIQD_DTE</th>\n",
       "      <th>...</th>\n",
       "      <th>STEP_DATE_06</th>\n",
       "      <th>STEP_RATE_07</th>\n",
       "      <th>STEP_DATE_07</th>\n",
       "      <th>STEP_RATE_08</th>\n",
       "      <th>STEP_DATE_08</th>\n",
       "      <th>STEP_RATE_09</th>\n",
       "      <th>STEP_DATE_09</th>\n",
       "      <th>STEP_RATE_10</th>\n",
       "      <th>STEP_DATE_10</th>\n",
       "      <th>DARTS_CPGN_ID</th>\n",
       "    </tr>\n",
       "  </thead>\n",
       "  <tbody>\n",
       "    <tr>\n",
       "      <th>0</th>\n",
       "      <td>201910.0</td>\n",
       "      <td>2001-02-01</td>\n",
       "      <td>5.020100e+09</td>\n",
       "      <td>5.0</td>\n",
       "      <td>NaN</td>\n",
       "      <td>2001-02-01</td>\n",
       "      <td>2001-02-01</td>\n",
       "      <td>1010059174</td>\n",
       "      <td>NaN</td>\n",
       "      <td>NaN</td>\n",
       "      <td>...</td>\n",
       "      <td>NaN</td>\n",
       "      <td>NaN</td>\n",
       "      <td>NaN</td>\n",
       "      <td>NaN</td>\n",
       "      <td>NaN</td>\n",
       "      <td>NaN</td>\n",
       "      <td>NaN</td>\n",
       "      <td>NaN</td>\n",
       "      <td>NaN</td>\n",
       "      <td></td>\n",
       "    </tr>\n",
       "    <tr>\n",
       "      <th>1</th>\n",
       "      <td>201910.0</td>\n",
       "      <td>2004-04-01</td>\n",
       "      <td>1.020402e+09</td>\n",
       "      <td>7.0</td>\n",
       "      <td>NaN</td>\n",
       "      <td>2004-04-01</td>\n",
       "      <td>2004-04-01</td>\n",
       "      <td>1010059435</td>\n",
       "      <td>NaN</td>\n",
       "      <td>NaN</td>\n",
       "      <td>...</td>\n",
       "      <td>NaN</td>\n",
       "      <td>NaN</td>\n",
       "      <td>NaN</td>\n",
       "      <td>NaN</td>\n",
       "      <td>NaN</td>\n",
       "      <td>NaN</td>\n",
       "      <td>NaN</td>\n",
       "      <td>NaN</td>\n",
       "      <td>NaN</td>\n",
       "      <td></td>\n",
       "    </tr>\n",
       "    <tr>\n",
       "      <th>2</th>\n",
       "      <td>201910.0</td>\n",
       "      <td>1999-12-01</td>\n",
       "      <td>5.029904e+09</td>\n",
       "      <td>9.0</td>\n",
       "      <td>NaN</td>\n",
       "      <td>2000-01-01</td>\n",
       "      <td>2000-02-01</td>\n",
       "      <td>1010068307</td>\n",
       "      <td>NaN</td>\n",
       "      <td>NaN</td>\n",
       "      <td>...</td>\n",
       "      <td>NaN</td>\n",
       "      <td>NaN</td>\n",
       "      <td>NaN</td>\n",
       "      <td>NaN</td>\n",
       "      <td>NaN</td>\n",
       "      <td>NaN</td>\n",
       "      <td>NaN</td>\n",
       "      <td>NaN</td>\n",
       "      <td>NaN</td>\n",
       "      <td></td>\n",
       "    </tr>\n",
       "    <tr>\n",
       "      <th>3</th>\n",
       "      <td>201910.0</td>\n",
       "      <td>1998-04-01</td>\n",
       "      <td>5.029801e+09</td>\n",
       "      <td>2.0</td>\n",
       "      <td>NaN</td>\n",
       "      <td>1998-04-01</td>\n",
       "      <td>1998-06-01</td>\n",
       "      <td>1010068943</td>\n",
       "      <td>NaN</td>\n",
       "      <td>NaN</td>\n",
       "      <td>...</td>\n",
       "      <td>NaN</td>\n",
       "      <td>NaN</td>\n",
       "      <td>NaN</td>\n",
       "      <td>NaN</td>\n",
       "      <td>NaN</td>\n",
       "      <td>NaN</td>\n",
       "      <td>NaN</td>\n",
       "      <td>NaN</td>\n",
       "      <td>NaN</td>\n",
       "      <td></td>\n",
       "    </tr>\n",
       "    <tr>\n",
       "      <th>4</th>\n",
       "      <td>201910.0</td>\n",
       "      <td>2005-02-01</td>\n",
       "      <td>4.020502e+09</td>\n",
       "      <td>19.0</td>\n",
       "      <td>NaN</td>\n",
       "      <td>2005-02-01</td>\n",
       "      <td>2005-02-01</td>\n",
       "      <td>1010072748</td>\n",
       "      <td>NaN</td>\n",
       "      <td>NaN</td>\n",
       "      <td>...</td>\n",
       "      <td>NaN</td>\n",
       "      <td>NaN</td>\n",
       "      <td>NaN</td>\n",
       "      <td>NaN</td>\n",
       "      <td>NaN</td>\n",
       "      <td>NaN</td>\n",
       "      <td>NaN</td>\n",
       "      <td>NaN</td>\n",
       "      <td>NaN</td>\n",
       "      <td></td>\n",
       "    </tr>\n",
       "  </tbody>\n",
       "</table>\n",
       "<p>5 rows × 51 columns</p>\n",
       "</div>"
      ],
      "text/plain": [
       "   ACTG_PER COMPLETION_DTE  DARTS_CASE_ID  DLQ_BF_CONVERSION  DLQ_BF_TRIAL  \\\n",
       "0  201910.0     2001-02-01   5.020100e+09                5.0           NaN   \n",
       "1  201910.0     2004-04-01   1.020402e+09                7.0           NaN   \n",
       "2  201910.0     1999-12-01   5.029904e+09                9.0           NaN   \n",
       "3  201910.0     1998-04-01   5.029801e+09                2.0           NaN   \n",
       "4  201910.0     2005-02-01   4.020502e+09               19.0           NaN   \n",
       "\n",
       "  DLQ_RESET_DTE DLQ_VALID_DTE     FNMA_LN  INT_FORGIVEN LIQD_DTE  ...  \\\n",
       "0    2001-02-01    2001-02-01  1010059174           NaN      NaN  ...   \n",
       "1    2004-04-01    2004-04-01  1010059435           NaN      NaN  ...   \n",
       "2    2000-01-01    2000-02-01  1010068307           NaN      NaN  ...   \n",
       "3    1998-04-01    1998-06-01  1010068943           NaN      NaN  ...   \n",
       "4    2005-02-01    2005-02-01  1010072748           NaN      NaN  ...   \n",
       "\n",
       "  STEP_DATE_06  STEP_RATE_07 STEP_DATE_07  STEP_RATE_08  STEP_DATE_08  \\\n",
       "0          NaN           NaN          NaN           NaN           NaN   \n",
       "1          NaN           NaN          NaN           NaN           NaN   \n",
       "2          NaN           NaN          NaN           NaN           NaN   \n",
       "3          NaN           NaN          NaN           NaN           NaN   \n",
       "4          NaN           NaN          NaN           NaN           NaN   \n",
       "\n",
       "   STEP_RATE_09  STEP_DATE_09  STEP_RATE_10  STEP_DATE_10  DARTS_CPGN_ID  \n",
       "0           NaN           NaN           NaN           NaN                 \n",
       "1           NaN           NaN           NaN           NaN                 \n",
       "2           NaN           NaN           NaN           NaN                 \n",
       "3           NaN           NaN           NaN           NaN                 \n",
       "4           NaN           NaN           NaN           NaN                 \n",
       "\n",
       "[5 rows x 51 columns]"
      ]
     },
     "execution_count": 34,
     "metadata": {},
     "output_type": "execute_result"
    }
   ],
   "source": [
    "df2.head()"
   ]
  },
  {
   "cell_type": "code",
   "execution_count": 35,
   "metadata": {
    "collapsed": true,
    "jupyter": {
     "outputs_hidden": true
    }
   },
   "outputs": [
    {
     "name": "stdout",
     "output_type": "stream",
     "text": [
      "Number of rows:  50000 \t Number of colums:  51 \t Encoding:  latin1\n",
      "ACTG_PER \t\t\t  Accounting Period\n",
      "COMPLETION_DTE \t\t\t  Date When a Trial Completes\n",
      "DARTS_CASE_ID \t\t\t  Unique ID Assigned to Each Workout\n",
      "DLQ_BF_CONVERSION \t\t\t  DELQ of a Loan before MOD_CURR_DTE\n",
      "DLQ_BF_TRIAL \t\t\t  DELQ of a Loan before Trial Period\n",
      "DLQ_RESET_DTE \t\t\t  Date When SIR Resets the Delinquency\n",
      "DLQ_VALID_DTE \t\t\t  Date Starting When DLQ Is Valid\n",
      "FNMA_LN \t\t\t  Fannie Mae Loan ID\n",
      "INT_FORGIVEN \t\t\t  Interest Forgiven as Part of Workout\n",
      "LIQD_DTE \t\t\t  Loan Liquidation Date\n",
      "MOD_CURR_DTE \t\t\t  Date When a Modified Loan Becomes Current\n",
      "MOD_START_DTE \t\t\t  Date When a Trial MOD Starts\n",
      "MOD_TYPE \t\t\t  Type of Modification\n",
      "PCT_PAY_CHG \t\t\t  Pctg of Payment Change Before/After MOD\n",
      "POST_MOD_PMT \t\t\t  Scheduled Monthly Payment After MOD\n",
      "POST_MOD_PRDCT \t\t\t  Product Code After Workout\n",
      "POST_MOD_RATE \t\t\t  Note Rate After Workout\n",
      "POST_MOD_REMTRM \t\t\t  Scheduled Remaining Term After MOD\n",
      "POST_MOD_UPB \t\t\t  Total UPB after MOD, including FB AMT\n",
      "PRE_MOD_PMT \t\t\t  Scheduled Monthly Payment Before MOD\n",
      "PRE_MOD_PRDCT \t\t\t  Product Code Before Workout\n",
      "PRE_MOD_RATE \t\t\t  Note Rate Before Workout\n",
      "PRE_MOD_REMTRM \t\t\t  Scheduled Remaining term before MOD\n",
      "PRE_MOD_UPB \t\t\t  UPB Before Modification\n",
      "TOT_MTHY_HHLD_GRS_INCM_AMT \t\t\t  Total Monthly Household Gross Income\n",
      "TRIAL_END_DTE \t\t\t  Date When a MOD Trial Period Ends\n",
      "TRIAL_OUTCOME \t\t\t  Trial Outcome\n",
      "TRL_FST_PMT_DTE \t\t\t  First Payment Due Date in Trial Period\n",
      "UPB_FORBORN \t\t\t  Forbearance Amount as Part of Workout\n",
      "UPB_FORGIVEN \t\t\t  UPB Forgiven as Part of Workout\n",
      "STEP_RATE_01 \t\t\t  None\n",
      "STEP_DATE_01 \t\t\t  None\n",
      "STEP_RATE_02 \t\t\t  None\n",
      "STEP_DATE_02 \t\t\t  None\n",
      "STEP_RATE_03 \t\t\t  None\n",
      "STEP_DATE_03 \t\t\t  None\n",
      "STEP_RATE_04 \t\t\t  None\n",
      "STEP_DATE_04 \t\t\t  None\n",
      "STEP_RATE_05 \t\t\t  None\n",
      "STEP_DATE_05 \t\t\t  None\n",
      "STEP_RATE_06 \t\t\t  None\n",
      "STEP_DATE_06 \t\t\t  None\n",
      "STEP_RATE_07 \t\t\t  None\n",
      "STEP_DATE_07 \t\t\t  None\n",
      "STEP_RATE_08 \t\t\t  None\n",
      "STEP_DATE_08 \t\t\t  None\n",
      "STEP_RATE_09 \t\t\t  None\n",
      "STEP_DATE_09 \t\t\t  None\n",
      "STEP_RATE_10 \t\t\t  None\n",
      "STEP_DATE_10 \t\t\t  None\n",
      "DARTS_CPGN_ID \t\t\t  Campaign ID for the loan modification program, see program name in variable MOD_TYPE\n"
     ]
    }
   ],
   "source": [
    "print(\"Number of rows: \", meta.number_rows, '\\t', \"Number of colums: \", meta.number_columns, '\\t', \"Encoding: \", meta.file_encoding )\n",
    "#print(df2.dtypes)\n",
    "for x,y in zip(meta.column_names, meta.column_labels):\n",
    "    print(x,\"\\t\\t\\t \",y)"
   ]
  },
  {
   "cell_type": "code",
   "execution_count": 36,
   "metadata": {},
   "outputs": [
    {
     "name": "stdout",
     "output_type": "stream",
     "text": [
      "CPU times: user 3.68 s, sys: 74.3 ms, total: 3.75 s\n",
      "Wall time: 3.86 s\n"
     ]
    }
   ],
   "source": [
    "%%time\n",
    "conn = sqlite3.connect('modpop.sqlite3')\n",
    "\n",
    "df2.to_sql('modpop', conn, if_exists='replace', index=False)\n"
   ]
  },
  {
   "cell_type": "code",
   "execution_count": 37,
   "metadata": {},
   "outputs": [],
   "source": [
    "df_sum = pd.read_sql(\"select MOD_Type, count(*) as total from modpop group by MOD_type\", conn)\n"
   ]
  },
  {
   "cell_type": "code",
   "execution_count": 38,
   "metadata": {},
   "outputs": [
    {
     "data": {
      "text/html": [
       "<div>\n",
       "<style scoped>\n",
       "    .dataframe tbody tr th:only-of-type {\n",
       "        vertical-align: middle;\n",
       "    }\n",
       "\n",
       "    .dataframe tbody tr th {\n",
       "        vertical-align: top;\n",
       "    }\n",
       "\n",
       "    .dataframe thead th {\n",
       "        text-align: right;\n",
       "    }\n",
       "</style>\n",
       "<table border=\"1\" class=\"dataframe\">\n",
       "  <thead>\n",
       "    <tr style=\"text-align: right;\">\n",
       "      <th></th>\n",
       "      <th>MOD_TYPE</th>\n",
       "      <th>total</th>\n",
       "    </tr>\n",
       "  </thead>\n",
       "  <tbody>\n",
       "    <tr>\n",
       "      <th>0</th>\n",
       "      <td>ALT</td>\n",
       "      <td>133</td>\n",
       "    </tr>\n",
       "    <tr>\n",
       "      <th>1</th>\n",
       "      <td>ALT2011</td>\n",
       "      <td>57</td>\n",
       "    </tr>\n",
       "    <tr>\n",
       "      <th>2</th>\n",
       "      <td>ALT3.0</td>\n",
       "      <td>709</td>\n",
       "    </tr>\n",
       "    <tr>\n",
       "      <th>3</th>\n",
       "      <td>CAPEX</td>\n",
       "      <td>662</td>\n",
       "    </tr>\n",
       "    <tr>\n",
       "      <th>4</th>\n",
       "      <td>CAPEXD</td>\n",
       "      <td>37</td>\n",
       "    </tr>\n",
       "    <tr>\n",
       "      <th>5</th>\n",
       "      <td>EXTENDD</td>\n",
       "      <td>132</td>\n",
       "    </tr>\n",
       "    <tr>\n",
       "      <th>6</th>\n",
       "      <td>FLEXMOD</td>\n",
       "      <td>937</td>\n",
       "    </tr>\n",
       "    <tr>\n",
       "      <th>7</th>\n",
       "      <td>FLEXMODD</td>\n",
       "      <td>5</td>\n",
       "    </tr>\n",
       "    <tr>\n",
       "      <th>8</th>\n",
       "      <td>FNMAMOD</td>\n",
       "      <td>1380</td>\n",
       "    </tr>\n",
       "    <tr>\n",
       "      <th>9</th>\n",
       "      <td>HAMP</td>\n",
       "      <td>1195</td>\n",
       "    </tr>\n",
       "    <tr>\n",
       "      <th>10</th>\n",
       "      <td>HSA</td>\n",
       "      <td>425</td>\n",
       "    </tr>\n",
       "    <tr>\n",
       "      <th>11</th>\n",
       "      <td>HSF</td>\n",
       "      <td>100</td>\n",
       "    </tr>\n",
       "    <tr>\n",
       "      <th>12</th>\n",
       "      <td>LTF</td>\n",
       "      <td>2225</td>\n",
       "    </tr>\n",
       "    <tr>\n",
       "      <th>13</th>\n",
       "      <td>MOD24</td>\n",
       "      <td>37</td>\n",
       "    </tr>\n",
       "    <tr>\n",
       "      <th>14</th>\n",
       "      <td>OTH_NT</td>\n",
       "      <td>51</td>\n",
       "    </tr>\n",
       "    <tr>\n",
       "      <th>15</th>\n",
       "      <td>OTH_TR</td>\n",
       "      <td>89</td>\n",
       "    </tr>\n",
       "    <tr>\n",
       "      <th>16</th>\n",
       "      <td>RPP</td>\n",
       "      <td>8675</td>\n",
       "    </tr>\n",
       "    <tr>\n",
       "      <th>17</th>\n",
       "      <td>SMP2</td>\n",
       "      <td>1643</td>\n",
       "    </tr>\n",
       "    <tr>\n",
       "      <th>18</th>\n",
       "      <td>STD</td>\n",
       "      <td>31508</td>\n",
       "    </tr>\n",
       "  </tbody>\n",
       "</table>\n",
       "</div>"
      ],
      "text/plain": [
       "    MOD_TYPE  total\n",
       "0        ALT    133\n",
       "1    ALT2011     57\n",
       "2     ALT3.0    709\n",
       "3      CAPEX    662\n",
       "4     CAPEXD     37\n",
       "5    EXTENDD    132\n",
       "6    FLEXMOD    937\n",
       "7   FLEXMODD      5\n",
       "8    FNMAMOD   1380\n",
       "9       HAMP   1195\n",
       "10       HSA    425\n",
       "11       HSF    100\n",
       "12       LTF   2225\n",
       "13     MOD24     37\n",
       "14    OTH_NT     51\n",
       "15    OTH_TR     89\n",
       "16       RPP   8675\n",
       "17      SMP2   1643\n",
       "18       STD  31508"
      ]
     },
     "execution_count": 38,
     "metadata": {},
     "output_type": "execute_result"
    }
   ],
   "source": [
    "df_sum"
   ]
  },
  {
   "cell_type": "code",
   "execution_count": 21,
   "metadata": {
    "collapsed": true,
    "jupyter": {
     "outputs_hidden": true
    }
   },
   "outputs": [
    {
     "name": "stdout",
     "output_type": "stream",
     "text": [
      "Looking in indexes: https://nexusrepository.fanniemae.com/nexus/repository/pypi-all/simple\n",
      "Collecting ipython-sql\n",
      "  Downloading https://nexusrepository.fanniemae.com/nexus/repository/pypi-all/packages/ab/df/427e7cf05ffc67e78672ad57dce2436c1e825129033effe6fcaf804d0c60/ipython_sql-0.3.9-py2.py3-none-any.whl\n",
      "Requirement already satisfied: ipython>=1.0 in /opt/app-root/conda/lib/python3.7/site-packages (from ipython-sql) (7.6.1)\n",
      "Requirement already satisfied: sqlparse in /opt/app-root/src/.local/lib/python3.7/site-packages (from ipython-sql) (0.3.0)\n",
      "Requirement already satisfied: ipython-genutils>=0.1.0 in /opt/app-root/conda/lib/python3.7/site-packages (from ipython-sql) (0.2.0)\n",
      "Requirement already satisfied: six in /opt/app-root/conda/lib/python3.7/site-packages (from ipython-sql) (1.12.0)\n",
      "Collecting prettytable (from ipython-sql)\n",
      "Requirement already satisfied: sqlalchemy>=0.6.7 in /opt/app-root/conda/lib/python3.7/site-packages (from ipython-sql) (1.3.5)\n",
      "Requirement already satisfied: pexpect; sys_platform != \"win32\" in /opt/app-root/conda/lib/python3.7/site-packages (from ipython>=1.0->ipython-sql) (4.7.0)\n",
      "Requirement already satisfied: backcall in /opt/app-root/conda/lib/python3.7/site-packages (from ipython>=1.0->ipython-sql) (0.1.0)\n",
      "Requirement already satisfied: pickleshare in /opt/app-root/conda/lib/python3.7/site-packages (from ipython>=1.0->ipython-sql) (0.7.5)\n",
      "Requirement already satisfied: prompt-toolkit<2.1.0,>=2.0.0 in /opt/app-root/conda/lib/python3.7/site-packages (from ipython>=1.0->ipython-sql) (2.0.9)\n",
      "Requirement already satisfied: pygments in /opt/app-root/conda/lib/python3.7/site-packages (from ipython>=1.0->ipython-sql) (2.4.2)\n",
      "Requirement already satisfied: jedi>=0.10 in /opt/app-root/conda/lib/python3.7/site-packages (from ipython>=1.0->ipython-sql) (0.13.3)\n",
      "Requirement already satisfied: traitlets>=4.2 in /opt/app-root/conda/lib/python3.7/site-packages (from ipython>=1.0->ipython-sql) (4.3.2)\n",
      "Requirement already satisfied: setuptools>=18.5 in /opt/app-root/conda/lib/python3.7/site-packages (from ipython>=1.0->ipython-sql) (41.0.1)\n",
      "Requirement already satisfied: decorator in /opt/app-root/conda/lib/python3.7/site-packages (from ipython>=1.0->ipython-sql) (4.4.0)\n",
      "Requirement already satisfied: ptyprocess>=0.5 in /opt/app-root/conda/lib/python3.7/site-packages (from pexpect; sys_platform != \"win32\"->ipython>=1.0->ipython-sql) (0.6.0)\n",
      "Requirement already satisfied: wcwidth in /opt/app-root/conda/lib/python3.7/site-packages (from prompt-toolkit<2.1.0,>=2.0.0->ipython>=1.0->ipython-sql) (0.1.7)\n",
      "Requirement already satisfied: parso>=0.3.0 in /opt/app-root/conda/lib/python3.7/site-packages (from jedi>=0.10->ipython>=1.0->ipython-sql) (0.5.0)\n",
      "Installing collected packages: prettytable, ipython-sql\n",
      "Successfully installed ipython-sql-0.3.9 prettytable-0.7.2\n",
      "Note: you may need to restart the kernel to use updated packages.\n"
     ]
    }
   ],
   "source": [
    "pip install ipython-sql --user"
   ]
  },
  {
   "cell_type": "code",
   "execution_count": 39,
   "metadata": {},
   "outputs": [
    {
     "name": "stdout",
     "output_type": "stream",
     "text": [
      "The sql extension is already loaded. To reload it, use:\n",
      "  %reload_ext sql\n"
     ]
    }
   ],
   "source": [
    "%load_ext sql\n"
   ]
  },
  {
   "cell_type": "code",
   "execution_count": 40,
   "metadata": {},
   "outputs": [
    {
     "data": {
      "text/plain": [
       "'Connected: @./modpop.sqlite3'"
      ]
     },
     "execution_count": 40,
     "metadata": {},
     "output_type": "execute_result"
    }
   ],
   "source": [
    "%sql sqlite:///./modpop.sqlite3"
   ]
  },
  {
   "cell_type": "code",
   "execution_count": 41,
   "metadata": {},
   "outputs": [
    {
     "name": "stdout",
     "output_type": "stream",
     "text": [
      " * sqlite:///./modpop.sqlite3\n",
      "Done.\n"
     ]
    },
    {
     "data": {
      "text/html": [
       "<table>\n",
       "    <tr>\n",
       "        <th>MOD_TYPE</th>\n",
       "        <th>count(*)</th>\n",
       "    </tr>\n",
       "    <tr>\n",
       "        <td>ALT</td>\n",
       "        <td>133</td>\n",
       "    </tr>\n",
       "    <tr>\n",
       "        <td>ALT2011</td>\n",
       "        <td>57</td>\n",
       "    </tr>\n",
       "    <tr>\n",
       "        <td>ALT3.0</td>\n",
       "        <td>709</td>\n",
       "    </tr>\n",
       "    <tr>\n",
       "        <td>CAPEX</td>\n",
       "        <td>662</td>\n",
       "    </tr>\n",
       "    <tr>\n",
       "        <td>CAPEXD</td>\n",
       "        <td>37</td>\n",
       "    </tr>\n",
       "    <tr>\n",
       "        <td>EXTENDD</td>\n",
       "        <td>132</td>\n",
       "    </tr>\n",
       "    <tr>\n",
       "        <td>FLEXMOD</td>\n",
       "        <td>937</td>\n",
       "    </tr>\n",
       "    <tr>\n",
       "        <td>FLEXMODD</td>\n",
       "        <td>5</td>\n",
       "    </tr>\n",
       "    <tr>\n",
       "        <td>FNMAMOD</td>\n",
       "        <td>1380</td>\n",
       "    </tr>\n",
       "    <tr>\n",
       "        <td>HAMP</td>\n",
       "        <td>1195</td>\n",
       "    </tr>\n",
       "    <tr>\n",
       "        <td>HSA</td>\n",
       "        <td>425</td>\n",
       "    </tr>\n",
       "    <tr>\n",
       "        <td>HSF</td>\n",
       "        <td>100</td>\n",
       "    </tr>\n",
       "    <tr>\n",
       "        <td>LTF</td>\n",
       "        <td>2225</td>\n",
       "    </tr>\n",
       "    <tr>\n",
       "        <td>MOD24</td>\n",
       "        <td>37</td>\n",
       "    </tr>\n",
       "    <tr>\n",
       "        <td>OTH_NT</td>\n",
       "        <td>51</td>\n",
       "    </tr>\n",
       "    <tr>\n",
       "        <td>OTH_TR</td>\n",
       "        <td>89</td>\n",
       "    </tr>\n",
       "    <tr>\n",
       "        <td>RPP</td>\n",
       "        <td>8675</td>\n",
       "    </tr>\n",
       "    <tr>\n",
       "        <td>SMP2</td>\n",
       "        <td>1643</td>\n",
       "    </tr>\n",
       "    <tr>\n",
       "        <td>STD</td>\n",
       "        <td>31508</td>\n",
       "    </tr>\n",
       "</table>"
      ],
      "text/plain": [
       "[('ALT', 133),\n",
       " ('ALT2011', 57),\n",
       " ('ALT3.0', 709),\n",
       " ('CAPEX', 662),\n",
       " ('CAPEXD', 37),\n",
       " ('EXTENDD', 132),\n",
       " ('FLEXMOD', 937),\n",
       " ('FLEXMODD', 5),\n",
       " ('FNMAMOD', 1380),\n",
       " ('HAMP', 1195),\n",
       " ('HSA', 425),\n",
       " ('HSF', 100),\n",
       " ('LTF', 2225),\n",
       " ('MOD24', 37),\n",
       " ('OTH_NT', 51),\n",
       " ('OTH_TR', 89),\n",
       " ('RPP', 8675),\n",
       " ('SMP2', 1643),\n",
       " ('STD', 31508)]"
      ]
     },
     "execution_count": 41,
     "metadata": {},
     "output_type": "execute_result"
    }
   ],
   "source": [
    "%%sql\n",
    "select MOD_Type, count(*) from modpop group by MOD_type;"
   ]
  },
  {
   "cell_type": "code",
   "execution_count": 43,
   "metadata": {},
   "outputs": [
    {
     "name": "stdout",
     "output_type": "stream",
     "text": [
      " * sqlite:///./modpop.sqlite3\n",
      "(sqlite3.OperationalError) table mod_summary already exists\n",
      "[SQL: -- drop table mod_summary;\n",
      "create table mod_summary as \n",
      "select MOD_Type, count(*) from modpop group by MOD_type;]\n",
      "(Background on this error at: http://sqlalche.me/e/e3q8)\n"
     ]
    }
   ],
   "source": [
    "%%sql\n",
    "-- drop table mod_summary;\n",
    "create table mod_summary as \n",
    "select MOD_Type, count(*) from modpop group by MOD_type;\n",
    "\n",
    "select * from mod_summary where mod_type like 'ALT%';"
   ]
  },
  {
   "cell_type": "markdown",
   "metadata": {},
   "source": [
    "## Lets have a quick look at command prompt\n",
    "1. Login to SQLite\n",
    "2. Run .help\n",
    "3. Run .tables, .schema, .databases\n",
    "4. Describe table with `pragma table_info('tablename');` . Set .header on and .mode column\n",
    "5. Export data to CSV using .mode csv and .output myfile.csv"
   ]
  },
  {
   "cell_type": "markdown",
   "metadata": {},
   "source": []
  },
  {
   "cell_type": "code",
   "execution_count": null,
   "metadata": {},
   "outputs": [],
   "source": []
  }
 ],
 "metadata": {
  "kernelspec": {
   "display_name": "Python 3",
   "language": "python",
   "name": "python3"
  },
  "language_info": {
   "codemirror_mode": {
    "name": "ipython",
    "version": 3
   },
   "file_extension": ".py",
   "mimetype": "text/x-python",
   "name": "python",
   "nbconvert_exporter": "python",
   "pygments_lexer": "ipython3",
   "version": "3.7.0"
  }
 },
 "nbformat": 4,
 "nbformat_minor": 4
}
