{
 "cells": [
  {
   "cell_type": "markdown",
   "metadata": {},
   "source": [
    "# Maximum Likelihood Estimation (MLE) by Example\n",
    "\n",
    "## Outine\n",
    "- Introduction to Maximum Likelihood Estimation (MLE)\n",
    "- Setup\n",
    "- Modeling Ordinary Least Squares (OLS) with Statsmodels\n",
    "- Calculating OLS using MLE methods\n",
    "- Wrap up"
   ]
  },
  {
   "cell_type": "markdown",
   "metadata": {},
   "source": [
    "  \n",
    "## Introduction to Maximum Likelihood Estimation\n",
    "\n",
    "Maximum likelihood estimation (MLE) is a technique used for estimating the parameters of a given distribution, using some observed data. For example, if a population is known to follow a normal distribution but the mean and variance are unknown, MLE can be used to estimate them using a limited sample of the population, by finding particular values of the mean and variance so that the observation is the most likely result to have occurred.\n",
    "\n",
    "Maximum Likelihood Estimation is a probabilistic framework for solving the problem of density estimation. It involves maximizing a likelihood function in order to find the probability distribution and parameters that best explain the observed data.\n",
    "\n",
    "<img src=\"images/mle_example.gif\" width=\"400\">\n"
   ]
  },
  {
   "cell_type": "markdown",
   "metadata": {
    "slideshow": {
     "slide_type": "-"
    }
   },
   "source": [
    "## Setup\n",
    "\n",
    "Implementing MLE can be quite simple, with a variety of approaches. "
   ]
  },
  {
   "cell_type": "code",
   "execution_count": 46,
   "metadata": {},
   "outputs": [
    {
     "data": {
      "image/png": "[encoded data removed]",
      "text/plain": [
       "<Figure size 432x288 with 1 Axes>"
      ]
     },
     "metadata": {
      "needs_background": "light"
     },
     "output_type": "display_data"
    }
   ],
   "source": [
    "# import libraries\n",
    "import numpy as np, pandas as pd\n",
    "from matplotlib import pyplot as plt\n",
    "import seaborn as sns\n",
    "from scipy.optimize import minimize\n",
    "import scipy.stats as stats\n",
    "#import pymc3 as pm3\n",
    "#import numdifftools as ndt\n",
    "import statsmodels.api as sm\n",
    "from statsmodels.base.model import GenericLikelihoodModel\n",
    "%matplotlib inline\n",
    "\n",
    "\n",
    "# generate data\n",
    "N = 100\n",
    "x = np.linspace(0,20,N)\n",
    "rv = np.random.normal(loc = 0.0, scale = 5.0, size = N)\n",
    "y = 5*x + rv\n",
    "df = pd.DataFrame({'y':y, 'x':x})\n",
    "df['constant'] = 1\n",
    "\n",
    "# plot\n",
    "sns.regplot(df.x, df.y);"
   ]
  },
  {
   "cell_type": "markdown",
   "metadata": {},
   "source": [
    "## Modeling Ordinary Least Squares (OLS) with Statsmodels\n",
    "\n",
    "Since we created regression-like, continuous data, we will use sm.OLS to calculate the best coefficients and Log-likelihood (LL) as a benchmark."
   ]
  },
  {
   "cell_type": "code",
   "execution_count": 47,
   "metadata": {},
   "outputs": [
    {
     "data": {
      "text/html": [
       "<table class=\"simpletable\">\n",
       "<caption>OLS Regression Results</caption>\n",
       "<tr>\n",
       "  <th>Dep. Variable:</th>            <td>y</td>        <th>  R-squared:         </th> <td>   0.979</td>\n",
       "</tr>\n",
       "<tr>\n",
       "  <th>Model:</th>                   <td>OLS</td>       <th>  Adj. R-squared:    </th> <td>   0.978</td>\n",
       "</tr>\n",
       "<tr>\n",
       "  <th>Method:</th>             <td>Least Squares</td>  <th>  F-statistic:       </th> <td>   4477.</td>\n",
       "</tr>\n",
       "<tr>\n",
       "  <th>Date:</th>             <td>Tue, 03 Mar 2020</td> <th>  Prob (F-statistic):</th> <td>1.32e-83</td>\n",
       "</tr>\n",
       "<tr>\n",
       "  <th>Time:</th>                 <td>21:40:24</td>     <th>  Log-Likelihood:    </th> <td> -291.97</td>\n",
       "</tr>\n",
       "<tr>\n",
       "  <th>No. Observations:</th>      <td>   100</td>      <th>  AIC:               </th> <td>   587.9</td>\n",
       "</tr>\n",
       "<tr>\n",
       "  <th>Df Residuals:</th>          <td>    98</td>      <th>  BIC:               </th> <td>   593.1</td>\n",
       "</tr>\n",
       "<tr>\n",
       "  <th>Df Model:</th>              <td>     1</td>      <th>                     </th>     <td> </td>   \n",
       "</tr>\n",
       "<tr>\n",
       "  <th>Covariance Type:</th>      <td>nonrobust</td>    <th>                     </th>     <td> </td>   \n",
       "</tr>\n",
       "</table>\n",
       "<table class=\"simpletable\">\n",
       "<tr>\n",
       "      <td></td>        <th>coef</th>     <th>std err</th>      <th>t</th>      <th>P>|t|</th>  <th>[0.025</th>    <th>0.975]</th>  \n",
       "</tr>\n",
       "<tr>\n",
       "  <th>constant</th> <td>   -2.1600</td> <td>    0.899</td> <td>   -2.402</td> <td> 0.018</td> <td>   -3.945</td> <td>   -0.375</td>\n",
       "</tr>\n",
       "<tr>\n",
       "  <th>x</th>        <td>    5.1985</td> <td>    0.078</td> <td>   66.913</td> <td> 0.000</td> <td>    5.044</td> <td>    5.353</td>\n",
       "</tr>\n",
       "</table>\n",
       "<table class=\"simpletable\">\n",
       "<tr>\n",
       "  <th>Omnibus:</th>       <td> 2.479</td> <th>  Durbin-Watson:     </th> <td>   2.246</td>\n",
       "</tr>\n",
       "<tr>\n",
       "  <th>Prob(Omnibus):</th> <td> 0.290</td> <th>  Jarque-Bera (JB):  </th> <td>   1.855</td>\n",
       "</tr>\n",
       "<tr>\n",
       "  <th>Skew:</th>          <td>-0.264</td> <th>  Prob(JB):          </th> <td>   0.395</td>\n",
       "</tr>\n",
       "<tr>\n",
       "  <th>Kurtosis:</th>      <td> 3.409</td> <th>  Cond. No.          </th> <td>    23.1</td>\n",
       "</tr>\n",
       "</table><br/><br/>Warnings:<br/>[1] Standard Errors assume that the covariance matrix of the errors is correctly specified."
      ],
      "text/plain": [
       "<class 'statsmodels.iolib.summary.Summary'>\n",
       "\"\"\"\n",
       "                            OLS Regression Results                            \n",
       "==============================================================================\n",
       "Dep. Variable:                      y   R-squared:                       0.979\n",
       "Model:                            OLS   Adj. R-squared:                  0.978\n",
       "Method:                 Least Squares   F-statistic:                     4477.\n",
       "Date:                Tue, 03 Mar 2020   Prob (F-statistic):           1.32e-83\n",
       "Time:                        21:40:24   Log-Likelihood:                -291.97\n",
       "No. Observations:                 100   AIC:                             587.9\n",
       "Df Residuals:                      98   BIC:                             593.1\n",
       "Df Model:                           1                                         \n",
       "Covariance Type:            nonrobust                                         \n",
       "==============================================================================\n",
       "                 coef    std err          t      P>|t|      [0.025      0.975]\n",
       "------------------------------------------------------------------------------\n",
       "constant      -2.1600      0.899     -2.402      0.018      -3.945      -0.375\n",
       "x              5.1985      0.078     66.913      0.000       5.044       5.353\n",
       "==============================================================================\n",
       "Omnibus:                        2.479   Durbin-Watson:                   2.246\n",
       "Prob(Omnibus):                  0.290   Jarque-Bera (JB):                1.855\n",
       "Skew:                          -0.264   Prob(JB):                        0.395\n",
       "Kurtosis:                       3.409   Cond. No.                         23.1\n",
       "==============================================================================\n",
       "\n",
       "Warnings:\n",
       "[1] Standard Errors assume that the covariance matrix of the errors is correctly specified.\n",
       "\"\"\""
      ]
     },
     "execution_count": 47,
     "metadata": {},
     "output_type": "execute_result"
    }
   ],
   "source": [
    "# split features and target\n",
    "X = df[['constant', 'x']]\n",
    "# fit model and summarize\n",
    "sm.OLS(y,X).fit().summary()"
   ]
  },
  {
   "cell_type": "markdown",
   "metadata": {},
   "source": [
    "Notice constant is close to zero, and beta for feature x is close to 5, per our equation."
   ]
  },
  {
   "cell_type": "markdown",
   "metadata": {},
   "source": [
    "## Calculating OLS using MLE methods"
   ]
  },
  {
   "cell_type": "markdown",
   "metadata": {},
   "source": [
    "Because scipy.optimize has only a minimize method, we'll minimize the negative of the log-likelihood. \n",
    "\n",
    "We can build a simple function that does everything in one pass for regression outputs:"
   ]
  },
  {
   "cell_type": "code",
   "execution_count": 48,
   "metadata": {},
   "outputs": [],
   "source": [
    "# define likelihood function\n",
    "def MLERegression(params):\n",
    " intercept, beta, sd = params[0], params[1], params[2] # inputs are guesses at our parameters\n",
    " yhat = intercept + beta*x # predictions\n",
    "# next, we flip the Bayesian question\n",
    "# compute PDF of observed values normally distributed around mean (yhat)\n",
    "# with a standard deviation of sd\n",
    " negLL = -np.sum( stats.norm.logpdf(y, loc=yhat, scale=sd) )\n",
    "# return negative LL\n",
    " return(negLL)"
   ]
  },
  {
   "cell_type": "markdown",
   "metadata": {},
   "source": [
    "Now that we have a cost function, let’s initialize and minimize it:\n"
   ]
  },
  {
   "cell_type": "code",
   "execution_count": 49,
   "metadata": {},
   "outputs": [
    {
     "name": "stdout",
     "output_type": "stream",
     "text": [
      "Optimization terminated successfully.\n",
      "         Current function value: 291.968157\n",
      "         Iterations: 106\n",
      "         Function evaluations: 188\n"
     ]
    }
   ],
   "source": [
    "# let’s start with some random coefficient guesses and optimize\n",
    "guess = np.array([6,6,3])\n",
    "results = minimize(MLERegression, guess, method = 'Nelder-Mead', \n",
    " options={'disp': True})"
   ]
  },
  {
   "cell_type": "markdown",
   "metadata": {},
   "source": [
    "Let’s check the results:\n"
   ]
  },
  {
   "cell_type": "code",
   "execution_count": 50,
   "metadata": {},
   "outputs": [
    {
     "data": {
      "text/plain": [
       " final_simplex: (array([[-2.15989578,  5.19851482,  4.48501453],\n",
       "       [-2.15996239,  5.19852267,  4.48499565],\n",
       "       [-2.15995797,  5.19852418,  4.48503231],\n",
       "       [-2.15999304,  5.19851782,  4.48502104]]), array([291.96815694, 291.96815694, 291.96815694, 291.96815695]))\n",
       "           fun: 291.9681569394154\n",
       "       message: 'Optimization terminated successfully.'\n",
       "          nfev: 188\n",
       "           nit: 106\n",
       "        status: 0\n",
       "       success: True\n",
       "             x: array([-2.15989578,  5.19851482,  4.48501453])"
      ]
     },
     "execution_count": 50,
     "metadata": {},
     "output_type": "execute_result"
    }
   ],
   "source": [
    "results # this gives us verbosity around our minimization\n",
    "# notice our final key and associated values…\n"
   ]
  },
  {
   "cell_type": "code",
   "execution_count": 51,
   "metadata": {},
   "outputs": [
    {
     "data": {
      "text/html": [
       "<div>\n",
       "<style scoped>\n",
       "    .dataframe tbody tr th:only-of-type {\n",
       "        vertical-align: middle;\n",
       "    }\n",
       "\n",
       "    .dataframe tbody tr th {\n",
       "        vertical-align: top;\n",
       "    }\n",
       "\n",
       "    .dataframe thead th {\n",
       "        text-align: right;\n",
       "    }\n",
       "</style>\n",
       "<table border=\"1\" class=\"dataframe\">\n",
       "  <thead>\n",
       "    <tr style=\"text-align: right;\">\n",
       "      <th></th>\n",
       "      <th>coef</th>\n",
       "    </tr>\n",
       "  </thead>\n",
       "  <tbody>\n",
       "    <tr>\n",
       "      <th>constant</th>\n",
       "      <td>-2.1599</td>\n",
       "    </tr>\n",
       "    <tr>\n",
       "      <th>x</th>\n",
       "      <td>5.1985</td>\n",
       "    </tr>\n",
       "  </tbody>\n",
       "</table>\n",
       "</div>"
      ],
      "text/plain": [
       "            coef\n",
       "constant -2.1599\n",
       "x         5.1985"
      ]
     },
     "execution_count": 51,
     "metadata": {},
     "output_type": "execute_result"
    }
   ],
   "source": [
    "# drop results into df and round to match statsmodels\n",
    "resultsdf = pd.DataFrame({'coef':results['x']})\n",
    "resultsdf.index=['constant','x','sigma']   \n",
    "np.round(resultsdf.head(2), 4)\n",
    "# do our numbers match the OLS model?"
   ]
  },
  {
   "cell_type": "markdown",
   "metadata": {},
   "source": [
    "## Wrap up\n",
    "We discussed:\n",
    "- Introduction to Maximum Likelihood Estimation (MLE)\n",
    "- Setup\n",
    "- Modeling Ordinary Least Squares (OLS) with Statsmodels\n",
    "- Calculating OLS using MLE methods"
   ]
  },
  {
   "cell_type": "code",
   "execution_count": null,
   "metadata": {},
   "outputs": [],
   "source": []
  }
 ],
 "metadata": {
  "kernelspec": {
   "display_name": "Python 3",
   "language": "python",
   "name": "python3"
  },
  "language_info": {
   "codemirror_mode": {
    "name": "ipython",
    "version": 3
   },
   "file_extension": ".py",
   "mimetype": "text/x-python",
   "name": "python",
   "nbconvert_exporter": "python",
   "pygments_lexer": "ipython3",
   "version": "3.7.0"
  },
  "latex_envs": {
   "LaTeX_envs_menu_present": true,
   "autoclose": false,
   "autocomplete": true,
   "bibliofile": "biblio.bib",
   "cite_by": "apalike",
   "current_citInitial": 1,
   "eqLabelWithNumbers": true,
   "eqNumInitial": 1,
   "hotkeys": {
    "equation": "Ctrl-E",
    "itemize": "Ctrl-I"
   },
   "labels_anchors": false,
   "latex_user_defs": false,
   "report_style_numbering": false,
   "user_envs_cfg": false
  }
 },
 "nbformat": 4,
 "nbformat_minor": 4
}
