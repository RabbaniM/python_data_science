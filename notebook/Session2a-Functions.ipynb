{
 "cells": [
  {
   "cell_type": "markdown",
   "metadata": {},
   "source": [
    "# Python for Data Science - A Quick Introduction\n",
    "\n",
    "##### Rabbani Mozahid\n",
    "\n",
    "<br />\n",
    "<br />\n",
    "\n",
    "Python is a high-level general-purpose programming language that can be used for wide range of practical applications starting from simple scripting, web develoment to large scale application development, scientifice computing and advance analytics. One of the important design philosophy of Python is code readability by using significant whitespace and indenting.\n",
    "\n",
    "\n",
    "\n",
    "#### Installing JupyterLab\n",
    "\n",
    "Visit the https://jupyterlab.readthedocs.io/en/stable/getting_started/installation.html to see the latest instruction on how to install JupyterLab.\n",
    "\n",
    "\n",
    "\n",
    "#### Launching JupyterLab\n",
    "\n",
    "To launch the JupyterLab, just type `jupyter lab` in your terminal. JupyterLab will open automatically in your browser."
   ]
  },
  {
   "cell_type": "code",
   "execution_count": 1,
   "metadata": {},
   "outputs": [
    {
     "name": "stdout",
     "output_type": "stream",
     "text": [
      "Help on built-in function print in module builtins:\n",
      "\n",
      "print(...)\n",
      "    print(value, ..., sep=' ', end='\\n', file=sys.stdout, flush=False)\n",
      "    \n",
      "    Prints the values to a stream, or to sys.stdout by default.\n",
      "    Optional keyword arguments:\n",
      "    file:  a file-like object (stream); defaults to the current sys.stdout.\n",
      "    sep:   string inserted between values, default a space.\n",
      "    end:   string appended after the last value, default a newline.\n",
      "    flush: whether to forcibly flush the stream.\n",
      "\n"
     ]
    }
   ],
   "source": [
    "#Accessing help\n",
    "help(print)"
   ]
  },
  {
   "cell_type": "code",
   "execution_count": 2,
   "metadata": {},
   "outputs": [
    {
     "data": {
      "text/plain": [
       "\u001b[0;31mDocstring:\u001b[0m\n",
       "print(value, ..., sep=' ', end='\\n', file=sys.stdout, flush=False)\n",
       "\n",
       "Prints the values to a stream, or to sys.stdout by default.\n",
       "Optional keyword arguments:\n",
       "file:  a file-like object (stream); defaults to the current sys.stdout.\n",
       "sep:   string inserted between values, default a space.\n",
       "end:   string appended after the last value, default a newline.\n",
       "flush: whether to forcibly flush the stream.\n",
       "\u001b[0;31mType:\u001b[0m      builtin_function_or_method\n"
      ]
     },
     "metadata": {},
     "output_type": "display_data"
    }
   ],
   "source": [
    "#Accessing help shortcut\n",
    "print?"
   ]
  },
  {
   "cell_type": "code",
   "execution_count": null,
   "metadata": {},
   "outputs": [],
   "source": [
    "2+7"
   ]
  },
  {
   "cell_type": "code",
   "execution_count": null,
   "metadata": {},
   "outputs": [],
   "source": [
    "Name=\"John\""
   ]
  },
  {
   "cell_type": "code",
   "execution_count": null,
   "metadata": {},
   "outputs": [],
   "source": [
    "print (Name)"
   ]
  },
  {
   "cell_type": "code",
   "execution_count": null,
   "metadata": {},
   "outputs": [],
   "source": [
    "print(_) # Prints last unused values in memory "
   ]
  },
  {
   "cell_type": "markdown",
   "metadata": {},
   "source": [
    "\n",
    "<br>\n",
    "\n",
    "### Python Types\n",
    "- Int – Any integers or whole numbers like 1, 2, 89\n",
    "- Float – 2.171892\n",
    "- Complex – 4 + 3j\n",
    "- Bool – True of False\n",
    "- Str, unicode – ‘MyString’, u‘MyString’\n",
    "- List     – [ 69, 6.9, ‘mystring’, True]\n",
    "- Tuple – (69,  6.9, ‘mystring’, True) immutable\n",
    "- Set – set([69, 6.9, ‘str’, True]) –no duplicates & unordered\n",
    "- Dictionary or hash – {‘key 1’: 6.9, ‘key2’: False} - group of key and value pairs\n",
    "\n",
    "Python types are dynamic typing, so you do not need to declare."
   ]
  },
  {
   "cell_type": "code",
   "execution_count": null,
   "metadata": {},
   "outputs": [],
   "source": [
    "#Numeric: integers, float\n",
    "\n",
    "x=1\n",
    "\n",
    "y= 1.23\n",
    "\n",
    "#Sequence: list, tuple, range - List and Tuple will be covered details later in this notebook\n",
    "\n",
    "#Binary: byte, bytearray - We can possibly ignore this for data science work\n",
    "\n",
    "z= b\"This is a byte type\"\n",
    "\n",
    "#True/False: bool\n",
    "\n",
    "p=True\n",
    "\n",
    "#Text: string\n",
    "\n",
    "Name=\"Mike\"\n",
    "\n",
    "print (x, y, z,p, Name)\n",
    "\n",
    "print (type(x),type(y),type(z),type(p),type(Name) )"
   ]
  },
  {
   "cell_type": "code",
   "execution_count": null,
   "metadata": {},
   "outputs": [],
   "source": [
    "#Multiline string\n",
    "\n",
    "''' Learing Python is fun\n",
    "You can do it'''\n"
   ]
  },
  {
   "cell_type": "code",
   "execution_count": 78,
   "metadata": {},
   "outputs": [
    {
     "data": {
      "text/plain": [
       "True"
      ]
     },
     "execution_count": 78,
     "metadata": {},
     "output_type": "execute_result"
    }
   ],
   "source": [
    "x=bool(22)\n",
    "x"
   ]
  },
  {
   "cell_type": "code",
   "execution_count": 81,
   "metadata": {},
   "outputs": [
    {
     "data": {
      "text/plain": [
       "False"
      ]
     },
     "execution_count": 81,
     "metadata": {},
     "output_type": "execute_result"
    }
   ],
   "source": [
    "y=bool(0) # Only zero is False\n",
    "y"
   ]
  },
  {
   "cell_type": "code",
   "execution_count": 80,
   "metadata": {},
   "outputs": [
    {
     "data": {
      "text/plain": [
       "True"
      ]
     },
     "execution_count": 80,
     "metadata": {},
     "output_type": "execute_result"
    }
   ],
   "source": [
    "z=bool(-5)\n",
    "z"
   ]
  },
  {
   "cell_type": "code",
   "execution_count": 95,
   "metadata": {},
   "outputs": [
    {
     "data": {
      "text/plain": [
       "datetime.date(2021, 3, 9)"
      ]
     },
     "execution_count": 95,
     "metadata": {},
     "output_type": "execute_result"
    }
   ],
   "source": [
    "from datetime import date # Not a built-in data type\n",
    "today=date.today()\n",
    "today"
   ]
  },
  {
   "cell_type": "code",
   "execution_count": 104,
   "metadata": {},
   "outputs": [
    {
     "data": {
      "text/plain": [
       "'09/03/2021'"
      ]
     },
     "execution_count": 104,
     "metadata": {},
     "output_type": "execute_result"
    }
   ],
   "source": [
    "today.strftime('%d/%m%/%Y')"
   ]
  },
  {
   "cell_type": "code",
   "execution_count": 93,
   "metadata": {},
   "outputs": [
    {
     "data": {
      "text/plain": [
       "datetime.datetime(2021, 3, 9, 23, 38, 31, 303427)"
      ]
     },
     "execution_count": 93,
     "metadata": {},
     "output_type": "execute_result"
    }
   ],
   "source": [
    "from datetime import datetime  # if you need time too\n",
    "today=datetime.now()\n",
    "today"
   ]
  },
  {
   "cell_type": "code",
   "execution_count": null,
   "metadata": {},
   "outputs": [],
   "source": []
  },
  {
   "cell_type": "markdown",
   "metadata": {},
   "source": [
    "### Quiz\n",
    "What is True + False? Explain your answer."
   ]
  },
  {
   "cell_type": "code",
   "execution_count": null,
   "metadata": {},
   "outputs": [],
   "source": [
    "True + False"
   ]
  },
  {
   "cell_type": "markdown",
   "metadata": {},
   "source": [
    "### Python Syntax\n",
    "* Python uses indentation and/or whitespace to delimit statement blocks \n",
    "* Whitespace within lines does not matter\n",
    "* End-of-Line terminates a statement"
   ]
  },
  {
   "cell_type": "code",
   "execution_count": null,
   "metadata": {},
   "outputs": [],
   "source": [
    "if 10 > 7:\n",
    "  print      (\"Ten is greater than seven.\")"
   ]
  },
  {
   "cell_type": "markdown",
   "metadata": {},
   "source": [
    "<br>\n",
    "### Print\n",
    "print : Produces text output on the console. Prints the given text message or expression value on the console, and moves the cursor down to the next line. You can prin several messages and/or expressions on the same line.\n",
    "\n",
    "Syntax:\n",
    "- print \"Message\"\n",
    "- print Expression \n",
    "- print Item1, Item2, ..., ItemN\n",
    "\n",
    "\n",
    "\n"
   ]
  },
  {
   "cell_type": "code",
   "execution_count": null,
   "metadata": {},
   "outputs": [],
   "source": [
    "name=input('Type your name')\n",
    "print (\"**********************\")\n",
    "print (\"My name is \", name )\n",
    "My_age = 40\n",
    "print (\"I have\", 100 - My_age, \"years before I am 100 year's old\")"
   ]
  },
  {
   "cell_type": "markdown",
   "metadata": {},
   "source": [
    "### Comments \n",
    "Comments are marked by #"
   ]
  },
  {
   "cell_type": "code",
   "execution_count": null,
   "metadata": {},
   "outputs": [],
   "source": [
    "# But you do not need the syntax mentioned here just to print; you need this for advanced programming with python\n",
    "print (\"Hello Python\") "
   ]
  },
  {
   "cell_type": "markdown",
   "metadata": {},
   "source": [
    "### Quiz\n",
    "Guess what will be printed?  10, 6 or 6, 10"
   ]
  },
  {
   "cell_type": "code",
   "execution_count": null,
   "metadata": {},
   "outputs": [],
   "source": [
    "#Guess what will be printed?  10, 6 or 6, 10\n",
    "x = 10\n",
    "y = x\n",
    "x = 6\n",
    "print(x,\", \",y)"
   ]
  },
  {
   "cell_type": "markdown",
   "metadata": {},
   "source": [
    "### Loops and Condition (Optional)\n",
    "\n",
    "range(start, stop[, step]) \n",
    "Returns values between start and stop, increasing by the value of step (defaults to 1)\n"
   ]
  },
  {
   "cell_type": "code",
   "execution_count": null,
   "metadata": {},
   "outputs": [],
   "source": [
    "for i in range(1,10):\n",
    "\n",
    "     print(i)\n",
    "        "
   ]
  },
  {
   "cell_type": "code",
   "execution_count": null,
   "metadata": {},
   "outputs": [],
   "source": [
    "for i in range(0,10,2):\n",
    "\n",
    "    print(i)"
   ]
  },
  {
   "cell_type": "code",
   "execution_count": null,
   "metadata": {},
   "outputs": [],
   "source": [
    "for i in range(1,10):\n",
    "    if i == 5:\n",
    "        break\n",
    "    print (i)"
   ]
  },
  {
   "cell_type": "markdown",
   "metadata": {},
   "source": [
    "#### Python supports to have an else statement with a loop statement. "
   ]
  },
  {
   "cell_type": "code",
   "execution_count": null,
   "metadata": {},
   "outputs": [],
   "source": [
    "# Let's write few lines to print prime numbers\n",
    "for num in range(5,25):     #To iterate between 5 to 25\n",
    "   for i in range(2,num):    #To iterate on the factors of the number\n",
    "      if num%i == 0:         #When remainder is zero we get the first factor\n",
    "         j=num/i             #To calculate the second factor\n",
    "         print ('%d equals %d * %d' % (num,i,j))\n",
    "         break #To move to the next number, the #first FOR\n",
    "   else:                  \n",
    "      print (num, 'is a prime number')"
   ]
  },
  {
   "cell_type": "code",
   "execution_count": null,
   "metadata": {},
   "outputs": [],
   "source": [
    "for num in range(5, 25):\n",
    "    for i in range(2, num):\n",
    "        if num%i==0:\n",
    "            j=num/i\n",
    "            #print (str(num) + \" is not a prime number\")\n",
    "            print ('%d equals %d * %d' %(num,i,j) )\n",
    "            break\n",
    "    else:\n",
    "        print (str(num) + \" is a prime number\")"
   ]
  },
  {
   "cell_type": "code",
   "execution_count": null,
   "metadata": {},
   "outputs": [],
   "source": [
    "while i < 12:\n",
    "\n",
    "     print(i)\n",
    "\n",
    "     i+=3"
   ]
  },
  {
   "cell_type": "code",
   "execution_count": null,
   "metadata": {},
   "outputs": [],
   "source": [
    "for i in range(0,10):\n",
    "\n",
    "    if i % 2 == 0:\n",
    "\n",
    "        print(i)"
   ]
  },
  {
   "cell_type": "markdown",
   "metadata": {},
   "source": [
    "### Function\n",
    "\n",
    "Functions are block of codes that are written once and can be called any time when needed. Python functions are defined using the word `def` as shown below:\n",
    "\n",
    "    "
   ]
  },
  {
   "cell_type": "code",
   "execution_count": null,
   "metadata": {},
   "outputs": [],
   "source": [
    "def function_name(parameters):\n",
    "     \"\"\"docstring\"\"\"\n",
    "     statement(s)\n",
    "     return statement"
   ]
  },
  {
   "cell_type": "markdown",
   "metadata": {},
   "source": [
    "<br>\n",
    "\n",
    "Argumants can be passed in the function as shown below:"
   ]
  },
  {
   "cell_type": "code",
   "execution_count": 1,
   "metadata": {},
   "outputs": [
    {
     "data": {
      "text/plain": [
       "[3, ['a', 5, 'b', 10]]"
      ]
     },
     "execution_count": 1,
     "metadata": {},
     "output_type": "execute_result"
    }
   ],
   "source": [
    "def with_args(arg1=0,arg2=['a', 5]):\n",
    "    \"\"\" A function with arguments \"\"\"\n",
    "    num = arg1 + 3\n",
    "    mylist = arg2 + ['b',10]\n",
    "    return [num, mylist]\n",
    "with_args()"
   ]
  },
  {
   "cell_type": "code",
   "execution_count": null,
   "metadata": {},
   "outputs": [],
   "source": [
    "with_args(5)"
   ]
  },
  {
   "cell_type": "code",
   "execution_count": 2,
   "metadata": {},
   "outputs": [
    {
     "data": {
      "text/plain": [
       "[13, ['x', 6, 'b', 10]]"
      ]
     },
     "execution_count": 2,
     "metadata": {},
     "output_type": "execute_result"
    }
   ],
   "source": [
    "with_args(10, ['x',6])"
   ]
  },
  {
   "cell_type": "code",
   "execution_count": null,
   "metadata": {},
   "outputs": [],
   "source": [
    "# A Docstring is the first statement in the body of a function, which can be accessed with function_name.__doc__ \n",
    "with_args.__doc__"
   ]
  },
  {
   "cell_type": "markdown",
   "metadata": {},
   "source": [
    "#### Lambda\n",
    "A lambda function is a small anonymous function. It can take any number of arguments, but allow only one expression."
   ]
  },
  {
   "cell_type": "code",
   "execution_count": 3,
   "metadata": {},
   "outputs": [
    {
     "name": "stdout",
     "output_type": "stream",
     "text": [
      "12\n"
     ]
    }
   ],
   "source": [
    "x = lambda a, b : a + b \n",
    "print(x(5, 7))"
   ]
  },
  {
   "cell_type": "code",
   "execution_count": 37,
   "metadata": {},
   "outputs": [
    {
     "data": {
      "text/plain": [
       "[3, 4, 6]"
      ]
     },
     "execution_count": 37,
     "metadata": {},
     "output_type": "execute_result"
    }
   ],
   "source": [
    "sorted([4, 6,3])"
   ]
  },
  {
   "cell_type": "code",
   "execution_count": 38,
   "metadata": {},
   "outputs": [
    {
     "data": {
      "text/plain": [
       "['a', 'c', 'd']"
      ]
     },
     "execution_count": 38,
     "metadata": {},
     "output_type": "execute_result"
    }
   ],
   "source": [
    "sorted(['c', 'd','a'])"
   ]
  },
  {
   "cell_type": "markdown",
   "metadata": {},
   "source": [
    "We will cover this more in the next class"
   ]
  },
  {
   "cell_type": "markdown",
   "metadata": {},
   "source": [
    "### Sort this list using builtin sorted()function along with a lambda function"
   ]
  },
  {
   "cell_type": "code",
   "execution_count": 40,
   "metadata": {},
   "outputs": [],
   "source": [
    "ids = ['id1', 'id2', 'id30', 'id3', 'id22', 'id100']"
   ]
  },
  {
   "cell_type": "code",
   "execution_count": 33,
   "metadata": {},
   "outputs": [
    {
     "name": "stdout",
     "output_type": "stream",
     "text": [
      "['id1', 'id100', 'id2', 'id22', 'id3', 'id30']\n"
     ]
    }
   ],
   "source": [
    "print(sorted(ids)) # Lexicographic sort"
   ]
  },
  {
   "cell_type": "code",
   "execution_count": 34,
   "metadata": {},
   "outputs": [
    {
     "name": "stdout",
     "output_type": "stream",
     "text": [
      "['id1', 'id2', 'id3', 'id22', 'id30', 'id100']\n"
     ]
    }
   ],
   "source": [
    "sorted_ids = sorted(ids, key=lambda x: int(x[2:])) # Integer sort\n",
    "print(sorted_ids)"
   ]
  },
  {
   "cell_type": "markdown",
   "metadata": {},
   "source": [
    "### Excercise \n",
    "1. Sort this list based on number secuence\n",
    "\n",
    "`['City1', 'City24', 'City102', 'City3', 'City52', 'City100']`"
   ]
  },
  {
   "cell_type": "code",
   "execution_count": 62,
   "metadata": {},
   "outputs": [
    {
     "data": {
      "text/plain": [
       "['City1', 'City3', 'City24', 'City52', 'City100', 'City102']"
      ]
     },
     "execution_count": 62,
     "metadata": {},
     "output_type": "execute_result"
    }
   ],
   "source": [
    "city=['City1', 'City24', 'City102', 'City3', 'City52', 'City100']\n",
    "sorted(city, key=lambda x: int(x[4:]) )"
   ]
  },
  {
   "cell_type": "code",
   "execution_count": 63,
   "metadata": {},
   "outputs": [
    {
     "data": {
      "text/plain": [
       "['City102', 'City100', 'City52', 'City24', 'City3', 'City1']"
      ]
     },
     "execution_count": 63,
     "metadata": {},
     "output_type": "execute_result"
    }
   ],
   "source": [
    "city.sort(key=lambda x: int(x[4:]), reverse=True)\n",
    "city"
   ]
  },
  {
   "cell_type": "markdown",
   "metadata": {},
   "source": [
    "### Excercise \n",
    "2. Make a function using lambda that returns three strings"
   ]
  },
  {
   "cell_type": "code",
   "execution_count": null,
   "metadata": {},
   "outputs": [],
   "source": []
  },
  {
   "cell_type": "code",
   "execution_count": 39,
   "metadata": {},
   "outputs": [
    {
     "data": {
      "text/plain": [
       "function"
      ]
     },
     "execution_count": 39,
     "metadata": {},
     "output_type": "execute_result"
    }
   ],
   "source": [
    "\n",
    "def n_times(n):  \n",
    "    return lambda x : x * n\n",
    "\n",
    "result = n_times (3) \n",
    "type(result)"
   ]
  },
  {
   "cell_type": "code",
   "execution_count": 17,
   "metadata": {},
   "outputs": [
    {
     "name": "stdout",
     "output_type": "stream",
     "text": [
      "Ha Ha Ha \n"
     ]
    }
   ],
   "source": [
    "tripple_str = result ('Ha ') \n",
    "print (tripple_str) "
   ]
  },
  {
   "cell_type": "markdown",
   "metadata": {},
   "source": [
    "#### Built-in Functions"
   ]
  },
  {
   "cell_type": "code",
   "execution_count": null,
   "metadata": {},
   "outputs": [],
   "source": [
    "word = 'Hello'\n",
    "\n",
    "print (word, word.lower(), word.upper())"
   ]
  },
  {
   "cell_type": "code",
   "execution_count": null,
   "metadata": {},
   "outputs": [],
   "source": [
    "m=lambda x, y: x + y +3"
   ]
  },
  {
   "cell_type": "code",
   "execution_count": null,
   "metadata": {},
   "outputs": [],
   "source": [
    "m(2,3)"
   ]
  },
  {
   "cell_type": "code",
   "execution_count": null,
   "metadata": {},
   "outputs": [],
   "source": [
    "#Concatenation\n",
    "\n",
    "'1' +'2'"
   ]
  },
  {
   "cell_type": "code",
   "execution_count": null,
   "metadata": {},
   "outputs": [],
   "source": [
    "#Concatenation\n",
    "\n",
    "'Hello' + ' there'"
   ]
  },
  {
   "cell_type": "code",
   "execution_count": null,
   "metadata": {},
   "outputs": [],
   "source": [
    "#Concatenation and replication\n",
    "\n",
    "'1'*2 + '2'*3"
   ]
  },
  {
   "cell_type": "markdown",
   "metadata": {},
   "source": [
    "#Concatenation with join() method \n",
    "The method join() returns a string in which the string elements of sequence are joined by str separator."
   ]
  },
  {
   "cell_type": "code",
   "execution_count": null,
   "metadata": {},
   "outputs": [],
   "source": [
    "str_separator=' '\n",
    "list =['I','am','learning', 'dgf']\n",
    "str_separator.join(list)\n",
    "#or ' '.join(list)"
   ]
  },
  {
   "cell_type": "code",
   "execution_count": null,
   "metadata": {},
   "outputs": [],
   "source": [
    "enq='abc'.join(list)\n",
    "enq"
   ]
  },
  {
   "cell_type": "code",
   "execution_count": null,
   "metadata": {},
   "outputs": [],
   "source": [
    "enq.split('abc')"
   ]
  },
  {
   "cell_type": "code",
   "execution_count": null,
   "metadata": {},
   "outputs": [],
   "source": [
    "#split\n",
    "\n",
    "s = 'Let\\'s split the words'\n",
    "\n",
    "s.split(' ')"
   ]
  },
  {
   "cell_type": "markdown",
   "metadata": {},
   "source": [
    "### Quiz\n",
    "Which one is true?\n",
    "1. The first code block will print 5 and 4.\n",
    "2. The second code block will print 4 and 5\n",
    "3. The first code block will print only 5 and function name with address\n",
    "4. The second code blcok will print only 5 and function name with address"
   ]
  },
  {
   "cell_type": "code",
   "execution_count": null,
   "metadata": {},
   "outputs": [],
   "source": [
    "def num():\n",
    "    num = 5\n",
    "    print(num)\n",
    "\n",
    "num = 4\n",
    "\n",
    "#num()\n",
    "print(num)"
   ]
  },
  {
   "cell_type": "code",
   "execution_count": null,
   "metadata": {},
   "outputs": [],
   "source": [
    "num = 4\n",
    "def num():\n",
    "    num = 5\n",
    "    print(num)\n",
    "\n",
    "\n",
    "num()\n",
    "print(num)"
   ]
  },
  {
   "cell_type": "markdown",
   "metadata": {},
   "source": [
    "### Programming in Python\n",
    "As a Python program terminates as soon as it encounters an error, you need to write codes that handle errors gracefully without terminating the program. \n",
    "\n",
    "#### Error handling\n",
    "The following diagram from https://realpython.com/ shows how errors are handled in Python."
   ]
  },
  {
   "cell_type": "markdown",
   "metadata": {},
   "source": [
    "<img src=\"https://files.realpython.com/media/try_except_else_finally.a7fac6c36c55.png\"> \n",
    "*Source: https://realpython.com/python-exceptions*\n",
    "<br>\n",
    "<br>\n",
    "Now let's see three examples of error handling. The first one is very basic. The second one is a complete example and the last one is for defining your own custom error handling codes."
   ]
  },
  {
   "cell_type": "code",
   "execution_count": null,
   "metadata": {},
   "outputs": [],
   "source": [
    "#Example 1\n",
    "try:                          \n",
    "    f = open(\"file.txt\")\n",
    "except IOError:               \n",
    "    print (\"Failed to open\")\n",
    "else:                         \n",
    "    f.close()\n"
   ]
  },
  {
   "cell_type": "code",
   "execution_count": null,
   "metadata": {},
   "outputs": [],
   "source": [
    "#Example 2\n",
    "try:\n",
    "    a = [1,2,3] \n",
    "except AssertionError as error:\n",
    "    print(error)\n",
    "else:\n",
    "    try:\n",
    "        with open('derby.log') as file:\n",
    "            read_data = file.read()\n",
    "    except FileNotFoundError as fnf_error:\n",
    "        print(fnf_error)\n",
    "finally:\n",
    "    print('Cleaning up, irrespective of any exceptions.')"
   ]
  },
  {
   "cell_type": "markdown",
   "metadata": {},
   "source": [
    "<br>\n",
    "As shouwn below, you can easily make your own exceptions using a python class."
   ]
  },
  {
   "cell_type": "code",
   "execution_count": null,
   "metadata": {},
   "outputs": [],
   "source": [
    "#Example 3\n",
    "class ValidationError(Exception):\n",
    "    def __init__(self, message, errors):\n",
    "\n",
    "        # Call the base class constructor with the parameters it needs\n",
    "        super().__init__(message)\n",
    "\n",
    "        # Now for your custom code...\n",
    "        self.errors = errors"
   ]
  },
  {
   "cell_type": "markdown",
   "metadata": {},
   "source": [
    "### Class\n",
    "Here is a simple Python Class that you can use for object oriented programming in Python. However, we will mostly use functional programming for our data science discussions in this book."
   ]
  },
  {
   "cell_type": "code",
   "execution_count": 75,
   "metadata": {},
   "outputs": [],
   "source": [
    "class MyVector: \n",
    "    \"\"\"A simple vector class.\"\"\" \n",
    "    num_created = 0\n",
    "    def __init__(self,x=0,y=0): \n",
    "        self.x = x \n",
    "        self.y = y \n",
    "        MyVector.num_created += 1 \n",
    "    def get_size(self): \n",
    "        return self.x + self.y \n",
    "    "
   ]
  },
  {
   "cell_type": "markdown",
   "metadata": {},
   "source": [
    "The code below shows how to use the class defined above."
   ]
  },
  {
   "cell_type": "code",
   "execution_count": 78,
   "metadata": {},
   "outputs": [
    {
     "name": "stdout",
     "output_type": "stream",
     "text": [
      "2\n",
      "3\n"
     ]
    }
   ],
   "source": [
    "#Let's just call the class and the __init__ method will be executed\n",
    "print (MyVector.num_created)\n",
    "v = MyVector()\n",
    "print (MyVector.num_created)"
   ]
  },
  {
   "cell_type": "code",
   "execution_count": 79,
   "metadata": {},
   "outputs": [
    {
     "name": "stdout",
     "output_type": "stream",
     "text": [
      "8\n"
     ]
    }
   ],
   "source": [
    "# MyVector\n",
    "w = MyVector(3, 5)\n",
    "print (w.get_size() )"
   ]
  },
  {
   "cell_type": "markdown",
   "metadata": {},
   "source": [
    "### Excercise\n",
    "\n",
    "Lambda functions are regularly used with the built-in functions map() and filter(), as well as functools.reduce(),"
   ]
  },
  {
   "cell_type": "code",
   "execution_count": 3,
   "metadata": {},
   "outputs": [
    {
     "data": {
      "text/plain": [
       "['CAT', 'DOG', 'COW']"
      ]
     },
     "execution_count": 3,
     "metadata": {},
     "output_type": "execute_result"
    }
   ],
   "source": [
    "list(map(lambda x: x.upper(), ['cat', 'dog', 'cow']))"
   ]
  },
  {
   "cell_type": "code",
   "execution_count": 16,
   "metadata": {},
   "outputs": [
    {
     "data": {
      "text/plain": [
       "['cat', 'man']"
      ]
     },
     "execution_count": 16,
     "metadata": {},
     "output_type": "execute_result"
    }
   ],
   "source": [
    "list(filter(lambda x: 'a' in x, ['cat', 'dog', 'cow','man']))"
   ]
  },
  {
   "cell_type": "code",
   "execution_count": 14,
   "metadata": {},
   "outputs": [
    {
     "data": {
      "text/plain": [
       "'cat+dog+cow'"
      ]
     },
     "execution_count": 14,
     "metadata": {},
     "output_type": "execute_result"
    }
   ],
   "source": [
    "from functools import reduce\n",
    "reduce(lambda p, x: f'{p}+{x}', ['cat', 'dog', 'cow'])"
   ]
  },
  {
   "cell_type": "code",
   "execution_count": 11,
   "metadata": {},
   "outputs": [
    {
     "data": {
      "text/plain": [
       "21"
      ]
     },
     "execution_count": 11,
     "metadata": {},
     "output_type": "execute_result"
    }
   ],
   "source": [
    "from functools import reduce\n",
    "reduce(lambda p, x: p + x, [1,2,3,4,5,6])"
   ]
  },
  {
   "cell_type": "markdown",
   "metadata": {},
   "source": [
    "### Magic Function %"
   ]
  },
  {
   "cell_type": "code",
   "execution_count": null,
   "metadata": {},
   "outputs": [],
   "source": [
    "%%writefile quiz.py\n",
    "from random import randint\n",
    "\n",
    "#how big a number should we guess? \n",
    "max_number = 7\n",
    "first_line = \"Guess a number between 1 and %d\" % max_number\n",
    "print(first_line)\n",
    "\n",
    "number = randint(1, max_number)\n",
    "\n",
    "not_solved = True\n",
    "\n",
    "#keep looping unil we guess correctly\n",
    "while not_solved:\n",
    "    answer = int(input('?'))\n",
    "    you_said = \"You typed %d\" % answer\n",
    "    print (you_said)\n",
    "    if answer > number:\n",
    "        print (\"The number is lower\")\n",
    "    elif answer < number:\n",
    "       print (\"The number is higher\")\n",
    "    else:\n",
    "        print (\"You got it right\")\n",
    "        not_solved = False"
   ]
  },
  {
   "cell_type": "code",
   "execution_count": null,
   "metadata": {},
   "outputs": [],
   "source": [
    "# Runing external code\n",
    "%run quiz.py\n"
   ]
  },
  {
   "cell_type": "code",
   "execution_count": null,
   "metadata": {},
   "outputs": [],
   "source": [
    "#Another example\n",
    "#%timeit sum(range(10))"
   ]
  },
  {
   "cell_type": "code",
   "execution_count": null,
   "metadata": {},
   "outputs": [],
   "source": [
    "# List of magic functions\n",
    "# %lsmagic\n"
   ]
  },
  {
   "cell_type": "code",
   "execution_count": null,
   "metadata": {},
   "outputs": [],
   "source": [
    "%%writefile nameMain.py\n",
    "# Let's save this code in a file called nameMain.py\n",
    "print (\"I am for whoever needs me!\")\n",
    "#print ( __name__ ) # You can see the value of __name__ is __main__\n",
    "if __name__ == \"__main__\": \n",
    "    print (\"This is a local for this block only\")"
   ]
  },
  {
   "cell_type": "code",
   "execution_count": null,
   "metadata": {},
   "outputs": [],
   "source": [
    "# if block will be executed here as we are runnind diretly\n",
    "!python nameMain.py"
   ]
  },
  {
   "cell_type": "code",
   "execution_count": null,
   "metadata": {},
   "outputs": [],
   "source": [
    "%%writefile second.py\n",
    "#Let's save another python file named second.py that imports nameMain.py\n",
    "import nameMain"
   ]
  },
  {
   "cell_type": "code",
   "execution_count": null,
   "metadata": {},
   "outputs": [],
   "source": [
    "# if block will not be executed here as we are calling nameMain.py instead of running it diretly\n",
    "!python second.py"
   ]
  }
 ],
 "metadata": {
  "kernelspec": {
   "display_name": "Python 3",
   "language": "python",
   "name": "python3"
  },
  "language_info": {
   "codemirror_mode": {
    "name": "ipython",
    "version": 3
   },
   "file_extension": ".py",
   "mimetype": "text/x-python",
   "name": "python",
   "nbconvert_exporter": "python",
   "pygments_lexer": "ipython3",
   "version": "3.7.0"
  }
 },
 "nbformat": 4,
 "nbformat_minor": 4
}
