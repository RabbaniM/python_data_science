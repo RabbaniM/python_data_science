{
 "cells": [
  {
   "cell_type": "markdown",
   "metadata": {},
   "source": [
    "# Excercise - 1: Create a matrix and multiply the matrix by its identity?"
   ]
  },
  {
   "cell_type": "code",
   "execution_count": 4,
   "metadata": {
    "ExecuteTime": {
     "end_time": "2019-03-15T23:23:37.947074Z",
     "start_time": "2019-03-15T23:23:36.691900Z"
    }
   },
   "outputs": [
    {
     "name": "stdout",
     "output_type": "stream",
     "text": [
      "[[1 2 3]\n",
      " [4 5 6]\n",
      " [7 8 9]]\n",
      "[[1. 2. 3.]\n",
      " [4. 5. 6.]\n",
      " [7. 8. 9.]]\n",
      "[[1. 2. 3.]\n",
      " [4. 5. 6.]\n",
      " [7. 8. 9.]]\n"
     ]
    }
   ],
   "source": [
    "import numpy as np\n",
    "# Create a (3,3) array\n",
    "X = np.array([[1, 2, 3],\n",
    "           [4, 5, 6],\n",
    "           [7, 8, 9]])\n",
    "I2 = np.identity(3)\n",
    "print(X)\n",
    "print(X.dot(I2))\n",
    "print(I2.dot(X))"
   ]
  },
  {
   "cell_type": "markdown",
   "metadata": {},
   "source": [
    "## Excercise - 2:  - Center observations to have zero mean\n",
    "\n",
    "1. Create an array of 10 random observations with three columns - let's call this array X [10 x 3] use `np.random.random(n, n)`\n",
    "2. Take the mean of each column X into an array [1 x 3]  _hint: use <array>.mean(axis=0)_\n",
    "3. Subract the mean to get a representation of the original array X that is 'centered' around zero\n",
    "    \n",
    "For extra credit, implement the Mean Normalization formula where X  is the original value and x' is the normalized value.\n",
    "\n",
    "$$x' = \\frac{x - average(x)}{max(x) - min(x)}$$"
   ]
  },
  {
   "cell_type": "code",
   "execution_count": 102,
   "metadata": {
    "ExecuteTime": {
     "end_time": "2019-03-16T00:22:46.909076Z",
     "start_time": "2019-03-16T00:22:46.899069Z"
    }
   },
   "outputs": [
    {
     "name": "stdout",
     "output_type": "stream",
     "text": [
      "The mean of each column None\n"
     ]
    }
   ],
   "source": [
    "# fill in the code here. Rpleace None with the proper code\n",
    "\n",
    "X = None\n",
    "# take the mean of the columns of X\n",
    "X_mean = None\n",
    "print(\"The mean of each column\" , X_mean)\n",
    "# subtract the mean to get the centered values\n",
    "X_centered = None\n",
    "# check your result by seeing if the mean of the new matrix is zero (to the precision of the cpu)\n",
    "if X_centered is not None:\n",
    "    print(\"Check your work\")\n",
    "    print(X_centered.mean(axis=0))\n",
    "\n"
   ]
  },
  {
   "cell_type": "code",
   "execution_count": 103,
   "metadata": {
    "ExecuteTime": {
     "end_time": "2019-03-16T00:22:48.675676Z",
     "start_time": "2019-03-16T00:22:48.662683Z"
    }
   },
   "outputs": [
    {
     "name": "stdout",
     "output_type": "stream",
     "text": [
      "[[0.10955671 0.23034082 0.12911881]\n",
      " [0.95548795 0.01460991 0.61146307]\n",
      " [0.64003555 0.70942536 0.70114952]\n",
      " [0.44551036 0.10059025 0.743953  ]\n",
      " [0.90540154 0.48825    0.64997915]\n",
      " [0.60747308 0.99377717 0.36802317]\n",
      " [0.80167975 0.62843945 0.55705164]\n",
      " [0.44060395 0.44999859 0.82859436]\n",
      " [0.42398147 0.80858677 0.80381626]\n",
      " [0.71381209 0.97684153 0.24298307]]\n",
      "\n",
      "The mean of each column [0.60435424 0.54008599 0.5636132 ]\n",
      "[[-0.49479754 -0.30974517 -0.4344944 ]\n",
      " [ 0.3511337  -0.52547608  0.04784987]\n",
      " [ 0.03568131  0.16933937  0.13753631]\n",
      " [-0.15884388 -0.43949573  0.1803398 ]\n",
      " [ 0.30104729 -0.05183598  0.08636594]\n",
      " [ 0.00311884  0.45369119 -0.19559003]\n",
      " [ 0.19732551  0.08835347 -0.00656156]\n",
      " [-0.1637503  -0.09008739  0.26498115]\n",
      " [-0.18037277  0.26850078  0.24020305]\n",
      " [ 0.10945784  0.43675554 -0.32063014]]\n",
      "Check your work:\n",
      "[-5.55111512e-17 -1.11022302e-17  1.11022302e-17]\n"
     ]
    }
   ],
   "source": [
    "# Answer: \n",
    "X = np.random.random((10, 3))\n",
    "print(X)\n",
    "print()\n",
    "# take the mean of the columns of X\n",
    "X_mean = X.mean(0)\n",
    "print(\"The mean of each column\" , X_mean)\n",
    "# subtract the mean to get the centered values\n",
    "X_centered = X - X_mean\n",
    "print(X_centered)\n",
    "print(\"Check your work:\")\n",
    "print(X_centered.mean(0))"
   ]
  }
 ],
 "metadata": {
  "kernelspec": {
   "display_name": "Python 3",
   "language": "python",
   "name": "python3"
  },
  "language_info": {
   "codemirror_mode": {
    "name": "ipython",
    "version": 3
   },
   "file_extension": ".py",
   "mimetype": "text/x-python",
   "name": "python",
   "nbconvert_exporter": "python",
   "pygments_lexer": "ipython3",
   "version": "3.6.5"
  }
 },
 "nbformat": 4,
 "nbformat_minor": 2
}
