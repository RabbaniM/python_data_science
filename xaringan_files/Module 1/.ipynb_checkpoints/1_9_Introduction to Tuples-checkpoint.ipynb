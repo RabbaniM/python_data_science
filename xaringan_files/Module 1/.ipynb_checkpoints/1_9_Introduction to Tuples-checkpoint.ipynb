{
 "cells": [
  {
   "cell_type": "markdown",
   "metadata": {},
   "source": [
    "# Outline\n",
    "- Tuples vs. Lists\n",
    "- Creating tuples\n",
    "- Unpacking tuples"
   ]
  },
  {
   "cell_type": "markdown",
   "metadata": {},
   "source": [
    "## Tuples vs. Lists\n",
    "- Both:\n",
    "    - Contain different data types\n",
    "    - Can be indexed\n",
    "- Lists\n",
    "    - Mutable: Can add, delete, or replace elements\n",
    "    - Square brackets\n",
    "- Tuples:\n",
    "    - Immutable: Cannot be modified.\n",
    "    - Parentheses"
   ]
  },
  {
   "cell_type": "markdown",
   "metadata": {},
   "source": [
    "## Creating tuples"
   ]
  },
  {
   "cell_type": "code",
   "execution_count": 3,
   "metadata": {},
   "outputs": [],
   "source": [
    "#tuple example\n",
    "et_characters = ('et', 'gertie','elliot','michael','mary')"
   ]
  },
  {
   "cell_type": "markdown",
   "metadata": {},
   "source": [
    "## Unpacking tuples"
   ]
  },
  {
   "cell_type": "code",
   "execution_count": 4,
   "metadata": {},
   "outputs": [],
   "source": [
    "#unpack the et_characters tuple\n",
    "patricia, drew, henry, robert, dee = et_characters"
   ]
  },
  {
   "cell_type": "code",
   "execution_count": 5,
   "metadata": {},
   "outputs": [
    {
     "name": "stdout",
     "output_type": "stream",
     "text": [
      "('et', 'gertie', 'elliot', 'michael', 'mary')\n"
     ]
    }
   ],
   "source": [
    "# print a variable\n",
    "print()"
   ]
  }
 ],
 "metadata": {
  "kernelspec": {
   "display_name": "Python 3",
   "language": "python",
   "name": "python3"
  },
  "language_info": {
   "codemirror_mode": {
    "name": "ipython",
    "version": 3
   },
   "file_extension": ".py",
   "mimetype": "text/x-python",
   "name": "python",
   "nbconvert_exporter": "python",
   "pygments_lexer": "ipython3",
   "version": "3.8.0"
  }
 },
 "nbformat": 4,
 "nbformat_minor": 2
}
