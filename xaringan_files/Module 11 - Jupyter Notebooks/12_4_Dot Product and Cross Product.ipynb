{
 "cells": [
  {
   "cell_type": "markdown",
   "metadata": {},
   "source": [
    "# Dot Product and Cross Product\n",
    "\n",
    "## Outine\n",
    "- Dot Product and Cross Product\n",
    "- Dot Product (scalar)\n",
    "- Cross Product (vector)\n",
    "- Wrap up\n"
   ]
  },
  {
   "cell_type": "markdown",
   "metadata": {},
   "source": [
    "  \n",
    "## Dot Product and Cross Product\n",
    "   \n",
    "The **dot product (or scalar product)** can be used to find the **length of a vector or the angle between two vectors**. The dot product measures similarity because it only accumulates interactions in matching dimensions.\n",
    "\n",
    "<img src=\"images/dot_product.gif\" width=\"200\">\n",
    "\n",
    "The **cross product** is used to find a **vector which is perpendicular to the plane spanned by two vectors**. The cross product measures the interactions between different dimensions. It has many applications in physics when dealing with the rotating bodies.\n",
    "\n",
    "<img src=\"images/cross_product.png\" width=\"200\">\n"
   ]
  },
  {
   "cell_type": "markdown",
   "metadata": {
    "slideshow": {
     "slide_type": "-"
    }
   },
   "source": [
    "## Dot Product (scalar)\n",
    "\n",
    "The function **``numpy.dot()``** returns the dot product of two arrays. For 2-D vectors, it is the equivalent to matrix multiplication. For 1-D arrays, it is the inner product of the vectors. For N-dimensional arrays, it is a sum product over the last axis of a and the second-last axis of b.\n",
    "\n",
    "<img src=\"images/dot_product.png\" width=\"400\">"
   ]
  },
  {
   "cell_type": "code",
   "execution_count": 10,
   "metadata": {},
   "outputs": [
    {
     "name": "stdout",
     "output_type": "stream",
     "text": [
      "20\n"
     ]
    }
   ],
   "source": [
    "import numpy as np \n",
    "y = np.array([1,2,3])\n",
    "x = np.array([2,3,4])\n",
    "\n",
    "# Calculate the scalar value of the dot product\n",
    "print(np.dot(y,x))\n"
   ]
  },
  {
   "cell_type": "markdown",
   "metadata": {},
   "source": [
    "## Cross Product (vector)\n",
    "\n",
    "Given two linearly independent vectors **\"a\" and \"b\"**, the cross product, **\"a x b\"**, is a vector that is perpendicular to both **\"a\" and \"b\"** and thus normal to the plane containing them.\n",
    "\n",
    "Area, for example, is formed by vectors pointing in different directions (the more orthogonal, the better). Indeed, the cross product measures the area spanned by two 3d vectors.\n",
    "\n",
    "<img src=\"images/cross_product1.png\" width=\"200\">"
   ]
  },
  {
   "cell_type": "code",
   "execution_count": 1,
   "metadata": {},
   "outputs": [
    {
     "name": "stdout",
     "output_type": "stream",
     "text": [
      "Vector a: [1 0 0]\n",
      "Vector b: [0 1 0]\n",
      "Cross product: [0 0 1]\n"
     ]
    }
   ],
   "source": [
    "import numpy as np\n",
    "\n",
    "a = np.array([1,0,0])\n",
    "print(\"Vector a:\", a)\n",
    "b = np.array([0,1,0]) \n",
    "print(\"Vector b:\",b)\n",
    "#print the result    \n",
    "print(\"Cross product:\", np.cross(a,b))"
   ]
  },
  {
   "cell_type": "code",
   "execution_count": 7,
   "metadata": {},
   "outputs": [
    {
     "name": "stdout",
     "output_type": "stream",
     "text": [
      "Vector a: [1 1 0]\n",
      "Vector b: [0 0 1]\n",
      "Cross product: [ 1 -1  0]\n"
     ]
    }
   ],
   "source": [
    "import numpy as np\n",
    "\n",
    "a = np.array([1,1,0])\n",
    "print(\"Vector a:\", a)\n",
    "b = np.array([0,0,1]) \n",
    "print(\"Vector b:\",b)\n",
    "#print the result    \n",
    "print(\"Cross product:\", np.cross(a,b))"
   ]
  },
  {
   "cell_type": "markdown",
   "metadata": {},
   "source": [
    "## Wrap up\n",
    "We discussed:\n",
    "- Dot Product and Cross Product\n",
    "- Dot Product (scalar)\n",
    "- Cross Product (vector)"
   ]
  },
  {
   "cell_type": "code",
   "execution_count": null,
   "metadata": {},
   "outputs": [],
   "source": []
  }
 ],
 "metadata": {
  "kernelspec": {
   "display_name": "Python 3",
   "language": "python",
   "name": "python3"
  },
  "language_info": {
   "codemirror_mode": {
    "name": "ipython",
    "version": 3
   },
   "file_extension": ".py",
   "mimetype": "text/x-python",
   "name": "python",
   "nbconvert_exporter": "python",
   "pygments_lexer": "ipython3",
   "version": "3.7.0"
  },
  "latex_envs": {
   "LaTeX_envs_menu_present": true,
   "autoclose": false,
   "autocomplete": true,
   "bibliofile": "biblio.bib",
   "cite_by": "apalike",
   "current_citInitial": 1,
   "eqLabelWithNumbers": true,
   "eqNumInitial": 1,
   "hotkeys": {
    "equation": "Ctrl-E",
    "itemize": "Ctrl-I"
   },
   "labels_anchors": false,
   "latex_user_defs": false,
   "report_style_numbering": false,
   "user_envs_cfg": false
  }
 },
 "nbformat": 4,
 "nbformat_minor": 4
}
