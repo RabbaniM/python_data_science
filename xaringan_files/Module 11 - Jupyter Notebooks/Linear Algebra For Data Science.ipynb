{
 "cells": [
  {
   "cell_type": "markdown",
   "metadata": {},
   "source": [
    "# Linear Algebra for Data Science and Machine Learning\n",
    "\n",
    "## Outine\n",
    "- What is Linear Algebra\n",
    "- Linear Equation\n",
    "- Vectors and Metrices\n",
    "- Matrix addition and subtraction\n",
    "- Matrix multiplication and Division\n",
    "- Matrix Transposition\n",
    "- Summary"
   ]
  },
  {
   "cell_type": "markdown",
   "metadata": {},
   "source": [
    "  \n",
    "## What is Linear Algebra\n",
    "   \n",
    "Linear algebra is central to almost all areas of mathematics. It is the domain of mathematics that deals with linear equations,functions and their representations with vectors and matrices. \n",
    "\n",
    "\n",
    "\n",
    "<img src=\"images/linear_algebra.png\" width=\"400\">\n"
   ]
  },
  {
   "cell_type": "markdown",
   "metadata": {},
   "source": [
    "## Linear Equation\n",
    "\n",
    "If a, b, and r are real numbers (and if a and b are not both equal to 0) then\n",
    "ax + by = r is called a linear equation in two variables. (The “two variables”\n",
    "are the x and the y.)\n",
    "\n",
    "The numbers a and b are called the coefficients of the equation ax+by = r.\n",
    "The number r is called the constant of the equation ax + by = r.\n",
    "\n",
    "A solution of a linear equation in two variables ax+by = r is a specific point\n",
    "in R2 such that when when the x-coordinate of the point is multiplied by a,\n",
    "and the y-coordinate of the point is multiplied by b, and those two numbers\n",
    "are added together, the answer equals r. (There are always infinitely many\n",
    "solutions to a linear equation in two variables.)\n",
    "\n",
    "**Below we will define the data for our line using the following two variable equation**\n",
    "\n",
    "``2y=2x−4`` which reduces to ``y=x−2``"
   ]
  },
  {
   "cell_type": "code",
   "execution_count": 1,
   "metadata": {},
   "outputs": [
    {
     "data": {
      "text/html": [
       "<div>\n",
       "<style scoped>\n",
       "    .dataframe tbody tr th:only-of-type {\n",
       "        vertical-align: middle;\n",
       "    }\n",
       "\n",
       "    .dataframe tbody tr th {\n",
       "        vertical-align: top;\n",
       "    }\n",
       "\n",
       "    .dataframe thead th {\n",
       "        text-align: right;\n",
       "    }\n",
       "</style>\n",
       "<table border=\"1\" class=\"dataframe\">\n",
       "  <thead>\n",
       "    <tr style=\"text-align: right;\">\n",
       "      <th></th>\n",
       "      <th>x</th>\n",
       "      <th>y</th>\n",
       "    </tr>\n",
       "  </thead>\n",
       "  <tbody>\n",
       "    <tr>\n",
       "      <th>0</th>\n",
       "      <td>-10</td>\n",
       "      <td>-7</td>\n",
       "    </tr>\n",
       "    <tr>\n",
       "      <th>1</th>\n",
       "      <td>-9</td>\n",
       "      <td>-6</td>\n",
       "    </tr>\n",
       "    <tr>\n",
       "      <th>2</th>\n",
       "      <td>-8</td>\n",
       "      <td>-5</td>\n",
       "    </tr>\n",
       "    <tr>\n",
       "      <th>3</th>\n",
       "      <td>-7</td>\n",
       "      <td>-4</td>\n",
       "    </tr>\n",
       "    <tr>\n",
       "      <th>4</th>\n",
       "      <td>-6</td>\n",
       "      <td>-3</td>\n",
       "    </tr>\n",
       "    <tr>\n",
       "      <th>5</th>\n",
       "      <td>-5</td>\n",
       "      <td>-2</td>\n",
       "    </tr>\n",
       "    <tr>\n",
       "      <th>6</th>\n",
       "      <td>-4</td>\n",
       "      <td>-1</td>\n",
       "    </tr>\n",
       "    <tr>\n",
       "      <th>7</th>\n",
       "      <td>-3</td>\n",
       "      <td>0</td>\n",
       "    </tr>\n",
       "    <tr>\n",
       "      <th>8</th>\n",
       "      <td>-2</td>\n",
       "      <td>1</td>\n",
       "    </tr>\n",
       "    <tr>\n",
       "      <th>9</th>\n",
       "      <td>-1</td>\n",
       "      <td>2</td>\n",
       "    </tr>\n",
       "    <tr>\n",
       "      <th>10</th>\n",
       "      <td>0</td>\n",
       "      <td>3</td>\n",
       "    </tr>\n",
       "    <tr>\n",
       "      <th>11</th>\n",
       "      <td>1</td>\n",
       "      <td>4</td>\n",
       "    </tr>\n",
       "    <tr>\n",
       "      <th>12</th>\n",
       "      <td>2</td>\n",
       "      <td>5</td>\n",
       "    </tr>\n",
       "    <tr>\n",
       "      <th>13</th>\n",
       "      <td>3</td>\n",
       "      <td>6</td>\n",
       "    </tr>\n",
       "    <tr>\n",
       "      <th>14</th>\n",
       "      <td>4</td>\n",
       "      <td>7</td>\n",
       "    </tr>\n",
       "    <tr>\n",
       "      <th>15</th>\n",
       "      <td>5</td>\n",
       "      <td>8</td>\n",
       "    </tr>\n",
       "    <tr>\n",
       "      <th>16</th>\n",
       "      <td>6</td>\n",
       "      <td>9</td>\n",
       "    </tr>\n",
       "    <tr>\n",
       "      <th>17</th>\n",
       "      <td>7</td>\n",
       "      <td>10</td>\n",
       "    </tr>\n",
       "    <tr>\n",
       "      <th>18</th>\n",
       "      <td>8</td>\n",
       "      <td>11</td>\n",
       "    </tr>\n",
       "    <tr>\n",
       "      <th>19</th>\n",
       "      <td>9</td>\n",
       "      <td>12</td>\n",
       "    </tr>\n",
       "    <tr>\n",
       "      <th>20</th>\n",
       "      <td>10</td>\n",
       "      <td>13</td>\n",
       "    </tr>\n",
       "  </tbody>\n",
       "</table>\n",
       "</div>"
      ],
      "text/plain": [
       "     x   y\n",
       "0  -10  -7\n",
       "1   -9  -6\n",
       "2   -8  -5\n",
       "3   -7  -4\n",
       "4   -6  -3\n",
       "5   -5  -2\n",
       "6   -4  -1\n",
       "7   -3   0\n",
       "8   -2   1\n",
       "9   -1   2\n",
       "10   0   3\n",
       "11   1   4\n",
       "12   2   5\n",
       "13   3   6\n",
       "14   4   7\n",
       "15   5   8\n",
       "16   6   9\n",
       "17   7  10\n",
       "18   8  11\n",
       "19   9  12\n",
       "20  10  13"
      ]
     },
     "execution_count": 1,
     "metadata": {},
     "output_type": "execute_result"
    }
   ],
   "source": [
    "import pandas as pd\n",
    "\n",
    "# Create a dataframe with a column x, containing values from -10 to 10.\n",
    "#{} is used for a Dictionary\n",
    "df = pd.DataFrame({'x': range(-10, 11)})\n",
    "\n",
    "# Add column y, by applying the solved equation to x\n",
    "df['y'] = df['x'] +3\n",
    "\n",
    "# this is our data\n",
    "df"
   ]
  },
  {
   "cell_type": "markdown",
   "metadata": {},
   "source": [
    "Now we can plot the values to see the line created from our equation."
   ]
  },
  {
   "cell_type": "code",
   "execution_count": 2,
   "metadata": {},
   "outputs": [
    {
     "data": {
      "image/png": "[encoded data removed]",
      "text/plain": [
       "<Figure size 640x480 with 1 Axes>"
      ]
     },
     "metadata": {},
     "output_type": "display_data"
    }
   ],
   "source": [
    "# use matplotlib for plotting\n",
    "import matplotlib.pyplot as plt\n",
    "%matplotlib inline\n",
    "\n",
    "plt.figure(num=None, figsize=(8, 6), dpi=80, facecolor='w', edgecolor='k')\n",
    "\n",
    "# plot our x and y coordinates\n",
    "plt.plot(df['x'], df['y'])\n",
    "# add labels\n",
    "plt.xlabel('x')\n",
    "plt.ylabel('y')\n",
    "# add a grid\n",
    "plt.grid()\n",
    "plt.axhline(color='black')\n",
    "plt.axvline(color='black')\n",
    "plt.annotate('x-intercept',(2, .2),  fontsize=12)\n",
    "plt.annotate('y-intercept',(0.1,6), rotation=90, fontsize=12)\n",
    "plt.show()"
   ]
  },
  {
   "cell_type": "markdown",
   "metadata": {},
   "source": [
    "  \n",
    "## Vectors and Matrices in Python\n",
    "   \n",
    "A matrix is a special case of two dimensional array where each data element is of the same size. So every matrix is also a two dimensional array but not vice versa. \n",
    "\n",
    "\n",
    "\n",
    "<img src=\"images/matrix.jpg\" width=\"200\">\n",
    "\n",
    "We can think of a vector as a list of numbers. A vector is a tuple of one or more scalar values. Vectors are a foundational element of linear algebra. Vectors are used throughout the field of machine learning in the description of algorithms and processes such as the target variable (y) when training an algorithm.\n",
    "\n",
    "<img src=\"images/vectors.png\" width=\"200\">\n"
   ]
  },
  {
   "cell_type": "markdown",
   "metadata": {
    "slideshow": {
     "slide_type": "-"
    }
   },
   "source": [
    "## Vectors and Lists\n",
    "\n",
    "A list is a data structure in Python that is a mutable, or changeable, ordered sequence of elements. Each element or value that is inside of a list is called an item. Just as strings are defined as characters between quotes, lists are defined by having values between square brackets **[ ]** .\n",
    "\n",
    "We can turn lists into vectors by converting them to Numpy arrays. \n",
    "\n",
    "Let's look at an example:"
   ]
  },
  {
   "cell_type": "code",
   "execution_count": 3,
   "metadata": {},
   "outputs": [
    {
     "name": "stdout",
     "output_type": "stream",
     "text": [
      "The list: [4, 2, 5]\n",
      "Has length: 3\n",
      "The vector: [4 2 5]\n",
      "Has shape: (3,)\n"
     ]
    }
   ],
   "source": [
    "import numpy as np\n",
    "\n",
    "c_list = [4,2,5]\n",
    "print(\"The list:\",c_list)\n",
    "print(\"Has length:\", len(c_list))\n",
    "\n",
    "c_vector = np.array(c_list)\n",
    "print(\"The vector:\", c_vector)\n",
    "print(\"Has shape:\",c_vector.shape)"
   ]
  },
  {
   "cell_type": "markdown",
   "metadata": {},
   "source": [
    "## Matrices\n",
    "\n",
    "Python doesn't have a built-in type for matrices. However, we can treat a ``\"list of a list\"`` as a matrix.\n",
    "\n",
    "See the Python code below:"
   ]
  },
  {
   "cell_type": "code",
   "execution_count": 4,
   "metadata": {},
   "outputs": [
    {
     "name": "stdout",
     "output_type": "stream",
     "text": [
      "[[1, 4, 5, 12], [-5, 8, 9, 0], [-6, 7, 11, 19]]\n",
      "<class 'list'>\n"
     ]
    }
   ],
   "source": [
    "A = [[1, 4, 5, 12], \n",
    "    [-5, 8, 9, 0],\n",
    "    [-6, 7, 11, 19]]\n",
    "\n",
    "print(A)\n",
    "print (type(A))"
   ]
  },
  {
   "cell_type": "markdown",
   "metadata": {},
   "source": [
    "If we use the **NumPy** library (which is typically the workhorse for Linear Algebra), it has a multidimensional array object, called ``ndarray`` that we can use to represent a matrix.\n",
    "\n",
    "See the example below:"
   ]
  },
  {
   "cell_type": "code",
   "execution_count": 5,
   "metadata": {},
   "outputs": [
    {
     "name": "stdout",
     "output_type": "stream",
     "text": [
      "[[ 1  4  5 12]\n",
      " [-5  8  9  0]\n",
      " [-6  7 11 19]]\n",
      "<class 'numpy.ndarray'>\n",
      "This is the shape of the array/matrix: (3, 4)\n"
     ]
    }
   ],
   "source": [
    "import numpy as np\n",
    "a = np.array([[1, 4, 5, 12], \n",
    "    [-5, 8, 9, 0],\n",
    "    [-6, 7, 11, 19]])\n",
    "print(a)               # Output: [1, 2, 3]\n",
    "print(type(a))         # Output: <class 'numpy.ndarray'>\n",
    "\n",
    "# numpy will tell us the shape of the matrix (array)\n",
    "print('This is the shape of the array/matrix:', a.shape)         "
   ]
  },
  {
   "cell_type": "markdown",
   "metadata": {},
   "source": [
    "## Basic Matrix Operations\n"
   ]
  },
  {
   "cell_type": "markdown",
   "metadata": {},
   "source": [
    "  \n",
    "### Matrix Addition and Subtraction\n",
    "   \n",
    "Two matrices may be added or subtracted only if they have the same dimension; that is, they must have the same number of rows and columns. Addition or subtraction is accomplished by adding or subtracting corresponding elements. \n",
    "\n",
    "We use matrices to list data or to represent systems. Because the entries are numbers, we can perform operations on matrices. We add or subtract matrices by adding or subtracting corresponding entries.\n",
    "\n",
    "<img src=\"images/matrix_add_sub.png\" width=\"400\">\n"
   ]
  },
  {
   "cell_type": "markdown",
   "metadata": {},
   "source": [
    "### Adding or subtracting a scalar value to a matrix\n",
    "\n",
    "To learn the basics, consider a small matrix of dimension 2×2, where 2×2 denotes the number of rows × the number of columns. \n",
    "\n",
    "Let A=<img src=\"images/2x2_Matrix.png\" width=\"100\">. \n",
    "\n",
    "Consider adding a scalar value (in this case 3) to \"A\".\n",
    "<img src=\"images/matrix_addition_scalar.png\" width=\"300\">\n",
    "The same basic principle holds true for \"A-3\":\n",
    "<img src=\"images/matrix_subtraction_scalar.png\" width=\"300\">\n",
    "\n",
    "You can see that we add/subtract the scalar value to/from each element in the matrix \"A\". \"A\" can be of any dimension.\n",
    "\n",
    "This is simple to implement in Python, see the examples that follow:"
   ]
  },
  {
   "cell_type": "code",
   "execution_count": 6,
   "metadata": {},
   "outputs": [
    {
     "name": "stdout",
     "output_type": "stream",
     "text": [
      "[[33  7]\n",
      " [ 1  6]]\n"
     ]
    }
   ],
   "source": [
    "import numpy as np\n",
    "# create a random 2x2 matrix\n",
    "A = np.random.randint(1,50,size=(2,2))\n",
    "print(A)"
   ]
  },
  {
   "cell_type": "code",
   "execution_count": 7,
   "metadata": {},
   "outputs": [
    {
     "data": {
      "text/plain": [
       "array([[36, 10],\n",
       "       [ 4,  9]])"
      ]
     },
     "execution_count": 7,
     "metadata": {},
     "output_type": "execute_result"
    }
   ],
   "source": [
    "# now add 3 to the matrix\n",
    "A + 3"
   ]
  },
  {
   "cell_type": "code",
   "execution_count": 8,
   "metadata": {},
   "outputs": [
    {
     "data": {
      "text/plain": [
       "array([[30,  4],\n",
       "       [-2,  3]])"
      ]
     },
     "execution_count": 8,
     "metadata": {},
     "output_type": "execute_result"
    }
   ],
   "source": [
    "# now subtract 3 from the matrix\n",
    "A - 3"
   ]
  },
  {
   "cell_type": "markdown",
   "metadata": {},
   "source": [
    "### Adding or subtracting two matrices"
   ]
  },
  {
   "cell_type": "markdown",
   "metadata": {},
   "source": [
    "An important point to know about matrix addition and subtraction is that it is only defined when A and B are of the same size. Here, both are 2×2. Since operations are performed element by element, these two matrices must have the same numbers of rows and columns. \n",
    "\n",
    "<img src=\"images/matrix_addition.png\" width=\"300\">\n",
    "\n",
    "Notice that the result of a matrix addition or subtraction operation always has the same dimensionality as the two operands.\n",
    "\n",
    "In the following examples we will show the Addition and Subtraction of two randomly created 2x2 matrices.\n"
   ]
  },
  {
   "cell_type": "code",
   "execution_count": 9,
   "metadata": {},
   "outputs": [
    {
     "name": "stdout",
     "output_type": "stream",
     "text": [
      "Matrix A is :\n",
      "[[15 32]\n",
      " [14 41]]\n",
      "Matrix B is :\n",
      "[[27 45]\n",
      " [45 45]]\n",
      "Adding the matrices together :\n",
      "[[42 77]\n",
      " [59 86]]\n",
      "Subtracting the matricies :\n",
      "[[-12 -13]\n",
      " [-31  -4]]\n"
     ]
    }
   ],
   "source": [
    "# define matrix A\n",
    "A = np.random.randint(1,50,size=(2,2))\n",
    "print('Matrix A is :')\n",
    "print(A)\n",
    "\n",
    "# define matrix B\n",
    "B = np.random.randint(1,50,size=(2,2))\n",
    "print('Matrix B is :')\n",
    "print(B)\n",
    "\n",
    "# Calcualte A+B\n",
    "print('Adding the matrices together :')\n",
    "print(A + B)\n",
    "\n",
    "# Calcualte A+B\n",
    "print('Subtracting the matricies :')\n",
    "print(A - B)\n"
   ]
  },
  {
   "cell_type": "markdown",
   "metadata": {},
   "source": [
    "  \n",
    "## Matrix Multiplication and Division\n",
    "   \n",
    "In mathematics, matrix multiplication is a binary operation that produces a matrix from two matrices. For matrix multiplication, the number of columns in the first matrix must be equal to the number of rows in the second matrix.\n",
    "\n",
    "<img src=\"images/matrixmultiplication.jpg\" width=\"400\">\n",
    "\n",
    "Technically, there is no such thing as matrix division. Dividing a matrix by another matrix is an undefined function. The closest equivalent is multiplying by the inverse of another matrix. In other words, while [A] ÷ [B] is undefined, you can solve the problem [A] * [B]<sup>-1</sup>.\n",
    "\n",
    "<img src=\"images/matrix_division.png\" width=\"400\">\n"
   ]
  },
  {
   "cell_type": "markdown",
   "metadata": {
    "slideshow": {
     "slide_type": "-"
    }
   },
   "source": [
    "## Multiplying two matrices\n",
    "\n",
    "There are two ways to perform matrix multiplication:\n",
    "\n",
    "First, we can use the **numpy.dot()**. For 2-D vectors, it is the equivalent to matrix multiplication. For N-dimensional arrays, it is a sum product over the last axis of a and the second-last axis of b. \n",
    "\n",
    "\n",
    "Second we can use **numpy.matmul()** function which returns the matrix product of two arrays. While it returns a normal product for 2-D arrays, matmul differs from dot in two important ways. Multiplication by scalars is not allowed. Stacks of matrices are broadcast together as if the matrices were elements (this is not possible with dot).\n"
   ]
  },
  {
   "cell_type": "code",
   "execution_count": 29,
   "metadata": {},
   "outputs": [
    {
     "name": "stdout",
     "output_type": "stream",
     "text": [
      "Matrix a\n",
      "[[1 2 3]\n",
      " [3 4 5]] shape = (2, 3)\n",
      "Matrix b\n",
      "[[11 12]\n",
      " [13 14]\n",
      " [16 17]] shape = (3, 2)\n",
      "Dot for matrix multiplication : [[ 85  91]\n",
      " [165 177]]\n",
      "Matmul for matrix multiplication : [[ 85  91]\n",
      " [165 177]]\n"
     ]
    }
   ],
   "source": [
    "import numpy.matlib \n",
    "import numpy as np \n",
    "\n",
    "#define the first matrix\n",
    "a = np.array([[1,2,3],[3,4,5]]) \n",
    "#define the second matrix\n",
    "b = np.array([[11,12],[13,14],[16,17]]) \n",
    "print(\"Matrix a\")\n",
    "print(a, \"shape =\", a.shape)\n",
    "print(\"Matrix b\")\n",
    "print(b, \"shape =\", b.shape)\n",
    "print(\"Dot for matrix multiplication :\", np.dot(a,b))\n",
    "\n",
    "# now try matmul\n",
    "print(\"Matmul for matrix multiplication :\", np.matmul(a,b))"
   ]
  },
  {
   "cell_type": "markdown",
   "metadata": {},
   "source": [
    "## Dividing two matrices\n",
    "\n",
    "As discussed above, Matrix division involves multiplication by the inverse of the divisor matrix. The following case demonstrates the use of **numpy.linalg.inv()** to perform the inverse and the calculation of the \"matrix division\""
   ]
  },
  {
   "cell_type": "code",
   "execution_count": 30,
   "metadata": {},
   "outputs": [
    {
     "name": "stdout",
     "output_type": "stream",
     "text": [
      "This is the inverse of the A matrix :\n",
      "[[-3.36363636  3.81818182  0.27272727]\n",
      " [ 0.54545455 -0.72727273  0.09090909]\n",
      " [ 0.45454545 -0.27272727 -0.09090909]]\n",
      "This is the final result :\n",
      "[[-10.72727273  11.63636364   1.54545455]\n",
      " [ -4.45454545   5.27272727   1.09090909]]\n"
     ]
    }
   ],
   "source": [
    "# create our matricies\n",
    "B = np.array([[4,5,0],[3,7,4]]) \n",
    "A = np.array([[1,3,6],[1,2,5],[2,9,4]]) \n",
    "# our calculation will be B/A so we need the inverse of A\n",
    "print(\"This is the inverse of the A matrix :\")\n",
    "print(np.linalg.inv(A))\n",
    "print(\"This is the final result :\")\n",
    "print(np.dot(B,np.linalg.inv(A)))"
   ]
  },
  {
   "cell_type": "markdown",
   "metadata": {},
   "source": [
    "As an aside and of note, One matrix can be divided by another matrix with the **same dimensions.** NOTE: this is merely a positional division of values!"
   ]
  },
  {
   "cell_type": "code",
   "execution_count": 20,
   "metadata": {},
   "outputs": [
    {
     "name": "stdout",
     "output_type": "stream",
     "text": [
      "[[1 2 3]\n",
      " [4 5 6]]\n",
      "[[1 2 3]\n",
      " [4 5 6]]\n",
      "[[1. 1. 1.]\n",
      " [1. 1. 1.]]\n"
     ]
    }
   ],
   "source": [
    "# divide matrices\n",
    "from numpy import array\n",
    "A = array([[1, 2, 3], [4, 5, 6]])\n",
    "print(A)\n",
    "B = array([[1, 2, 3], [4, 5, 6]])\n",
    "print(B)\n",
    "# perform the division\n",
    "C = A / B\n",
    "print(C)"
   ]
  },
  {
   "cell_type": "markdown",
   "metadata": {},
   "source": [
    "  \n",
    "## Transposing a matrix\n",
    "   \n",
    "The transpose of a matrix is a new matrix whose rows are the columns of the original. (This makes the columns of the new matrix the rows of the original). Here is a matrix and its transpose:\n",
    "\n",
    "<img src=\"images/transpose_1.png\" width=\"200\">\n",
    "The superscript \"T\" means \"transpose\".\n",
    "\n",
    "Another way to look at the transpose is that the element at row r column c in the original is placed at row c column r of the transpose. The element a[rc] of the original matrix becomes element a[cr] in the transposed matrix.\n",
    "\n",
    "Usually we will work with square matrices, and it is usually square matrices that will be transposed. However, non-square matrices can be transposed, as well:\n",
    "<img src=\"images/transpose_2.png\" width=\"200\">\n",
    "\n",
    "In Python, the **transpose() method or as a shortcut, {matrix}.T** returns a transposed view of the passed multi-dimensional matrix.\n",
    "\n",
    "Let's look at some examples:\n"
   ]
  },
  {
   "cell_type": "code",
   "execution_count": 12,
   "metadata": {},
   "outputs": [
    {
     "name": "stdout",
     "output_type": "stream",
     "text": [
      "A is\n",
      "[[0 1 2]\n",
      " [3 4 5]\n",
      " [6 7 8]]\n",
      "The Transpose of A is\n",
      "[[0 3 6]\n",
      " [1 4 7]\n",
      " [2 5 8]]\n",
      "or\n",
      "[[0 3 6]\n",
      " [1 4 7]\n",
      " [2 5 8]]\n"
     ]
    }
   ],
   "source": [
    "import numpy as np\n",
    "\n",
    "A = np.arange(9).reshape((3,3))\n",
    "B = np.arange(12).reshape((3,4))\n",
    "print( \"A is\")\n",
    "print(A)\n",
    "\n",
    "print( \"The Transpose of A is\")\n",
    "print( A.T)\n",
    "print(\"or\")\n",
    "print(np.transpose(A))"
   ]
  },
  {
   "cell_type": "markdown",
   "metadata": {},
   "source": [
    "One important property of transposing a matrix is the transpose of a product of two matrices. Let matrix A be of dimension N×M and let B of of dimension M×P. \n",
    "\n",
    "Then (AB)<sup>T</sup> = A<sup>T</sup>B<sup>T</sup>\n",
    "For more information, see this http://en.wikipedia.org/wiki/Matrix_transposition on matrix transposition. "
   ]
  },
  {
   "cell_type": "code",
   "execution_count": 15,
   "metadata": {},
   "outputs": [
    {
     "name": "stdout",
     "output_type": "stream",
     "text": [
      "[[ 20  56  92]\n",
      " [ 23  68 113]\n",
      " [ 26  80 134]\n",
      " [ 29  92 155]]\n",
      "Is identical to:\n",
      "[[ 20  56  92]\n",
      " [ 23  68 113]\n",
      " [ 26  80 134]\n",
      " [ 29  92 155]]\n"
     ]
    }
   ],
   "source": [
    "# first calculate B.T dot A.T\n",
    "print( B.T.dot(A.T))\n",
    "print( \"Is identical to:\")\n",
    "# now calculate (A dot B).T\n",
    "print( (A.dot(B)).T)"
   ]
  },
  {
   "cell_type": "markdown",
   "metadata": {},
   "source": [
    "## Summary\n",
    "\n",
    "- Matrices are key component of developing machine learning applications\n",
    "- Numpy library is used to implement these in Python\n",
    "- Matrix multiplication and transposing are more frequently used"
   ]
  },
  {
   "cell_type": "markdown",
   "metadata": {},
   "source": [
    "## Extra Credit: Optional\n",
    "\n",
    "Visit this link if you want to gain an intuition\n",
    "https://betterexplained.com/articles/cross-product/"
   ]
  },
  {
   "cell_type": "markdown",
   "metadata": {},
   "source": [
    "  \n",
    "### Dot Product and Cross Product\n",
    "   \n",
    "The **dot product (or scalar product)** can be used to find the **length of a vector or the angle between two vectors**. The dot product measures similarity because it only accumulates interactions in matching dimensions.\n",
    "\n",
    "<img src=\"images/dot_product.gif\" width=\"200\">\n",
    "\n",
    "The **cross product** is used to find a **vector which is perpendicular to the plane spanned by two vectors**. The cross product measures the interactions between different dimensions. It has many applications in physics when dealing with the rotating bodies.\n",
    "\n",
    "<img src=\"images/cross_product.png\" width=\"200\">\n"
   ]
  },
  {
   "cell_type": "markdown",
   "metadata": {
    "slideshow": {
     "slide_type": "-"
    }
   },
   "source": [
    "### Dot Product (scalar)\n",
    "\n",
    "The function **``numpy.dot()``** returns the dot product of two arrays. For 2-D vectors, it is the equivalent to matrix multiplication. For 1-D arrays, it is the inner product of the vectors. For N-dimensional arrays, it is a sum product over the last axis of a and the second-last axis of b.\n",
    "\n",
    "<img src=\"images/dot_product.png\" width=\"400\">"
   ]
  },
  {
   "cell_type": "code",
   "execution_count": 10,
   "metadata": {},
   "outputs": [
    {
     "name": "stdout",
     "output_type": "stream",
     "text": [
      "20\n"
     ]
    }
   ],
   "source": [
    "import numpy as np \n",
    "y = np.array([1,2,3])\n",
    "x = np.array([2,3,4])\n",
    "\n",
    "# Calculate the scalar value of the dot product\n",
    "print(np.dot(y,x))\n"
   ]
  },
  {
   "cell_type": "markdown",
   "metadata": {},
   "source": [
    "### Cross Product (vector)\n",
    "\n",
    "Given two linearly independent vectors **\"a\" and \"b\"**, the cross product, **\"a x b\"**, is a vector that is perpendicular to both **\"a\" and \"b\"** and thus normal to the plane containing them.\n",
    "\n",
    "Area, for example, is formed by vectors pointing in different directions (the more orthogonal, the better). Indeed, the cross product measures the area spanned by two 3d vectors.\n",
    "\n",
    "<img src=\"images/cross_product1.png\" width=\"200\">"
   ]
  },
  {
   "cell_type": "code",
   "execution_count": 11,
   "metadata": {},
   "outputs": [
    {
     "name": "stdout",
     "output_type": "stream",
     "text": [
      "Vector a: [1 0 0]\n",
      "Vector b: [0 1 0]\n",
      "Cross product: [0 0 1]\n"
     ]
    }
   ],
   "source": [
    "import numpy as np\n",
    "\n",
    "a = np.array([1,0,0])\n",
    "print(\"Vector a:\", a)\n",
    "b = np.array([0,1,0]) \n",
    "print(\"Vector b:\",b)\n",
    "#print the result    \n",
    "print(\"Cross product:\", np.cross(a,b))"
   ]
  }
 ],
 "metadata": {
  "kernelspec": {
   "display_name": "Python 3",
   "language": "python",
   "name": "python3"
  },
  "language_info": {
   "codemirror_mode": {
    "name": "ipython",
    "version": 3
   },
   "file_extension": ".py",
   "mimetype": "text/x-python",
   "name": "python",
   "nbconvert_exporter": "python",
   "pygments_lexer": "ipython3",
   "version": "3.7.0"
  },
  "latex_envs": {
   "LaTeX_envs_menu_present": true,
   "autoclose": false,
   "autocomplete": true,
   "bibliofile": "biblio.bib",
   "cite_by": "apalike",
   "current_citInitial": 1,
   "eqLabelWithNumbers": true,
   "eqNumInitial": 1,
   "hotkeys": {
    "equation": "Ctrl-E",
    "itemize": "Ctrl-I"
   },
   "labels_anchors": false,
   "latex_user_defs": false,
   "report_style_numbering": false,
   "user_envs_cfg": false
  }
 },
 "nbformat": 4,
 "nbformat_minor": 4
}
