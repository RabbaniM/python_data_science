{
 "cells": [
  {
   "cell_type": "markdown",
   "metadata": {},
   "source": [
    "# Transposition\n",
    "\n",
    "## Outine\n",
    "- Introduction to Transposition\n",
    "- Transposing a Matrix\n",
    "- Wrap up"
   ]
  },
  {
   "cell_type": "markdown",
   "metadata": {},
   "source": [
    "  \n",
    "## Introduction to Transposition\n",
    "   \n",
    "The transpose of a matrix is a new matrix whose rows are the columns of the original. (This makes the columns of the new matrix the rows of the original). Here is a matrix and its transpose:\n",
    "\n",
    "<img src=\"images/transpose_1.png\" width=\"200\">\n",
    "The superscript \"T\" means \"transpose\".\n",
    "\n",
    "Another way to look at the transpose is that the element at row r column c in the original is placed at row c column r of the transpose. The element a[rc] of the original matrix becomes element a[cr] in the transposed matrix.\n",
    "\n",
    "Usually we will work with square matrices, and it is usually square matrices that will be transposed. However, non-square matrices can be transposed, as well:\n",
    "<img src=\"images/transpose_2.png\" width=\"200\">\n"
   ]
  },
  {
   "cell_type": "markdown",
   "metadata": {
    "slideshow": {
     "slide_type": "-"
    }
   },
   "source": [
    "## Transposing a matrix\n",
    "\n",
    "In Python, the **transpose() method or as a shortcut, {matrix}.T** returns a transposed view of the passed multi-dimensional matrix.\n",
    "\n",
    "Let's look at some examples:\n"
   ]
  },
  {
   "cell_type": "code",
   "execution_count": 14,
   "metadata": {},
   "outputs": [
    {
     "name": "stdout",
     "output_type": "stream",
     "text": [
      "A is\n",
      "[[0 1 2]\n",
      " [3 4 5]\n",
      " [6 7 8]]\n",
      "The Transpose of A is\n",
      "[[0 3 6]\n",
      " [1 4 7]\n",
      " [2 5 8]]\n",
      "or\n",
      "[[0 3 6]\n",
      " [1 4 7]\n",
      " [2 5 8]]\n"
     ]
    }
   ],
   "source": [
    "import numpy as np\n",
    "\n",
    "A = np.arange(9).reshape((3,3))\n",
    "B = np.arange(12).reshape((3,4))\n",
    "print( \"A is\")\n",
    "print(A)\n",
    "\n",
    "print( \"The Transpose of A is\")\n",
    "print( A.T)\n",
    "print(\"or\")\n",
    "print(np.transpose(A))"
   ]
  },
  {
   "cell_type": "markdown",
   "metadata": {},
   "source": [
    "One important property of transposing a matrix is the transpose of a product of two matrices. Let matrix A be of dimension N×M and let B of of dimension M×P. \n",
    "\n",
    "Then (AB)<sup>T</sup> = A<sup>T</sup>B<sup>T</sup>\n",
    "For more information, see this http://en.wikipedia.org/wiki/Matrix_transposition on matrix transposition. "
   ]
  },
  {
   "cell_type": "code",
   "execution_count": 15,
   "metadata": {},
   "outputs": [
    {
     "name": "stdout",
     "output_type": "stream",
     "text": [
      "[[ 20  56  92]\n",
      " [ 23  68 113]\n",
      " [ 26  80 134]\n",
      " [ 29  92 155]]\n",
      "Is identical to:\n",
      "[[ 20  56  92]\n",
      " [ 23  68 113]\n",
      " [ 26  80 134]\n",
      " [ 29  92 155]]\n"
     ]
    }
   ],
   "source": [
    "# first calculate B.T dot A.T\n",
    "print( B.T.dot(A.T))\n",
    "print( \"Is identical to:\")\n",
    "# now calculate (A dot B).T\n",
    "print( (A.dot(B)).T)"
   ]
  },
  {
   "cell_type": "markdown",
   "metadata": {},
   "source": [
    "## Wrapping up\n",
    "We discussed:\n",
    "- Introduction to Transposition\n",
    "- Transposing a Matrix"
   ]
  },
  {
   "cell_type": "code",
   "execution_count": null,
   "metadata": {},
   "outputs": [],
   "source": []
  }
 ],
 "metadata": {
  "kernelspec": {
   "display_name": "Python 3",
   "language": "python",
   "name": "python3"
  },
  "language_info": {
   "codemirror_mode": {
    "name": "ipython",
    "version": 3
   },
   "file_extension": ".py",
   "mimetype": "text/x-python",
   "name": "python",
   "nbconvert_exporter": "python",
   "pygments_lexer": "ipython3",
   "version": "3.7.2"
  },
  "latex_envs": {
   "LaTeX_envs_menu_present": true,
   "autoclose": false,
   "autocomplete": true,
   "bibliofile": "biblio.bib",
   "cite_by": "apalike",
   "current_citInitial": 1,
   "eqLabelWithNumbers": true,
   "eqNumInitial": 1,
   "hotkeys": {
    "equation": "Ctrl-E",
    "itemize": "Ctrl-I"
   },
   "labels_anchors": false,
   "latex_user_defs": false,
   "report_style_numbering": false,
   "user_envs_cfg": false
  }
 },
 "nbformat": 4,
 "nbformat_minor": 1
}
