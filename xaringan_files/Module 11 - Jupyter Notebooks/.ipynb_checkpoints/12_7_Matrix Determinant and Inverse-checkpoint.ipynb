{
 "cells": [
  {
   "cell_type": "markdown",
   "metadata": {},
   "source": [
    "# Matrix determinant and Inverse\n",
    "\n",
    "## Outine\n",
    "- Introduction to Matrix determinant and Inverse\n",
    "- Matrix determinant\n",
    "- Matrix inverse\n",
    "- Wrap up"
   ]
  },
  {
   "cell_type": "markdown",
   "metadata": {},
   "source": [
    "## Introduction to Matrix determinant and Inverse\n",
    "   \n",
    "The determinant is useful for solving linear equations, capturing how linear transformations change area or volume, and changing variables in integrals. The determinant can be viewed as a function whose input is a square matrix and whose output is a number.\n",
    "\n",
    "Inverse: assuming that we have a square matrix A, which is non-singular (i.e. det (A) does not equal zero), then there exists an n × n matrix A<sup>-1</sup> which is called the inverse of A such that:\n",
    "AA<sup>-1</sup> = A<sup>-1</sup>A = I, where I is the identity matrix.\n",
    "\n",
    "One of the major uses of inverses is to solve a system of linear equations. You can write a system in matrix form as AX = B (we will cover this one later). \n"
   ]
  },
  {
   "cell_type": "markdown",
   "metadata": {
    "slideshow": {
     "slide_type": "-"
    }
   },
   "source": [
    "## Matrix determinant\n",
    "Determinant is a very useful value in linear algebra. It calculated from the diagonal elements of a square matrix. For a 2x2 matrix, it is simply the subtraction of the product of the top left and bottom right element from the product of other two.\n",
    "\n",
    "In other words, for a matrix [[a,b], [c,d]], the determinant is computed as ‘bc-ad’. The larger square matrices are considered to be a combination of 2x2 matrices.\n",
    "\n",
    "The **numpy.linalg.det()** function calculates the determinant of the input matrix.\n",
    "Let's look at an example:\n"
   ]
  },
  {
   "cell_type": "code",
   "execution_count": 28,
   "metadata": {},
   "outputs": [
    {
     "name": "stdout",
     "output_type": "stream",
     "text": [
      "[[ 6  1  1]\n",
      " [ 4 -2  5]\n",
      " [ 2  8  7]]\n",
      "-306.0\n",
      "-306\n"
     ]
    }
   ],
   "source": [
    "import numpy as np \n",
    "\n",
    "a = np.array([[6,1,1], [4, -2, 5], [2,8,7]]) \n",
    "print (a) \n",
    "print (np.linalg.det(a) )\n",
    "print (6*(-2*7 - 5*8) - 1*(4*7 - 5*2) + 1*(4*8 - -2*2))"
   ]
  },
  {
   "cell_type": "markdown",
   "metadata": {},
   "source": [
    "## Matrix inverse\n",
    "\n",
    "We use **numpy.linalg.inv()** function to calculate the inverse of a matrix. The inverse of a matrix is such that if it is multiplied by the original matrix, it results in identity matrix."
   ]
  },
  {
   "cell_type": "code",
   "execution_count": 29,
   "metadata": {},
   "outputs": [
    {
     "name": "stdout",
     "output_type": "stream",
     "text": [
      "[[6 8]\n",
      " [3 2]]\n",
      "[[-0.16666667  0.66666667]\n",
      " [ 0.25       -0.5       ]]\n",
      "Identity matrix:\n",
      "[[1. 0.]\n",
      " [0. 1.]]\n"
     ]
    }
   ],
   "source": [
    "# perform an inverse on a matrix and demonstrate the identity matrix \n",
    "x = np.array([[6,8],[3,2]]) \n",
    "y = np.linalg.inv(x) \n",
    "print (x)\n",
    "print (y)\n",
    "print (\"Identity matrix:\")\n",
    "print(np.dot(x,y))"
   ]
  },
  {
   "cell_type": "markdown",
   "metadata": {},
   "source": [
    "Let's look at an example that uses the **numpy.linalg.solve()** function, which solves a linear matrix equation, or system of linear scalar equations. It computes the “exact” solution, x, of the well-determined linear matrix equation ax = b."
   ]
  },
  {
   "cell_type": "code",
   "execution_count": 31,
   "metadata": {},
   "outputs": [
    {
     "name": "stdout",
     "output_type": "stream",
     "text": [
      "Array a:\n",
      "[[ 1  1  1]\n",
      " [ 0  2  5]\n",
      " [ 2  5 -1]]\n",
      "Inverse of a:\n",
      "[[ 1.28571429 -0.28571429 -0.14285714]\n",
      " [-0.47619048  0.14285714  0.23809524]\n",
      " [ 0.19047619  0.14285714 -0.0952381 ]]\n",
      "Matrix B is:\n",
      "[[ 6]\n",
      " [-4]\n",
      " [27]]\n",
      "Compute A-1B:\n",
      "[[ 5.]\n",
      " [ 3.]\n",
      " [-2.]]\n",
      "Does ax = b? True\n"
     ]
    }
   ],
   "source": [
    "# Let's look at a more interesting example\n",
    "import numpy as np \n",
    "a = np.array([[1,1,1],[0,2,5],[2,5,-1]]) \n",
    "\n",
    "print ('Array a:') \n",
    "print (a) \n",
    "ainv = np.linalg.inv(a) \n",
    "\n",
    "print ('Inverse of a:') \n",
    "print (ainv)  \n",
    "\n",
    "print ('Matrix B is:') \n",
    "b = np.array([[6],[-4],[27]]) \n",
    "print (b) \n",
    "\n",
    "print ('Compute A-1B:') \n",
    "x = np.linalg.solve(a,b) \n",
    "print (x)  \n",
    "# this is the solution to linear equations x = 5, y = 3, z = -2\n",
    "# let's check the math, where ax=b\n",
    "print(\"Does ax = b?\", np.allclose(np.dot(a, x), b))"
   ]
  },
  {
   "cell_type": "code",
   "execution_count": 27,
   "metadata": {},
   "outputs": [
    {
     "name": "stdout",
     "output_type": "stream",
     "text": [
      "[[ 5.]\n",
      " [ 3.]\n",
      " [-2.]]\n"
     ]
    }
   ],
   "source": [
    "# We can obtain the same result by using matrix multiplication\n",
    "# the following is the inverse of A multiplied by B\n",
    "x = np.dot(ainv, b)\n",
    "print(x)"
   ]
  },
  {
   "cell_type": "markdown",
   "metadata": {},
   "source": [
    "## Wrap up\n",
    "We discussed:\n",
    "- Introduction to Matrix determinant and Inverse\n",
    "- Matrix determinant\n",
    "- Matrix inverse"
   ]
  },
  {
   "cell_type": "code",
   "execution_count": null,
   "metadata": {},
   "outputs": [],
   "source": []
  }
 ],
 "metadata": {
  "kernelspec": {
   "display_name": "Python 3",
   "language": "python",
   "name": "python3"
  },
  "language_info": {
   "codemirror_mode": {
    "name": "ipython",
    "version": 3
   },
   "file_extension": ".py",
   "mimetype": "text/x-python",
   "name": "python",
   "nbconvert_exporter": "python",
   "pygments_lexer": "ipython3",
   "version": "3.7.4"
  },
  "latex_envs": {
   "LaTeX_envs_menu_present": true,
   "autoclose": false,
   "autocomplete": true,
   "bibliofile": "biblio.bib",
   "cite_by": "apalike",
   "current_citInitial": 1,
   "eqLabelWithNumbers": true,
   "eqNumInitial": 1,
   "hotkeys": {
    "equation": "Ctrl-E",
    "itemize": "Ctrl-I"
   },
   "labels_anchors": false,
   "latex_user_defs": false,
   "report_style_numbering": false,
   "user_envs_cfg": false
  }
 },
 "nbformat": 4,
 "nbformat_minor": 1
}
