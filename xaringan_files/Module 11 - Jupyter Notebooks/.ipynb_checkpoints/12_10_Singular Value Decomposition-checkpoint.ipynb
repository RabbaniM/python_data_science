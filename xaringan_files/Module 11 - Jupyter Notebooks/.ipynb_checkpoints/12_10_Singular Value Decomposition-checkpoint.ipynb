{
 "cells": [
  {
   "cell_type": "markdown",
   "metadata": {},
   "source": [
    "# Singular Value Decomposition (SVD)\n",
    "\n",
    "## Outine\n",
    "- Introduction to Singular Value Decomposition (SVD)\n",
    "- Calculate SVD\n",
    "- SVD for pseudoinverse\n",
    "- SVD for Dimensionality Reduction\n",
    "- Wrap up\n"
   ]
  },
  {
   "cell_type": "markdown",
   "metadata": {},
   "source": [
    "  \n",
    "## Introduction to Singular Value Decomposition (SVD)\n",
    "   \n",
    "SVD means Singular Value Decomposition. The SVD of a matrix X of dimension n×d is given by:\n",
    "\n",
    "**X = UDV<sup>T</sup>**\n",
    "\n",
    "Where U and V are square orthogonal:\n",
    "\n",
    "**U<sup>T</sup>U = I<sub>d</sub>**\n",
    "\n",
    "**V<sup>T</sup>V = I<sub>d</sub>**\n",
    "\n",
    "and D is diagonal of dimension d x n\n",
    "\n",
    "Some additional notes:\n",
    "- D is not necessarily square\n",
    "- The SVD of a matrix can be done for any matrix\n",
    "- SVD is different from the eigenvalue decomposition of a matrix.\n"
   ]
  },
  {
   "cell_type": "markdown",
   "metadata": {
    "slideshow": {
     "slide_type": "-"
    }
   },
   "source": [
    "## Calculate SVD\n",
    "\n",
    "The SVD can be calculated by calling the **svd()** function.\n",
    "\n",
    "The function takes a matrix and returns the U, D and V<sup>T</sup> elements. The **D** diagonal matrix is returned as a vector of singular values. The V matrix is returned in a transposed form, e.g. V<sup>T</sup>\n",
    "\n",
    "The example below defines a 3×2 matrix and calculates the Singular-value decomposition."
   ]
  },
  {
   "cell_type": "code",
   "execution_count": 5,
   "metadata": {},
   "outputs": [
    {
     "name": "stdout",
     "output_type": "stream",
     "text": [
      "original matrix (3, 2)\n",
      "[[1 2]\n",
      " [3 4]\n",
      " [5 6]]\n",
      "U matrix\n",
      "[[-0.2298477   0.88346102  0.40824829]\n",
      " [-0.52474482  0.24078249 -0.81649658]\n",
      " [-0.81964194 -0.40189603  0.40824829]]\n",
      "D matrix\n",
      "[9.52551809 0.51430058]\n",
      "V Transpose matrix\n",
      "[[-0.61962948 -0.78489445]\n",
      " [-0.78489445  0.61962948]]\n"
     ]
    }
   ],
   "source": [
    "# Singular-value decomposition\n",
    "from numpy import array\n",
    "from scipy.linalg import svd\n",
    "# define a matrix\n",
    "A = array([[1, 2], [3, 4], [5, 6]])\n",
    "print(\"original matrix\", A.shape)\n",
    "print(A)\n",
    "# SVD\n",
    "U, D, VT = svd(A)\n",
    "print(\"U matrix\")\n",
    "print(U)\n",
    "print(\"D matrix\")\n",
    "print(D)\n",
    "print(\"V Transpose matrix\")\n",
    "print(VT)"
   ]
  },
  {
   "cell_type": "markdown",
   "metadata": {},
   "source": [
    "## SVD for pseudoinverse\n",
    "The pseudoinverse is the generalization of the matrix inverse for square matrices to rectangular matrices where the number of rows and columns are not equal.\n",
    "\n",
    "The pseudoinverse provides one way of solving the linear regression equation, specifically when there are more rows than there are columns, which is often the case.\n",
    "\n",
    "NumPy provides the function pinv() for calculating the pseudoinverse of a rectangular matrix.\n",
    "\n",
    "The example below defines a 4×2 matrix and calculates the pseudoinverse."
   ]
  },
  {
   "cell_type": "code",
   "execution_count": 6,
   "metadata": {},
   "outputs": [
    {
     "name": "stdout",
     "output_type": "stream",
     "text": [
      "original matrix\n",
      "[[0.1 0.2]\n",
      " [0.3 0.4]\n",
      " [0.5 0.6]\n",
      " [0.7 0.8]]\n",
      "pseudoinverse matrix\n",
      "[[-1.00000000e+01 -5.00000000e+00  1.28757642e-14  5.00000000e+00]\n",
      " [ 8.50000000e+00  4.50000000e+00  5.00000000e-01 -3.50000000e+00]]\n"
     ]
    }
   ],
   "source": [
    "# Pseudoinverse\n",
    "from numpy import array\n",
    "from numpy.linalg import pinv\n",
    "# define matrix\n",
    "A = array([\n",
    "[0.1, 0.2],\n",
    "[0.3, 0.4],\n",
    "[0.5, 0.6],\n",
    "[0.7, 0.8]])\n",
    "print(\"original matrix\")\n",
    "print(A)\n",
    "# calculate pseudoinverse\n",
    "B = pinv(A)\n",
    "print(\"pseudoinverse matrix\")\n",
    "print(B)"
   ]
  },
  {
   "cell_type": "markdown",
   "metadata": {},
   "source": [
    "## SVD for Dimensionality Reduction\n",
    "A popular application of SVD is for dimensionality reduction.\n",
    "\n",
    "Data with a large number of features, such as more features (columns) than observations (rows) may be reduced to a smaller subset of features that are most relevant to the prediction problem.\n",
    "\n",
    "The result is a matrix with a lower rank that is said to approximate the original matrix.\n",
    "\n",
    "To do this we can perform an SVD operation on the original data and select the top k largest singular values in the Diagonal. These columns can be selected from the Diagonal and the rows selected from V<sup>T</sup>."
   ]
  },
  {
   "cell_type": "code",
   "execution_count": 7,
   "metadata": {},
   "outputs": [
    {
     "name": "stdout",
     "output_type": "stream",
     "text": [
      "original matrix\n",
      "[[ 1  2  3  4  5  6  7  8  9 10]\n",
      " [11 12 13 14 15 16 17 18 19 20]\n",
      " [21 22 23 24 25 26 27 28 29 30]]\n",
      "Reconstructed matrix\n",
      "[[ 1.  2.  3.  4.  5.  6.  7.  8.  9. 10.]\n",
      " [11. 12. 13. 14. 15. 16. 17. 18. 19. 20.]\n",
      " [21. 22. 23. 24. 25. 26. 27. 28. 29. 30.]]\n",
      "T matrix (reduced dimensionality), U dot product with Digaonal\n",
      "[[-18.52157747   6.47697214]\n",
      " [-49.81310011   1.91182038]\n",
      " [-81.10462276  -2.65333138]]\n",
      "T matrix (reduced dimensionality), A dot product with VT.T\n",
      "[[-18.52157747   6.47697214]\n",
      " [-49.81310011   1.91182038]\n",
      " [-81.10462276  -2.65333138]]\n"
     ]
    }
   ],
   "source": [
    "from numpy import array\n",
    "from numpy import diag\n",
    "from numpy import zeros\n",
    "from scipy.linalg import svd\n",
    "# define a matrix\n",
    "A = array([\n",
    "[1,2,3,4,5,6,7,8,9,10],\n",
    "[11,12,13,14,15,16,17,18,19,20],\n",
    "[21,22,23,24,25,26,27,28,29,30]])\n",
    "print(\"original matrix\")\n",
    "print(A)\n",
    "# Singular-value decomposition\n",
    "U, D, VT = svd(A)\n",
    "# create m x n Diagonal matrix\n",
    "Diagonal = zeros((A.shape[0], A.shape[1]))\n",
    "# populate Sigma with n x n diagonal matrix\n",
    "Diagonal[:A.shape[0], :A.shape[0]] = diag(D)\n",
    "# select the number of elements\n",
    "n_elements = 2\n",
    "Diagonal = Diagonal[:, :n_elements]\n",
    "VT = VT[:n_elements, :]\n",
    "# reconstruct\n",
    "B = U.dot(Diagonal.dot(VT))\n",
    "print(\"Reconstructed matrix\")\n",
    "print(B)\n",
    "# transform\n",
    "T = U.dot(Diagonal)\n",
    "print(\"T matrix (reduced dimensionality), U dot product with Digaonal\")\n",
    "print(T)\n",
    "T = A.dot(VT.T)\n",
    "print(\"T matrix (reduced dimensionality), A dot product with VT.T\")\n",
    "print(T)"
   ]
  },
  {
   "cell_type": "markdown",
   "metadata": {},
   "source": [
    "## Wrapping up\n",
    "We discussed:\n",
    "- Introduction to Singular Value Decomposition (SVD)\n",
    "- Calculate SVD\n",
    "- SVD for pseudoinverse\n",
    "- SVD for Dimensionality Reduction\n",
    "\n",
    "Examples, thanks to Jason Brownlee PhD retrieved from: https://machinelearningmastery.com/singular-value-decomposition-for-machine-learning/"
   ]
  },
  {
   "cell_type": "code",
   "execution_count": null,
   "metadata": {},
   "outputs": [],
   "source": []
  }
 ],
 "metadata": {
  "kernelspec": {
   "display_name": "Python 3",
   "language": "python",
   "name": "python3"
  },
  "language_info": {
   "codemirror_mode": {
    "name": "ipython",
    "version": 3
   },
   "file_extension": ".py",
   "mimetype": "text/x-python",
   "name": "python",
   "nbconvert_exporter": "python",
   "pygments_lexer": "ipython3",
   "version": "3.7.2"
  },
  "latex_envs": {
   "LaTeX_envs_menu_present": true,
   "autoclose": false,
   "autocomplete": true,
   "bibliofile": "biblio.bib",
   "cite_by": "apalike",
   "current_citInitial": 1,
   "eqLabelWithNumbers": true,
   "eqNumInitial": 1,
   "hotkeys": {
    "equation": "Ctrl-E",
    "itemize": "Ctrl-I"
   },
   "labels_anchors": false,
   "latex_user_defs": false,
   "report_style_numbering": false,
   "user_envs_cfg": false
  }
 },
 "nbformat": 4,
 "nbformat_minor": 1
}
