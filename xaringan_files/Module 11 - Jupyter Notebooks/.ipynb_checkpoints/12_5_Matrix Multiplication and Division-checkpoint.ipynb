{
 "cells": [
  {
   "cell_type": "markdown",
   "metadata": {},
   "source": [
    "# Matrix Multiplication and Division\n",
    "\n",
    "## Outine\n",
    "- Matrix Multiplication and Division\n",
    "- Multiplying two matrices\n",
    "- Dividing two matrices\n",
    "- Wrap up"
   ]
  },
  {
   "cell_type": "markdown",
   "metadata": {},
   "source": [
    "  \n",
    "## Matrix Multiplication and Division\n",
    "   \n",
    "In mathematics, matrix multiplication is a binary operation that produces a matrix from two matrices. For matrix multiplication, the number of columns in the first matrix must be equal to the number of rows in the second matrix.\n",
    "\n",
    "<img src=\"images/matrixmultiplication.jpg\" width=\"400\">\n",
    "\n",
    "Technically, there is no such thing as matrix division. Dividing a matrix by another matrix is an undefined function. The closest equivalent is multiplying by the inverse of another matrix. In other words, while [A] ÷ [B] is undefined, you can solve the problem [A] * [B]<sup>-1</sup>.\n",
    "\n",
    "<img src=\"images/matrix_division.png\" width=\"400\">\n"
   ]
  },
  {
   "cell_type": "markdown",
   "metadata": {
    "slideshow": {
     "slide_type": "-"
    }
   },
   "source": [
    "## Multiplying two matrices\n",
    "\n",
    "There are two ways to perform matrix multiplication:\n",
    "\n",
    "First, we can use the **numpy.dot()**. For 2-D vectors, it is the equivalent to matrix multiplication. For N-dimensional arrays, it is a sum product over the last axis of a and the second-last axis of b. \n",
    "\n",
    "\n",
    "Second we can use **numpy.matmul()** function which returns the matrix product of two arrays. While it returns a normal product for 2-D arrays, matmul differs from dot in two important ways. Multiplication by scalars is not allowed. Stacks of matrices are broadcast together as if the matrices were elements (this is not possible with dot).\n"
   ]
  },
  {
   "cell_type": "code",
   "execution_count": 29,
   "metadata": {},
   "outputs": [
    {
     "name": "stdout",
     "output_type": "stream",
     "text": [
      "Matrix a\n",
      "[[1 2 3]\n",
      " [3 4 5]] shape = (2, 3)\n",
      "Matrix b\n",
      "[[11 12]\n",
      " [13 14]\n",
      " [16 17]] shape = (3, 2)\n",
      "Dot for matrix multiplication : [[ 85  91]\n",
      " [165 177]]\n",
      "Matmul for matrix multiplication : [[ 85  91]\n",
      " [165 177]]\n"
     ]
    }
   ],
   "source": [
    "import numpy.matlib \n",
    "import numpy as np \n",
    "\n",
    "#define the first matrix\n",
    "a = np.array([[1,2,3],[3,4,5]]) \n",
    "#define the second matrix\n",
    "b = np.array([[11,12],[13,14],[16,17]]) \n",
    "print(\"Matrix a\")\n",
    "print(a, \"shape =\", a.shape)\n",
    "print(\"Matrix b\")\n",
    "print(b, \"shape =\", b.shape)\n",
    "print(\"Dot for matrix multiplication :\", np.dot(a,b))\n",
    "\n",
    "# now try matmul\n",
    "print(\"Matmul for matrix multiplication :\", np.matmul(a,b))"
   ]
  },
  {
   "cell_type": "markdown",
   "metadata": {},
   "source": [
    "## Dividing two matrices\n",
    "\n",
    "As discussed above, Matrix division involves multiplication by the inverse of the divisor matrix. The following case demonstrates the use of **numpy.linalg.inv()** to perform the inverse and the calculation of the \"matrix division\""
   ]
  },
  {
   "cell_type": "code",
   "execution_count": 30,
   "metadata": {},
   "outputs": [
    {
     "name": "stdout",
     "output_type": "stream",
     "text": [
      "This is the inverse of the A matrix :\n",
      "[[-3.36363636  3.81818182  0.27272727]\n",
      " [ 0.54545455 -0.72727273  0.09090909]\n",
      " [ 0.45454545 -0.27272727 -0.09090909]]\n",
      "This is the final result :\n",
      "[[-10.72727273  11.63636364   1.54545455]\n",
      " [ -4.45454545   5.27272727   1.09090909]]\n"
     ]
    }
   ],
   "source": [
    "# create our matricies\n",
    "B = np.array([[4,5,0],[3,7,4]]) \n",
    "A = np.array([[1,3,6],[1,2,5],[2,9,4]]) \n",
    "# our calculation will be B/A so we need the inverse of A\n",
    "print(\"This is the inverse of the A matrix :\")\n",
    "print(np.linalg.inv(A))\n",
    "print(\"This is the final result :\")\n",
    "print(np.dot(B,np.linalg.inv(A)))"
   ]
  },
  {
   "cell_type": "markdown",
   "metadata": {},
   "source": [
    "As an aside and of note, One matrix can be divided by another matrix with the **same dimensions.** NOTE: this is merely a positional division of values!"
   ]
  },
  {
   "cell_type": "code",
   "execution_count": 20,
   "metadata": {},
   "outputs": [
    {
     "name": "stdout",
     "output_type": "stream",
     "text": [
      "[[1 2 3]\n",
      " [4 5 6]]\n",
      "[[1 2 3]\n",
      " [4 5 6]]\n",
      "[[1. 1. 1.]\n",
      " [1. 1. 1.]]\n"
     ]
    }
   ],
   "source": [
    "# divide matrices\n",
    "from numpy import array\n",
    "A = array([[1, 2, 3], [4, 5, 6]])\n",
    "print(A)\n",
    "B = array([[1, 2, 3], [4, 5, 6]])\n",
    "print(B)\n",
    "# perform the division\n",
    "C = A / B\n",
    "print(C)"
   ]
  },
  {
   "cell_type": "code",
   "execution_count": null,
   "metadata": {},
   "outputs": [],
   "source": []
  },
  {
   "cell_type": "markdown",
   "metadata": {},
   "source": [
    "## Wrap up\n",
    "We discussed:\n",
    "- Matrix Multiplication and Division\n",
    "- Multiplying two matrices\n",
    "- Dividing two matrices"
   ]
  }
 ],
 "metadata": {
  "kernelspec": {
   "display_name": "Python 3",
   "language": "python",
   "name": "python3"
  },
  "language_info": {
   "codemirror_mode": {
    "name": "ipython",
    "version": 3
   },
   "file_extension": ".py",
   "mimetype": "text/x-python",
   "name": "python",
   "nbconvert_exporter": "python",
   "pygments_lexer": "ipython3",
   "version": "3.7.4"
  },
  "latex_envs": {
   "LaTeX_envs_menu_present": true,
   "autoclose": false,
   "autocomplete": true,
   "bibliofile": "biblio.bib",
   "cite_by": "apalike",
   "current_citInitial": 1,
   "eqLabelWithNumbers": true,
   "eqNumInitial": 1,
   "hotkeys": {
    "equation": "Ctrl-E",
    "itemize": "Ctrl-I"
   },
   "labels_anchors": false,
   "latex_user_defs": false,
   "report_style_numbering": false,
   "user_envs_cfg": false
  }
 },
 "nbformat": 4,
 "nbformat_minor": 1
}
