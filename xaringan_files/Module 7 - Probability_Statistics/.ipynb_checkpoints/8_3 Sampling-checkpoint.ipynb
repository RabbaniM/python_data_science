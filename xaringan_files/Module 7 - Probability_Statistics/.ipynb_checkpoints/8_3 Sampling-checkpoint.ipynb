{
 "cells": [
  {
   "cell_type": "markdown",
   "metadata": {},
   "source": [
    "# Sampling using Python\n",
    "\n",
    "## Outine\n",
    "- What is Sampling\n",
    "- Simple Random Sample\n",
    "- Stratified Random Sample\n",
    "- Wrap up\n"
   ]
  },
  {
   "cell_type": "markdown",
   "metadata": {},
   "source": [
    "  \n",
    "## What is Sampling\n",
    "   \n",
    "When you can't collect data from an entire population, sampling is performed to collect a representative \"sample\" of the whole population. Even in relatively small populations, the data may be needed urgently, and including everyone in the population in your data collection may take too long.\n",
    "\n",
    "\n",
    "Probability sampling is based on the fact that every member of a population has a known and equal chance of being selected. For example, if you had a population of 100 people, each person would have odds of 1 out of 100 of being chosen. With non-probability sampling, those odds are not equal. For example, a person might have a better chance of being chosen if they live close to the researcher or have access to a computer. \n",
    "\n",
    "Probability sampling gives you the best chance to create a sample that is truly representative of the population.\n",
    "\n",
    "<img src=\"images/population_vs_sample.png\" width=\"400\">\n"
   ]
  },
  {
   "cell_type": "markdown",
   "metadata": {},
   "source": [
    "## Simple Random Sample\n",
    "\n",
    "Simple random sample: Every member and set of members has an equal chance of being included in the sample. Technology, random number generators, or some other sort of chance process is needed to get a simple random sample.\n",
    "\n",
    "Example—A teachers puts students' names in a hat and chooses without looking to get a sample of students.\n",
    "\n",
    "Why it's good: Random samples are usually fairly representative since they don't favor certain members.\n",
    "\n",
    "<img src=\"images/simple_random_sample.png\" width=\"200\">\n",
    "\n",
    "random.sample(population, k)\n",
    "\n",
    "random.sample function has two arguments, and both are required.\n",
    "\n",
    "The population can be any sequence or set from which you want to select a k length numbers. "
   ]
  },
  {
   "cell_type": "code",
   "execution_count": 11,
   "metadata": {},
   "outputs": [
    {
     "name": "stdout",
     "output_type": "stream",
     "text": [
      "random module's sample in Python \n",
      "choosing 3 random items from a list using sample function [20, 100, 120]\n",
      "choosing 3 random items from a list using sample function [40, 20, 20]\n"
     ]
    }
   ],
   "source": [
    "# Select items from a list\n",
    "import random\n",
    "\n",
    "print(\"random module's sample in Python \")\n",
    "list = [20,40,80,100,120]\n",
    "print (\"choosing 3 random items from a list using sample function\",\n",
    "       random.sample(list,k=3))\n",
    "\n",
    "list = [20,40,20,20,20]\n",
    "print (\"choosing 3 random items from a list using sample function\",\n",
    "       random.sample(list,k=3))"
   ]
  },
  {
   "cell_type": "code",
   "execution_count": 12,
   "metadata": {},
   "outputs": [
    {
     "name": "stdout",
     "output_type": "stream",
     "text": [
      "choosing 4 random items from a set using sample method  [65, 80, 50, 40]\n"
     ]
    }
   ],
   "source": [
    "# select items from a set\n",
    "weight_set = {40, 50, 55, 65, 75,80}\n",
    "print (\"choosing 4 random items from a set using sample method \",\n",
    "       random.sample(weight_set, k=4))"
   ]
  },
  {
   "cell_type": "code",
   "execution_count": 13,
   "metadata": {},
   "outputs": [
    {
     "name": "stdout",
     "output_type": "stream",
     "text": [
      "choosing 2 random items from a dictionary using sample method  [('Kelly', 55), ('Donald', 60)]\n"
     ]
    }
   ],
   "source": [
    "# select items from a dictionary\n",
    "marks_dict = {\n",
    "  \"Kelly\": 55,\n",
    "  \"jhon\": 70,\n",
    "  \"Donald\": 60,\n",
    "  \"Lennin\" :50\n",
    "}\n",
    "print (\"choosing 2 random items from a dictionary using sample method \",\n",
    "       random.sample(marks_dict.items(), k=2))"
   ]
  },
  {
   "cell_type": "markdown",
   "metadata": {},
   "source": [
    "## Stratified Random Sample \n",
    "\n",
    "A stratified sample is one that ensures that subgroups (strata) of a given population are each adequately represented within the whole sample population of a research study.\n",
    "\n",
    "Stratified random sample: The population is first split into groups. The overall sample consists of some members from every group. The members from each group are chosen randomly.\n",
    "\n",
    "Example—A student council surveys 100 students by getting random samples of 25 freshmen, 25 sophomores, 25 juniors, and 25 seniors.\n",
    "\n",
    "Why it's good: A stratified sample guarantees that members from each group will be represented in the sample, so this sampling method is good when we want some members from every group.\n",
    "\n",
    "<img src=\"images/stratified_random_sample.png\" width=\"200\">\n",
    "\n"
   ]
  },
  {
   "cell_type": "code",
   "execution_count": 14,
   "metadata": {},
   "outputs": [
    {
     "name": "stdout",
     "output_type": "stream",
     "text": [
      "StratifiedShuffleSplit(n_splits=5, random_state=0, test_size=0.5,\n",
      "            train_size=None)\n",
      "TRAIN: [[1 2]\n",
      " [3 4]\n",
      " [3 4]] [2 1 0] TEST: [[1 2]\n",
      " [3 4]\n",
      " [1 2]] [0 2 1]\n",
      "TRAIN: [[1 2]\n",
      " [1 2]\n",
      " [3 4]] [1 0 2] TEST: [[3 4]\n",
      " [1 2]\n",
      " [3 4]] [1 2 0]\n",
      "TRAIN: [[3 4]\n",
      " [3 4]\n",
      " [3 4]] [1 0 2] TEST: [[1 2]\n",
      " [1 2]\n",
      " [1 2]] [0 2 1]\n",
      "TRAIN: [[3 4]\n",
      " [1 2]\n",
      " [3 4]] [2 0 1] TEST: [[1 2]\n",
      " [1 2]\n",
      " [3 4]] [2 1 0]\n",
      "TRAIN: [[1 2]\n",
      " [1 2]\n",
      " [1 2]] [1 2 0] TEST: [[3 4]\n",
      " [3 4]\n",
      " [3 4]] [2 1 0]\n"
     ]
    }
   ],
   "source": [
    "import numpy as np\n",
    "from sklearn.model_selection import StratifiedShuffleSplit\n",
    "X = np.array([[1, 2], [3, 4], [1, 2], [3, 4], [1, 2], [3, 4]])\n",
    "y = np.array([0, 1, 2, 0, 1, 2])\n",
    "\n",
    "sss = StratifiedShuffleSplit(n_splits=5, test_size=0.5, random_state=0)\n",
    "sss.get_n_splits(X, y)\n",
    "print(sss)\n",
    "for train_index, test_index in sss.split(X, y):\n",
    "#    print(\"TRAIN:\", train_index, \"TEST:\", test_index)\n",
    "    X_train, X_test = X[train_index], X[test_index]\n",
    "    y_train, y_test = y[train_index], y[test_index]\n",
    "    print(\"TRAIN:\", X_train, y_train, \"TEST:\", X_test, y_test)"
   ]
  },
  {
   "cell_type": "markdown",
   "metadata": {},
   "source": [
    "## Wrap up\n",
    "We discussed:\n",
    "- What is Sampling\n",
    "- Simple Random Sample\n",
    "- Stratified Random Sample"
   ]
  },
  {
   "cell_type": "code",
   "execution_count": null,
   "metadata": {},
   "outputs": [],
   "source": []
  }
 ],
 "metadata": {
  "kernelspec": {
   "display_name": "Python 3",
   "language": "python",
   "name": "python3"
  },
  "language_info": {
   "codemirror_mode": {
    "name": "ipython",
    "version": 3
   },
   "file_extension": ".py",
   "mimetype": "text/x-python",
   "name": "python",
   "nbconvert_exporter": "python",
   "pygments_lexer": "ipython3",
   "version": "3.7.4"
  },
  "latex_envs": {
   "LaTeX_envs_menu_present": true,
   "autoclose": false,
   "autocomplete": true,
   "bibliofile": "biblio.bib",
   "cite_by": "apalike",
   "current_citInitial": 1,
   "eqLabelWithNumbers": true,
   "eqNumInitial": 1,
   "hotkeys": {
    "equation": "Ctrl-E",
    "itemize": "Ctrl-I"
   },
   "labels_anchors": false,
   "latex_user_defs": false,
   "report_style_numbering": false,
   "user_envs_cfg": false
  }
 },
 "nbformat": 4,
 "nbformat_minor": 1
}
