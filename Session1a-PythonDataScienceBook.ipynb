{
 "cells": [
  {
   "cell_type": "markdown",
   "metadata": {},
   "source": [
    "<h1 align=\"center\"> Python For Analytics - A Quick Introduction\n",
    "</h1>\n",
    "Rabbani Mozahid\n",
    "<br>\n",
    "<br>\n",
    "\n",
    "    \n",
    "Python is a high-level general-purpose programming language that can be used for wide range of practical applications starting from simple scripting, web develoment to large scale application development, scientifice computing and advance analytics. One of the important design philosophy of Python is code readability by using significant whitespace and indenting. \n",
    "\n",
    "Listed below are some popular Python frameworks and libraries (source: www.python.org that you can explore to know more about python. \n",
    "\n",
    "- Web Development: Django, Pyramid, Bottle, Tornado, Flask, web2py \n",
    "- GUI Development: tkInter, PyGObject, PyQt, PySide, Kivy, wxPython\n",
    "- Scientific and Numeric: SciPy, Pandas, IPython\n",
    "- Data Science and Machine Learning: Numpy, Pandas, Matplotlib, Scikit-Learn\n",
    "- Software Development: Buildbot, Trac, Roundup\n",
    "- System Administration: Ansible, Salt, OpenStack\n",
    "\n",
    "In this notebook we will cover only the basic python concepts that are needed to get started with `Data Science and Machine Learning`.\n",
    "\n",
    "Here is a free python book that you can google and learn more on how to use Python for Data Science.\n",
    "\n",
    "- Python Data Science Handbook by Jake VanderPlas\n",
    "\n",
    "Let's get started with our first Python notebook!\n",
    "\n",
    "###  Getting Started \n",
    "\n",
    "What is the best development environments for Python?  The answer may vary, and some may like one tool over the other, but you will not possibly find anything that is more effective than JupyterLab. \n",
    "\n",
    "#### Installing JupyterLab\n",
    "\n",
    "Please visit the https://jupyterlab.readthedocs.io/en/stable/getting_started/installation.html to see the latest instruction on how to install JupyterLab.\n",
    "\n",
    "You need proper access to be install JupyterLab. \n",
    "\n",
    "You need either PIP or Conda installed before you can install JupyterLab. Typical installation commands are listed below. \n",
    "\n",
    "If you do not use conda, you can run:\n",
    "pip install jupyterlab\n",
    "\n",
    "If you use conda, then you should run:\n",
    "conda install -c conda-forge jupyterlab \n",
    "\n",
    "\n",
    "#### Launching JupyterLab\n",
    "\n",
    "To launch the JupyterLab, just type `jupyter lab` in your terminal. JupyterLab will open automatically in your browser.\n",
    "\n",
    "However, you may access JupyterLab by entering the URL printed in the terminal once you run the *jupyter lab* command. To see the command, just go back to your terminal. The default URL has the following format:\n",
    "\n",
    "`http(s)://<server:port>/<lab-location>/lab`\n",
    "\n",
    "But in the terminal it will be displayed with security token something like this - http://localhost:8888/?token=alongalphanumericnumber=alongalphanumericnumber"
   ]
  },
  {
   "cell_type": "code",
   "execution_count": 55,
   "metadata": {},
   "outputs": [
    {
     "name": "stdout",
     "output_type": "stream",
     "text": [
      "Help on built-in function print in module builtins:\n",
      "\n",
      "print(...)\n",
      "    print(value, ..., sep=' ', end='\\n', file=sys.stdout, flush=False)\n",
      "    \n",
      "    Prints the values to a stream, or to sys.stdout by default.\n",
      "    Optional keyword arguments:\n",
      "    file:  a file-like object (stream); defaults to the current sys.stdout.\n",
      "    sep:   string inserted between values, default a space.\n",
      "    end:   string appended after the last value, default a newline.\n",
      "    flush: whether to forcibly flush the stream.\n",
      "\n"
     ]
    }
   ],
   "source": [
    "#Accessing help\n",
    "help(print)"
   ]
  },
  {
   "cell_type": "code",
   "execution_count": 57,
   "metadata": {},
   "outputs": [
    {
     "data": {
      "text/plain": [
       "\u001b[0;31mDocstring:\u001b[0m\n",
       "print(value, ..., sep=' ', end='\\n', file=sys.stdout, flush=False)\n",
       "\n",
       "Prints the values to a stream, or to sys.stdout by default.\n",
       "Optional keyword arguments:\n",
       "file:  a file-like object (stream); defaults to the current sys.stdout.\n",
       "sep:   string inserted between values, default a space.\n",
       "end:   string appended after the last value, default a newline.\n",
       "flush: whether to forcibly flush the stream.\n",
       "\u001b[0;31mType:\u001b[0m      builtin_function_or_method\n"
      ]
     },
     "metadata": {},
     "output_type": "display_data"
    }
   ],
   "source": [
    "#Accessing help shortcut\n",
    "print?"
   ]
  },
  {
   "cell_type": "code",
   "execution_count": 72,
   "metadata": {},
   "outputs": [
    {
     "data": {
      "text/plain": [
       "9"
      ]
     },
     "execution_count": 72,
     "metadata": {},
     "output_type": "execute_result"
    }
   ],
   "source": [
    "2+7"
   ]
  },
  {
   "cell_type": "code",
   "execution_count": 75,
   "metadata": {},
   "outputs": [
    {
     "data": {
      "text/plain": [
       "64"
      ]
     },
     "execution_count": 75,
     "metadata": {},
     "output_type": "execute_result"
    }
   ],
   "source": [
    "2**6"
   ]
  },
  {
   "cell_type": "code",
   "execution_count": 68,
   "metadata": {},
   "outputs": [
    {
     "name": "stdout",
     "output_type": "stream",
     "text": [
      "kabul\n"
     ]
    }
   ],
   "source": [
    "print (\"kabul\")"
   ]
  },
  {
   "cell_type": "code",
   "execution_count": 78,
   "metadata": {},
   "outputs": [
    {
     "name": "stdout",
     "output_type": "stream",
     "text": [
      "64\n"
     ]
    }
   ],
   "source": [
    "print(_)"
   ]
  },
  {
   "cell_type": "markdown",
   "metadata": {},
   "source": [
    "\n",
    "<br>\n",
    "\n",
    "### Python Types\n",
    "- Int – Any integers or whole numbers like 1, 2, 89\n",
    "- Float – 2.171892\n",
    "- Complex – 4 + 3j\n",
    "- Bool – True of False\n",
    "- Str, unicode – ‘MyString’, u‘MyString’\n",
    "- List     – [ 69, 6.9, ‘mystring’, True]\n",
    "- Tuple – (69,  6.9, ‘mystring’, True) immutable\n",
    "- Set – set([69, 6.9, ‘str’, True]) –no duplicates & unordered\n",
    "- Dictionary or hash – {‘key 1’: 6.9, ‘key2’: False} - group of key and value pairs\n",
    "\n",
    "Python types are dynamic typing, so you do not need to declare."
   ]
  },
  {
   "cell_type": "code",
   "execution_count": 95,
   "metadata": {},
   "outputs": [
    {
     "name": "stdout",
     "output_type": "stream",
     "text": [
      "1 1.23 b'This is a byte type' True Mike\n",
      "<class 'int'> <class 'float'> <class 'bytes'> <class 'bool'> <class 'str'>\n"
     ]
    }
   ],
   "source": [
    "#Numeric: integers, float\n",
    "\n",
    "x=1\n",
    "\n",
    "y= 1.23\n",
    "\n",
    "#Sequence: list, tuple, range - List and Tuple will be covered details later in this notebook\n",
    "\n",
    "#Binary: byte, bytearray - We can possibly ignore this for data science work\n",
    "\n",
    "z= b\"This is a byte type\"\n",
    "\n",
    "#True/False: bool\n",
    "\n",
    "p=True\n",
    "\n",
    "#Text: string\n",
    "\n",
    "Name=\"Mike\"\n",
    "\n",
    "print (x, y, z,p, Name)\n",
    "\n",
    "print (type(x),type(y),type(z),type(p),type(Name) )"
   ]
  },
  {
   "cell_type": "code",
   "execution_count": 96,
   "metadata": {},
   "outputs": [
    {
     "data": {
      "text/plain": [
       "' Learing Python is fun\\nYou can do it'"
      ]
     },
     "execution_count": 96,
     "metadata": {},
     "output_type": "execute_result"
    }
   ],
   "source": [
    "#Multiline string\n",
    "\n",
    "''' Learing Python is fun\n",
    "You can do it'''\n"
   ]
  },
  {
   "cell_type": "markdown",
   "metadata": {},
   "source": [
    "### Python Syntax\n",
    "* Python uses indentation and/or whitespace to delimit statement blocks \n",
    "* Whitespace within lines does not matter\n",
    "* End-of-Line terminates a statement"
   ]
  },
  {
   "cell_type": "code",
   "execution_count": 102,
   "metadata": {},
   "outputs": [
    {
     "name": "stdout",
     "output_type": "stream",
     "text": [
      "Ten is greater than seven.\n"
     ]
    }
   ],
   "source": [
    "if 10 > 7:\n",
    "  print      (\"Ten is greater than seven.\")"
   ]
  },
  {
   "cell_type": "markdown",
   "metadata": {},
   "source": [
    "<br>\n",
    "### Print\n",
    "print : Produces text output on the console. Prints the given text message or expression value on the console, and moves the cursor down to the next line. You can prin several messages and/or expressions on the same line.\n",
    "\n",
    "Syntax:\n",
    "- print \"Message\"\n",
    "- print Expression \n",
    "- print Item1, Item2, ..., ItemN\n",
    "\n",
    "\n",
    "###### print (\"My name is <Type Your Name here >.\")\n",
    "My_age = 40\n",
    "print (\"I have\", 65 - My_age, \"years until retirement\")\n"
   ]
  },
  {
   "cell_type": "markdown",
   "metadata": {},
   "source": [
    "### Comments \n",
    "Comments are marked by #"
   ]
  },
  {
   "cell_type": "code",
   "execution_count": 107,
   "metadata": {},
   "outputs": [
    {
     "name": "stdout",
     "output_type": "stream",
     "text": [
      "Hello Python\n"
     ]
    }
   ],
   "source": [
    "# But you do not need the syntax mentioned here just to print; you need this for advanced programming with python\n",
    "print (\"Hello Python\") "
   ]
  },
  {
   "cell_type": "markdown",
   "metadata": {},
   "source": [
    "### Quiz\n",
    "Guess what will be printed?  10, 6 or 6, 10"
   ]
  },
  {
   "cell_type": "code",
   "execution_count": 109,
   "metadata": {},
   "outputs": [
    {
     "name": "stdout",
     "output_type": "stream",
     "text": [
      "6 ,  10\n"
     ]
    }
   ],
   "source": [
    "#Guess what will be printed?  10, 6 or 6, 10\n",
    "x = 10\n",
    "y = x\n",
    "x = 6\n",
    "print(x,\", \",y)"
   ]
  },
  {
   "cell_type": "markdown",
   "metadata": {},
   "source": [
    "**Use of underscore in Python (Optional):**\n",
    "\n",
    "The leading or trailing underscores are used in Python in the following form :\n",
    "\n",
    "* _single_leading_underscore: weak \"internal use\" indicator. E.g. from some_module import * does not import objects whose name starts with an underscore.\n",
    "\n",
    "* single_trailing_underscore_: used by convention to avoid conflicts with Python keyword, e.g. Tkinter.Toplevel(master, class_='ClassName')\n",
    "\n",
    "* \\__double_leading_underscore: when naming a class attribute, invokes name mangling. E.g. inside class myClass, \\__boo becomes _myClass__boo.\n",
    "\n",
    "* \\__double_leading_and_trailing_underscore__: Also known as \"magic\" objects or methods that live in user-controlled namespaces. E.g. \\__init__,  \\__file__ or \\__name__. (It is not recommended to invent such names; You should only use them as documented). These were named in this way to avoid conflict with user defined names.\n",
    "* An special line that you may see or use in python code is:  `if __name__ == \"__main__\"`  \n",
    "Every Python module has it's \\__name__ defined and the \\__name__ is '\\__main__' when the module is run directly. If we want to run a block only if the program was used by itself and not when it was imported from another module, this implicit variable \\__name__ becomes very handy. Here is an example."
   ]
  },
  {
   "cell_type": "code",
   "execution_count": 89,
   "metadata": {},
   "outputs": [
    {
     "name": "stdout",
     "output_type": "stream",
     "text": [
      "I am for whoever needs me!\n",
      "This is a local for this block only\n"
     ]
    }
   ],
   "source": [
    "# Let's save this code in a file called nameMain.py\n",
    "print (\"I am for whoever needs me!\")\n",
    "#print ( __name__ ) # You can see the value of __name__ is __main__\n",
    "if __name__ == \"__main__\": \n",
    "    print (\"This is a local for this block only\")"
   ]
  },
  {
   "cell_type": "code",
   "execution_count": 88,
   "metadata": {},
   "outputs": [
    {
     "name": "stdout",
     "output_type": "stream",
     "text": [
      "I am for whoever needs me!\n",
      "This is a local for this block only\n"
     ]
    }
   ],
   "source": [
    "# if block will be executed here as we are runnind diretly\n",
    "!python nameMain.py"
   ]
  },
  {
   "cell_type": "code",
   "execution_count": 93,
   "metadata": {},
   "outputs": [],
   "source": [
    "#Let's save another python file named second.py that imports nameMain.py\n",
    "import nameMain"
   ]
  },
  {
   "cell_type": "code",
   "execution_count": 94,
   "metadata": {},
   "outputs": [
    {
     "name": "stdout",
     "output_type": "stream",
     "text": [
      "I am for whoever needs me!\n"
     ]
    }
   ],
   "source": [
    "# if block will not be executed here as we are calling nameMain.py instead of running it diretly\n",
    "!python second.py"
   ]
  },
  {
   "cell_type": "markdown",
   "metadata": {},
   "source": [
    "<br> <br> "
   ]
  },
  {
   "cell_type": "markdown",
   "metadata": {},
   "source": [
    "### Loops and Condition\n",
    "\n",
    "range(start, stop[, step]) \n",
    "Returns values between start and stop, increasing by the value of step (defaults to 1)\n"
   ]
  },
  {
   "cell_type": "code",
   "execution_count": 110,
   "metadata": {},
   "outputs": [
    {
     "name": "stdout",
     "output_type": "stream",
     "text": [
      "1\n",
      "2\n",
      "3\n",
      "4\n",
      "5\n",
      "6\n",
      "7\n",
      "8\n",
      "9\n"
     ]
    }
   ],
   "source": [
    "for i in range(1,10):\n",
    "\n",
    "     print(i)\n",
    "        "
   ]
  },
  {
   "cell_type": "code",
   "execution_count": 156,
   "metadata": {},
   "outputs": [
    {
     "name": "stdout",
     "output_type": "stream",
     "text": [
      "0\n",
      "2\n",
      "4\n",
      "6\n",
      "8\n"
     ]
    }
   ],
   "source": [
    "for i in range(0,10,2):\n",
    "\n",
    "    print(i)"
   ]
  },
  {
   "cell_type": "code",
   "execution_count": 37,
   "metadata": {},
   "outputs": [
    {
     "name": "stdout",
     "output_type": "stream",
     "text": [
      "1\n",
      "2\n",
      "3\n",
      "4\n"
     ]
    }
   ],
   "source": [
    "for i in range(1,10):\n",
    "    if i == 5:\n",
    "        break\n",
    "    print (i)"
   ]
  },
  {
   "cell_type": "markdown",
   "metadata": {},
   "source": [
    "Python supports to have an else statement with a loop statement. "
   ]
  },
  {
   "cell_type": "code",
   "execution_count": 48,
   "metadata": {},
   "outputs": [
    {
     "name": "stdout",
     "output_type": "stream",
     "text": [
      "5 is a prime number\n",
      "6 equals 2 * 3\n",
      "7 is a prime number\n",
      "8 equals 2 * 4\n",
      "9 equals 3 * 3\n"
     ]
    }
   ],
   "source": [
    "\n",
    "for num in range(5,10):     #To iterate between 5 to 25\n",
    "   for i in range(2,num):    #To iterate on the factors of the number\n",
    "      if num%i == 0:         #When remainder is zero we get the first factor\n",
    "         j=num/i             #To calculate the second factor\n",
    "         print ('%d equals %d * %d' % (num,i,j))\n",
    "         break #To move to the next number, the #first FOR\n",
    "   else:                  \n",
    "      print (num, 'is a prime number')"
   ]
  },
  {
   "cell_type": "code",
   "execution_count": 49,
   "metadata": {},
   "outputs": [
    {
     "name": "stdout",
     "output_type": "stream",
     "text": [
      "3\n",
      "6\n",
      "9\n"
     ]
    }
   ],
   "source": [
    "while i < 12:\n",
    "\n",
    "     print(i)\n",
    "\n",
    "     i+=3"
   ]
  },
  {
   "cell_type": "code",
   "execution_count": 158,
   "metadata": {},
   "outputs": [
    {
     "name": "stdout",
     "output_type": "stream",
     "text": [
      "0\n",
      "2\n",
      "4\n",
      "6\n",
      "8\n"
     ]
    }
   ],
   "source": [
    "for i in range(0,10):\n",
    "\n",
    "    if i % 2 == 0:\n",
    "\n",
    "        print(i)"
   ]
  },
  {
   "cell_type": "markdown",
   "metadata": {},
   "source": [
    "<br>\n",
    "### Function\n",
    "\n",
    "Functions are block of codes that are written once and can be called any time when needed. Python functions are defined using the word `def` as shown below:\n",
    "\n",
    "    "
   ]
  },
  {
   "cell_type": "code",
   "execution_count": null,
   "metadata": {},
   "outputs": [],
   "source": [
    "def function_name(parameters):\n",
    "     \"\"\"docstring\"\"\"\n",
    "     statement(s)\n",
    "     return statement"
   ]
  },
  {
   "cell_type": "markdown",
   "metadata": {},
   "source": [
    "<br>\n",
    "\n",
    "Argumants can be passed in the function as shown below:"
   ]
  },
  {
   "cell_type": "code",
   "execution_count": 107,
   "metadata": {},
   "outputs": [
    {
     "data": {
      "text/plain": [
       "[3, ['a', 5, 'b', 10]]"
      ]
     },
     "execution_count": 107,
     "metadata": {},
     "output_type": "execute_result"
    }
   ],
   "source": [
    "def with_args(arg1=0,arg2=['a', 5]):\n",
    "    \"\"\" A function with arguments \"\"\"\n",
    "    num = arg1 + 3\n",
    "    mylist = arg2 + ['b',10]\n",
    "    return [num, mylist]\n",
    "with_args()"
   ]
  },
  {
   "cell_type": "code",
   "execution_count": 58,
   "metadata": {},
   "outputs": [
    {
     "data": {
      "text/plain": [
       "[8, ['a', 5, 'b', 10]]"
      ]
     },
     "execution_count": 58,
     "metadata": {},
     "output_type": "execute_result"
    }
   ],
   "source": [
    "with_args(5)"
   ]
  },
  {
   "cell_type": "code",
   "execution_count": 59,
   "metadata": {},
   "outputs": [
    {
     "data": {
      "text/plain": [
       "[13, ['x', 6, 'b', 10]]"
      ]
     },
     "execution_count": 59,
     "metadata": {},
     "output_type": "execute_result"
    }
   ],
   "source": [
    "with_args(10, ['x',6])"
   ]
  },
  {
   "cell_type": "code",
   "execution_count": 108,
   "metadata": {},
   "outputs": [
    {
     "data": {
      "text/plain": [
       "' A function with arguments '"
      ]
     },
     "execution_count": 108,
     "metadata": {},
     "output_type": "execute_result"
    }
   ],
   "source": [
    "# A Docstring is the first statement in the body of a function, which can be accessed with function_name.__doc__ \n",
    "with_args.__doc__"
   ]
  },
  {
   "cell_type": "markdown",
   "metadata": {},
   "source": [
    "<br>\n",
    "#### Lambda\n",
    "A lambda function is a small anonymous function. It can take any number of arguments, but allow only one expression."
   ]
  },
  {
   "cell_type": "code",
   "execution_count": 109,
   "metadata": {},
   "outputs": [
    {
     "name": "stdout",
     "output_type": "stream",
     "text": [
      "12\n"
     ]
    }
   ],
   "source": [
    "x = lambda a, b : a + b \n",
    "print(x(5, 7))"
   ]
  },
  {
   "cell_type": "markdown",
   "metadata": {},
   "source": [
    "The usefullness of lambda is shown below by using them as an anonymous function inside another function."
   ]
  },
  {
   "cell_type": "code",
   "execution_count": 110,
   "metadata": {},
   "outputs": [],
   "source": [
    "\n",
    "def dup_or_double(n):  \n",
    "    return lambda x : x * n\n",
    "\n",
    "result = dup_or_double (2) \n"
   ]
  },
  {
   "cell_type": "code",
   "execution_count": 76,
   "metadata": {},
   "outputs": [
    {
     "name": "stdout",
     "output_type": "stream",
     "text": [
      "100\n"
     ]
    }
   ],
   "source": [
    "double = result (50) \n",
    "print (double) "
   ]
  },
  {
   "cell_type": "code",
   "execution_count": 77,
   "metadata": {},
   "outputs": [
    {
     "name": "stdout",
     "output_type": "stream",
     "text": [
      "Ha Ha \n"
     ]
    }
   ],
   "source": [
    "dup_str = result ('Ha ') \n",
    "print (dup_str) "
   ]
  },
  {
   "cell_type": "markdown",
   "metadata": {},
   "source": [
    "### Excercise \n",
    "1. Make a function using lambda that returns three strings"
   ]
  },
  {
   "cell_type": "markdown",
   "metadata": {},
   "source": [
    "#### Built-in Functions"
   ]
  },
  {
   "cell_type": "code",
   "execution_count": 160,
   "metadata": {},
   "outputs": [
    {
     "name": "stdout",
     "output_type": "stream",
     "text": [
      "Hello hello HELLO\n"
     ]
    }
   ],
   "source": [
    "word = 'Hello'\n",
    "\n",
    "print (word, word.lower(), word.upper())"
   ]
  },
  {
   "cell_type": "code",
   "execution_count": 161,
   "metadata": {},
   "outputs": [
    {
     "data": {
      "text/plain": [
       "'12'"
      ]
     },
     "execution_count": 161,
     "metadata": {},
     "output_type": "execute_result"
    }
   ],
   "source": [
    "#Concatenation\n",
    "\n",
    "'1' +'2'"
   ]
  },
  {
   "cell_type": "code",
   "execution_count": 162,
   "metadata": {},
   "outputs": [
    {
     "data": {
      "text/plain": [
       "'Hello there'"
      ]
     },
     "execution_count": 162,
     "metadata": {},
     "output_type": "execute_result"
    }
   ],
   "source": [
    "#Concatenation\n",
    "\n",
    "'Hello' + ' there'"
   ]
  },
  {
   "cell_type": "code",
   "execution_count": 163,
   "metadata": {},
   "outputs": [
    {
     "data": {
      "text/plain": [
       "'11222'"
      ]
     },
     "execution_count": 163,
     "metadata": {},
     "output_type": "execute_result"
    }
   ],
   "source": [
    "#Concatenation and replication\n",
    "\n",
    "'1'*2 + '2'*3"
   ]
  },
  {
   "cell_type": "code",
   "execution_count": null,
   "metadata": {},
   "outputs": [],
   "source": [
    "#Concatenation with join() method \n",
    "The method join() returns a string in which the string elements of sequence are joined by str separator."
   ]
  },
  {
   "cell_type": "code",
   "execution_count": 12,
   "metadata": {},
   "outputs": [
    {
     "data": {
      "text/plain": [
       "'I am learning'"
      ]
     },
     "execution_count": 12,
     "metadata": {},
     "output_type": "execute_result"
    }
   ],
   "source": [
    "str_separator=' '\n",
    "list =['I', 'am', 'learning']\n",
    "str_separator.join(list)\n",
    "#or ' '.join(list)"
   ]
  },
  {
   "cell_type": "code",
   "execution_count": 164,
   "metadata": {},
   "outputs": [
    {
     "data": {
      "text/plain": [
       "[\"Let's\", 'split', 'the', 'words']"
      ]
     },
     "execution_count": 164,
     "metadata": {},
     "output_type": "execute_result"
    }
   ],
   "source": [
    "#split\n",
    "\n",
    "s = 'Let\\'s split the words'\n",
    "\n",
    "s.split(' ')"
   ]
  },
  {
   "cell_type": "markdown",
   "metadata": {},
   "source": [
    "### Quiz\n",
    "Which one is true?\n",
    "1. The first code block will print 5 and 4.\n",
    "2. The second code block will print 4 and 5\n",
    "3. The first code block will print only 5 and function name with address\n",
    "4. The second code blcok will print only 5 and function name with address"
   ]
  },
  {
   "cell_type": "code",
   "execution_count": 1,
   "metadata": {},
   "outputs": [
    {
     "name": "stdout",
     "output_type": "stream",
     "text": [
      "4\n"
     ]
    }
   ],
   "source": [
    "def num():\n",
    "    num = 5\n",
    "    print(num)\n",
    "\n",
    "num = 4\n",
    "\n",
    "#num()\n",
    "print(num)"
   ]
  },
  {
   "cell_type": "code",
   "execution_count": 2,
   "metadata": {},
   "outputs": [
    {
     "name": "stdout",
     "output_type": "stream",
     "text": [
      "5\n",
      "<function num at 0x1064bd510>\n"
     ]
    }
   ],
   "source": [
    "num = 4\n",
    "def num():\n",
    "    num = 5\n",
    "    print(num)\n",
    "\n",
    "\n",
    "num()\n",
    "print(num)"
   ]
  },
  {
   "cell_type": "markdown",
   "metadata": {},
   "source": [
    "### Magic Function % (Optional)"
   ]
  },
  {
   "cell_type": "code",
   "execution_count": 34,
   "metadata": {},
   "outputs": [
    {
     "name": "stdout",
     "output_type": "stream",
     "text": [
      "Writing quiz.py\n"
     ]
    }
   ],
   "source": [
    "%%writefile quiz.py\n",
    "from random import randint\n",
    "\n",
    "#how big a number should we guess? \n",
    "max_number = 12\n",
    "first_line = \"Guess a number between 1 and %d\" % max_number\n",
    "print(first_line)\n",
    "\n",
    "number = randint(1, max_number)\n",
    "\n",
    "not_solved = True\n",
    "\n",
    "#keep looping unil we guess correctly\n",
    "while not_solved:\n",
    "    answer = int(input('?'))\n",
    "    you_said = \"You typed %d\" % answer\n",
    "    print (you_said)\n",
    "    if answer > number:\n",
    "        print (\"The number is lower\")\n",
    "    elif answer < number:\n",
    "       print (\"The number is higher\")\n",
    "    else:\n",
    "        print (\"You got it right\")\n",
    "        not_solved = False"
   ]
  },
  {
   "cell_type": "code",
   "execution_count": null,
   "metadata": {},
   "outputs": [],
   "source": [
    "# Runing external code\n",
    "%run quiz.py\n"
   ]
  },
  {
   "cell_type": "code",
   "execution_count": null,
   "metadata": {},
   "outputs": [],
   "source": [
    "# List of magic functions\n",
    "%lsmagic\n"
   ]
  },
  {
   "cell_type": "code",
   "execution_count": 96,
   "metadata": {},
   "outputs": [
    {
     "name": "stdout",
     "output_type": "stream",
     "text": [
      "1.01 µs ± 15.6 ns per loop (mean ± std. dev. of 7 runs, 1000000 loops each)\n"
     ]
    }
   ],
   "source": [
    "#Another example\n",
    "%timeit sum(range(100))"
   ]
  }
 ],
 "metadata": {
  "kernelspec": {
   "display_name": "Python 3",
   "language": "python",
   "name": "python3"
  },
  "language_info": {
   "codemirror_mode": {
    "name": "ipython",
    "version": 3
   },
   "file_extension": ".py",
   "mimetype": "text/x-python",
   "name": "python",
   "nbconvert_exporter": "python",
   "pygments_lexer": "ipython3",
   "version": "3.6.5"
  }
 },
 "nbformat": 4,
 "nbformat_minor": 2
}
